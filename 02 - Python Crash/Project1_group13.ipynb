{
  "nbformat": 4,
  "nbformat_minor": 0,
  "metadata": {
    "colab": {
      "name": "Project1_draft.ipynb",
      "provenance": [],
      "collapsed_sections": []
    },
    "kernelspec": {
      "name": "python3",
      "display_name": "Python 3"
    },
    "language_info": {
      "name": "python"
    }
  },
  "cells": [
    {
      "cell_type": "markdown",
      "source": [
        "**Project 1**\n",
        "\n",
        "              -- Jianing Zhao & Xinan Wang"
      ],
      "metadata": {
        "id": "w10LUuUkWhvW"
      }
    },
    {
      "cell_type": "markdown",
      "source": [
        "**Task 1**\n",
        "\n",
        "\n",
        "Data sets,  “Data1.csv”, “Data2.csv”, “Data3.csv”, “Data4.csv”, “Data5.csv”, “Data6.csv”, “Data7.csv”, “Data8.csv” contain the data points and their respective class information. For each of the datasets follow the below steps\n",
        "\n",
        "1. Use K-means and hierarchical clustering methods to generate clusters\n",
        "2. Evaluate the performance of the clustering algorithm using external validation metrics\n",
        "3. Plot (2D or 3D) the data points for each dataset and color them according to the original class\n",
        "4. Plot (2D or 3D) the data points for each dataset and color them according to the class allocated by the clustering algorithm"
      ],
      "metadata": {
        "id": "vT9ZZw0uWsx_"
      }
    },
    {
      "cell_type": "code",
      "execution_count": null,
      "metadata": {
        "id": "xTogIm8rbo-N",
        "colab": {
          "base_uri": "https://localhost:8080/"
        },
        "outputId": "919eb3f3-8c7d-4cd3-b98e-604be1e157d6"
      },
      "outputs": [
        {
          "output_type": "stream",
          "name": "stdout",
          "text": [
            "Mounted at /content/drive\n"
          ]
        }
      ],
      "source": [
        "from google.colab import drive\n",
        "drive.mount('/content/drive')"
      ]
    },
    {
      "cell_type": "code",
      "source": [
        "import pandas as pd\n",
        "df1 = pd.read_csv('/content/drive/MyDrive/IE 5374/Project1/Data1.csv')\n",
        "df2 = pd.read_csv('/content/drive/MyDrive/IE 5374/Project1/Data2.csv')\n",
        "df3 = pd.read_csv('/content/drive/MyDrive/IE 5374/Project1/Data3.csv')\n",
        "df4 = pd.read_csv('/content/drive/MyDrive/IE 5374/Project1/Data4.csv')\n",
        "df5 = pd.read_csv('/content/drive/MyDrive/IE 5374/Project1/Data5.csv')\n",
        "df6 = pd.read_csv('/content/drive/MyDrive/IE 5374/Project1/Data6.csv')\n",
        "df7 = pd.read_csv('/content/drive/MyDrive/IE 5374/Project1/Data7.csv')\n",
        "df8 = pd.read_csv('/content/drive/MyDrive/IE 5374/Project1/Data8.csv')"
      ],
      "metadata": {
        "id": "upF2r5i5b8jS"
      },
      "execution_count": null,
      "outputs": []
    },
    {
      "cell_type": "code",
      "source": [
        "!pip install plotly \n",
        "#!pip uninstall tornado\n",
        "#!pip install tornado==4.5.3\n"
      ],
      "metadata": {
        "id": "zm-h0DVFXQFV",
        "colab": {
          "base_uri": "https://localhost:8080/"
        },
        "outputId": "057eb1d0-682c-41c0-a354-bb49dc9975bd"
      },
      "execution_count": null,
      "outputs": [
        {
          "output_type": "stream",
          "name": "stdout",
          "text": [
            "Requirement already satisfied: plotly in /usr/local/lib/python3.7/dist-packages (5.5.0)\n",
            "Requirement already satisfied: tenacity>=6.2.0 in /usr/local/lib/python3.7/dist-packages (from plotly) (8.0.1)\n",
            "Requirement already satisfied: six in /usr/local/lib/python3.7/dist-packages (from plotly) (1.15.0)\n"
          ]
        }
      ]
    },
    {
      "cell_type": "code",
      "source": [
        "import matplotlib.pyplot as plt\n",
        "import seaborn as sns\n",
        "import plotly.express as px"
      ],
      "metadata": {
        "id": "LgvU966EWYTc"
      },
      "execution_count": 185,
      "outputs": []
    },
    {
      "cell_type": "markdown",
      "source": [
        "**Data 1**"
      ],
      "metadata": {
        "id": "ASnJ2q2nXeLI"
      }
    },
    {
      "cell_type": "code",
      "source": [
        "df1"
      ],
      "metadata": {
        "id": "rQ9rz3zTcFsH",
        "colab": {
          "base_uri": "https://localhost:8080/",
          "height": 423
        },
        "outputId": "ba8f0e89-bb5e-4d0f-e725-9970d4acc083"
      },
      "execution_count": null,
      "outputs": [
        {
          "output_type": "execute_result",
          "data": {
            "text/plain": [
              "     Unnamed: 0        X1        X2        X3  Class  predictedclass1a  \\\n",
              "0             1 -0.063274  0.027734  0.022683      1                 3   \n",
              "1             2 -0.000731  0.048211  0.069198      1                 3   \n",
              "2             3 -0.060767 -0.009080  0.053085      1                 3   \n",
              "3             4  0.013252 -0.011876  0.055324      1                 3   \n",
              "4             5 -0.054508 -0.003813  0.001738      1                 3   \n",
              "..          ...       ...       ...       ...    ...               ...   \n",
              "207         208  0.175738 -0.053478 -2.733752      7                 1   \n",
              "208         209  0.396046 -0.858377 -3.126866      7                 1   \n",
              "209         210 -0.406362 -0.334541 -2.885598      7                 1   \n",
              "210         211 -0.299275  0.071281 -3.642585      7                 1   \n",
              "211         212 -0.506192  0.433538 -2.608597      7                 1   \n",
              "\n",
              "     predictedclass1b  \n",
              "0                   7  \n",
              "1                   7  \n",
              "2                   7  \n",
              "3                   7  \n",
              "4                   7  \n",
              "..                ...  \n",
              "207                 4  \n",
              "208                 4  \n",
              "209                 4  \n",
              "210                 4  \n",
              "211                 4  \n",
              "\n",
              "[212 rows x 7 columns]"
            ],
            "text/html": [
              "\n",
              "  <div id=\"df-6a789ff3-d0aa-4dba-bc6b-1370789b68cd\">\n",
              "    <div class=\"colab-df-container\">\n",
              "      <div>\n",
              "<style scoped>\n",
              "    .dataframe tbody tr th:only-of-type {\n",
              "        vertical-align: middle;\n",
              "    }\n",
              "\n",
              "    .dataframe tbody tr th {\n",
              "        vertical-align: top;\n",
              "    }\n",
              "\n",
              "    .dataframe thead th {\n",
              "        text-align: right;\n",
              "    }\n",
              "</style>\n",
              "<table border=\"1\" class=\"dataframe\">\n",
              "  <thead>\n",
              "    <tr style=\"text-align: right;\">\n",
              "      <th></th>\n",
              "      <th>Unnamed: 0</th>\n",
              "      <th>X1</th>\n",
              "      <th>X2</th>\n",
              "      <th>X3</th>\n",
              "      <th>Class</th>\n",
              "      <th>predictedclass1a</th>\n",
              "      <th>predictedclass1b</th>\n",
              "    </tr>\n",
              "  </thead>\n",
              "  <tbody>\n",
              "    <tr>\n",
              "      <th>0</th>\n",
              "      <td>1</td>\n",
              "      <td>-0.063274</td>\n",
              "      <td>0.027734</td>\n",
              "      <td>0.022683</td>\n",
              "      <td>1</td>\n",
              "      <td>3</td>\n",
              "      <td>7</td>\n",
              "    </tr>\n",
              "    <tr>\n",
              "      <th>1</th>\n",
              "      <td>2</td>\n",
              "      <td>-0.000731</td>\n",
              "      <td>0.048211</td>\n",
              "      <td>0.069198</td>\n",
              "      <td>1</td>\n",
              "      <td>3</td>\n",
              "      <td>7</td>\n",
              "    </tr>\n",
              "    <tr>\n",
              "      <th>2</th>\n",
              "      <td>3</td>\n",
              "      <td>-0.060767</td>\n",
              "      <td>-0.009080</td>\n",
              "      <td>0.053085</td>\n",
              "      <td>1</td>\n",
              "      <td>3</td>\n",
              "      <td>7</td>\n",
              "    </tr>\n",
              "    <tr>\n",
              "      <th>3</th>\n",
              "      <td>4</td>\n",
              "      <td>0.013252</td>\n",
              "      <td>-0.011876</td>\n",
              "      <td>0.055324</td>\n",
              "      <td>1</td>\n",
              "      <td>3</td>\n",
              "      <td>7</td>\n",
              "    </tr>\n",
              "    <tr>\n",
              "      <th>4</th>\n",
              "      <td>5</td>\n",
              "      <td>-0.054508</td>\n",
              "      <td>-0.003813</td>\n",
              "      <td>0.001738</td>\n",
              "      <td>1</td>\n",
              "      <td>3</td>\n",
              "      <td>7</td>\n",
              "    </tr>\n",
              "    <tr>\n",
              "      <th>...</th>\n",
              "      <td>...</td>\n",
              "      <td>...</td>\n",
              "      <td>...</td>\n",
              "      <td>...</td>\n",
              "      <td>...</td>\n",
              "      <td>...</td>\n",
              "      <td>...</td>\n",
              "    </tr>\n",
              "    <tr>\n",
              "      <th>207</th>\n",
              "      <td>208</td>\n",
              "      <td>0.175738</td>\n",
              "      <td>-0.053478</td>\n",
              "      <td>-2.733752</td>\n",
              "      <td>7</td>\n",
              "      <td>1</td>\n",
              "      <td>4</td>\n",
              "    </tr>\n",
              "    <tr>\n",
              "      <th>208</th>\n",
              "      <td>209</td>\n",
              "      <td>0.396046</td>\n",
              "      <td>-0.858377</td>\n",
              "      <td>-3.126866</td>\n",
              "      <td>7</td>\n",
              "      <td>1</td>\n",
              "      <td>4</td>\n",
              "    </tr>\n",
              "    <tr>\n",
              "      <th>209</th>\n",
              "      <td>210</td>\n",
              "      <td>-0.406362</td>\n",
              "      <td>-0.334541</td>\n",
              "      <td>-2.885598</td>\n",
              "      <td>7</td>\n",
              "      <td>1</td>\n",
              "      <td>4</td>\n",
              "    </tr>\n",
              "    <tr>\n",
              "      <th>210</th>\n",
              "      <td>211</td>\n",
              "      <td>-0.299275</td>\n",
              "      <td>0.071281</td>\n",
              "      <td>-3.642585</td>\n",
              "      <td>7</td>\n",
              "      <td>1</td>\n",
              "      <td>4</td>\n",
              "    </tr>\n",
              "    <tr>\n",
              "      <th>211</th>\n",
              "      <td>212</td>\n",
              "      <td>-0.506192</td>\n",
              "      <td>0.433538</td>\n",
              "      <td>-2.608597</td>\n",
              "      <td>7</td>\n",
              "      <td>1</td>\n",
              "      <td>4</td>\n",
              "    </tr>\n",
              "  </tbody>\n",
              "</table>\n",
              "<p>212 rows × 7 columns</p>\n",
              "</div>\n",
              "      <button class=\"colab-df-convert\" onclick=\"convertToInteractive('df-6a789ff3-d0aa-4dba-bc6b-1370789b68cd')\"\n",
              "              title=\"Convert this dataframe to an interactive table.\"\n",
              "              style=\"display:none;\">\n",
              "        \n",
              "  <svg xmlns=\"http://www.w3.org/2000/svg\" height=\"24px\"viewBox=\"0 0 24 24\"\n",
              "       width=\"24px\">\n",
              "    <path d=\"M0 0h24v24H0V0z\" fill=\"none\"/>\n",
              "    <path d=\"M18.56 5.44l.94 2.06.94-2.06 2.06-.94-2.06-.94-.94-2.06-.94 2.06-2.06.94zm-11 1L8.5 8.5l.94-2.06 2.06-.94-2.06-.94L8.5 2.5l-.94 2.06-2.06.94zm10 10l.94 2.06.94-2.06 2.06-.94-2.06-.94-.94-2.06-.94 2.06-2.06.94z\"/><path d=\"M17.41 7.96l-1.37-1.37c-.4-.4-.92-.59-1.43-.59-.52 0-1.04.2-1.43.59L10.3 9.45l-7.72 7.72c-.78.78-.78 2.05 0 2.83L4 21.41c.39.39.9.59 1.41.59.51 0 1.02-.2 1.41-.59l7.78-7.78 2.81-2.81c.8-.78.8-2.07 0-2.86zM5.41 20L4 18.59l7.72-7.72 1.47 1.35L5.41 20z\"/>\n",
              "  </svg>\n",
              "      </button>\n",
              "      \n",
              "  <style>\n",
              "    .colab-df-container {\n",
              "      display:flex;\n",
              "      flex-wrap:wrap;\n",
              "      gap: 12px;\n",
              "    }\n",
              "\n",
              "    .colab-df-convert {\n",
              "      background-color: #E8F0FE;\n",
              "      border: none;\n",
              "      border-radius: 50%;\n",
              "      cursor: pointer;\n",
              "      display: none;\n",
              "      fill: #1967D2;\n",
              "      height: 32px;\n",
              "      padding: 0 0 0 0;\n",
              "      width: 32px;\n",
              "    }\n",
              "\n",
              "    .colab-df-convert:hover {\n",
              "      background-color: #E2EBFA;\n",
              "      box-shadow: 0px 1px 2px rgba(60, 64, 67, 0.3), 0px 1px 3px 1px rgba(60, 64, 67, 0.15);\n",
              "      fill: #174EA6;\n",
              "    }\n",
              "\n",
              "    [theme=dark] .colab-df-convert {\n",
              "      background-color: #3B4455;\n",
              "      fill: #D2E3FC;\n",
              "    }\n",
              "\n",
              "    [theme=dark] .colab-df-convert:hover {\n",
              "      background-color: #434B5C;\n",
              "      box-shadow: 0px 1px 3px 1px rgba(0, 0, 0, 0.15);\n",
              "      filter: drop-shadow(0px 1px 2px rgba(0, 0, 0, 0.3));\n",
              "      fill: #FFFFFF;\n",
              "    }\n",
              "  </style>\n",
              "\n",
              "      <script>\n",
              "        const buttonEl =\n",
              "          document.querySelector('#df-6a789ff3-d0aa-4dba-bc6b-1370789b68cd button.colab-df-convert');\n",
              "        buttonEl.style.display =\n",
              "          google.colab.kernel.accessAllowed ? 'block' : 'none';\n",
              "\n",
              "        async function convertToInteractive(key) {\n",
              "          const element = document.querySelector('#df-6a789ff3-d0aa-4dba-bc6b-1370789b68cd');\n",
              "          const dataTable =\n",
              "            await google.colab.kernel.invokeFunction('convertToInteractive',\n",
              "                                                     [key], {});\n",
              "          if (!dataTable) return;\n",
              "\n",
              "          const docLinkHtml = 'Like what you see? Visit the ' +\n",
              "            '<a target=\"_blank\" href=https://colab.research.google.com/notebooks/data_table.ipynb>data table notebook</a>'\n",
              "            + ' to learn more about interactive tables.';\n",
              "          element.innerHTML = '';\n",
              "          dataTable['output_type'] = 'display_data';\n",
              "          await google.colab.output.renderOutput(dataTable, element);\n",
              "          const docLink = document.createElement('div');\n",
              "          docLink.innerHTML = docLinkHtml;\n",
              "          element.appendChild(docLink);\n",
              "        }\n",
              "      </script>\n",
              "    </div>\n",
              "  </div>\n",
              "  "
            ]
          },
          "metadata": {},
          "execution_count": 99
        }
      ]
    },
    {
      "cell_type": "markdown",
      "source": [
        "1. (a) Use K-means to generate clusters"
      ],
      "metadata": {
        "id": "J0OJX_IJXmsR"
      }
    },
    {
      "cell_type": "code",
      "source": [
        "# Use elbow method to find the appropriate n cluster value\n",
        "from sklearn.cluster import KMeans\n",
        "k = []\n",
        "wcss = []\n",
        "for i in range(1,10):\n",
        "    mdl1 = KMeans(n_clusters=i)\n",
        "    mdl1.fit(df1.iloc[:,1:4])\n",
        "    k.append(i)\n",
        "    wcss.append(mdl1.inertia_) "
      ],
      "metadata": {
        "id": "FjTviY2UcMg0"
      },
      "execution_count": null,
      "outputs": []
    },
    {
      "cell_type": "code",
      "source": [
        "sns.lineplot(k, wcss)"
      ],
      "metadata": {
        "id": "dDRGNSv5fuu4",
        "colab": {
          "base_uri": "https://localhost:8080/",
          "height": 341
        },
        "outputId": "e1aa0999-9065-4b75-ebc2-7c66cc8f113e"
      },
      "execution_count": null,
      "outputs": [
        {
          "output_type": "stream",
          "name": "stderr",
          "text": [
            "/usr/local/lib/python3.7/dist-packages/seaborn/_decorators.py:43: FutureWarning: Pass the following variables as keyword args: x, y. From version 0.12, the only valid positional argument will be `data`, and passing other arguments without an explicit keyword will result in an error or misinterpretation.\n",
            "  FutureWarning\n"
          ]
        },
        {
          "output_type": "execute_result",
          "data": {
            "text/plain": [
              "<matplotlib.axes._subplots.AxesSubplot at 0x7fc1b968c090>"
            ]
          },
          "metadata": {},
          "execution_count": 10
        },
        {
          "output_type": "display_data",
          "data": {
            "text/plain": [
              "<Figure size 432x288 with 1 Axes>"
            ],
            "image/png": "[encoded data removed]"
          },
          "metadata": {
            "needs_background": "light"
          }
        }
      ]
    },
    {
      "cell_type": "code",
      "source": [
        "# Use silhouette score to verify\n",
        "from sklearn.metrics import silhouette_score\n",
        "from sklearn import metrics\n",
        "\n",
        "sil1 = []\n",
        "k1s = []\n",
        "kmax = 10\n",
        "\n",
        "# dissimilarity would not be defined for a single cluster, thus, minimum number of clusters should be 2\n",
        "for ks1 in range(2,10):\n",
        "  kmeans1 = KMeans(n_clusters = ks1)\n",
        "  kmeans1.fit(df1.iloc[:,1:4])\n",
        "  labels = kmeans1.labels_\n",
        "  k1s.append(ks1)\n",
        "  sil1.append(metrics.silhouette_score(df1.iloc[:,1:4], labels))"
      ],
      "metadata": {
        "id": "9YQayjdsydrC"
      },
      "execution_count": null,
      "outputs": []
    },
    {
      "cell_type": "code",
      "source": [
        "sns.lineplot(k1s,sil1)"
      ],
      "metadata": {
        "colab": {
          "base_uri": "https://localhost:8080/",
          "height": 337
        },
        "id": "lLpNta84yoA9",
        "outputId": "0c5c7ea3-8ff7-466d-8aa7-af9ad480b665"
      },
      "execution_count": null,
      "outputs": [
        {
          "output_type": "stream",
          "name": "stderr",
          "text": [
            "/usr/local/lib/python3.7/dist-packages/seaborn/_decorators.py:43: FutureWarning: Pass the following variables as keyword args: x, y. From version 0.12, the only valid positional argument will be `data`, and passing other arguments without an explicit keyword will result in an error or misinterpretation.\n",
            "  FutureWarning\n"
          ]
        },
        {
          "output_type": "execute_result",
          "data": {
            "text/plain": [
              "<matplotlib.axes._subplots.AxesSubplot at 0x7fc1bb019810>"
            ]
          },
          "metadata": {},
          "execution_count": 12
        },
        {
          "output_type": "display_data",
          "data": {
            "text/plain": [
              "<Figure size 432x288 with 1 Axes>"
            ],
            "image/png": "[encoded data removed]"
          },
          "metadata": {
            "needs_background": "light"
          }
        }
      ]
    },
    {
      "cell_type": "markdown",
      "source": [
        "Peek at 7. Therefore, we will use 7 as the cluster value for K-Means method ."
      ],
      "metadata": {
        "id": "M9RofVaCXwdK"
      }
    },
    {
      "cell_type": "code",
      "source": [
        "# K-Means method and print out the SSE\n",
        "mdl1_a = KMeans(n_clusters=7)\n",
        "mdl1_a.fit(df1.iloc[:,1:4])\n",
        "print('SSE Data 1: ' + str(mdl1_a.inertia_))"
      ],
      "metadata": {
        "id": "ZrpvVmPug0KO"
      },
      "execution_count": null,
      "outputs": []
    },
    {
      "cell_type": "markdown",
      "source": [
        ""
      ],
      "metadata": {
        "id": "u8PY43hh3Gpq"
      }
    },
    {
      "cell_type": "code",
      "source": [
        "mdl1_a.labels_"
      ],
      "metadata": {
        "id": "2hpjGoM_hTom",
        "colab": {
          "base_uri": "https://localhost:8080/"
        },
        "outputId": "ead23eda-90d8-4557-d02b-2306f58b625e"
      },
      "execution_count": null,
      "outputs": [
        {
          "output_type": "execute_result",
          "data": {
            "text/plain": [
              "array([2, 2, 2, 2, 2, 2, 2, 2, 2, 2, 2, 2, 2, 2, 2, 2, 2, 2, 2, 2, 2, 2,\n",
              "       2, 2, 2, 2, 2, 2, 2, 2, 2, 2, 3, 3, 3, 3, 3, 3, 3, 3, 3, 3, 3, 3,\n",
              "       3, 3, 3, 3, 3, 3, 3, 3, 3, 3, 3, 3, 3, 3, 3, 3, 3, 3, 1, 1, 1, 1,\n",
              "       1, 1, 1, 1, 1, 1, 1, 1, 1, 1, 1, 1, 1, 1, 1, 1, 1, 1, 1, 1, 1, 1,\n",
              "       1, 1, 1, 1, 4, 4, 4, 4, 4, 4, 4, 4, 4, 4, 4, 4, 4, 4, 4, 4, 4, 4,\n",
              "       4, 4, 4, 4, 4, 4, 4, 4, 4, 4, 4, 4, 5, 5, 5, 5, 5, 5, 5, 5, 5, 5,\n",
              "       5, 5, 5, 5, 5, 5, 5, 5, 5, 5, 5, 5, 5, 5, 5, 5, 5, 5, 5, 5, 6, 6,\n",
              "       6, 6, 6, 6, 6, 6, 6, 6, 6, 6, 6, 6, 6, 6, 6, 6, 6, 6, 6, 6, 6, 6,\n",
              "       6, 6, 6, 6, 6, 6, 0, 0, 0, 0, 0, 0, 0, 0, 0, 0, 0, 0, 0, 0, 0, 0,\n",
              "       0, 0, 0, 0, 0, 0, 0, 0, 0, 0, 0, 0, 0, 0], dtype=int32)"
            ]
          },
          "metadata": {},
          "execution_count": 14
        }
      ]
    },
    {
      "cell_type": "code",
      "source": [
        "# Add predicted class to df1\n",
        "df1['predictedclass1a'] = mdl1_a.labels_ + 1"
      ],
      "metadata": {
        "id": "KdMrEaYlhla_"
      },
      "execution_count": null,
      "outputs": []
    },
    {
      "cell_type": "code",
      "source": [
        "mdl1_a.cluster_centers_"
      ],
      "metadata": {
        "id": "xCIAaMwtzwza",
        "colab": {
          "base_uri": "https://localhost:8080/"
        },
        "outputId": "712b3315-0df8-47a7-e5d4-358a9ba24ca4"
      },
      "execution_count": null,
      "outputs": [
        {
          "output_type": "execute_result",
          "data": {
            "text/plain": [
              "array([[-4.72621667e-02,  4.58006333e-02, -3.04276190e+00],\n",
              "       [-2.99518840e+00, -1.37363333e-02,  8.82396000e-02],\n",
              "       [-4.24071875e-03,  4.75815625e-03,  7.24671875e-03],\n",
              "       [ 2.99953830e+00, -1.13086667e-03, -1.40059600e-01],\n",
              "       [ 1.39986933e-01,  3.08174697e+00,  7.45050000e-02],\n",
              "       [ 2.27123000e-02, -2.96813597e+00, -1.11774567e-01],\n",
              "       [-6.31190000e-03,  9.19421333e-02,  2.87236200e+00]])"
            ]
          },
          "metadata": {},
          "execution_count": 16
        }
      ]
    },
    {
      "cell_type": "markdown",
      "source": [
        "(b) Use the hierarchical clustering methods to generate \n",
        "clusters"
      ],
      "metadata": {
        "id": "ONUaRlVIYeC0"
      }
    },
    {
      "cell_type": "code",
      "source": [
        "# Draw the dendorgram for data 1 and get the n_cluster value\n",
        "from scipy.cluster.hierarchy import dendrogram, linkage\n",
        "z = linkage(df1.iloc[:, 1:4], method = 'single') \n",
        "dendrogram(z)\n",
        "plt.title('Dendrogram Data 1')\n",
        "plt.show()"
      ],
      "metadata": {
        "id": "5DvJaLjwsphQ",
        "colab": {
          "base_uri": "https://localhost:8080/",
          "height": 281
        },
        "outputId": "a5e0ef2a-f8ba-4a0c-98c4-0fd58d173e1d"
      },
      "execution_count": null,
      "outputs": [
        {
          "output_type": "display_data",
          "data": {
            "text/plain": [
              "<Figure size 432x288 with 1 Axes>"
            ],
            "image/png": "[encoded data removed]"
          },
          "metadata": {
            "needs_background": "light"
          }
        }
      ]
    },
    {
      "cell_type": "code",
      "source": [
        "z = linkage(df1.iloc[:, 1:4], method = 'ward') \n",
        "dendrogram(z)\n",
        "plt.title('Dendrogram Data 1')\n",
        "plt.show()"
      ],
      "metadata": {
        "colab": {
          "base_uri": "https://localhost:8080/",
          "height": 281
        },
        "id": "Urq5-Wyl2yRc",
        "outputId": "4831a24c-5a77-4d6b-820b-cd4e830d9e7f"
      },
      "execution_count": null,
      "outputs": [
        {
          "output_type": "display_data",
          "data": {
            "text/plain": [
              "<Figure size 432x288 with 1 Axes>"
            ],
            "image/png": "[encoded data removed]"
          },
          "metadata": {
            "needs_background": "light"
          }
        }
      ]
    },
    {
      "cell_type": "markdown",
      "source": [
        "Therefore, We will use 7 as n_clusters for Hierarchical clustering method."
      ],
      "metadata": {
        "id": "YWCk7pH_YpXg"
      }
    },
    {
      "cell_type": "code",
      "source": [
        "# Hierarchical clustering method\n",
        "from sklearn.cluster import AgglomerativeClustering\n",
        "mdl1_b = AgglomerativeClustering(n_clusters=7) \n",
        "mdl1_b.fit(df1.iloc[:, 1:4])\n",
        "mdl1_b.labels_"
      ],
      "metadata": {
        "id": "C59Sggedpw4N",
        "colab": {
          "base_uri": "https://localhost:8080/"
        },
        "outputId": "4a9d7d1a-a4c1-492a-84fd-6efad9827d26"
      },
      "execution_count": null,
      "outputs": [
        {
          "output_type": "execute_result",
          "data": {
            "text/plain": [
              "array([6, 6, 6, 6, 6, 6, 6, 6, 6, 6, 6, 6, 6, 6, 6, 6, 6, 6, 6, 6, 6, 6,\n",
              "       6, 6, 6, 6, 6, 6, 6, 6, 6, 6, 4, 4, 4, 4, 4, 4, 4, 4, 4, 4, 4, 4,\n",
              "       4, 4, 4, 4, 4, 4, 4, 4, 4, 4, 4, 4, 4, 4, 4, 4, 4, 4, 2, 2, 2, 2,\n",
              "       2, 2, 2, 2, 2, 2, 2, 2, 2, 2, 2, 2, 2, 2, 2, 2, 2, 2, 2, 2, 2, 2,\n",
              "       2, 2, 2, 2, 5, 5, 5, 5, 5, 5, 5, 5, 5, 5, 5, 5, 5, 5, 5, 5, 5, 5,\n",
              "       5, 5, 5, 5, 5, 5, 5, 5, 5, 5, 5, 5, 1, 1, 1, 1, 1, 1, 1, 1, 1, 1,\n",
              "       1, 1, 1, 1, 1, 1, 1, 1, 1, 1, 1, 1, 1, 1, 1, 1, 1, 1, 1, 1, 0, 0,\n",
              "       0, 0, 0, 0, 0, 0, 0, 0, 0, 0, 0, 0, 0, 0, 0, 0, 0, 0, 0, 0, 0, 0,\n",
              "       0, 0, 0, 0, 0, 0, 3, 3, 3, 3, 3, 3, 3, 3, 3, 3, 3, 3, 3, 3, 3, 3,\n",
              "       3, 3, 3, 3, 3, 3, 3, 3, 3, 3, 3, 3, 3, 3])"
            ]
          },
          "metadata": {},
          "execution_count": 19
        }
      ]
    },
    {
      "cell_type": "code",
      "source": [
        "df1['predictedclass1b'] = mdl1_b.labels_ + 1"
      ],
      "metadata": {
        "id": "bqYsvI_78mNc"
      },
      "execution_count": null,
      "outputs": []
    },
    {
      "cell_type": "markdown",
      "source": [
        "2. Evaluate the performance of the clustering algorithm using external validation"
      ],
      "metadata": {
        "id": "g15tZqwWY3rQ"
      }
    },
    {
      "cell_type": "code",
      "source": [
        "!pip install validclust"
      ],
      "metadata": {
        "id": "9Sg7Ltwath8N"
      },
      "execution_count": null,
      "outputs": []
    },
    {
      "cell_type": "code",
      "source": [
        "df1"
      ],
      "metadata": {
        "id": "3Fi3_3hDR8Nd",
        "colab": {
          "base_uri": "https://localhost:8080/",
          "height": 423
        },
        "outputId": "cc41eba3-4869-4426-c28a-979849517cc7"
      },
      "execution_count": null,
      "outputs": [
        {
          "output_type": "execute_result",
          "data": {
            "text/plain": [
              "     Unnamed: 0        X1        X2        X3  Class  predictedclass1a  \\\n",
              "0             1 -0.063274  0.027734  0.022683      1                 2   \n",
              "1             2 -0.000731  0.048211  0.069198      1                 2   \n",
              "2             3 -0.060767 -0.009080  0.053085      1                 2   \n",
              "3             4  0.013252 -0.011876  0.055324      1                 2   \n",
              "4             5 -0.054508 -0.003813  0.001738      1                 2   \n",
              "..          ...       ...       ...       ...    ...               ...   \n",
              "207         208  0.175738 -0.053478 -2.733752      7                 3   \n",
              "208         209  0.396046 -0.858377 -3.126866      7                 3   \n",
              "209         210 -0.406362 -0.334541 -2.885598      7                 3   \n",
              "210         211 -0.299275  0.071281 -3.642585      7                 3   \n",
              "211         212 -0.506192  0.433538 -2.608597      7                 3   \n",
              "\n",
              "     predictedclass1b  \n",
              "0                   7  \n",
              "1                   7  \n",
              "2                   7  \n",
              "3                   7  \n",
              "4                   7  \n",
              "..                ...  \n",
              "207                 4  \n",
              "208                 4  \n",
              "209                 4  \n",
              "210                 4  \n",
              "211                 4  \n",
              "\n",
              "[212 rows x 7 columns]"
            ],
            "text/html": [
              "\n",
              "  <div id=\"df-cc466493-cb1a-4895-b4b6-b9e2d8000876\">\n",
              "    <div class=\"colab-df-container\">\n",
              "      <div>\n",
              "<style scoped>\n",
              "    .dataframe tbody tr th:only-of-type {\n",
              "        vertical-align: middle;\n",
              "    }\n",
              "\n",
              "    .dataframe tbody tr th {\n",
              "        vertical-align: top;\n",
              "    }\n",
              "\n",
              "    .dataframe thead th {\n",
              "        text-align: right;\n",
              "    }\n",
              "</style>\n",
              "<table border=\"1\" class=\"dataframe\">\n",
              "  <thead>\n",
              "    <tr style=\"text-align: right;\">\n",
              "      <th></th>\n",
              "      <th>Unnamed: 0</th>\n",
              "      <th>X1</th>\n",
              "      <th>X2</th>\n",
              "      <th>X3</th>\n",
              "      <th>Class</th>\n",
              "      <th>predictedclass1a</th>\n",
              "      <th>predictedclass1b</th>\n",
              "    </tr>\n",
              "  </thead>\n",
              "  <tbody>\n",
              "    <tr>\n",
              "      <th>0</th>\n",
              "      <td>1</td>\n",
              "      <td>-0.063274</td>\n",
              "      <td>0.027734</td>\n",
              "      <td>0.022683</td>\n",
              "      <td>1</td>\n",
              "      <td>2</td>\n",
              "      <td>7</td>\n",
              "    </tr>\n",
              "    <tr>\n",
              "      <th>1</th>\n",
              "      <td>2</td>\n",
              "      <td>-0.000731</td>\n",
              "      <td>0.048211</td>\n",
              "      <td>0.069198</td>\n",
              "      <td>1</td>\n",
              "      <td>2</td>\n",
              "      <td>7</td>\n",
              "    </tr>\n",
              "    <tr>\n",
              "      <th>2</th>\n",
              "      <td>3</td>\n",
              "      <td>-0.060767</td>\n",
              "      <td>-0.009080</td>\n",
              "      <td>0.053085</td>\n",
              "      <td>1</td>\n",
              "      <td>2</td>\n",
              "      <td>7</td>\n",
              "    </tr>\n",
              "    <tr>\n",
              "      <th>3</th>\n",
              "      <td>4</td>\n",
              "      <td>0.013252</td>\n",
              "      <td>-0.011876</td>\n",
              "      <td>0.055324</td>\n",
              "      <td>1</td>\n",
              "      <td>2</td>\n",
              "      <td>7</td>\n",
              "    </tr>\n",
              "    <tr>\n",
              "      <th>4</th>\n",
              "      <td>5</td>\n",
              "      <td>-0.054508</td>\n",
              "      <td>-0.003813</td>\n",
              "      <td>0.001738</td>\n",
              "      <td>1</td>\n",
              "      <td>2</td>\n",
              "      <td>7</td>\n",
              "    </tr>\n",
              "    <tr>\n",
              "      <th>...</th>\n",
              "      <td>...</td>\n",
              "      <td>...</td>\n",
              "      <td>...</td>\n",
              "      <td>...</td>\n",
              "      <td>...</td>\n",
              "      <td>...</td>\n",
              "      <td>...</td>\n",
              "    </tr>\n",
              "    <tr>\n",
              "      <th>207</th>\n",
              "      <td>208</td>\n",
              "      <td>0.175738</td>\n",
              "      <td>-0.053478</td>\n",
              "      <td>-2.733752</td>\n",
              "      <td>7</td>\n",
              "      <td>3</td>\n",
              "      <td>4</td>\n",
              "    </tr>\n",
              "    <tr>\n",
              "      <th>208</th>\n",
              "      <td>209</td>\n",
              "      <td>0.396046</td>\n",
              "      <td>-0.858377</td>\n",
              "      <td>-3.126866</td>\n",
              "      <td>7</td>\n",
              "      <td>3</td>\n",
              "      <td>4</td>\n",
              "    </tr>\n",
              "    <tr>\n",
              "      <th>209</th>\n",
              "      <td>210</td>\n",
              "      <td>-0.406362</td>\n",
              "      <td>-0.334541</td>\n",
              "      <td>-2.885598</td>\n",
              "      <td>7</td>\n",
              "      <td>3</td>\n",
              "      <td>4</td>\n",
              "    </tr>\n",
              "    <tr>\n",
              "      <th>210</th>\n",
              "      <td>211</td>\n",
              "      <td>-0.299275</td>\n",
              "      <td>0.071281</td>\n",
              "      <td>-3.642585</td>\n",
              "      <td>7</td>\n",
              "      <td>3</td>\n",
              "      <td>4</td>\n",
              "    </tr>\n",
              "    <tr>\n",
              "      <th>211</th>\n",
              "      <td>212</td>\n",
              "      <td>-0.506192</td>\n",
              "      <td>0.433538</td>\n",
              "      <td>-2.608597</td>\n",
              "      <td>7</td>\n",
              "      <td>3</td>\n",
              "      <td>4</td>\n",
              "    </tr>\n",
              "  </tbody>\n",
              "</table>\n",
              "<p>212 rows × 7 columns</p>\n",
              "</div>\n",
              "      <button class=\"colab-df-convert\" onclick=\"convertToInteractive('df-cc466493-cb1a-4895-b4b6-b9e2d8000876')\"\n",
              "              title=\"Convert this dataframe to an interactive table.\"\n",
              "              style=\"display:none;\">\n",
              "        \n",
              "  <svg xmlns=\"http://www.w3.org/2000/svg\" height=\"24px\"viewBox=\"0 0 24 24\"\n",
              "       width=\"24px\">\n",
              "    <path d=\"M0 0h24v24H0V0z\" fill=\"none\"/>\n",
              "    <path d=\"M18.56 5.44l.94 2.06.94-2.06 2.06-.94-2.06-.94-.94-2.06-.94 2.06-2.06.94zm-11 1L8.5 8.5l.94-2.06 2.06-.94-2.06-.94L8.5 2.5l-.94 2.06-2.06.94zm10 10l.94 2.06.94-2.06 2.06-.94-2.06-.94-.94-2.06-.94 2.06-2.06.94z\"/><path d=\"M17.41 7.96l-1.37-1.37c-.4-.4-.92-.59-1.43-.59-.52 0-1.04.2-1.43.59L10.3 9.45l-7.72 7.72c-.78.78-.78 2.05 0 2.83L4 21.41c.39.39.9.59 1.41.59.51 0 1.02-.2 1.41-.59l7.78-7.78 2.81-2.81c.8-.78.8-2.07 0-2.86zM5.41 20L4 18.59l7.72-7.72 1.47 1.35L5.41 20z\"/>\n",
              "  </svg>\n",
              "      </button>\n",
              "      \n",
              "  <style>\n",
              "    .colab-df-container {\n",
              "      display:flex;\n",
              "      flex-wrap:wrap;\n",
              "      gap: 12px;\n",
              "    }\n",
              "\n",
              "    .colab-df-convert {\n",
              "      background-color: #E8F0FE;\n",
              "      border: none;\n",
              "      border-radius: 50%;\n",
              "      cursor: pointer;\n",
              "      display: none;\n",
              "      fill: #1967D2;\n",
              "      height: 32px;\n",
              "      padding: 0 0 0 0;\n",
              "      width: 32px;\n",
              "    }\n",
              "\n",
              "    .colab-df-convert:hover {\n",
              "      background-color: #E2EBFA;\n",
              "      box-shadow: 0px 1px 2px rgba(60, 64, 67, 0.3), 0px 1px 3px 1px rgba(60, 64, 67, 0.15);\n",
              "      fill: #174EA6;\n",
              "    }\n",
              "\n",
              "    [theme=dark] .colab-df-convert {\n",
              "      background-color: #3B4455;\n",
              "      fill: #D2E3FC;\n",
              "    }\n",
              "\n",
              "    [theme=dark] .colab-df-convert:hover {\n",
              "      background-color: #434B5C;\n",
              "      box-shadow: 0px 1px 3px 1px rgba(0, 0, 0, 0.15);\n",
              "      filter: drop-shadow(0px 1px 2px rgba(0, 0, 0, 0.3));\n",
              "      fill: #FFFFFF;\n",
              "    }\n",
              "  </style>\n",
              "\n",
              "      <script>\n",
              "        const buttonEl =\n",
              "          document.querySelector('#df-cc466493-cb1a-4895-b4b6-b9e2d8000876 button.colab-df-convert');\n",
              "        buttonEl.style.display =\n",
              "          google.colab.kernel.accessAllowed ? 'block' : 'none';\n",
              "\n",
              "        async function convertToInteractive(key) {\n",
              "          const element = document.querySelector('#df-cc466493-cb1a-4895-b4b6-b9e2d8000876');\n",
              "          const dataTable =\n",
              "            await google.colab.kernel.invokeFunction('convertToInteractive',\n",
              "                                                     [key], {});\n",
              "          if (!dataTable) return;\n",
              "\n",
              "          const docLinkHtml = 'Like what you see? Visit the ' +\n",
              "            '<a target=\"_blank\" href=https://colab.research.google.com/notebooks/data_table.ipynb>data table notebook</a>'\n",
              "            + ' to learn more about interactive tables.';\n",
              "          element.innerHTML = '';\n",
              "          dataTable['output_type'] = 'display_data';\n",
              "          await google.colab.output.renderOutput(dataTable, element);\n",
              "          const docLink = document.createElement('div');\n",
              "          docLink.innerHTML = docLinkHtml;\n",
              "          element.appendChild(docLink);\n",
              "        }\n",
              "      </script>\n",
              "    </div>\n",
              "  </div>\n",
              "  "
            ]
          },
          "metadata": {},
          "execution_count": 368
        }
      ]
    },
    {
      "cell_type": "code",
      "source": [
        "import numpy as np\n",
        "contingency_matrix1k = metrics.cluster.contingency_matrix(df1['Class'], df1['predictedclass1a'])\n",
        "contingency_matrix1k\n"
      ],
      "metadata": {
        "colab": {
          "base_uri": "https://localhost:8080/"
        },
        "id": "3GLwRIKiRzF_",
        "outputId": "e0a7d538-d302-49ff-fa92-978742dacbfe"
      },
      "execution_count": null,
      "outputs": [
        {
          "output_type": "execute_result",
          "data": {
            "text/plain": [
              "array([[ 0,  0, 32,  0,  0,  0,  0],\n",
              "       [ 0,  0,  0, 30,  0,  0,  0],\n",
              "       [ 0, 30,  0,  0,  0,  0,  0],\n",
              "       [ 0,  0,  0,  0, 30,  0,  0],\n",
              "       [ 0,  0,  0,  0,  0, 30,  0],\n",
              "       [ 0,  0,  0,  0,  0,  0, 30],\n",
              "       [30,  0,  0,  0,  0,  0,  0]])"
            ]
          },
          "metadata": {},
          "execution_count": 23
        }
      ]
    },
    {
      "cell_type": "code",
      "source": [
        "purity1k = np.sum(np.amax(contingency_matrix1k, axis=0)) / np.sum(contingency_matrix1k) \n",
        "purity1k"
      ],
      "metadata": {
        "colab": {
          "base_uri": "https://localhost:8080/"
        },
        "id": "vUgfyrj9XqrV",
        "outputId": "1f91f2fa-1942-42e1-e59b-6af3d9bab7f4"
      },
      "execution_count": null,
      "outputs": [
        {
          "output_type": "execute_result",
          "data": {
            "text/plain": [
              "1.0"
            ]
          },
          "metadata": {},
          "execution_count": 25
        }
      ]
    },
    {
      "cell_type": "code",
      "source": [
        "contingency_matrix1h = metrics.cluster.contingency_matrix(df1['Class'], df1['predictedclass1b'])\n",
        "contingency_matrix1h"
      ],
      "metadata": {
        "id": "PTfYNwPZagFA",
        "colab": {
          "base_uri": "https://localhost:8080/"
        },
        "outputId": "0908fb10-ab85-46fc-b969-4d42c76c4922"
      },
      "execution_count": null,
      "outputs": [
        {
          "output_type": "execute_result",
          "data": {
            "text/plain": [
              "array([[ 0,  0,  0,  0,  0,  0, 32],\n",
              "       [ 0,  0,  0,  0, 30,  0,  0],\n",
              "       [ 0,  0, 30,  0,  0,  0,  0],\n",
              "       [ 0,  0,  0,  0,  0, 30,  0],\n",
              "       [ 0, 30,  0,  0,  0,  0,  0],\n",
              "       [30,  0,  0,  0,  0,  0,  0],\n",
              "       [ 0,  0,  0, 30,  0,  0,  0]])"
            ]
          },
          "metadata": {},
          "execution_count": 26
        }
      ]
    },
    {
      "cell_type": "code",
      "source": [
        "purity1h = np.sum(np.amax(contingency_matrix1h, axis=0)) / np.sum(contingency_matrix1h) \n",
        "purity1h"
      ],
      "metadata": {
        "colab": {
          "base_uri": "https://localhost:8080/"
        },
        "id": "sT2lNOXz3cl-",
        "outputId": "28c1a95a-212b-409c-a495-c031cd0a6e93"
      },
      "execution_count": null,
      "outputs": [
        {
          "output_type": "execute_result",
          "data": {
            "text/plain": [
              "1.0"
            ]
          },
          "metadata": {},
          "execution_count": 27
        }
      ]
    },
    {
      "cell_type": "code",
      "source": [
        "from sklearn.metrics.cluster import fowlkes_mallows_score, adjusted_rand_score \n",
        "print('df1 fowlkes mallows score for K-means method: ' + str(fowlkes_mallows_score(df1.iloc[:,4], df1['predictedclass1a'])))\n",
        "print('df1 fowlkes mallows score for hierarchical method: ' + str(fowlkes_mallows_score(df1.iloc[:,4], df1['predictedclass1b'])))"
      ],
      "metadata": {
        "colab": {
          "base_uri": "https://localhost:8080/"
        },
        "id": "WJU1P-6M4UO7",
        "outputId": "04dfe53a-30ff-4ce8-bead-33187fc0f1b0"
      },
      "execution_count": null,
      "outputs": [
        {
          "output_type": "stream",
          "name": "stdout",
          "text": [
            "df1 fowlkes mallows score for K-means method: 1.0\n",
            "df1 fowlkes mallows score for hierarchical method: 1.0\n"
          ]
        }
      ]
    },
    {
      "cell_type": "markdown",
      "source": [
        "In conclusion, the purity for both K-means and hierarchical methods are 1.0,which means each cluster contains only examples from the same class in both methods. The fowlkes mallows scores for both methods are 1.0, which means the high similarity between the clusters and the benchmark classifications in both methods."
      ],
      "metadata": {
        "id": "JrAuQDjp3oG-"
      }
    },
    {
      "cell_type": "markdown",
      "source": [
        "3. Plot (2D or 3D) the data points for each dataset and color them according to the original class\n"
      ],
      "metadata": {
        "id": "esPUTna3Y7xu"
      }
    },
    {
      "cell_type": "code",
      "source": [
        "# Plot the dataset according to the original class\n",
        "fig = px.scatter_3d(df1, x='X1', y='X2', z='X3',\n",
        "              color='Class')\n",
        "fig.show()"
      ],
      "metadata": {
        "id": "jtL9_29-t12n"
      },
      "execution_count": null,
      "outputs": []
    },
    {
      "cell_type": "markdown",
      "source": [
        "4. Plot (2D or 3D) the data points for each dataset and color them according to the class allocated by the clustering algorithm"
      ],
      "metadata": {
        "id": "9q5-OmBMCg7M"
      }
    },
    {
      "cell_type": "code",
      "source": [
        "# Plot the dataset according to the K-mean clustering algorithm\n",
        "fig = px.scatter_3d(df1, x='X1', y = 'X2', z='X3', color = 'predictedclass1a')\n",
        "fig.show()"
      ],
      "metadata": {
        "id": "1DIrnXMAt-bo"
      },
      "execution_count": null,
      "outputs": []
    },
    {
      "cell_type": "code",
      "source": [
        "# Plot the dataset according to the hierarchical clustering algorithm\n",
        "fig = px.scatter_3d(df1, x='X1', y='X2', z='X3', color='predictedclass1b')\n",
        "fig.show()"
      ],
      "metadata": {
        "id": "DyCWANCWuDQp"
      },
      "execution_count": null,
      "outputs": []
    },
    {
      "cell_type": "markdown",
      "source": [
        "**Data 2**"
      ],
      "metadata": {
        "id": "uQJHZl1E_H2N"
      }
    },
    {
      "cell_type": "code",
      "source": [
        "df2"
      ],
      "metadata": {
        "colab": {
          "base_uri": "https://localhost:8080/",
          "height": 423
        },
        "id": "2fk6MK5B_QG2",
        "outputId": "7393c0ff-75c3-4dfd-8970-87796ff58bea"
      },
      "execution_count": null,
      "outputs": [
        {
          "output_type": "execute_result",
          "data": {
            "text/plain": [
              "    Unnamed: 0         X         Y         C  Class\n",
              "0           X1  3.277701  0.814082  0.326574      1\n",
              "1           X2  0.387577  0.176780  0.888046      1\n",
              "2           X3  0.268546  0.582963  0.080981      1\n",
              "3           X4  2.031145  0.244597  0.643921      1\n",
              "4           X5  0.188677  0.461280  0.496633      1\n",
              "..         ...       ...       ...       ...    ...\n",
              "399       X400  3.248655  2.297291  3.388138      3\n",
              "400          X  4.100000  5.100000  0.504558      4\n",
              "401        X.1  3.900000  4.900000  0.941634      4\n",
              "402        X.2  4.000000  5.000000  0.702123      4\n",
              "403        X.3  4.100000  5.100000  0.887645      4\n",
              "\n",
              "[404 rows x 5 columns]"
            ],
            "text/html": [
              "\n",
              "  <div id=\"df-68af4f45-5223-474f-9b2e-dc438606f449\">\n",
              "    <div class=\"colab-df-container\">\n",
              "      <div>\n",
              "<style scoped>\n",
              "    .dataframe tbody tr th:only-of-type {\n",
              "        vertical-align: middle;\n",
              "    }\n",
              "\n",
              "    .dataframe tbody tr th {\n",
              "        vertical-align: top;\n",
              "    }\n",
              "\n",
              "    .dataframe thead th {\n",
              "        text-align: right;\n",
              "    }\n",
              "</style>\n",
              "<table border=\"1\" class=\"dataframe\">\n",
              "  <thead>\n",
              "    <tr style=\"text-align: right;\">\n",
              "      <th></th>\n",
              "      <th>Unnamed: 0</th>\n",
              "      <th>X</th>\n",
              "      <th>Y</th>\n",
              "      <th>C</th>\n",
              "      <th>Class</th>\n",
              "    </tr>\n",
              "  </thead>\n",
              "  <tbody>\n",
              "    <tr>\n",
              "      <th>0</th>\n",
              "      <td>X1</td>\n",
              "      <td>3.277701</td>\n",
              "      <td>0.814082</td>\n",
              "      <td>0.326574</td>\n",
              "      <td>1</td>\n",
              "    </tr>\n",
              "    <tr>\n",
              "      <th>1</th>\n",
              "      <td>X2</td>\n",
              "      <td>0.387577</td>\n",
              "      <td>0.176780</td>\n",
              "      <td>0.888046</td>\n",
              "      <td>1</td>\n",
              "    </tr>\n",
              "    <tr>\n",
              "      <th>2</th>\n",
              "      <td>X3</td>\n",
              "      <td>0.268546</td>\n",
              "      <td>0.582963</td>\n",
              "      <td>0.080981</td>\n",
              "      <td>1</td>\n",
              "    </tr>\n",
              "    <tr>\n",
              "      <th>3</th>\n",
              "      <td>X4</td>\n",
              "      <td>2.031145</td>\n",
              "      <td>0.244597</td>\n",
              "      <td>0.643921</td>\n",
              "      <td>1</td>\n",
              "    </tr>\n",
              "    <tr>\n",
              "      <th>4</th>\n",
              "      <td>X5</td>\n",
              "      <td>0.188677</td>\n",
              "      <td>0.461280</td>\n",
              "      <td>0.496633</td>\n",
              "      <td>1</td>\n",
              "    </tr>\n",
              "    <tr>\n",
              "      <th>...</th>\n",
              "      <td>...</td>\n",
              "      <td>...</td>\n",
              "      <td>...</td>\n",
              "      <td>...</td>\n",
              "      <td>...</td>\n",
              "    </tr>\n",
              "    <tr>\n",
              "      <th>399</th>\n",
              "      <td>X400</td>\n",
              "      <td>3.248655</td>\n",
              "      <td>2.297291</td>\n",
              "      <td>3.388138</td>\n",
              "      <td>3</td>\n",
              "    </tr>\n",
              "    <tr>\n",
              "      <th>400</th>\n",
              "      <td>X</td>\n",
              "      <td>4.100000</td>\n",
              "      <td>5.100000</td>\n",
              "      <td>0.504558</td>\n",
              "      <td>4</td>\n",
              "    </tr>\n",
              "    <tr>\n",
              "      <th>401</th>\n",
              "      <td>X.1</td>\n",
              "      <td>3.900000</td>\n",
              "      <td>4.900000</td>\n",
              "      <td>0.941634</td>\n",
              "      <td>4</td>\n",
              "    </tr>\n",
              "    <tr>\n",
              "      <th>402</th>\n",
              "      <td>X.2</td>\n",
              "      <td>4.000000</td>\n",
              "      <td>5.000000</td>\n",
              "      <td>0.702123</td>\n",
              "      <td>4</td>\n",
              "    </tr>\n",
              "    <tr>\n",
              "      <th>403</th>\n",
              "      <td>X.3</td>\n",
              "      <td>4.100000</td>\n",
              "      <td>5.100000</td>\n",
              "      <td>0.887645</td>\n",
              "      <td>4</td>\n",
              "    </tr>\n",
              "  </tbody>\n",
              "</table>\n",
              "<p>404 rows × 5 columns</p>\n",
              "</div>\n",
              "      <button class=\"colab-df-convert\" onclick=\"convertToInteractive('df-68af4f45-5223-474f-9b2e-dc438606f449')\"\n",
              "              title=\"Convert this dataframe to an interactive table.\"\n",
              "              style=\"display:none;\">\n",
              "        \n",
              "  <svg xmlns=\"http://www.w3.org/2000/svg\" height=\"24px\"viewBox=\"0 0 24 24\"\n",
              "       width=\"24px\">\n",
              "    <path d=\"M0 0h24v24H0V0z\" fill=\"none\"/>\n",
              "    <path d=\"M18.56 5.44l.94 2.06.94-2.06 2.06-.94-2.06-.94-.94-2.06-.94 2.06-2.06.94zm-11 1L8.5 8.5l.94-2.06 2.06-.94-2.06-.94L8.5 2.5l-.94 2.06-2.06.94zm10 10l.94 2.06.94-2.06 2.06-.94-2.06-.94-.94-2.06-.94 2.06-2.06.94z\"/><path d=\"M17.41 7.96l-1.37-1.37c-.4-.4-.92-.59-1.43-.59-.52 0-1.04.2-1.43.59L10.3 9.45l-7.72 7.72c-.78.78-.78 2.05 0 2.83L4 21.41c.39.39.9.59 1.41.59.51 0 1.02-.2 1.41-.59l7.78-7.78 2.81-2.81c.8-.78.8-2.07 0-2.86zM5.41 20L4 18.59l7.72-7.72 1.47 1.35L5.41 20z\"/>\n",
              "  </svg>\n",
              "      </button>\n",
              "      \n",
              "  <style>\n",
              "    .colab-df-container {\n",
              "      display:flex;\n",
              "      flex-wrap:wrap;\n",
              "      gap: 12px;\n",
              "    }\n",
              "\n",
              "    .colab-df-convert {\n",
              "      background-color: #E8F0FE;\n",
              "      border: none;\n",
              "      border-radius: 50%;\n",
              "      cursor: pointer;\n",
              "      display: none;\n",
              "      fill: #1967D2;\n",
              "      height: 32px;\n",
              "      padding: 0 0 0 0;\n",
              "      width: 32px;\n",
              "    }\n",
              "\n",
              "    .colab-df-convert:hover {\n",
              "      background-color: #E2EBFA;\n",
              "      box-shadow: 0px 1px 2px rgba(60, 64, 67, 0.3), 0px 1px 3px 1px rgba(60, 64, 67, 0.15);\n",
              "      fill: #174EA6;\n",
              "    }\n",
              "\n",
              "    [theme=dark] .colab-df-convert {\n",
              "      background-color: #3B4455;\n",
              "      fill: #D2E3FC;\n",
              "    }\n",
              "\n",
              "    [theme=dark] .colab-df-convert:hover {\n",
              "      background-color: #434B5C;\n",
              "      box-shadow: 0px 1px 3px 1px rgba(0, 0, 0, 0.15);\n",
              "      filter: drop-shadow(0px 1px 2px rgba(0, 0, 0, 0.3));\n",
              "      fill: #FFFFFF;\n",
              "    }\n",
              "  </style>\n",
              "\n",
              "      <script>\n",
              "        const buttonEl =\n",
              "          document.querySelector('#df-68af4f45-5223-474f-9b2e-dc438606f449 button.colab-df-convert');\n",
              "        buttonEl.style.display =\n",
              "          google.colab.kernel.accessAllowed ? 'block' : 'none';\n",
              "\n",
              "        async function convertToInteractive(key) {\n",
              "          const element = document.querySelector('#df-68af4f45-5223-474f-9b2e-dc438606f449');\n",
              "          const dataTable =\n",
              "            await google.colab.kernel.invokeFunction('convertToInteractive',\n",
              "                                                     [key], {});\n",
              "          if (!dataTable) return;\n",
              "\n",
              "          const docLinkHtml = 'Like what you see? Visit the ' +\n",
              "            '<a target=\"_blank\" href=https://colab.research.google.com/notebooks/data_table.ipynb>data table notebook</a>'\n",
              "            + ' to learn more about interactive tables.';\n",
              "          element.innerHTML = '';\n",
              "          dataTable['output_type'] = 'display_data';\n",
              "          await google.colab.output.renderOutput(dataTable, element);\n",
              "          const docLink = document.createElement('div');\n",
              "          docLink.innerHTML = docLinkHtml;\n",
              "          element.appendChild(docLink);\n",
              "        }\n",
              "      </script>\n",
              "    </div>\n",
              "  </div>\n",
              "  "
            ]
          },
          "metadata": {},
          "execution_count": 48
        }
      ]
    },
    {
      "cell_type": "markdown",
      "source": [
        "1. K - means"
      ],
      "metadata": {
        "id": "MjyOr9Wl_L-1"
      }
    },
    {
      "cell_type": "code",
      "source": [
        "k2 = []\n",
        "wcss2 = []\n",
        "for i2 in range(1,10):\n",
        "  mdl2 = KMeans(n_clusters=i2)\n",
        "  mdl2.fit(df2.iloc[:,1:4])\n",
        "  k2.append(i2)\n",
        "  wcss2.append(mdl2.inertia_)"
      ],
      "metadata": {
        "id": "uSSvgheRwoH3"
      },
      "execution_count": null,
      "outputs": []
    },
    {
      "cell_type": "code",
      "source": [
        "sns.lineplot(k2,wcss2)"
      ],
      "metadata": {
        "colab": {
          "base_uri": "https://localhost:8080/",
          "height": 337
        },
        "id": "0zVgUGhr_3zh",
        "outputId": "21f85361-75d7-4555-ae4a-ea59cb488e63"
      },
      "execution_count": null,
      "outputs": [
        {
          "output_type": "stream",
          "name": "stderr",
          "text": [
            "/usr/local/lib/python3.7/dist-packages/seaborn/_decorators.py:43: FutureWarning: Pass the following variables as keyword args: x, y. From version 0.12, the only valid positional argument will be `data`, and passing other arguments without an explicit keyword will result in an error or misinterpretation.\n",
            "  FutureWarning\n"
          ]
        },
        {
          "output_type": "execute_result",
          "data": {
            "text/plain": [
              "<matplotlib.axes._subplots.AxesSubplot at 0x7fc1b9583c90>"
            ]
          },
          "metadata": {},
          "execution_count": 50
        },
        {
          "output_type": "display_data",
          "data": {
            "text/plain": [
              "<Figure size 432x288 with 1 Axes>"
            ],
            "image/png": "[encoded data removed]"
          },
          "metadata": {
            "needs_background": "light"
          }
        }
      ]
    },
    {
      "cell_type": "code",
      "source": [
        "sil2 = []\n",
        "k2s = []\n",
        "kmax = 10\n",
        "\n",
        "# dissimilarity would not be defined for a single cluster, thus, minimum number of clusters should be 2\n",
        "for ks2 in range(2,10):\n",
        "  kmeans2 = KMeans(n_clusters = ks2)\n",
        "  kmeans2.fit(df2.iloc[:,1:4])\n",
        "  labels = kmeans2.labels_\n",
        "  k2s.append(ks2)\n",
        "  sil2.append(metrics.silhouette_score(df2.iloc[:,1:4], labels))"
      ],
      "metadata": {
        "id": "WhQp89jxlEqW"
      },
      "execution_count": 233,
      "outputs": []
    },
    {
      "cell_type": "code",
      "source": [
        "sns.lineplot(k2s,sil2)"
      ],
      "metadata": {
        "id": "3gXXF_7MrZ12",
        "colab": {
          "base_uri": "https://localhost:8080/",
          "height": 337
        },
        "outputId": "160a20ae-1194-4e1f-e988-6f8c731751e3"
      },
      "execution_count": null,
      "outputs": [
        {
          "output_type": "stream",
          "name": "stderr",
          "text": [
            "/usr/local/lib/python3.7/dist-packages/seaborn/_decorators.py:43: FutureWarning: Pass the following variables as keyword args: x, y. From version 0.12, the only valid positional argument will be `data`, and passing other arguments without an explicit keyword will result in an error or misinterpretation.\n",
            "  FutureWarning\n"
          ]
        },
        {
          "output_type": "execute_result",
          "data": {
            "text/plain": [
              "<matplotlib.axes._subplots.AxesSubplot at 0x7fc1b509c690>"
            ]
          },
          "metadata": {},
          "execution_count": 52
        },
        {
          "output_type": "display_data",
          "data": {
            "text/plain": [
              "<Figure size 432x288 with 1 Axes>"
            ],
            "image/png": "[encoded data removed]"
          },
          "metadata": {
            "needs_background": "light"
          }
        }
      ]
    },
    {
      "cell_type": "markdown",
      "source": [
        "We get a peek at n = 4. Therefore, we use 4 as n-cluster value for k-means method."
      ],
      "metadata": {
        "id": "eD97sINd_5TD"
      }
    },
    {
      "cell_type": "code",
      "source": [
        "mdl2_a = KMeans(n_clusters=4)\n",
        "mdl2_a.fit(df2.iloc[:,1:4])\n",
        "print('SSE Data 2: '+str(mdl2_a.inertia_))"
      ],
      "metadata": {
        "colab": {
          "base_uri": "https://localhost:8080/"
        },
        "id": "eKnVE9_IwqGF",
        "outputId": "c9285164-2109-48ee-bd92-fe3f226c8729"
      },
      "execution_count": null,
      "outputs": [
        {
          "output_type": "stream",
          "name": "stdout",
          "text": [
            "SSE Data 2: 280.1321159627272\n"
          ]
        }
      ]
    },
    {
      "cell_type": "code",
      "source": [
        "# Add predicted class into data 2\n",
        "df2['predictedclass2a'] = mdl2_a.labels_ + 1"
      ],
      "metadata": {
        "id": "tJSbiN8Nx4gr"
      },
      "execution_count": null,
      "outputs": []
    },
    {
      "cell_type": "code",
      "source": [
        "mdl2_a.cluster_centers_"
      ],
      "metadata": {
        "id": "RfhN8jwGyKuP",
        "colab": {
          "base_uri": "https://localhost:8080/"
        },
        "outputId": "f85ee999-86e6-4097-c2c8-156b2ae7533b"
      },
      "execution_count": null,
      "outputs": [
        {
          "output_type": "execute_result",
          "data": {
            "text/plain": [
              "array([[2.9348529 , 2.55931128, 2.55146488],\n",
              "       [3.04451388, 0.51152101, 0.48663013],\n",
              "       [1.1534002 , 4.08301554, 1.04313881],\n",
              "       [1.0118234 , 0.75530155, 0.5346417 ]])"
            ]
          },
          "metadata": {},
          "execution_count": 55
        }
      ]
    },
    {
      "cell_type": "markdown",
      "source": [
        "(b) Use hierarchical clustering methods to generate clusters"
      ],
      "metadata": {
        "id": "MR136rQKCwxb"
      }
    },
    {
      "cell_type": "code",
      "source": [
        "z2 = linkage(df2.iloc[:,1:4],method='single')\n",
        "dendrogram(z2)\n",
        "plt.title('dendrogram of Data2')\n",
        "plt.show()"
      ],
      "metadata": {
        "id": "xN-38xM435aD",
        "colab": {
          "base_uri": "https://localhost:8080/",
          "height": 281
        },
        "outputId": "865ebd5e-678d-4c6c-955d-9cad7fdee784"
      },
      "execution_count": null,
      "outputs": [
        {
          "output_type": "display_data",
          "data": {
            "text/plain": [
              "<Figure size 432x288 with 1 Axes>"
            ],
            "image/png": "[encoded data removed]"
          },
          "metadata": {
            "needs_background": "light"
          }
        }
      ]
    },
    {
      "cell_type": "code",
      "source": [
        "z2 = linkage(df2.iloc[:,1:4],method='ward')\n",
        "dendrogram(z2)\n",
        "plt.title('dendrogram of Data2')\n",
        "plt.show()"
      ],
      "metadata": {
        "colab": {
          "base_uri": "https://localhost:8080/",
          "height": 281
        },
        "id": "ImnTpcQv9G2d",
        "outputId": "a04a67bd-4d5b-4a68-d825-e385991c5705"
      },
      "execution_count": null,
      "outputs": [
        {
          "output_type": "display_data",
          "data": {
            "text/plain": [
              "<Figure size 432x288 with 1 Axes>"
            ],
            "image/png": "[encoded data removed]"
          },
          "metadata": {
            "needs_background": "light"
          }
        }
      ]
    },
    {
      "cell_type": "markdown",
      "source": [
        "Therefore, we use 4 as the n-cluster value"
      ],
      "metadata": {
        "id": "GsJFatKcDdkE"
      }
    },
    {
      "cell_type": "code",
      "source": [
        "mdl2_b = AgglomerativeClustering(n_clusters=4)\n",
        "mdl2_b.fit(df2.iloc[:,1:4])\n",
        "mdl2_b.labels_"
      ],
      "metadata": {
        "id": "dlt3DnaKzoX4",
        "colab": {
          "base_uri": "https://localhost:8080/"
        },
        "outputId": "d4254b42-9d9f-43e1-a7aa-49f62dce32d6"
      },
      "execution_count": 234,
      "outputs": [
        {
          "output_type": "execute_result",
          "data": {
            "text/plain": [
              "array([3, 1, 1, 1, 1, 3, 1, 3, 3, 1, 1, 3, 3, 1, 1, 3, 1, 1, 1, 1, 1, 3,\n",
              "       1, 1, 1, 1, 3, 3, 3, 3, 3, 3, 1, 3, 1, 3, 1, 1, 3, 1, 3, 1, 1, 3,\n",
              "       1, 1, 1, 3, 1, 1, 1, 1, 3, 1, 1, 3, 1, 1, 1, 1, 1, 1, 3, 1, 3, 1,\n",
              "       1, 1, 1, 1, 1, 1, 1, 3, 1, 3, 3, 1, 1, 1, 1, 1, 1, 1, 3, 3, 3, 1,\n",
              "       3, 1, 1, 3, 1, 1, 1, 3, 1, 1, 3, 3, 3, 1, 1, 3, 1, 3, 1, 1, 3, 3,\n",
              "       1, 1, 1, 3, 1, 1, 1, 1, 1, 1, 3, 1, 1, 1, 3, 1, 1, 1, 1, 1, 1, 3,\n",
              "       1, 1, 1, 1, 1, 3, 3, 3, 3, 1, 1, 3, 1, 1, 1, 3, 3, 1, 1, 3, 1, 1,\n",
              "       1, 1, 1, 3, 1, 1, 1, 1, 1, 3, 3, 1, 3, 3, 3, 1, 1, 3, 1, 1, 3, 1,\n",
              "       1, 3, 3, 1, 3, 3, 1, 3, 1, 3, 1, 1, 1, 1, 3, 3, 1, 1, 1, 3, 1, 1,\n",
              "       1, 1, 0, 0, 0, 0, 0, 0, 0, 0, 0, 0, 0, 0, 0, 0, 0, 0, 0, 0, 0, 0,\n",
              "       0, 0, 0, 0, 0, 0, 0, 0, 0, 0, 0, 0, 0, 0, 0, 0, 0, 0, 0, 0, 0, 0,\n",
              "       0, 0, 0, 0, 0, 0, 0, 0, 0, 0, 0, 0, 0, 0, 0, 0, 0, 0, 0, 0, 0, 0,\n",
              "       0, 0, 0, 0, 0, 0, 0, 0, 0, 0, 0, 0, 0, 0, 0, 0, 0, 0, 0, 0, 0, 0,\n",
              "       0, 0, 0, 0, 0, 0, 0, 0, 0, 0, 0, 0, 0, 0, 2, 2, 2, 2, 2, 2, 2, 2,\n",
              "       2, 2, 2, 2, 2, 2, 2, 2, 2, 2, 2, 2, 2, 2, 2, 2, 2, 2, 2, 2, 2, 2,\n",
              "       2, 2, 2, 2, 2, 2, 2, 2, 2, 2, 2, 2, 2, 2, 2, 2, 2, 2, 2, 2, 2, 2,\n",
              "       2, 2, 2, 2, 2, 2, 2, 2, 2, 2, 2, 2, 2, 2, 2, 2, 2, 2, 2, 2, 2, 2,\n",
              "       2, 2, 2, 2, 2, 2, 2, 2, 2, 2, 2, 2, 2, 2, 2, 2, 2, 2, 2, 2, 2, 2,\n",
              "       2, 2, 2, 2, 0, 0, 0, 0])"
            ]
          },
          "metadata": {},
          "execution_count": 234
        }
      ]
    },
    {
      "cell_type": "code",
      "source": [
        "# Add predicted class using hierarchical clustering method\n",
        "df2['predictedclass2b'] = mdl2_b.labels_ + 1"
      ],
      "metadata": {
        "id": "Y_NzZ_WMyQfj"
      },
      "execution_count": null,
      "outputs": []
    },
    {
      "cell_type": "markdown",
      "source": [
        "2. Evaluate the performance of the clustering algorithm using external validation metrics"
      ],
      "metadata": {
        "id": "sggxgBc8qQnL"
      }
    },
    {
      "cell_type": "code",
      "source": [
        "df2"
      ],
      "metadata": {
        "colab": {
          "base_uri": "https://localhost:8080/",
          "height": 423
        },
        "id": "OY-HKeE8cTEo",
        "outputId": "77d25cc8-fbaf-4eac-89db-a01525d5b7bc"
      },
      "execution_count": null,
      "outputs": [
        {
          "output_type": "execute_result",
          "data": {
            "text/plain": [
              "    Unnamed: 0         X         Y         C  Class  predictedclass2a  \\\n",
              "0           X1  3.277701  0.814082  0.326574      1                 2   \n",
              "1           X2  0.387577  0.176780  0.888046      1                 4   \n",
              "2           X3  0.268546  0.582963  0.080981      1                 4   \n",
              "3           X4  2.031145  0.244597  0.643921      1                 2   \n",
              "4           X5  0.188677  0.461280  0.496633      1                 4   \n",
              "..         ...       ...       ...       ...    ...               ...   \n",
              "399       X400  3.248655  2.297291  3.388138      3                 1   \n",
              "400          X  4.100000  5.100000  0.504558      4                 3   \n",
              "401        X.1  3.900000  4.900000  0.941634      4                 3   \n",
              "402        X.2  4.000000  5.000000  0.702123      4                 3   \n",
              "403        X.3  4.100000  5.100000  0.887645      4                 3   \n",
              "\n",
              "     predictedclass2b  \n",
              "0                   4  \n",
              "1                   2  \n",
              "2                   2  \n",
              "3                   2  \n",
              "4                   2  \n",
              "..                ...  \n",
              "399                 3  \n",
              "400                 1  \n",
              "401                 1  \n",
              "402                 1  \n",
              "403                 1  \n",
              "\n",
              "[404 rows x 7 columns]"
            ],
            "text/html": [
              "\n",
              "  <div id=\"df-22ef3b9f-cc8e-45f3-81b8-8b25f095e620\">\n",
              "    <div class=\"colab-df-container\">\n",
              "      <div>\n",
              "<style scoped>\n",
              "    .dataframe tbody tr th:only-of-type {\n",
              "        vertical-align: middle;\n",
              "    }\n",
              "\n",
              "    .dataframe tbody tr th {\n",
              "        vertical-align: top;\n",
              "    }\n",
              "\n",
              "    .dataframe thead th {\n",
              "        text-align: right;\n",
              "    }\n",
              "</style>\n",
              "<table border=\"1\" class=\"dataframe\">\n",
              "  <thead>\n",
              "    <tr style=\"text-align: right;\">\n",
              "      <th></th>\n",
              "      <th>Unnamed: 0</th>\n",
              "      <th>X</th>\n",
              "      <th>Y</th>\n",
              "      <th>C</th>\n",
              "      <th>Class</th>\n",
              "      <th>predictedclass2a</th>\n",
              "      <th>predictedclass2b</th>\n",
              "    </tr>\n",
              "  </thead>\n",
              "  <tbody>\n",
              "    <tr>\n",
              "      <th>0</th>\n",
              "      <td>X1</td>\n",
              "      <td>3.277701</td>\n",
              "      <td>0.814082</td>\n",
              "      <td>0.326574</td>\n",
              "      <td>1</td>\n",
              "      <td>2</td>\n",
              "      <td>4</td>\n",
              "    </tr>\n",
              "    <tr>\n",
              "      <th>1</th>\n",
              "      <td>X2</td>\n",
              "      <td>0.387577</td>\n",
              "      <td>0.176780</td>\n",
              "      <td>0.888046</td>\n",
              "      <td>1</td>\n",
              "      <td>4</td>\n",
              "      <td>2</td>\n",
              "    </tr>\n",
              "    <tr>\n",
              "      <th>2</th>\n",
              "      <td>X3</td>\n",
              "      <td>0.268546</td>\n",
              "      <td>0.582963</td>\n",
              "      <td>0.080981</td>\n",
              "      <td>1</td>\n",
              "      <td>4</td>\n",
              "      <td>2</td>\n",
              "    </tr>\n",
              "    <tr>\n",
              "      <th>3</th>\n",
              "      <td>X4</td>\n",
              "      <td>2.031145</td>\n",
              "      <td>0.244597</td>\n",
              "      <td>0.643921</td>\n",
              "      <td>1</td>\n",
              "      <td>2</td>\n",
              "      <td>2</td>\n",
              "    </tr>\n",
              "    <tr>\n",
              "      <th>4</th>\n",
              "      <td>X5</td>\n",
              "      <td>0.188677</td>\n",
              "      <td>0.461280</td>\n",
              "      <td>0.496633</td>\n",
              "      <td>1</td>\n",
              "      <td>4</td>\n",
              "      <td>2</td>\n",
              "    </tr>\n",
              "    <tr>\n",
              "      <th>...</th>\n",
              "      <td>...</td>\n",
              "      <td>...</td>\n",
              "      <td>...</td>\n",
              "      <td>...</td>\n",
              "      <td>...</td>\n",
              "      <td>...</td>\n",
              "      <td>...</td>\n",
              "    </tr>\n",
              "    <tr>\n",
              "      <th>399</th>\n",
              "      <td>X400</td>\n",
              "      <td>3.248655</td>\n",
              "      <td>2.297291</td>\n",
              "      <td>3.388138</td>\n",
              "      <td>3</td>\n",
              "      <td>1</td>\n",
              "      <td>3</td>\n",
              "    </tr>\n",
              "    <tr>\n",
              "      <th>400</th>\n",
              "      <td>X</td>\n",
              "      <td>4.100000</td>\n",
              "      <td>5.100000</td>\n",
              "      <td>0.504558</td>\n",
              "      <td>4</td>\n",
              "      <td>3</td>\n",
              "      <td>1</td>\n",
              "    </tr>\n",
              "    <tr>\n",
              "      <th>401</th>\n",
              "      <td>X.1</td>\n",
              "      <td>3.900000</td>\n",
              "      <td>4.900000</td>\n",
              "      <td>0.941634</td>\n",
              "      <td>4</td>\n",
              "      <td>3</td>\n",
              "      <td>1</td>\n",
              "    </tr>\n",
              "    <tr>\n",
              "      <th>402</th>\n",
              "      <td>X.2</td>\n",
              "      <td>4.000000</td>\n",
              "      <td>5.000000</td>\n",
              "      <td>0.702123</td>\n",
              "      <td>4</td>\n",
              "      <td>3</td>\n",
              "      <td>1</td>\n",
              "    </tr>\n",
              "    <tr>\n",
              "      <th>403</th>\n",
              "      <td>X.3</td>\n",
              "      <td>4.100000</td>\n",
              "      <td>5.100000</td>\n",
              "      <td>0.887645</td>\n",
              "      <td>4</td>\n",
              "      <td>3</td>\n",
              "      <td>1</td>\n",
              "    </tr>\n",
              "  </tbody>\n",
              "</table>\n",
              "<p>404 rows × 7 columns</p>\n",
              "</div>\n",
              "      <button class=\"colab-df-convert\" onclick=\"convertToInteractive('df-22ef3b9f-cc8e-45f3-81b8-8b25f095e620')\"\n",
              "              title=\"Convert this dataframe to an interactive table.\"\n",
              "              style=\"display:none;\">\n",
              "        \n",
              "  <svg xmlns=\"http://www.w3.org/2000/svg\" height=\"24px\"viewBox=\"0 0 24 24\"\n",
              "       width=\"24px\">\n",
              "    <path d=\"M0 0h24v24H0V0z\" fill=\"none\"/>\n",
              "    <path d=\"M18.56 5.44l.94 2.06.94-2.06 2.06-.94-2.06-.94-.94-2.06-.94 2.06-2.06.94zm-11 1L8.5 8.5l.94-2.06 2.06-.94-2.06-.94L8.5 2.5l-.94 2.06-2.06.94zm10 10l.94 2.06.94-2.06 2.06-.94-2.06-.94-.94-2.06-.94 2.06-2.06.94z\"/><path d=\"M17.41 7.96l-1.37-1.37c-.4-.4-.92-.59-1.43-.59-.52 0-1.04.2-1.43.59L10.3 9.45l-7.72 7.72c-.78.78-.78 2.05 0 2.83L4 21.41c.39.39.9.59 1.41.59.51 0 1.02-.2 1.41-.59l7.78-7.78 2.81-2.81c.8-.78.8-2.07 0-2.86zM5.41 20L4 18.59l7.72-7.72 1.47 1.35L5.41 20z\"/>\n",
              "  </svg>\n",
              "      </button>\n",
              "      \n",
              "  <style>\n",
              "    .colab-df-container {\n",
              "      display:flex;\n",
              "      flex-wrap:wrap;\n",
              "      gap: 12px;\n",
              "    }\n",
              "\n",
              "    .colab-df-convert {\n",
              "      background-color: #E8F0FE;\n",
              "      border: none;\n",
              "      border-radius: 50%;\n",
              "      cursor: pointer;\n",
              "      display: none;\n",
              "      fill: #1967D2;\n",
              "      height: 32px;\n",
              "      padding: 0 0 0 0;\n",
              "      width: 32px;\n",
              "    }\n",
              "\n",
              "    .colab-df-convert:hover {\n",
              "      background-color: #E2EBFA;\n",
              "      box-shadow: 0px 1px 2px rgba(60, 64, 67, 0.3), 0px 1px 3px 1px rgba(60, 64, 67, 0.15);\n",
              "      fill: #174EA6;\n",
              "    }\n",
              "\n",
              "    [theme=dark] .colab-df-convert {\n",
              "      background-color: #3B4455;\n",
              "      fill: #D2E3FC;\n",
              "    }\n",
              "\n",
              "    [theme=dark] .colab-df-convert:hover {\n",
              "      background-color: #434B5C;\n",
              "      box-shadow: 0px 1px 3px 1px rgba(0, 0, 0, 0.15);\n",
              "      filter: drop-shadow(0px 1px 2px rgba(0, 0, 0, 0.3));\n",
              "      fill: #FFFFFF;\n",
              "    }\n",
              "  </style>\n",
              "\n",
              "      <script>\n",
              "        const buttonEl =\n",
              "          document.querySelector('#df-22ef3b9f-cc8e-45f3-81b8-8b25f095e620 button.colab-df-convert');\n",
              "        buttonEl.style.display =\n",
              "          google.colab.kernel.accessAllowed ? 'block' : 'none';\n",
              "\n",
              "        async function convertToInteractive(key) {\n",
              "          const element = document.querySelector('#df-22ef3b9f-cc8e-45f3-81b8-8b25f095e620');\n",
              "          const dataTable =\n",
              "            await google.colab.kernel.invokeFunction('convertToInteractive',\n",
              "                                                     [key], {});\n",
              "          if (!dataTable) return;\n",
              "\n",
              "          const docLinkHtml = 'Like what you see? Visit the ' +\n",
              "            '<a target=\"_blank\" href=https://colab.research.google.com/notebooks/data_table.ipynb>data table notebook</a>'\n",
              "            + ' to learn more about interactive tables.';\n",
              "          element.innerHTML = '';\n",
              "          dataTable['output_type'] = 'display_data';\n",
              "          await google.colab.output.renderOutput(dataTable, element);\n",
              "          const docLink = document.createElement('div');\n",
              "          docLink.innerHTML = docLinkHtml;\n",
              "          element.appendChild(docLink);\n",
              "        }\n",
              "      </script>\n",
              "    </div>\n",
              "  </div>\n",
              "  "
            ]
          },
          "metadata": {},
          "execution_count": 60
        }
      ]
    },
    {
      "cell_type": "code",
      "source": [
        "contingency_matrix2k = metrics.cluster.contingency_matrix(df2['Class'], df2['predictedclass2a'])\n",
        "contingency_matrix2k"
      ],
      "metadata": {
        "id": "c3fc28t92PTD",
        "colab": {
          "base_uri": "https://localhost:8080/"
        },
        "outputId": "40d18962-b179-43fa-e674-db73703ab5a6"
      },
      "execution_count": null,
      "outputs": [
        {
          "output_type": "execute_result",
          "data": {
            "text/plain": [
              "array([[  0,  83,   0, 117],\n",
              "       [  0,   0,  76,  24],\n",
              "       [100,   0,   0,   0],\n",
              "       [  0,   0,   4,   0]])"
            ]
          },
          "metadata": {},
          "execution_count": 61
        }
      ]
    },
    {
      "cell_type": "code",
      "source": [
        "purity2k = np.sum(np.amax(contingency_matrix2k, axis=0)) / np.sum(contingency_matrix2k) \n",
        "purity2k\n"
      ],
      "metadata": {
        "colab": {
          "base_uri": "https://localhost:8080/"
        },
        "id": "CNUo97Sfb2oF",
        "outputId": "3183c904-48d4-45f1-ff07-03dc870cfecc"
      },
      "execution_count": null,
      "outputs": [
        {
          "output_type": "execute_result",
          "data": {
            "text/plain": [
              "0.9306930693069307"
            ]
          },
          "metadata": {},
          "execution_count": 62
        }
      ]
    },
    {
      "cell_type": "code",
      "source": [
        "contingency_matrix2h = metrics.cluster.contingency_matrix(df2['Class'], df2['predictedclass2b'])\n",
        "contingency_matrix2h"
      ],
      "metadata": {
        "id": "giUnHqdabgOi",
        "colab": {
          "base_uri": "https://localhost:8080/"
        },
        "outputId": "365ad1d1-6f0e-48b5-9dbe-ca75a3e5f977"
      },
      "execution_count": null,
      "outputs": [
        {
          "output_type": "execute_result",
          "data": {
            "text/plain": [
              "array([[  0, 131,   0,  69],\n",
              "       [100,   0,   0,   0],\n",
              "       [  0,   0, 100,   0],\n",
              "       [  4,   0,   0,   0]])"
            ]
          },
          "metadata": {},
          "execution_count": 63
        }
      ]
    },
    {
      "cell_type": "code",
      "source": [
        "purity2h = np.sum(np.amax(contingency_matrix2h, axis=0)) / np.sum(contingency_matrix2h) \n",
        "purity2h\n"
      ],
      "metadata": {
        "colab": {
          "base_uri": "https://localhost:8080/"
        },
        "id": "9tBObY0Q4mp7",
        "outputId": "debb75f3-59a8-455f-dfae-09cd8ee98604"
      },
      "execution_count": null,
      "outputs": [
        {
          "output_type": "execute_result",
          "data": {
            "text/plain": [
              "0.9900990099009901"
            ]
          },
          "metadata": {},
          "execution_count": 64
        }
      ]
    },
    {
      "cell_type": "code",
      "source": [
        "print('df2 fowlkes mallows score for K-means method: ' + str(fowlkes_mallows_score(df2.iloc[:,4], df2['predictedclass2a'])))\n",
        "print('df2 fowlkes mallows score for hierarchical method: ' + str(fowlkes_mallows_score(df2.iloc[:,4], df2['predictedclass2b'])))"
      ],
      "metadata": {
        "colab": {
          "base_uri": "https://localhost:8080/"
        },
        "id": "CgaTYvq_9SyH",
        "outputId": "9d60a037-1de4-4f3d-b733-78473c27ca47"
      },
      "execution_count": null,
      "outputs": [
        {
          "output_type": "stream",
          "name": "stdout",
          "text": [
            "df2 fowlkes mallows score for K-means method: 0.7237292929817782\n",
            "df2 fowlkes mallows score for hierarchical method: 0.8267843729687627\n"
          ]
        }
      ]
    },
    {
      "cell_type": "markdown",
      "source": [
        "The purity for both methods are greater than 0.9, which means each cluster contains almost only examples from the same class. The fowlkes mallows score for hierarchical method is greater than that of the k-means method, which means there is a high similarity between the clusters and the benchmark classifications in hierarchical method."
      ],
      "metadata": {
        "id": "mmmEcJ-f-MXu"
      }
    },
    {
      "cell_type": "markdown",
      "source": [
        "3.Plot (2D or 3D) the data points for each dataset and color them according to the\n",
        "original class"
      ],
      "metadata": {
        "id": "U7jWGRPmqfgl"
      }
    },
    {
      "cell_type": "code",
      "source": [
        "fig = px.scatter_3d(df2, x='X', y = 'Y', z='C', color = 'Class')\n",
        "fig.show()"
      ],
      "metadata": {
        "id": "pvImLIPQqc_Q"
      },
      "execution_count": null,
      "outputs": []
    },
    {
      "cell_type": "markdown",
      "source": [
        "4. Plot (2D or 3D) the data points for each dataset and color them according to the class allocated by the clustering algorithm"
      ],
      "metadata": {
        "id": "YxLS4X_uq8Ef"
      }
    },
    {
      "cell_type": "code",
      "source": [
        "# According to the k-mean clustering algorithm\n",
        "fig = px.scatter_3d(df2, x='X', y = 'Y', z='C', color = 'predictedclass2a')\n",
        "fig.show()"
      ],
      "metadata": {
        "id": "fOS9EQWurBOr"
      },
      "execution_count": null,
      "outputs": []
    },
    {
      "cell_type": "code",
      "source": [
        "# According to the hierarchical clustering algorithm\n",
        "fig = px.scatter_3d(df2, x='X', y = 'Y', z='C', color = 'predictedclass2b')\n",
        "fig.show()"
      ],
      "metadata": {
        "id": "tWGmvGJPr0uF"
      },
      "execution_count": null,
      "outputs": []
    },
    {
      "cell_type": "markdown",
      "source": [
        "**Data 3**"
      ],
      "metadata": {
        "id": "nJUC59BLsGWC"
      }
    },
    {
      "cell_type": "code",
      "source": [
        "df3"
      ],
      "metadata": {
        "id": "PnW0U7bmvv2J"
      },
      "execution_count": null,
      "outputs": []
    },
    {
      "cell_type": "markdown",
      "source": [
        "1. (a)Use K-means clustering methods to generate clusters"
      ],
      "metadata": {
        "id": "sk4qcUfVsI_F"
      }
    },
    {
      "cell_type": "code",
      "source": [
        "k3 = []\n",
        "wcss3 = []\n",
        "for i3 in range(1,10):\n",
        "  mdl3 = KMeans(n_clusters=i3)\n",
        "  mdl3.fit(df3.iloc[:,1:4])\n",
        "  k3.append(i3)\n",
        "  wcss3.append(mdl3.inertia_)"
      ],
      "metadata": {
        "id": "Lh6ng-9PsOL-"
      },
      "execution_count": null,
      "outputs": []
    },
    {
      "cell_type": "code",
      "source": [
        "sns.lineplot(k3,wcss3)"
      ],
      "metadata": {
        "colab": {
          "base_uri": "https://localhost:8080/",
          "height": 337
        },
        "id": "LgAuB_25v7Jh",
        "outputId": "b899fc5f-3981-42c1-82e9-62764609a541"
      },
      "execution_count": null,
      "outputs": [
        {
          "output_type": "stream",
          "name": "stderr",
          "text": [
            "/usr/local/lib/python3.7/dist-packages/seaborn/_decorators.py:43: FutureWarning: Pass the following variables as keyword args: x, y. From version 0.12, the only valid positional argument will be `data`, and passing other arguments without an explicit keyword will result in an error or misinterpretation.\n",
            "  FutureWarning\n"
          ]
        },
        {
          "output_type": "execute_result",
          "data": {
            "text/plain": [
              "<matplotlib.axes._subplots.AxesSubplot at 0x7fc1b4712190>"
            ]
          },
          "metadata": {},
          "execution_count": 69
        },
        {
          "output_type": "display_data",
          "data": {
            "text/plain": [
              "<Figure size 432x288 with 1 Axes>"
            ],
            "image/png": "[encoded data removed]"
          },
          "metadata": {
            "needs_background": "light"
          }
        }
      ]
    },
    {
      "cell_type": "markdown",
      "source": [
        "Therefore, we use 4 as n-cluster value"
      ],
      "metadata": {
        "id": "bboxiGcQv8e1"
      }
    },
    {
      "cell_type": "code",
      "source": [
        "mdl3_a = KMeans(n_clusters=4)\n",
        "mdl3_a.fit(df3.iloc[:,1:4])\n",
        "print('SSE Data 3: '+str(mdl3_a.inertia_))"
      ],
      "metadata": {
        "colab": {
          "base_uri": "https://localhost:8080/"
        },
        "id": "ucnBx2ccv_bd",
        "outputId": "77aa24da-2649-42b0-cecb-ab642ffc0512"
      },
      "execution_count": null,
      "outputs": [
        {
          "output_type": "stream",
          "name": "stdout",
          "text": [
            "SSE Data 3: 229.0487999751335\n"
          ]
        }
      ]
    },
    {
      "cell_type": "code",
      "source": [
        "df3['predictedclass3a'] = mdl3_a.labels_ +1"
      ],
      "metadata": {
        "id": "ci9tXmSQwJ_a"
      },
      "execution_count": null,
      "outputs": []
    },
    {
      "cell_type": "code",
      "source": [
        "mdl3_a.cluster_centers_"
      ],
      "metadata": {
        "colab": {
          "base_uri": "https://localhost:8080/"
        },
        "id": "cdjtlU3Dzw2E",
        "outputId": "4ef62277-5b2b-4569-a24b-528165e379de"
      },
      "execution_count": null,
      "outputs": [
        {
          "output_type": "execute_result",
          "data": {
            "text/plain": [
              "array([[-0.51838252,  1.0347351 , -0.42573357],\n",
              "       [-0.51838252, -1.16526495, -0.42573357],\n",
              "       [ 0.11670268, -0.06526492,  1.37055896],\n",
              "       [ 1.3868734 , -0.06526492, -0.42573357]])"
            ]
          },
          "metadata": {},
          "execution_count": 72
        }
      ]
    },
    {
      "cell_type": "markdown",
      "source": [
        "(b) Use hierarchical clustering methods to generate clusters"
      ],
      "metadata": {
        "id": "G90IEriz1EC6"
      }
    },
    {
      "cell_type": "code",
      "source": [
        "# Plot the dendrogram and get the n_cluster value\n",
        "z3 = linkage(df3.iloc[:,1:4],method='single')\n",
        "dendrogram(z3)\n",
        "plt.title('dendrogram of Data 3')\n",
        "plt.show()"
      ],
      "metadata": {
        "colab": {
          "base_uri": "https://localhost:8080/",
          "height": 281
        },
        "id": "LCI9PK133J6w",
        "outputId": "c085b6d8-56e5-4b9f-b3e2-6e828a91cb31"
      },
      "execution_count": null,
      "outputs": [
        {
          "output_type": "display_data",
          "data": {
            "text/plain": [
              "<Figure size 432x288 with 1 Axes>"
            ],
            "image/png": "[encoded data removed]"
          },
          "metadata": {
            "needs_background": "light"
          }
        }
      ]
    },
    {
      "cell_type": "code",
      "source": [
        "z3 = linkage(df3.iloc[:,1:4],method='ward')\n",
        "dendrogram(z3)\n",
        "plt.title('dendrogram of Data 3')\n",
        "plt.show()"
      ],
      "metadata": {
        "colab": {
          "base_uri": "https://localhost:8080/",
          "height": 281
        },
        "id": "zk-Swlun-pwE",
        "outputId": "63a19426-e302-4b1b-869f-ffea8a24a521"
      },
      "execution_count": null,
      "outputs": [
        {
          "output_type": "display_data",
          "data": {
            "text/plain": [
              "<Figure size 432x288 with 1 Axes>"
            ],
            "image/png": "[encoded data removed]"
          },
          "metadata": {
            "needs_background": "light"
          }
        }
      ]
    },
    {
      "cell_type": "markdown",
      "source": [
        "Therefore, we use 4 as n-cluster value"
      ],
      "metadata": {
        "id": "8dJjmLFB2zhD"
      }
    },
    {
      "cell_type": "code",
      "source": [
        "mdl3_b = AgglomerativeClustering(n_clusters=4)\n",
        "mdl3_b.fit(df3.iloc[:,1:4])\n",
        "mdl3_b.labels_"
      ],
      "metadata": {
        "id": "upWsXeQL213P"
      },
      "execution_count": null,
      "outputs": []
    },
    {
      "cell_type": "code",
      "source": [
        "df3['predictedclass3b'] = mdl3_b.labels_ + 1"
      ],
      "metadata": {
        "id": "byw_kTgd3AwT"
      },
      "execution_count": null,
      "outputs": []
    },
    {
      "cell_type": "markdown",
      "source": [
        "2. Evaluate the performance of the clustering algorithm using external validation\n",
        "metrics"
      ],
      "metadata": {
        "id": "eR-xbtma3V8v"
      }
    },
    {
      "cell_type": "code",
      "source": [
        "df3"
      ],
      "metadata": {
        "colab": {
          "base_uri": "https://localhost:8080/",
          "height": 423
        },
        "id": "ur4YQxS87nVk",
        "outputId": "830d7c18-3ff9-4fbf-c53c-b5ce79ba91fd"
      },
      "execution_count": null,
      "outputs": [
        {
          "output_type": "execute_result",
          "data": {
            "text/plain": [
              "     Unnamed: 0        X1        X2        X3  Class  predictedclass3a  \\\n",
              "0             1  1.295428  0.050829 -0.385217      1                 4   \n",
              "1             2  1.409178 -0.035191 -0.251980      1                 4   \n",
              "2             3  1.096803  0.246365 -0.415011      1                 4   \n",
              "3             4  1.463328  0.265354 -0.513488      1                 4   \n",
              "4             5  1.603284  0.080577 -0.470257      1                 4   \n",
              "..          ...       ...       ...       ...    ...               ...   \n",
              "395         396  0.795695  0.209456  1.880609      4                 3   \n",
              "396         397  0.653127 -0.703156  1.549448      4                 3   \n",
              "397         398 -0.726249 -0.103244  0.694300      4                 3   \n",
              "398         399  0.808596 -0.492640  1.649370      4                 3   \n",
              "399         400  0.749291 -0.447840  0.863555      4                 3   \n",
              "\n",
              "     predictedclass3b  \n",
              "0                   2  \n",
              "1                   2  \n",
              "2                   2  \n",
              "3                   2  \n",
              "4                   2  \n",
              "..                ...  \n",
              "395                 3  \n",
              "396                 3  \n",
              "397                 3  \n",
              "398                 3  \n",
              "399                 3  \n",
              "\n",
              "[400 rows x 7 columns]"
            ],
            "text/html": [
              "\n",
              "  <div id=\"df-ad9adddb-b96f-4918-bcd2-b80f190addce\">\n",
              "    <div class=\"colab-df-container\">\n",
              "      <div>\n",
              "<style scoped>\n",
              "    .dataframe tbody tr th:only-of-type {\n",
              "        vertical-align: middle;\n",
              "    }\n",
              "\n",
              "    .dataframe tbody tr th {\n",
              "        vertical-align: top;\n",
              "    }\n",
              "\n",
              "    .dataframe thead th {\n",
              "        text-align: right;\n",
              "    }\n",
              "</style>\n",
              "<table border=\"1\" class=\"dataframe\">\n",
              "  <thead>\n",
              "    <tr style=\"text-align: right;\">\n",
              "      <th></th>\n",
              "      <th>Unnamed: 0</th>\n",
              "      <th>X1</th>\n",
              "      <th>X2</th>\n",
              "      <th>X3</th>\n",
              "      <th>Class</th>\n",
              "      <th>predictedclass3a</th>\n",
              "      <th>predictedclass3b</th>\n",
              "    </tr>\n",
              "  </thead>\n",
              "  <tbody>\n",
              "    <tr>\n",
              "      <th>0</th>\n",
              "      <td>1</td>\n",
              "      <td>1.295428</td>\n",
              "      <td>0.050829</td>\n",
              "      <td>-0.385217</td>\n",
              "      <td>1</td>\n",
              "      <td>4</td>\n",
              "      <td>2</td>\n",
              "    </tr>\n",
              "    <tr>\n",
              "      <th>1</th>\n",
              "      <td>2</td>\n",
              "      <td>1.409178</td>\n",
              "      <td>-0.035191</td>\n",
              "      <td>-0.251980</td>\n",
              "      <td>1</td>\n",
              "      <td>4</td>\n",
              "      <td>2</td>\n",
              "    </tr>\n",
              "    <tr>\n",
              "      <th>2</th>\n",
              "      <td>3</td>\n",
              "      <td>1.096803</td>\n",
              "      <td>0.246365</td>\n",
              "      <td>-0.415011</td>\n",
              "      <td>1</td>\n",
              "      <td>4</td>\n",
              "      <td>2</td>\n",
              "    </tr>\n",
              "    <tr>\n",
              "      <th>3</th>\n",
              "      <td>4</td>\n",
              "      <td>1.463328</td>\n",
              "      <td>0.265354</td>\n",
              "      <td>-0.513488</td>\n",
              "      <td>1</td>\n",
              "      <td>4</td>\n",
              "      <td>2</td>\n",
              "    </tr>\n",
              "    <tr>\n",
              "      <th>4</th>\n",
              "      <td>5</td>\n",
              "      <td>1.603284</td>\n",
              "      <td>0.080577</td>\n",
              "      <td>-0.470257</td>\n",
              "      <td>1</td>\n",
              "      <td>4</td>\n",
              "      <td>2</td>\n",
              "    </tr>\n",
              "    <tr>\n",
              "      <th>...</th>\n",
              "      <td>...</td>\n",
              "      <td>...</td>\n",
              "      <td>...</td>\n",
              "      <td>...</td>\n",
              "      <td>...</td>\n",
              "      <td>...</td>\n",
              "      <td>...</td>\n",
              "    </tr>\n",
              "    <tr>\n",
              "      <th>395</th>\n",
              "      <td>396</td>\n",
              "      <td>0.795695</td>\n",
              "      <td>0.209456</td>\n",
              "      <td>1.880609</td>\n",
              "      <td>4</td>\n",
              "      <td>3</td>\n",
              "      <td>3</td>\n",
              "    </tr>\n",
              "    <tr>\n",
              "      <th>396</th>\n",
              "      <td>397</td>\n",
              "      <td>0.653127</td>\n",
              "      <td>-0.703156</td>\n",
              "      <td>1.549448</td>\n",
              "      <td>4</td>\n",
              "      <td>3</td>\n",
              "      <td>3</td>\n",
              "    </tr>\n",
              "    <tr>\n",
              "      <th>397</th>\n",
              "      <td>398</td>\n",
              "      <td>-0.726249</td>\n",
              "      <td>-0.103244</td>\n",
              "      <td>0.694300</td>\n",
              "      <td>4</td>\n",
              "      <td>3</td>\n",
              "      <td>3</td>\n",
              "    </tr>\n",
              "    <tr>\n",
              "      <th>398</th>\n",
              "      <td>399</td>\n",
              "      <td>0.808596</td>\n",
              "      <td>-0.492640</td>\n",
              "      <td>1.649370</td>\n",
              "      <td>4</td>\n",
              "      <td>3</td>\n",
              "      <td>3</td>\n",
              "    </tr>\n",
              "    <tr>\n",
              "      <th>399</th>\n",
              "      <td>400</td>\n",
              "      <td>0.749291</td>\n",
              "      <td>-0.447840</td>\n",
              "      <td>0.863555</td>\n",
              "      <td>4</td>\n",
              "      <td>3</td>\n",
              "      <td>3</td>\n",
              "    </tr>\n",
              "  </tbody>\n",
              "</table>\n",
              "<p>400 rows × 7 columns</p>\n",
              "</div>\n",
              "      <button class=\"colab-df-convert\" onclick=\"convertToInteractive('df-ad9adddb-b96f-4918-bcd2-b80f190addce')\"\n",
              "              title=\"Convert this dataframe to an interactive table.\"\n",
              "              style=\"display:none;\">\n",
              "        \n",
              "  <svg xmlns=\"http://www.w3.org/2000/svg\" height=\"24px\"viewBox=\"0 0 24 24\"\n",
              "       width=\"24px\">\n",
              "    <path d=\"M0 0h24v24H0V0z\" fill=\"none\"/>\n",
              "    <path d=\"M18.56 5.44l.94 2.06.94-2.06 2.06-.94-2.06-.94-.94-2.06-.94 2.06-2.06.94zm-11 1L8.5 8.5l.94-2.06 2.06-.94-2.06-.94L8.5 2.5l-.94 2.06-2.06.94zm10 10l.94 2.06.94-2.06 2.06-.94-2.06-.94-.94-2.06-.94 2.06-2.06.94z\"/><path d=\"M17.41 7.96l-1.37-1.37c-.4-.4-.92-.59-1.43-.59-.52 0-1.04.2-1.43.59L10.3 9.45l-7.72 7.72c-.78.78-.78 2.05 0 2.83L4 21.41c.39.39.9.59 1.41.59.51 0 1.02-.2 1.41-.59l7.78-7.78 2.81-2.81c.8-.78.8-2.07 0-2.86zM5.41 20L4 18.59l7.72-7.72 1.47 1.35L5.41 20z\"/>\n",
              "  </svg>\n",
              "      </button>\n",
              "      \n",
              "  <style>\n",
              "    .colab-df-container {\n",
              "      display:flex;\n",
              "      flex-wrap:wrap;\n",
              "      gap: 12px;\n",
              "    }\n",
              "\n",
              "    .colab-df-convert {\n",
              "      background-color: #E8F0FE;\n",
              "      border: none;\n",
              "      border-radius: 50%;\n",
              "      cursor: pointer;\n",
              "      display: none;\n",
              "      fill: #1967D2;\n",
              "      height: 32px;\n",
              "      padding: 0 0 0 0;\n",
              "      width: 32px;\n",
              "    }\n",
              "\n",
              "    .colab-df-convert:hover {\n",
              "      background-color: #E2EBFA;\n",
              "      box-shadow: 0px 1px 2px rgba(60, 64, 67, 0.3), 0px 1px 3px 1px rgba(60, 64, 67, 0.15);\n",
              "      fill: #174EA6;\n",
              "    }\n",
              "\n",
              "    [theme=dark] .colab-df-convert {\n",
              "      background-color: #3B4455;\n",
              "      fill: #D2E3FC;\n",
              "    }\n",
              "\n",
              "    [theme=dark] .colab-df-convert:hover {\n",
              "      background-color: #434B5C;\n",
              "      box-shadow: 0px 1px 3px 1px rgba(0, 0, 0, 0.15);\n",
              "      filter: drop-shadow(0px 1px 2px rgba(0, 0, 0, 0.3));\n",
              "      fill: #FFFFFF;\n",
              "    }\n",
              "  </style>\n",
              "\n",
              "      <script>\n",
              "        const buttonEl =\n",
              "          document.querySelector('#df-ad9adddb-b96f-4918-bcd2-b80f190addce button.colab-df-convert');\n",
              "        buttonEl.style.display =\n",
              "          google.colab.kernel.accessAllowed ? 'block' : 'none';\n",
              "\n",
              "        async function convertToInteractive(key) {\n",
              "          const element = document.querySelector('#df-ad9adddb-b96f-4918-bcd2-b80f190addce');\n",
              "          const dataTable =\n",
              "            await google.colab.kernel.invokeFunction('convertToInteractive',\n",
              "                                                     [key], {});\n",
              "          if (!dataTable) return;\n",
              "\n",
              "          const docLinkHtml = 'Like what you see? Visit the ' +\n",
              "            '<a target=\"_blank\" href=https://colab.research.google.com/notebooks/data_table.ipynb>data table notebook</a>'\n",
              "            + ' to learn more about interactive tables.';\n",
              "          element.innerHTML = '';\n",
              "          dataTable['output_type'] = 'display_data';\n",
              "          await google.colab.output.renderOutput(dataTable, element);\n",
              "          const docLink = document.createElement('div');\n",
              "          docLink.innerHTML = docLinkHtml;\n",
              "          element.appendChild(docLink);\n",
              "        }\n",
              "      </script>\n",
              "    </div>\n",
              "  </div>\n",
              "  "
            ]
          },
          "metadata": {},
          "execution_count": 84
        }
      ]
    },
    {
      "cell_type": "code",
      "source": [
        "contingency_matrix3k = metrics.cluster.contingency_matrix(df3['Class'], df3['predictedclass3a'])\n",
        "contingency_matrix3k"
      ],
      "metadata": {
        "id": "rsOyJDjQ3YUB",
        "colab": {
          "base_uri": "https://localhost:8080/"
        },
        "outputId": "c8e97158-9295-438a-860b-0ab100b21fa1"
      },
      "execution_count": null,
      "outputs": [
        {
          "output_type": "execute_result",
          "data": {
            "text/plain": [
              "array([[  0,   0,   0, 100],\n",
              "       [100,   0,   0,   0],\n",
              "       [  0, 100,   0,   0],\n",
              "       [  0,   0, 100,   0]])"
            ]
          },
          "metadata": {},
          "execution_count": 79
        }
      ]
    },
    {
      "cell_type": "code",
      "source": [
        "purity3k = np.sum(np.amax(contingency_matrix3k, axis=0)) / np.sum(contingency_matrix3k) \n",
        "purity3k"
      ],
      "metadata": {
        "colab": {
          "base_uri": "https://localhost:8080/"
        },
        "id": "4w2wBohM74vf",
        "outputId": "1e845bd7-8157-4bd0-cbcf-82d6fdda9f75"
      },
      "execution_count": null,
      "outputs": [
        {
          "output_type": "execute_result",
          "data": {
            "text/plain": [
              "1.0"
            ]
          },
          "metadata": {},
          "execution_count": 136
        }
      ]
    },
    {
      "cell_type": "code",
      "source": [
        "contingency_matrix3h = metrics.cluster.contingency_matrix(df3['Class'], df3['predictedclass3b'])\n",
        "contingency_matrix3h"
      ],
      "metadata": {
        "id": "s9DcEkIc7qJY"
      },
      "execution_count": null,
      "outputs": []
    },
    {
      "cell_type": "code",
      "source": [
        "purity3h = np.sum(np.amax(contingency_matrix3h, axis=0)) / np.sum(contingency_matrix3h) \n",
        "purity3h"
      ],
      "metadata": {
        "colab": {
          "base_uri": "https://localhost:8080/"
        },
        "id": "OJui7esI78iy",
        "outputId": "b5e9f578-ae7e-4f00-f3d9-dd7554d6a0fb"
      },
      "execution_count": null,
      "outputs": [
        {
          "output_type": "execute_result",
          "data": {
            "text/plain": [
              "0.9875"
            ]
          },
          "metadata": {},
          "execution_count": 138
        }
      ]
    },
    {
      "cell_type": "code",
      "source": [
        "print('df3 fowlkes mallows score for K-means method: ' + str(fowlkes_mallows_score(df3.iloc[:,4], df3['predictedclass3a'])))\n",
        "print('df3 fowlkes mallows score for hierarchical method: ' + str(fowlkes_mallows_score(df3.iloc[:,4], df3['predictedclass3b'])))"
      ],
      "metadata": {
        "colab": {
          "base_uri": "https://localhost:8080/"
        },
        "id": "qVO_MjoE-4or",
        "outputId": "db6c54ed-5e3d-40d8-a454-a44306fc702a"
      },
      "execution_count": null,
      "outputs": [
        {
          "output_type": "stream",
          "name": "stdout",
          "text": [
            "df3 fowlkes mallows score for K-means method: 1.0\n",
            "df3 fowlkes mallows score for hierarchical method: 0.9753945158961902\n"
          ]
        }
      ]
    },
    {
      "cell_type": "markdown",
      "source": [
        "The purity for k-means method is 1.0, which means each cluster contains only examples from the same class. The purity for hierarchical method is 0.9875, which means each cluster almost contains only examples from the same class.The fowlkes mallows score are both greater than 0.97, which means the high similarity between the clusters and the benchmark classifications in both methods."
      ],
      "metadata": {
        "id": "C4BD6uhA_hw3"
      }
    },
    {
      "cell_type": "markdown",
      "source": [
        "3. Plot (2D or 3D) the data points for each dataset and color them according to the\n",
        "original class"
      ],
      "metadata": {
        "id": "XEEVSx436EK8"
      }
    },
    {
      "cell_type": "code",
      "source": [
        "fig = px.scatter_3d(df3, x='X1', y = 'X2', z='X3', color = 'Class')\n",
        "fig.show()"
      ],
      "metadata": {
        "id": "lE20KTPQ6GZ0"
      },
      "execution_count": null,
      "outputs": []
    },
    {
      "cell_type": "markdown",
      "source": [
        "4. Plot (2D or 3D) the data points for each dataset and color them according to the class allocated by the clustering algorithm"
      ],
      "metadata": {
        "id": "puNnpD056PZN"
      }
    },
    {
      "cell_type": "code",
      "source": [
        "# According to the K-mean clustering algorithm\n",
        "fig = px.scatter_3d(df3, x='X1', y = 'X2', z='X3', color = 'predictedclass3a')\n",
        "fig.show()"
      ],
      "metadata": {
        "id": "_yXZ1g3A6OoH"
      },
      "execution_count": null,
      "outputs": []
    },
    {
      "cell_type": "code",
      "source": [
        "# According to the hierarchical clustering method\n",
        "fig = px.scatter_3d(df3, x='X1', y = 'X2', z='X3', color = 'predictedclass3b')\n",
        "fig.show()"
      ],
      "metadata": {
        "id": "I_-eyNC86rnQ"
      },
      "execution_count": null,
      "outputs": []
    },
    {
      "cell_type": "markdown",
      "source": [
        "**Data 4**"
      ],
      "metadata": {
        "id": "nx34bnEy7GM4"
      }
    },
    {
      "cell_type": "code",
      "source": [
        "df4"
      ],
      "metadata": {
        "id": "JsRja-7i7J7z",
        "colab": {
          "base_uri": "https://localhost:8080/",
          "height": 419
        },
        "outputId": "a14469b8-1539-44fc-d79b-8fa019db3189"
      },
      "execution_count": null,
      "outputs": [
        {
          "output_type": "execute_result",
          "data": {
            "text/plain": [
              "     Unnamed: 0       X1      X2       X3  Class\n",
              "0             1 -0.45300 -0.8910  0.02300      1\n",
              "1             2  0.65300 -0.8460  0.02110      1\n",
              "2             3  0.39800  0.9130 -0.00139      1\n",
              "3             4  0.09520  1.0500  0.00628      1\n",
              "4             5  0.52400 -0.9410  0.03780      1\n",
              "..          ...      ...     ...      ...    ...\n",
              "995         996  0.01520  0.0531 -0.36100      2\n",
              "996         997  0.05160  0.6910  0.87500      2\n",
              "997         998 -0.00511  1.3900 -0.94700      2\n",
              "998         999 -0.06710  0.7140  0.88100      2\n",
              "999        1000 -0.05770  0.4280 -0.73000      2\n",
              "\n",
              "[1000 rows x 5 columns]"
            ],
            "text/html": [
              "\n",
              "  <div id=\"df-f307fbf0-3eaa-49aa-8cf7-70dfcefd347f\">\n",
              "    <div class=\"colab-df-container\">\n",
              "      <div>\n",
              "<style scoped>\n",
              "    .dataframe tbody tr th:only-of-type {\n",
              "        vertical-align: middle;\n",
              "    }\n",
              "\n",
              "    .dataframe tbody tr th {\n",
              "        vertical-align: top;\n",
              "    }\n",
              "\n",
              "    .dataframe thead th {\n",
              "        text-align: right;\n",
              "    }\n",
              "</style>\n",
              "<table border=\"1\" class=\"dataframe\">\n",
              "  <thead>\n",
              "    <tr style=\"text-align: right;\">\n",
              "      <th></th>\n",
              "      <th>Unnamed: 0</th>\n",
              "      <th>X1</th>\n",
              "      <th>X2</th>\n",
              "      <th>X3</th>\n",
              "      <th>Class</th>\n",
              "    </tr>\n",
              "  </thead>\n",
              "  <tbody>\n",
              "    <tr>\n",
              "      <th>0</th>\n",
              "      <td>1</td>\n",
              "      <td>-0.45300</td>\n",
              "      <td>-0.8910</td>\n",
              "      <td>0.02300</td>\n",
              "      <td>1</td>\n",
              "    </tr>\n",
              "    <tr>\n",
              "      <th>1</th>\n",
              "      <td>2</td>\n",
              "      <td>0.65300</td>\n",
              "      <td>-0.8460</td>\n",
              "      <td>0.02110</td>\n",
              "      <td>1</td>\n",
              "    </tr>\n",
              "    <tr>\n",
              "      <th>2</th>\n",
              "      <td>3</td>\n",
              "      <td>0.39800</td>\n",
              "      <td>0.9130</td>\n",
              "      <td>-0.00139</td>\n",
              "      <td>1</td>\n",
              "    </tr>\n",
              "    <tr>\n",
              "      <th>3</th>\n",
              "      <td>4</td>\n",
              "      <td>0.09520</td>\n",
              "      <td>1.0500</td>\n",
              "      <td>0.00628</td>\n",
              "      <td>1</td>\n",
              "    </tr>\n",
              "    <tr>\n",
              "      <th>4</th>\n",
              "      <td>5</td>\n",
              "      <td>0.52400</td>\n",
              "      <td>-0.9410</td>\n",
              "      <td>0.03780</td>\n",
              "      <td>1</td>\n",
              "    </tr>\n",
              "    <tr>\n",
              "      <th>...</th>\n",
              "      <td>...</td>\n",
              "      <td>...</td>\n",
              "      <td>...</td>\n",
              "      <td>...</td>\n",
              "      <td>...</td>\n",
              "    </tr>\n",
              "    <tr>\n",
              "      <th>995</th>\n",
              "      <td>996</td>\n",
              "      <td>0.01520</td>\n",
              "      <td>0.0531</td>\n",
              "      <td>-0.36100</td>\n",
              "      <td>2</td>\n",
              "    </tr>\n",
              "    <tr>\n",
              "      <th>996</th>\n",
              "      <td>997</td>\n",
              "      <td>0.05160</td>\n",
              "      <td>0.6910</td>\n",
              "      <td>0.87500</td>\n",
              "      <td>2</td>\n",
              "    </tr>\n",
              "    <tr>\n",
              "      <th>997</th>\n",
              "      <td>998</td>\n",
              "      <td>-0.00511</td>\n",
              "      <td>1.3900</td>\n",
              "      <td>-0.94700</td>\n",
              "      <td>2</td>\n",
              "    </tr>\n",
              "    <tr>\n",
              "      <th>998</th>\n",
              "      <td>999</td>\n",
              "      <td>-0.06710</td>\n",
              "      <td>0.7140</td>\n",
              "      <td>0.88100</td>\n",
              "      <td>2</td>\n",
              "    </tr>\n",
              "    <tr>\n",
              "      <th>999</th>\n",
              "      <td>1000</td>\n",
              "      <td>-0.05770</td>\n",
              "      <td>0.4280</td>\n",
              "      <td>-0.73000</td>\n",
              "      <td>2</td>\n",
              "    </tr>\n",
              "  </tbody>\n",
              "</table>\n",
              "<p>1000 rows × 5 columns</p>\n",
              "</div>\n",
              "      <button class=\"colab-df-convert\" onclick=\"convertToInteractive('df-f307fbf0-3eaa-49aa-8cf7-70dfcefd347f')\"\n",
              "              title=\"Convert this dataframe to an interactive table.\"\n",
              "              style=\"display:none;\">\n",
              "        \n",
              "  <svg xmlns=\"http://www.w3.org/2000/svg\" height=\"24px\"viewBox=\"0 0 24 24\"\n",
              "       width=\"24px\">\n",
              "    <path d=\"M0 0h24v24H0V0z\" fill=\"none\"/>\n",
              "    <path d=\"M18.56 5.44l.94 2.06.94-2.06 2.06-.94-2.06-.94-.94-2.06-.94 2.06-2.06.94zm-11 1L8.5 8.5l.94-2.06 2.06-.94-2.06-.94L8.5 2.5l-.94 2.06-2.06.94zm10 10l.94 2.06.94-2.06 2.06-.94-2.06-.94-.94-2.06-.94 2.06-2.06.94z\"/><path d=\"M17.41 7.96l-1.37-1.37c-.4-.4-.92-.59-1.43-.59-.52 0-1.04.2-1.43.59L10.3 9.45l-7.72 7.72c-.78.78-.78 2.05 0 2.83L4 21.41c.39.39.9.59 1.41.59.51 0 1.02-.2 1.41-.59l7.78-7.78 2.81-2.81c.8-.78.8-2.07 0-2.86zM5.41 20L4 18.59l7.72-7.72 1.47 1.35L5.41 20z\"/>\n",
              "  </svg>\n",
              "      </button>\n",
              "      \n",
              "  <style>\n",
              "    .colab-df-container {\n",
              "      display:flex;\n",
              "      flex-wrap:wrap;\n",
              "      gap: 12px;\n",
              "    }\n",
              "\n",
              "    .colab-df-convert {\n",
              "      background-color: #E8F0FE;\n",
              "      border: none;\n",
              "      border-radius: 50%;\n",
              "      cursor: pointer;\n",
              "      display: none;\n",
              "      fill: #1967D2;\n",
              "      height: 32px;\n",
              "      padding: 0 0 0 0;\n",
              "      width: 32px;\n",
              "    }\n",
              "\n",
              "    .colab-df-convert:hover {\n",
              "      background-color: #E2EBFA;\n",
              "      box-shadow: 0px 1px 2px rgba(60, 64, 67, 0.3), 0px 1px 3px 1px rgba(60, 64, 67, 0.15);\n",
              "      fill: #174EA6;\n",
              "    }\n",
              "\n",
              "    [theme=dark] .colab-df-convert {\n",
              "      background-color: #3B4455;\n",
              "      fill: #D2E3FC;\n",
              "    }\n",
              "\n",
              "    [theme=dark] .colab-df-convert:hover {\n",
              "      background-color: #434B5C;\n",
              "      box-shadow: 0px 1px 3px 1px rgba(0, 0, 0, 0.15);\n",
              "      filter: drop-shadow(0px 1px 2px rgba(0, 0, 0, 0.3));\n",
              "      fill: #FFFFFF;\n",
              "    }\n",
              "  </style>\n",
              "\n",
              "      <script>\n",
              "        const buttonEl =\n",
              "          document.querySelector('#df-f307fbf0-3eaa-49aa-8cf7-70dfcefd347f button.colab-df-convert');\n",
              "        buttonEl.style.display =\n",
              "          google.colab.kernel.accessAllowed ? 'block' : 'none';\n",
              "\n",
              "        async function convertToInteractive(key) {\n",
              "          const element = document.querySelector('#df-f307fbf0-3eaa-49aa-8cf7-70dfcefd347f');\n",
              "          const dataTable =\n",
              "            await google.colab.kernel.invokeFunction('convertToInteractive',\n",
              "                                                     [key], {});\n",
              "          if (!dataTable) return;\n",
              "\n",
              "          const docLinkHtml = 'Like what you see? Visit the ' +\n",
              "            '<a target=\"_blank\" href=https://colab.research.google.com/notebooks/data_table.ipynb>data table notebook</a>'\n",
              "            + ' to learn more about interactive tables.';\n",
              "          element.innerHTML = '';\n",
              "          dataTable['output_type'] = 'display_data';\n",
              "          await google.colab.output.renderOutput(dataTable, element);\n",
              "          const docLink = document.createElement('div');\n",
              "          docLink.innerHTML = docLinkHtml;\n",
              "          element.appendChild(docLink);\n",
              "        }\n",
              "      </script>\n",
              "    </div>\n",
              "  </div>\n",
              "  "
            ]
          },
          "metadata": {},
          "execution_count": 87
        }
      ]
    },
    {
      "cell_type": "markdown",
      "source": [
        "1. (a) Use K-means  clustering methods to generate clusters"
      ],
      "metadata": {
        "id": "BfJ2z6kl7MLu"
      }
    },
    {
      "cell_type": "code",
      "source": [
        "k4 = []\n",
        "wcss4 = []\n",
        "for i4 in range(1,11):\n",
        "  mdl4 = KMeans(n_clusters=i4)\n",
        "  mdl4.fit(df4.iloc[:,1:4])\n",
        "  k4.append(i4)\n",
        "  wcss4.append(mdl4.inertia_)"
      ],
      "metadata": {
        "id": "Te6ossgP7Qv9"
      },
      "execution_count": null,
      "outputs": []
    },
    {
      "cell_type": "code",
      "source": [
        "sns.lineplot(k4,wcss4)"
      ],
      "metadata": {
        "colab": {
          "base_uri": "https://localhost:8080/",
          "height": 452
        },
        "id": "v_ZpYBEP7Wgz",
        "outputId": "bdf558b7-229b-4672-cde1-76ee992bdabf"
      },
      "execution_count": null,
      "outputs": [
        {
          "output_type": "stream",
          "name": "stderr",
          "text": [
            "/usr/local/lib/python3.7/dist-packages/seaborn/_decorators.py:43: FutureWarning:\n",
            "\n",
            "Pass the following variables as keyword args: x, y. From version 0.12, the only valid positional argument will be `data`, and passing other arguments without an explicit keyword will result in an error or misinterpretation.\n",
            "\n"
          ]
        },
        {
          "output_type": "execute_result",
          "data": {
            "text/plain": [
              "<matplotlib.axes._subplots.AxesSubplot at 0x7fd16ac7f950>"
            ]
          },
          "metadata": {},
          "execution_count": 89
        },
        {
          "output_type": "display_data",
          "data": {
            "text/plain": [
              "<Figure size 576x396 with 1 Axes>"
            ],
            "image/png": "[encoded data removed]"
          },
          "metadata": {}
        }
      ]
    },
    {
      "cell_type": "markdown",
      "source": [
        "Therefore, we will use 2 as n-cluster value"
      ],
      "metadata": {
        "id": "3En0HnXs7cab"
      }
    },
    {
      "cell_type": "code",
      "source": [
        "mdl4_a = KMeans(n_clusters=2)\n",
        "mdl4_a.fit(df4.iloc[:,1:4])\n",
        "print('SSE Data4: '+str(mdl4_a.inertia_))"
      ],
      "metadata": {
        "colab": {
          "base_uri": "https://localhost:8080/"
        },
        "id": "-Hbc8cnd7hd1",
        "outputId": "0ca2f140-a8f3-45cb-fa88-2634024f2e0d"
      },
      "execution_count": null,
      "outputs": [
        {
          "output_type": "stream",
          "name": "stdout",
          "text": [
            "SSE Data4: 719.3443269685367\n"
          ]
        }
      ]
    },
    {
      "cell_type": "code",
      "source": [
        "mdl4_a.labels_"
      ],
      "metadata": {
        "id": "SBmc6-NL8jnw"
      },
      "execution_count": null,
      "outputs": []
    },
    {
      "cell_type": "code",
      "source": [
        "df4['predictedclass4a'] = mdl4_a.labels_ + 1"
      ],
      "metadata": {
        "id": "zwdllw7s8-mg"
      },
      "execution_count": null,
      "outputs": []
    },
    {
      "cell_type": "code",
      "source": [
        "mdl4_a.cluster_centers_"
      ],
      "metadata": {
        "colab": {
          "base_uri": "https://localhost:8080/"
        },
        "id": "ET0gB00l9G6i",
        "outputId": "dc99f8a1-01d8-4bb1-d4f4-f2753a69bcfc"
      },
      "execution_count": null,
      "outputs": [
        {
          "output_type": "execute_result",
          "data": {
            "text/plain": [
              "array([[-1.66176447e-02, -2.94129933e-01,  8.49923812e-03],\n",
              "       [ 8.84493587e-04,  1.15671543e+00, -2.43330581e-02]])"
            ]
          },
          "metadata": {},
          "execution_count": 93
        }
      ]
    },
    {
      "cell_type": "markdown",
      "source": [
        "(b) Use hierarchical clustering methods to generate clusters"
      ],
      "metadata": {
        "id": "Jlbnp3Zr9QQq"
      }
    },
    {
      "cell_type": "code",
      "source": [
        "# Plot the dendrogram and get the n_cluster value\n",
        "z4 = linkage(df4.iloc[:,1:4],method = 'single')\n",
        "dendrogram(z4)\n",
        "plt.title('dendrogram of Data 4')\n",
        "plt.show()"
      ],
      "metadata": {
        "colab": {
          "base_uri": "https://localhost:8080/",
          "height": 361
        },
        "id": "T4kFE5C695Hy",
        "outputId": "7119cead-646b-458d-f95b-39974fe63efe"
      },
      "execution_count": null,
      "outputs": [
        {
          "output_type": "display_data",
          "data": {
            "text/plain": [
              "<Figure size 576x396 with 1 Axes>"
            ],
            "image/png": "[encoded data removed]"
          },
          "metadata": {}
        }
      ]
    },
    {
      "cell_type": "code",
      "source": [
        "z4 = linkage(df4.iloc[:,1:4],method = 'ward')\n",
        "dendrogram(z4)\n",
        "plt.title('dendrogram of Data 4')\n",
        "plt.show()"
      ],
      "metadata": {
        "colab": {
          "base_uri": "https://localhost:8080/",
          "height": 361
        },
        "id": "DEZrp09q_9vl",
        "outputId": "d499c072-a2f7-48f6-e410-df8478736441"
      },
      "execution_count": null,
      "outputs": [
        {
          "output_type": "display_data",
          "data": {
            "text/plain": [
              "<Figure size 576x396 with 1 Axes>"
            ],
            "image/png": "[encoded data removed]"
          },
          "metadata": {}
        }
      ]
    },
    {
      "cell_type": "markdown",
      "source": [
        "Therefore, we will use 2 as n_cluster value"
      ],
      "metadata": {
        "id": "UzrWnphH9lyx"
      }
    },
    {
      "cell_type": "code",
      "source": [
        "mdl4_b = AgglomerativeClustering(n_clusters=2)\n",
        "mdl4_b.fit(df4.iloc[:,1:4])\n",
        "mdl4_b.labels_"
      ],
      "metadata": {
        "id": "jJ1DJqli9WNQ",
        "colab": {
          "base_uri": "https://localhost:8080/"
        },
        "outputId": "97cbb72a-781e-4d50-f756-465801421d5e"
      },
      "execution_count": 235,
      "outputs": [
        {
          "output_type": "execute_result",
          "data": {
            "text/plain": [
              "array([1, 1, 0, 0, 1, 0, 0, 1, 1, 1, 0, 1, 0, 0, 1, 0, 1, 0, 0, 1, 1, 1,\n",
              "       0, 1, 1, 0, 1, 0, 1, 1, 0, 0, 1, 1, 0, 0, 0, 1, 0, 1, 0, 0, 1, 1,\n",
              "       0, 0, 1, 1, 0, 1, 1, 1, 1, 1, 1, 1, 1, 1, 0, 1, 1, 0, 0, 0, 1, 1,\n",
              "       1, 0, 0, 1, 0, 0, 1, 1, 0, 0, 0, 0, 1, 0, 0, 0, 1, 1, 1, 1, 1, 0,\n",
              "       1, 1, 1, 0, 0, 1, 0, 0, 1, 1, 1, 1, 1, 0, 0, 1, 1, 0, 0, 1, 0, 1,\n",
              "       0, 0, 1, 1, 0, 0, 1, 1, 1, 0, 0, 0, 1, 0, 0, 1, 1, 1, 1, 0, 1, 1,\n",
              "       1, 1, 1, 1, 0, 0, 1, 1, 0, 0, 1, 1, 0, 1, 0, 0, 1, 1, 0, 1, 0, 1,\n",
              "       0, 0, 1, 0, 1, 1, 0, 1, 0, 1, 1, 1, 0, 1, 1, 0, 1, 1, 1, 0, 0, 1,\n",
              "       1, 1, 1, 1, 1, 1, 1, 1, 0, 1, 1, 0, 1, 1, 1, 1, 0, 1, 0, 1, 1, 1,\n",
              "       0, 1, 1, 1, 0, 0, 1, 0, 0, 0, 1, 1, 1, 1, 1, 1, 0, 1, 0, 1, 0, 0,\n",
              "       1, 1, 0, 0, 1, 1, 1, 1, 1, 1, 0, 1, 1, 1, 1, 1, 0, 1, 0, 1, 1, 0,\n",
              "       1, 0, 1, 1, 0, 0, 0, 1, 1, 0, 0, 0, 0, 1, 0, 1, 1, 0, 0, 1, 1, 1,\n",
              "       1, 1, 1, 0, 0, 1, 1, 0, 0, 0, 1, 0, 1, 0, 0, 1, 1, 0, 0, 0, 0, 1,\n",
              "       0, 1, 0, 1, 1, 1, 1, 0, 1, 1, 1, 0, 1, 0, 1, 1, 0, 1, 0, 1, 1, 1,\n",
              "       1, 1, 0, 1, 1, 1, 0, 0, 1, 1, 1, 0, 1, 1, 1, 0, 0, 0, 0, 0, 1, 1,\n",
              "       0, 0, 1, 0, 0, 1, 1, 0, 0, 1, 0, 1, 1, 1, 1, 0, 0, 0, 0, 1, 0, 0,\n",
              "       1, 1, 0, 1, 1, 0, 0, 0, 1, 1, 0, 0, 0, 1, 1, 1, 1, 1, 1, 1, 1, 1,\n",
              "       1, 1, 1, 1, 0, 1, 0, 1, 0, 0, 0, 0, 1, 1, 1, 1, 0, 1, 1, 1, 1, 1,\n",
              "       0, 1, 0, 1, 1, 0, 0, 0, 1, 1, 0, 1, 0, 0, 1, 0, 0, 1, 0, 1, 1, 1,\n",
              "       1, 1, 0, 0, 1, 1, 0, 1, 0, 1, 1, 0, 0, 1, 1, 0, 0, 1, 1, 1, 1, 1,\n",
              "       1, 1, 1, 0, 1, 0, 1, 0, 1, 1, 1, 1, 0, 1, 1, 1, 1, 1, 0, 1, 1, 1,\n",
              "       0, 1, 1, 1, 1, 0, 1, 0, 1, 1, 1, 1, 0, 1, 1, 0, 0, 1, 1, 0, 0, 0,\n",
              "       1, 1, 0, 1, 1, 0, 1, 0, 1, 1, 0, 1, 1, 0, 1, 1, 0, 0, 0, 0, 0, 0,\n",
              "       0, 0, 0, 0, 0, 0, 0, 0, 0, 0, 0, 0, 0, 0, 0, 0, 0, 0, 0, 0, 0, 0,\n",
              "       0, 0, 0, 0, 0, 0, 0, 0, 0, 0, 0, 0, 0, 0, 0, 0, 0, 0, 0, 0, 0, 0,\n",
              "       0, 0, 0, 0, 0, 0, 0, 0, 0, 0, 0, 0, 0, 0, 0, 0, 0, 0, 0, 0, 0, 0,\n",
              "       0, 0, 0, 0, 0, 0, 0, 0, 0, 0, 0, 0, 0, 0, 0, 0, 0, 0, 0, 0, 0, 0,\n",
              "       0, 0, 0, 0, 0, 0, 0, 0, 0, 0, 0, 0, 0, 0, 0, 0, 0, 0, 0, 0, 0, 0,\n",
              "       0, 0, 0, 0, 0, 0, 0, 0, 0, 0, 0, 0, 0, 0, 0, 0, 0, 0, 0, 0, 0, 0,\n",
              "       0, 0, 0, 0, 0, 0, 0, 0, 0, 0, 0, 0, 0, 0, 0, 0, 0, 0, 0, 0, 0, 0,\n",
              "       0, 0, 0, 0, 0, 0, 0, 0, 0, 0, 0, 0, 0, 0, 0, 0, 0, 0, 0, 0, 0, 0,\n",
              "       0, 0, 0, 0, 0, 0, 0, 0, 0, 0, 0, 0, 0, 0, 0, 0, 0, 0, 0, 0, 0, 0,\n",
              "       0, 0, 0, 0, 0, 0, 0, 0, 0, 0, 0, 0, 0, 0, 0, 0, 0, 0, 0, 0, 0, 0,\n",
              "       0, 0, 0, 0, 0, 0, 0, 0, 0, 0, 0, 0, 0, 0, 0, 0, 0, 0, 0, 0, 0, 0,\n",
              "       0, 0, 0, 0, 0, 0, 0, 0, 0, 0, 0, 0, 0, 0, 0, 0, 0, 0, 0, 0, 0, 0,\n",
              "       0, 0, 0, 0, 0, 0, 0, 0, 0, 0, 0, 0, 0, 0, 0, 0, 0, 0, 0, 0, 0, 0,\n",
              "       0, 0, 0, 0, 0, 0, 0, 0, 0, 0, 0, 0, 0, 0, 0, 0, 0, 0, 0, 0, 0, 0,\n",
              "       0, 0, 0, 0, 0, 0, 0, 0, 0, 0, 0, 0, 0, 0, 0, 0, 0, 0, 0, 0, 0, 0,\n",
              "       0, 0, 0, 0, 0, 0, 0, 0, 0, 0, 0, 0, 0, 0, 0, 0, 0, 0, 0, 0, 0, 0,\n",
              "       0, 0, 0, 0, 0, 0, 0, 0, 0, 0, 0, 0, 0, 0, 0, 0, 0, 0, 0, 0, 0, 0,\n",
              "       0, 0, 0, 0, 0, 0, 0, 0, 0, 0, 0, 0, 0, 0, 0, 0, 0, 0, 0, 0, 0, 0,\n",
              "       0, 0, 0, 0, 0, 0, 0, 0, 0, 0, 0, 0, 0, 0, 0, 0, 0, 0, 0, 0, 0, 0,\n",
              "       0, 0, 0, 0, 0, 0, 0, 0, 0, 0, 0, 0, 0, 0, 0, 0, 0, 0, 0, 0, 0, 0,\n",
              "       0, 0, 0, 0, 0, 0, 0, 0, 0, 0, 0, 0, 0, 0, 0, 0, 0, 0, 0, 0, 0, 0,\n",
              "       0, 0, 0, 0, 0, 0, 0, 0, 0, 0, 0, 0, 0, 0, 0, 0, 0, 0, 0, 0, 0, 0,\n",
              "       0, 0, 0, 0, 0, 0, 0, 0, 0, 0])"
            ]
          },
          "metadata": {},
          "execution_count": 235
        }
      ]
    },
    {
      "cell_type": "code",
      "source": [
        "df4['predictedclass4b'] = mdl4_b.labels_ + 1"
      ],
      "metadata": {
        "id": "eC8X3Su89urb"
      },
      "execution_count": null,
      "outputs": []
    },
    {
      "cell_type": "markdown",
      "source": [
        "2. Evaluate the performance of the clustering algorithm using external validation metrics"
      ],
      "metadata": {
        "id": "bPl-yJVB_8fK"
      }
    },
    {
      "cell_type": "code",
      "source": [
        "df4"
      ],
      "metadata": {
        "colab": {
          "base_uri": "https://localhost:8080/",
          "height": 423
        },
        "id": "XA-JjsXE8xUJ",
        "outputId": "535dbd20-0983-49e4-c7ca-63022e6a9f9b"
      },
      "execution_count": null,
      "outputs": [
        {
          "output_type": "execute_result",
          "data": {
            "text/plain": [
              "     Unnamed: 0       X1      X2       X3  Class  predictedclass4a  \\\n",
              "0             1 -0.45300 -0.8910  0.02300      1                 2   \n",
              "1             2  0.65300 -0.8460  0.02110      1                 2   \n",
              "2             3  0.39800  0.9130 -0.00139      1                 1   \n",
              "3             4  0.09520  1.0500  0.00628      1                 1   \n",
              "4             5  0.52400 -0.9410  0.03780      1                 2   \n",
              "..          ...      ...     ...      ...    ...               ...   \n",
              "995         996  0.01520  0.0531 -0.36100      2                 2   \n",
              "996         997  0.05160  0.6910  0.87500      2                 1   \n",
              "997         998 -0.00511  1.3900 -0.94700      2                 1   \n",
              "998         999 -0.06710  0.7140  0.88100      2                 1   \n",
              "999        1000 -0.05770  0.4280 -0.73000      2                 1   \n",
              "\n",
              "     predictedclass4b  \n",
              "0                   2  \n",
              "1                   2  \n",
              "2                   1  \n",
              "3                   1  \n",
              "4                   2  \n",
              "..                ...  \n",
              "995                 1  \n",
              "996                 1  \n",
              "997                 1  \n",
              "998                 1  \n",
              "999                 1  \n",
              "\n",
              "[1000 rows x 7 columns]"
            ],
            "text/html": [
              "\n",
              "  <div id=\"df-716d730f-f7ba-4ae6-bda6-4fd0cadebc28\">\n",
              "    <div class=\"colab-df-container\">\n",
              "      <div>\n",
              "<style scoped>\n",
              "    .dataframe tbody tr th:only-of-type {\n",
              "        vertical-align: middle;\n",
              "    }\n",
              "\n",
              "    .dataframe tbody tr th {\n",
              "        vertical-align: top;\n",
              "    }\n",
              "\n",
              "    .dataframe thead th {\n",
              "        text-align: right;\n",
              "    }\n",
              "</style>\n",
              "<table border=\"1\" class=\"dataframe\">\n",
              "  <thead>\n",
              "    <tr style=\"text-align: right;\">\n",
              "      <th></th>\n",
              "      <th>Unnamed: 0</th>\n",
              "      <th>X1</th>\n",
              "      <th>X2</th>\n",
              "      <th>X3</th>\n",
              "      <th>Class</th>\n",
              "      <th>predictedclass4a</th>\n",
              "      <th>predictedclass4b</th>\n",
              "    </tr>\n",
              "  </thead>\n",
              "  <tbody>\n",
              "    <tr>\n",
              "      <th>0</th>\n",
              "      <td>1</td>\n",
              "      <td>-0.45300</td>\n",
              "      <td>-0.8910</td>\n",
              "      <td>0.02300</td>\n",
              "      <td>1</td>\n",
              "      <td>2</td>\n",
              "      <td>2</td>\n",
              "    </tr>\n",
              "    <tr>\n",
              "      <th>1</th>\n",
              "      <td>2</td>\n",
              "      <td>0.65300</td>\n",
              "      <td>-0.8460</td>\n",
              "      <td>0.02110</td>\n",
              "      <td>1</td>\n",
              "      <td>2</td>\n",
              "      <td>2</td>\n",
              "    </tr>\n",
              "    <tr>\n",
              "      <th>2</th>\n",
              "      <td>3</td>\n",
              "      <td>0.39800</td>\n",
              "      <td>0.9130</td>\n",
              "      <td>-0.00139</td>\n",
              "      <td>1</td>\n",
              "      <td>1</td>\n",
              "      <td>1</td>\n",
              "    </tr>\n",
              "    <tr>\n",
              "      <th>3</th>\n",
              "      <td>4</td>\n",
              "      <td>0.09520</td>\n",
              "      <td>1.0500</td>\n",
              "      <td>0.00628</td>\n",
              "      <td>1</td>\n",
              "      <td>1</td>\n",
              "      <td>1</td>\n",
              "    </tr>\n",
              "    <tr>\n",
              "      <th>4</th>\n",
              "      <td>5</td>\n",
              "      <td>0.52400</td>\n",
              "      <td>-0.9410</td>\n",
              "      <td>0.03780</td>\n",
              "      <td>1</td>\n",
              "      <td>2</td>\n",
              "      <td>2</td>\n",
              "    </tr>\n",
              "    <tr>\n",
              "      <th>...</th>\n",
              "      <td>...</td>\n",
              "      <td>...</td>\n",
              "      <td>...</td>\n",
              "      <td>...</td>\n",
              "      <td>...</td>\n",
              "      <td>...</td>\n",
              "      <td>...</td>\n",
              "    </tr>\n",
              "    <tr>\n",
              "      <th>995</th>\n",
              "      <td>996</td>\n",
              "      <td>0.01520</td>\n",
              "      <td>0.0531</td>\n",
              "      <td>-0.36100</td>\n",
              "      <td>2</td>\n",
              "      <td>2</td>\n",
              "      <td>1</td>\n",
              "    </tr>\n",
              "    <tr>\n",
              "      <th>996</th>\n",
              "      <td>997</td>\n",
              "      <td>0.05160</td>\n",
              "      <td>0.6910</td>\n",
              "      <td>0.87500</td>\n",
              "      <td>2</td>\n",
              "      <td>1</td>\n",
              "      <td>1</td>\n",
              "    </tr>\n",
              "    <tr>\n",
              "      <th>997</th>\n",
              "      <td>998</td>\n",
              "      <td>-0.00511</td>\n",
              "      <td>1.3900</td>\n",
              "      <td>-0.94700</td>\n",
              "      <td>2</td>\n",
              "      <td>1</td>\n",
              "      <td>1</td>\n",
              "    </tr>\n",
              "    <tr>\n",
              "      <th>998</th>\n",
              "      <td>999</td>\n",
              "      <td>-0.06710</td>\n",
              "      <td>0.7140</td>\n",
              "      <td>0.88100</td>\n",
              "      <td>2</td>\n",
              "      <td>1</td>\n",
              "      <td>1</td>\n",
              "    </tr>\n",
              "    <tr>\n",
              "      <th>999</th>\n",
              "      <td>1000</td>\n",
              "      <td>-0.05770</td>\n",
              "      <td>0.4280</td>\n",
              "      <td>-0.73000</td>\n",
              "      <td>2</td>\n",
              "      <td>1</td>\n",
              "      <td>1</td>\n",
              "    </tr>\n",
              "  </tbody>\n",
              "</table>\n",
              "<p>1000 rows × 7 columns</p>\n",
              "</div>\n",
              "      <button class=\"colab-df-convert\" onclick=\"convertToInteractive('df-716d730f-f7ba-4ae6-bda6-4fd0cadebc28')\"\n",
              "              title=\"Convert this dataframe to an interactive table.\"\n",
              "              style=\"display:none;\">\n",
              "        \n",
              "  <svg xmlns=\"http://www.w3.org/2000/svg\" height=\"24px\"viewBox=\"0 0 24 24\"\n",
              "       width=\"24px\">\n",
              "    <path d=\"M0 0h24v24H0V0z\" fill=\"none\"/>\n",
              "    <path d=\"M18.56 5.44l.94 2.06.94-2.06 2.06-.94-2.06-.94-.94-2.06-.94 2.06-2.06.94zm-11 1L8.5 8.5l.94-2.06 2.06-.94-2.06-.94L8.5 2.5l-.94 2.06-2.06.94zm10 10l.94 2.06.94-2.06 2.06-.94-2.06-.94-.94-2.06-.94 2.06-2.06.94z\"/><path d=\"M17.41 7.96l-1.37-1.37c-.4-.4-.92-.59-1.43-.59-.52 0-1.04.2-1.43.59L10.3 9.45l-7.72 7.72c-.78.78-.78 2.05 0 2.83L4 21.41c.39.39.9.59 1.41.59.51 0 1.02-.2 1.41-.59l7.78-7.78 2.81-2.81c.8-.78.8-2.07 0-2.86zM5.41 20L4 18.59l7.72-7.72 1.47 1.35L5.41 20z\"/>\n",
              "  </svg>\n",
              "      </button>\n",
              "      \n",
              "  <style>\n",
              "    .colab-df-container {\n",
              "      display:flex;\n",
              "      flex-wrap:wrap;\n",
              "      gap: 12px;\n",
              "    }\n",
              "\n",
              "    .colab-df-convert {\n",
              "      background-color: #E8F0FE;\n",
              "      border: none;\n",
              "      border-radius: 50%;\n",
              "      cursor: pointer;\n",
              "      display: none;\n",
              "      fill: #1967D2;\n",
              "      height: 32px;\n",
              "      padding: 0 0 0 0;\n",
              "      width: 32px;\n",
              "    }\n",
              "\n",
              "    .colab-df-convert:hover {\n",
              "      background-color: #E2EBFA;\n",
              "      box-shadow: 0px 1px 2px rgba(60, 64, 67, 0.3), 0px 1px 3px 1px rgba(60, 64, 67, 0.15);\n",
              "      fill: #174EA6;\n",
              "    }\n",
              "\n",
              "    [theme=dark] .colab-df-convert {\n",
              "      background-color: #3B4455;\n",
              "      fill: #D2E3FC;\n",
              "    }\n",
              "\n",
              "    [theme=dark] .colab-df-convert:hover {\n",
              "      background-color: #434B5C;\n",
              "      box-shadow: 0px 1px 3px 1px rgba(0, 0, 0, 0.15);\n",
              "      filter: drop-shadow(0px 1px 2px rgba(0, 0, 0, 0.3));\n",
              "      fill: #FFFFFF;\n",
              "    }\n",
              "  </style>\n",
              "\n",
              "      <script>\n",
              "        const buttonEl =\n",
              "          document.querySelector('#df-716d730f-f7ba-4ae6-bda6-4fd0cadebc28 button.colab-df-convert');\n",
              "        buttonEl.style.display =\n",
              "          google.colab.kernel.accessAllowed ? 'block' : 'none';\n",
              "\n",
              "        async function convertToInteractive(key) {\n",
              "          const element = document.querySelector('#df-716d730f-f7ba-4ae6-bda6-4fd0cadebc28');\n",
              "          const dataTable =\n",
              "            await google.colab.kernel.invokeFunction('convertToInteractive',\n",
              "                                                     [key], {});\n",
              "          if (!dataTable) return;\n",
              "\n",
              "          const docLinkHtml = 'Like what you see? Visit the ' +\n",
              "            '<a target=\"_blank\" href=https://colab.research.google.com/notebooks/data_table.ipynb>data table notebook</a>'\n",
              "            + ' to learn more about interactive tables.';\n",
              "          element.innerHTML = '';\n",
              "          dataTable['output_type'] = 'display_data';\n",
              "          await google.colab.output.renderOutput(dataTable, element);\n",
              "          const docLink = document.createElement('div');\n",
              "          docLink.innerHTML = docLinkHtml;\n",
              "          element.appendChild(docLink);\n",
              "        }\n",
              "      </script>\n",
              "    </div>\n",
              "  </div>\n",
              "  "
            ]
          },
          "metadata": {},
          "execution_count": 96
        }
      ]
    },
    {
      "cell_type": "code",
      "source": [
        "contingency_matrix4k = metrics.cluster.contingency_matrix(df4['Class'], df4['predictedclass4a'])\n",
        "contingency_matrix4k"
      ],
      "metadata": {
        "colab": {
          "base_uri": "https://localhost:8080/"
        },
        "id": "tacDFAkZ8s2u",
        "outputId": "0a01e823-c0ff-4a91-ad49-43c14f368e3e"
      },
      "execution_count": null,
      "outputs": [
        {
          "output_type": "execute_result",
          "data": {
            "text/plain": [
              "array([[173, 327],\n",
              "       [326, 174]])"
            ]
          },
          "metadata": {},
          "execution_count": 154
        }
      ]
    },
    {
      "cell_type": "code",
      "source": [
        "purity4k = np.sum(np.amax(contingency_matrix4k, axis=0)) / np.sum(contingency_matrix4k) \n",
        "purity4k"
      ],
      "metadata": {
        "id": "P9YicbaI_pal",
        "colab": {
          "base_uri": "https://localhost:8080/"
        },
        "outputId": "677a97c7-bb56-4b0c-d37d-2b5288e2079b"
      },
      "execution_count": null,
      "outputs": [
        {
          "output_type": "execute_result",
          "data": {
            "text/plain": [
              "0.653"
            ]
          },
          "metadata": {},
          "execution_count": 158
        }
      ]
    },
    {
      "cell_type": "code",
      "source": [
        "contingency_matrix4h = metrics.cluster.contingency_matrix(df4['Class'], df4['predictedclass4b'])\n",
        "contingency_matrix4h"
      ],
      "metadata": {
        "colab": {
          "base_uri": "https://localhost:8080/"
        },
        "id": "7YRPIXNb869X",
        "outputId": "4b7b2c34-80f1-43de-8434-86fd1525ecfe"
      },
      "execution_count": null,
      "outputs": [
        {
          "output_type": "execute_result",
          "data": {
            "text/plain": [
              "array([[201, 299],\n",
              "       [500,   0]])"
            ]
          },
          "metadata": {},
          "execution_count": 157
        }
      ]
    },
    {
      "cell_type": "code",
      "source": [
        "purity4h = np.sum(np.amax(contingency_matrix4h, axis=0)) / np.sum(contingency_matrix4h) \n",
        "purity4h"
      ],
      "metadata": {
        "colab": {
          "base_uri": "https://localhost:8080/"
        },
        "id": "EKgYnBQ787_o",
        "outputId": "e4f430f7-140d-4e6b-c1ae-191e3d414862"
      },
      "execution_count": null,
      "outputs": [
        {
          "output_type": "execute_result",
          "data": {
            "text/plain": [
              "0.799"
            ]
          },
          "metadata": {},
          "execution_count": 163
        }
      ]
    },
    {
      "cell_type": "code",
      "source": [
        "print('df4 fowlkes mallows score for K-means method: ' + str(fowlkes_mallows_score(df4.iloc[:,4], df4['predictedclass4a'])))\n",
        "print('df4 fowlkes mallows score for hierarchical method: ' + str(fowlkes_mallows_score(df4.iloc[:,4], df4['predictedclass4b'])))"
      ],
      "metadata": {
        "id": "i1IU4_d1ANEV",
        "colab": {
          "base_uri": "https://localhost:8080/"
        },
        "outputId": "d95b4593-1fbe-4a5a-bf5e-cdf68c135089"
      },
      "execution_count": null,
      "outputs": [
        {
          "output_type": "stream",
          "name": "stdout",
          "text": [
            "df4 fowlkes mallows score for K-means method: 0.5459107296389125\n",
            "df4 fowlkes mallows score for hierarchical method: 0.7042423466085546\n"
          ]
        }
      ]
    },
    {
      "cell_type": "markdown",
      "source": [
        "The purity shows there are higher percentage of examples\n",
        "staying their own class in each cluster in hierarchial method than in k-means method. The Fowlkes Mallows score shows that in hierarchial method, there is a greater similarity between the clusters and the benchmark classifications class. "
      ],
      "metadata": {
        "id": "abAK53G4GIcz"
      }
    },
    {
      "cell_type": "markdown",
      "source": [
        "3. Plot (2D or 3D) the data points for each dataset and color them according to the original class"
      ],
      "metadata": {
        "id": "bcAnP5wJ__4a"
      }
    },
    {
      "cell_type": "code",
      "source": [
        "fig = px.scatter_3d(df4, x='X1', y = 'X2', z='X3', color = 'Class')\n",
        "fig.show()"
      ],
      "metadata": {
        "id": "uLz2sWa1ADno"
      },
      "execution_count": null,
      "outputs": []
    },
    {
      "cell_type": "markdown",
      "source": [
        "4. Plot (2D or 3D) the data points for each dataset and color them according to the class allocated by the clustering algorithm"
      ],
      "metadata": {
        "id": "BiFJ8y8MAgCE"
      }
    },
    {
      "cell_type": "code",
      "source": [
        "# According to k-means clustering algorithm\n",
        "fig = px.scatter_3d(df4, x='X1', y = 'X2', z='X3', color = 'predictedclass4a')\n",
        "fig.show()"
      ],
      "metadata": {
        "id": "2KINwcppAizC",
        "colab": {
          "base_uri": "https://localhost:8080/",
          "height": 542
        },
        "outputId": "cf56ec02-87b1-41f1-c227-3e12f6320620"
      },
      "execution_count": null,
      "outputs": [
        {
          "output_type": "display_data",
          "data": {
            "text/html": [
              "<html>\n",
              "<head><meta charset=\"utf-8\" /></head>\n",
              "<body>\n",
              "    <div>            <script src=\"https://cdnjs.cloudflare.com/ajax/libs/mathjax/2.7.5/MathJax.js?config=TeX-AMS-MML_SVG\"></script><script type=\"text/javascript\">if (window.MathJax) {MathJax.Hub.Config({SVG: {font: \"STIX-Web\"}});}</script>                <script type=\"text/javascript\">window.PlotlyConfig = {MathJaxConfig: 'local'};</script>\n",
              "        <script src=\"https://cdn.plot.ly/plotly-2.8.3.min.js\"></script>                <div id=\"0dfd510b-7823-4d2f-962c-bd4e9867c853\" class=\"plotly-graph-div\" style=\"height:525px; width:100%;\"></div>            <script type=\"text/javascript\">                                    window.PLOTLYENV=window.PLOTLYENV || {};                                    if (document.getElementById(\"0dfd510b-7823-4d2f-962c-bd4e9867c853\")) {                    Plotly.newPlot(                        \"0dfd510b-7823-4d2f-962c-bd4e9867c853\",                        [{\"hovertemplate\":\"X1=%{x}<br>X2=%{y}<br>X3=%{z}<br>predictedclass4a=%{marker.color}<extra></extra>\",\"legendgroup\":\"\",\"marker\":{\"color\":[2,2,1,1,2,1,1,2,2,2,2,2,1,1,2,1,2,1,1,2,2,2,1,2,2,1,2,1,2,2,2,1,2,2,1,1,1,2,1,2,1,1,2,2,1,1,2,2,1,2,2,2,2,2,2,2,2,2,1,2,2,1,1,1,2,2,2,1,1,2,1,1,2,2,1,1,1,1,2,1,1,2,2,2,2,2,2,1,2,2,2,1,1,2,1,1,2,2,2,2,2,1,1,2,2,1,1,2,1,2,1,2,2,2,1,1,2,2,2,1,1,2,2,2,1,2,2,2,2,1,2,2,2,2,2,2,1,2,2,2,1,1,2,2,1,2,2,1,2,2,1,2,2,2,2,1,2,1,2,2,1,2,1,2,2,2,1,2,2,1,2,2,2,1,1,2,2,2,2,2,2,2,2,2,1,2,2,2,2,2,2,2,1,2,1,2,2,2,1,2,2,2,1,1,2,1,1,1,2,2,2,2,2,2,1,2,2,2,1,1,2,2,1,1,2,2,2,2,2,2,1,2,2,2,2,2,1,2,1,2,2,1,2,1,2,2,1,1,1,2,2,1,2,1,1,2,1,2,2,1,2,2,2,2,2,2,2,1,1,2,2,1,1,2,2,1,2,1,1,2,2,1,1,1,1,2,1,2,1,2,2,2,2,1,2,2,2,1,2,1,2,2,1,2,1,2,2,2,2,2,1,2,2,2,1,1,2,2,2,1,2,2,2,2,1,1,1,1,2,2,1,1,2,1,1,2,2,1,1,2,2,2,2,2,2,2,1,1,1,2,1,1,2,2,1,2,2,1,1,2,2,2,1,1,1,2,2,2,2,2,2,2,2,2,2,2,2,2,1,2,1,2,1,1,1,1,2,2,2,2,1,2,2,2,2,2,1,2,1,2,2,1,1,1,2,2,1,2,2,2,2,1,1,2,1,2,2,2,2,2,1,1,2,2,1,2,1,2,2,1,1,2,2,2,2,2,2,2,2,2,2,2,2,2,2,1,2,1,2,2,2,2,1,2,2,2,2,2,1,2,2,2,1,2,2,2,2,1,2,1,2,2,2,2,2,2,2,1,1,2,2,1,1,1,2,2,1,2,2,1,2,2,2,2,2,2,2,2,2,2,2,2,1,1,2,1,1,1,1,2,1,1,1,1,1,1,1,1,1,1,2,2,1,1,2,1,1,1,2,2,1,1,1,2,1,1,1,2,1,2,1,1,2,2,1,1,2,2,1,2,2,2,2,2,2,2,2,1,1,1,1,1,1,1,1,1,1,1,1,2,1,1,1,2,1,1,1,1,1,1,1,1,2,2,2,2,2,1,1,1,2,1,1,2,1,1,1,1,2,1,2,1,1,1,1,1,1,1,1,1,1,1,2,1,1,1,2,2,2,1,1,1,1,1,1,2,1,1,2,1,2,1,2,1,2,2,1,1,1,2,1,1,2,1,1,1,1,1,1,2,1,1,1,2,1,1,1,1,1,2,1,1,1,1,2,1,1,2,2,1,2,1,1,1,1,1,2,1,2,2,2,1,1,2,1,2,1,1,1,2,2,1,1,1,1,1,2,1,1,2,2,1,1,1,2,1,1,1,1,2,1,2,2,2,1,2,1,1,1,1,2,1,1,1,1,1,2,2,1,2,1,2,2,2,2,1,1,2,1,2,2,1,1,1,1,2,1,1,1,2,2,1,1,1,1,2,1,1,1,1,1,2,1,2,1,2,1,1,1,2,1,1,1,1,2,1,1,1,1,1,2,1,1,1,1,1,1,1,1,2,2,2,1,1,1,1,1,1,1,1,1,1,1,2,1,1,2,2,2,2,1,2,2,2,1,1,2,2,2,1,2,2,2,1,1,1,1,1,1,2,1,1,2,1,1,1,2,1,1,1,1,1,2,1,2,1,1,1,1,2,1,1,1,1,1,2,1,1,1,1,2,2,1,1,1,2,2,2,2,2,2,1,2,2,2,1,1,2,1,2,1,2,1,1,1,1,2,2,2,2,1,1,1,2,1,2,1,2,1,2,2,1,1,1,2,2,1,1,1,1,1,1,1,2,1,1,2,1,1,2,1,1,2,1,1,1,1,2,1,1,1,2,1,1,1,1,1,2,2,1,2,2,1,1,1,1,2,1,2,2,2,1,1,2,1,2,2,2,1,2,2,1,1,1,2,2,2,1,2,1,1,2,2,2,1,1,1,1,1,2,1,1,1,1,2,1,1,2,1,1,2,1,1,2,1,2,1,1,1,1],\"coloraxis\":\"coloraxis\",\"symbol\":\"circle\"},\"mode\":\"markers\",\"name\":\"\",\"scene\":\"scene\",\"showlegend\":false,\"x\":[-0.453,0.653,0.398,0.0952,0.524,-0.0263,0.425,-0.991,-1.01,-0.73,0.879,-0.845,-0.385,0.24,1.03,0.871,-1.02,0.592,0.297,-0.832,0.607,-0.712,-0.537,-0.893,0.0724,0.579,0.866,-0.36,-0.778,-0.0979,0.887,0.754,1.05,-0.205,0.797,0.807,-0.0722,-0.415,-0.0832,0.508,-0.238,-0.634,-0.852,-0.573,-0.723,-0.677,-0.464,-0.711,0.612,-0.58,0.17,0.769,-0.293,-0.209,0.3,-0.0317,0.223,0.91,0.391,-0.995,-1.03,-0.0574,0.779,0.515,-0.968,-0.891,-1.05,-0.117,-0.652,0.776,0.394,0.491,-1.03,0.224,-0.897,-0.738,0.0433,0.633,-0.988,-0.626,0.928,0.929,0.549,0.312,0.379,-0.615,0.914,-0.73,-1.07,0.949,-0.171,-0.059,0.499,0.355,0.471,-0.701,-0.987,0.761,-0.574,0.927,0.579,-0.654,0.427,1.04,-0.979,0.398,0.89,0.869,-0.245,0.936,-0.815,-0.971,-0.283,0.907,0.728,-0.0941,0.428,-0.796,0.214,-0.664,-0.306,1.03,0.897,0.857,-0.887,0.117,-0.943,-0.896,0.345,-0.687,0.293,-1.01,-0.184,1.04,0.642,-0.0802,-0.315,0.968,-0.892,0.436,-0.202,-0.886,-0.607,0.898,0.637,0.854,0.895,-0.777,0.886,-0.508,0.393,0.811,0.927,0.569,0.872,0.204,0.915,-0.45,-0.917,0.408,0.817,0.924,-0.111,-0.964,0.605,-0.818,0.837,-0.806,0.355,0.289,-0.729,0.931,0.99,-0.419,-0.64,-1.0,-0.717,0.886,-0.037,-0.789,0.0872,-0.839,0.753,0.031,-0.736,0.381,-0.904,0.89,-0.921,0.602,-0.272,-0.988,-0.478,-0.995,0.472,1.02,-0.197,-0.947,0.902,-0.776,0.477,-1.02,0.693,-0.459,0.119,0.837,-0.811,0.883,1.07,-0.652,-0.991,-0.315,-0.445,0.783,0.086,-0.162,-1.0,-0.915,0.536,0.769,-0.0207,0.892,0.326,0.0703,-0.953,-1.06,0.659,0.626,-0.938,-0.67,-0.633,0.345,-0.459,0.827,-0.404,-0.978,-0.702,0.52,0.764,0.688,0.564,0.534,-0.991,0.524,0.991,-0.474,-0.871,-0.532,0.0484,0.444,0.121,-0.0483,0.84,-0.69,-0.752,-0.131,0.791,0.975,-1.02,-0.643,-0.985,0.137,-0.967,-0.0104,0.863,-0.621,-0.993,0.137,-0.728,-0.258,1.03,0.669,-0.707,0.977,-0.813,-0.475,-0.806,-0.285,0.847,-0.891,-0.179,-0.868,-0.914,0.627,-0.414,-0.964,0.391,-0.938,0.872,0.507,0.587,0.605,-0.98,0.6,1.05,0.987,-0.971,-0.7,0.975,0.378,-1.03,-1.02,-0.0628,-0.049,0.775,1.03,-0.203,-0.622,0.531,-0.685,0.885,-0.0216,0.37,-0.504,-0.464,-0.782,-0.202,0.314,0.585,0.449,0.381,0.283,0.447,0.974,0.594,0.327,-0.654,0.765,0.903,-0.595,-0.639,0.19,-0.43,-0.939,0.181,0.905,0.419,0.128,-0.41,-0.775,-0.928,-0.827,-0.0654,0.836,-0.854,-0.907,0.867,0.856,0.162,0.0192,-0.188,0.735,-0.96,-1.0,0.654,-0.635,0.883,-0.698,0.593,0.984,-0.359,0.781,0.17,-0.721,-0.583,-0.488,0.177,0.134,0.172,-0.849,0.875,0.967,0.427,0.429,0.271,0.934,-0.993,0.328,-0.781,0.836,0.657,0.0858,-0.183,-0.0836,-0.569,-0.414,0.675,0.516,-0.654,-0.45,-0.15,0.835,-0.995,0.0474,0.855,-0.406,-0.102,-0.661,-0.713,-0.431,-0.494,-0.759,0.539,-0.19,0.0569,0.862,0.374,0.959,1.01,-0.925,-0.961,-0.653,-0.758,-0.179,-0.464,0.875,-0.331,-0.921,-1.0,-0.429,0.425,-0.186,-0.81,-0.827,0.0186,-0.998,0.878,-0.609,-0.776,0.845,-0.773,0.688,-0.895,0.961,1.01,0.94,0.979,-0.442,0.603,-0.86,-0.573,-0.705,-1.01,0.851,0.905,-0.633,0.519,0.877,0.448,-0.394,0.767,-0.924,-0.542,0.742,0.801,-0.767,-0.478,0.386,0.579,-0.407,0.771,-0.954,-0.661,-0.821,0.412,0.5,0.45,0.572,-0.604,-0.579,0.804,0.497,0.131,-0.434,-0.968,-0.871,1.01,-0.0175,-0.0881,-0.12,-0.937,-0.636,0.923,0.0416,0.748,-0.93,0.249,0.422,-0.899,-0.669,0.264,-0.879,-0.901,0.572,0.91,-0.361,0.875,-0.947,0.881,-0.73,0.023,0.0211,-0.00139,0.00628,0.0378,0.0218,-0.0285,0.0511,0.038,-0.0312,0.0439,0.0849,0.00558,0.048,0.0727,-0.0403,0.0278,0.0361,0.00662,0.0542,-0.0182,0.0125,0.00197,-0.0108,0.0486,-0.000759,0.00596,-0.0163,-0.0865,0.0224,0.0486,-0.0179,0.0238,-0.0306,0.0313,-0.0022,-0.0157,0.0199,0.036,0.0221,-0.0305,-0.0258,0.00465,0.0685,0.0318,-0.00521,-0.0345,-0.0682,-0.0168,-0.0398,0.0132,-0.0136,0.0172,0.0158,0.00309,0.0108,0.0138,-0.0155,-0.0276,0.0362,0.0937,0.00857,-0.0371,-0.0268,-0.0816,-0.034,-0.0103,-0.043,0.0177,-0.000988,-0.0246,0.00246,0.00174,-0.032,0.023,-0.0471,0.00162,0.00724,-0.00411,0.0882,0.0664,0.047,0.0105,-0.0209,0.0297,-0.0178,0.0108,0.0105,-0.043,-0.000192,0.0115,-0.0718,0.0589,-0.0848,-0.0613,-0.0347,-0.000942,-0.0158,-0.0214,0.0365,0.00343,0.0445,-0.0379,0.0813,-0.00902,-0.0108,0.0658,0.027,-0.0189,0.00446,-0.0574,-0.00957,-0.0375,-0.000365,-0.00337,-0.011,-0.0345,0.0249,-0.0105,0.0739,0.00343,0.0593,0.0528,0.0508,-0.063,0.00448,-0.00359,0.00037,0.0366,-0.0821,0.00899,-0.0289,-0.0111,0.0814,-0.0767,-0.00217,0.0554,0.0813,0.0199,-0.0228,0.0549,-0.00618,-0.0096,-0.0155,0.0147,0.0669,-0.0395,0.034,0.0233,0.000597,0.0551,-0.0442,0.0358,-0.073,-0.0539,0.0308,-0.0892,0.0207,-0.0724,0.0152,0.0493,0.00251,0.00817,0.0471,-0.0337,-0.0356,0.00956,0.0265,-0.00756,-0.000797,0.0923,0.0357,0.0273,0.0109,0.0239,0.0947,0.0596,-0.0727,0.0446,0.00378,0.0691,0.00118,0.0034,0.0603,-0.0985,-0.0489,-0.0608,0.0918,-0.0392,0.0637,0.0527,0.0373,-0.00584,-0.0183,-0.0743,0.0562,0.023,-0.0368,0.00415,-0.0402,-0.0262,0.075,0.0583,0.0306,0.0385,0.068,0.00052,0.000414,-0.0218,0.042,-0.0954,-0.0183,0.065,0.00831,-0.0705,0.000729,0.0901,-0.0561,0.0245,0.0608,0.0229,0.00766,0.0109,-0.0169,-0.0318,0.0484,0.0562,-0.0224,-0.0386,0.0158,0.0213,-0.0679,0.0692,-0.00386,0.0615,-0.00225,0.0282,-0.0123,-0.00815,0.00145,0.0801,-0.016,0.00802,0.0107,0.0434,0.035,0.00698,-0.00885,0.0476,-0.003,-0.0715,0.0242,0.0122,-0.0466,0.00394,0.00985,0.0284,0.0303,0.026,-0.0604,0.00622,-0.0654,0.000749,-0.019,-0.0401,0.0561,-0.00384,-0.0266,-0.0144,0.015,-0.0874,-0.00736,-0.0552,-0.000199,0.0242,-0.0385,-0.0765,0.0257,-0.0577,0.0352,0.0251,0.000919,0.0622,-0.0141,-0.0844,-0.0118,-0.0693,0.0199,0.0505,0.0194,0.0673,-0.0154,-0.0369,0.0757,-0.0106,0.0235,0.0215,0.0471,-0.0287,-0.0461,0.0459,-8.77e-05,-0.00454,-0.000586,-0.0416,0.0341,0.00453,0.0525,-0.0423,-0.00358,0.037,0.00931,0.0192,-0.0378,0.014,0.0137,-0.00423,-0.00373,-0.0171,0.055,0.0647,0.0389,0.0838,0.0351,-0.0111,0.000201,0.0619,-0.0698,-0.0188,-0.00427,-0.0349,0.0565,-0.0638,0.048,-0.061,0.0626,-0.0267,-0.0204,-0.0163,0.0923,0.035,0.0498,0.0189,0.036,0.0671,0.0253,-0.00343,-0.0832,0.00244,0.049,0.0188,0.0325,0.00743,0.0249,0.0544,-0.0847,0.053,-0.0331,-0.00198,0.0343,0.00506,0.0769,0.00998,-0.0169,0.0477,0.0478,0.00297,-0.023,0.0109,0.0287,-0.0254,0.0181,-0.000431,-0.071,-0.0225,0.044,-0.0464,0.0279,0.00272,0.0153,0.0767,-0.0397,-0.00152,-0.00573,-0.00293,-0.0289,-0.0395,-0.0296,0.0254,0.0583,-0.0399,-0.00578,-0.00442,0.0146,-0.0766,0.0846,-0.0343,-0.0249,0.0838,0.0575,0.014,0.0386,-0.0491,-0.0118,-0.00828,-0.0237,-0.0445,0.0516,0.0693,0.0172,-0.00323,0.00663,-0.0836,-0.0128,0.0625,-0.0428,-0.00794,0.0101,-0.0253,-0.0561,0.0283,-0.0342,-0.00101,0.000969,0.0128,0.00632,-0.0228,0.0223,-0.0487,-0.0196,0.00587,0.0082,-0.0627,0.0465,0.0213,0.000526,0.00361,0.0292,0.00673,0.0466,0.0262,-0.0204,-0.0039,0.0561,0.00935,0.0319,0.0108,0.00904,0.0945,0.0131,-0.0175,0.0173,-0.0327,0.0416,-0.00591,0.0454,0.0241,-0.000667,-0.0496,0.0264,0.0267,-0.0457,-0.0116,0.073,0.042,0.00687,0.0543,-0.0763,0.00165,-0.000644,-0.0022,-0.000554,-0.022,0.014,-0.0967,-0.0261,-0.0514,-0.0283,-0.0696,-0.0805,0.0431,0.00803,-0.0255,-0.00861,-0.00929,-0.0793,0.0195,0.0564,0.084,-0.00884,-0.048,-0.0289,-0.0731,0.00323,-0.0561,0.0152,0.0516,-0.00511,-0.0671,-0.0577],\"y\":[-0.891,-0.846,0.913,1.05,-0.941,1.0,0.908,-0.275,-0.0353,-0.631,0.346,-0.459,0.921,0.884,-0.26,0.502,-0.00556,0.787,0.946,-0.403,-0.782,-0.739,0.859,-0.42,-0.913,0.819,-0.496,1.03,-0.603,-0.988,0.401,0.742,-0.0772,-0.956,0.551,0.629,1.01,-0.972,1.09,-0.794,0.906,0.689,-0.596,-0.891,0.712,0.804,-0.969,-0.761,0.845,-0.746,-0.975,-0.622,-0.98,-1.0,-0.965,-1.04,-0.975,-0.484,0.884,-0.0568,0.0244,1.01,0.691,0.836,0.117,-0.502,-0.177,1.06,0.724,-0.681,0.939,0.868,-0.31,-0.939,0.474,0.646,1.02,0.783,-0.335,0.746,0.521,0.323,-0.87,-0.902,-0.936,-0.906,-0.575,0.703,-0.0547,-0.245,-0.974,0.93,0.824,-0.895,0.851,0.724,-0.171,-0.535,-0.77,0.101,-0.772,0.763,0.837,0.0493,-0.0505,0.886,0.572,-0.419,0.925,0.121,0.586,0.293,-0.998,-0.417,0.683,0.989,-0.945,-0.592,-0.975,0.771,0.857,0.224,-0.281,0.392,0.485,-0.99,-0.335,-0.453,-0.954,0.703,-0.973,-0.00601,-0.929,-0.0431,-0.848,-0.95,0.977,0.292,-0.376,-0.92,1.02,0.576,-0.796,-0.349,0.757,-0.467,0.204,0.647,-0.504,-0.86,0.934,-0.483,0.342,-0.746,0.315,0.977,-0.471,0.89,-0.462,-0.919,0.513,-0.478,0.991,0.141,-0.889,-0.553,0.535,-0.609,-0.944,0.959,-0.733,0.0353,-0.00617,0.863,0.838,-0.0656,-0.708,-0.472,-1.0,-0.613,-1.0,-0.552,-0.53,-1.02,0.654,-0.927,-0.31,0.402,-0.281,-0.878,-0.976,-0.0399,0.867,-0.149,0.829,-0.0731,-0.941,0.115,0.557,-0.719,-0.874,-0.179,0.632,0.929,-1.08,0.503,0.672,0.47,-0.0124,-0.792,-0.0248,-0.882,-0.926,-0.573,1.06,-0.987,0.241,-0.134,0.876,0.692,-1.08,-0.464,1.0,1.0,-0.0362,0.104,-0.682,-0.811,-0.176,-0.652,0.816,-0.877,-0.829,-0.671,-0.907,-0.24,0.69,-0.946,0.651,-0.724,-0.779,0.804,-0.154,0.923,0.0649,-0.95,0.475,0.852,0.993,-0.829,-1.02,1.09,0.374,0.606,0.717,-1.01,0.602,-0.465,-0.156,0.697,0.221,-0.954,-0.254,-0.98,-0.531,-0.869,0.126,1.05,0.647,-0.973,-0.0982,0.696,0.709,0.213,-0.614,0.803,-0.501,0.925,0.593,-0.305,-1.0,0.495,0.46,0.651,0.876,-0.28,0.884,-0.232,0.646,-0.877,-0.795,-0.77,-0.138,0.791,0.029,-0.121,-0.297,0.614,0.0887,0.932,-0.0892,-0.32,1.0,-0.987,0.718,-0.114,-1.0,-0.784,-0.899,-0.725,0.601,-0.998,-0.914,-0.952,0.87,0.557,-0.987,-0.871,-0.819,0.853,-0.864,-1.0,-0.901,0.239,0.778,0.927,0.713,0.696,-0.275,-0.807,0.764,0.907,-0.899,0.484,1.04,-0.286,-0.873,0.947,0.9,-0.576,0.422,-0.503,-0.924,-0.379,-0.632,0.318,0.523,0.555,1.03,-1.01,0.953,0.756,-0.275,0.134,0.688,-0.788,-0.377,0.671,0.804,0.312,-0.938,-0.681,0.968,0.671,0.897,-0.903,-0.906,-0.98,-0.959,-0.616,-0.588,-0.23,-0.905,-0.869,-0.906,-0.0368,-0.264,-0.921,0.638,-0.623,0.809,-1.06,0.983,0.989,0.819,0.907,-0.82,-0.866,-0.793,-0.925,0.992,-0.542,-0.049,-1.0,-0.487,-0.945,0.916,-0.629,0.763,-0.88,-0.86,0.611,0.862,0.969,-0.966,-0.609,0.892,-0.19,0.156,0.354,-0.26,0.745,0.727,-0.912,0.83,-0.43,-0.937,-0.304,-0.09,-0.905,0.838,0.908,-0.611,-0.387,1.01,-0.327,0.485,-0.809,-0.503,0.569,0.652,-0.803,-0.484,0.303,0.174,-0.338,-0.011,-0.897,-0.689,-0.496,-0.917,-0.666,-0.106,0.416,0.0292,0.792,-0.756,0.448,-0.924,-0.932,-0.574,-0.391,0.745,-0.555,-0.521,-0.665,-0.767,-0.931,0.802,-0.903,-0.631,-0.237,0.7,-0.549,-0.935,-0.866,-0.933,0.818,-0.765,0.815,-0.542,-0.786,-0.993,-0.917,0.325,-0.532,0.0,0.995,1.05,-1.04,-0.327,0.774,0.445,1.05,-0.748,-0.427,0.939,-0.968,-0.361,0.77,-1.01,0.357,-0.351,-0.816,0.176,-0.947,-0.309,0.392,-0.286,-0.572,0.109,0.154,1.91,2.05,0.0589,2.0,1.91,0.725,0.965,0.369,1.35,0.541,1.92,1.88,0.74,1.5,0.994,1.79,1.95,0.597,0.218,0.261,1.86,0.58,0.0868,1.82,0.504,2.03,0.397,0.0122,1.4,1.74,0.923,0.0438,1.55,1.63,2.01,0.0279,2.09,0.206,1.91,1.69,0.404,0.109,1.71,1.8,0.0306,0.239,1.85,0.254,0.0246,0.378,0.0204,-0.00147,0.0353,-0.045,0.0249,0.516,1.88,0.943,1.02,2.01,1.69,1.84,1.12,0.498,0.823,2.06,1.72,0.319,1.94,1.87,0.69,0.0605,1.47,1.65,2.02,1.78,0.665,1.75,1.52,1.32,0.13,0.0978,0.0639,0.0937,0.425,1.7,0.945,0.755,0.0255,1.93,1.82,0.105,1.85,1.72,0.829,0.465,0.23,1.1,0.228,1.76,1.84,1.05,0.949,1.89,1.57,0.581,1.93,1.12,1.59,1.29,0.00191,0.583,1.68,1.99,0.0554,0.408,0.0252,1.77,1.86,1.22,0.719,1.39,1.49,0.00957,0.665,0.547,0.0461,1.7,0.0273,0.994,0.0705,0.957,0.152,0.0498,1.98,1.29,0.624,0.0803,2.02,1.58,0.204,0.651,1.76,0.533,1.2,1.65,0.496,0.14,1.93,0.517,1.34,0.254,1.31,1.98,0.529,1.89,0.538,0.0814,1.51,0.522,1.99,1.14,0.111,0.447,1.54,0.391,0.0562,1.96,0.267,1.04,0.994,1.86,1.84,0.934,0.292,0.528,-0.000509,0.387,-0.00493,0.448,0.47,-0.0203,1.65,0.0735,0.69,1.4,0.719,0.122,0.0237,0.96,1.87,0.851,1.83,0.927,0.0592,1.11,1.56,0.281,0.126,0.821,1.63,1.93,-0.0813,1.5,1.67,1.47,0.988,0.208,0.975,0.118,0.0736,0.427,2.06,0.0132,1.24,0.866,1.88,1.69,-0.0792,0.536,2.0,2.0,0.964,1.1,0.318,0.189,0.824,0.348,1.82,0.123,0.171,0.329,0.0925,0.76,1.69,0.0536,1.65,0.276,0.221,1.8,0.846,1.92,1.06,0.0503,1.48,1.85,1.99,0.171,-0.015,2.09,1.37,1.61,1.72,-0.00888,1.6,0.535,0.844,1.7,1.22,0.0461,0.746,0.02,0.469,0.131,1.13,2.05,1.65,0.0274,0.902,1.7,1.71,1.21,0.386,1.8,0.499,1.93,1.59,0.695,0.000448,1.49,1.46,1.65,1.88,0.72,1.88,0.768,1.65,0.123,0.205,0.23,0.862,1.79,1.03,0.879,0.703,1.61,1.09,1.93,0.911,0.68,2.0,0.0126,1.72,0.886,5.57e-05,0.216,0.101,0.275,1.6,0.00193,0.0862,0.0479,1.87,1.56,0.0126,0.129,0.181,1.85,0.136,0.000359,0.0987,1.24,1.78,1.93,1.71,1.7,0.725,0.193,1.76,1.91,0.101,1.48,2.04,0.714,0.127,1.95,1.9,0.424,1.42,0.497,0.0762,0.621,0.368,1.32,1.52,1.55,2.03,-0.00645,1.95,1.76,0.725,1.13,1.69,0.212,0.623,1.67,1.8,1.31,0.0616,0.319,1.97,1.67,1.9,0.0974,0.0944,0.0197,0.0411,0.384,0.412,0.77,0.0951,0.131,0.0945,0.963,0.736,0.0787,1.64,0.377,1.81,-0.0579,1.98,1.99,1.82,1.91,0.18,0.134,0.207,0.0745,1.99,0.458,0.951,-0.00193,0.513,0.0547,1.92,0.371,1.76,0.12,0.14,1.61,1.86,1.97,0.0341,0.391,1.89,0.81,1.16,1.35,0.74,1.75,1.73,0.0876,1.83,0.57,0.0626,0.696,0.91,0.095,1.84,1.91,0.389,0.613,2.01,0.673,1.49,0.191,0.497,1.57,1.65,0.197,0.516,1.3,1.17,0.662,0.989,0.103,0.311,0.504,0.0829,0.334,0.894,1.42,1.03,1.79,0.244,1.45,0.0764,0.0679,0.426,0.609,1.75,0.445,0.479,0.335,0.233,0.0688,1.8,0.0973,0.369,0.763,1.7,0.451,0.0655,0.134,0.0672,1.82,0.235,1.82,0.458,0.214,0.00744,0.083,1.33,0.468,1.0,2.0,2.05,-0.0374,0.673,1.77,1.45,2.05,0.252,0.573,1.94,0.0324,0.639,1.77,-0.0126,1.36,0.649,0.184,1.18,0.0531,0.691,1.39,0.714,0.428],\"z\":[0.023,0.0211,-0.00139,0.00628,0.0378,0.0218,-0.0285,0.0511,0.038,-0.0312,0.0439,0.0849,0.00558,0.048,0.0727,-0.0403,0.0278,0.0361,0.00662,0.0542,-0.0182,0.0125,0.00197,-0.0108,0.0486,-0.000759,0.00596,-0.0163,-0.0865,0.0224,0.0486,-0.0179,0.0238,-0.0306,0.0313,-0.0022,-0.0157,0.0199,0.036,0.0221,-0.0305,-0.0258,0.00465,0.0685,0.0318,-0.00521,-0.0345,-0.0682,-0.0168,-0.0398,0.0132,-0.0136,0.0172,0.0158,0.00309,0.0108,0.0138,-0.0155,-0.0276,0.0362,0.0937,0.00857,-0.0371,-0.0268,-0.0816,-0.034,-0.0103,-0.043,0.0177,-0.000988,-0.0246,0.00246,0.00174,-0.032,0.023,-0.0471,0.00162,0.00724,-0.00411,0.0882,0.0664,0.047,0.0105,-0.0209,0.0297,-0.0178,0.0108,0.0105,-0.043,-0.000192,0.0115,-0.0718,0.0589,-0.0848,-0.0613,-0.0347,-0.000942,-0.0158,-0.0214,0.0365,0.00343,0.0445,-0.0379,0.0813,-0.00902,-0.0108,0.0658,0.027,-0.0189,0.00446,-0.0574,-0.00957,-0.0375,-0.000365,-0.00337,-0.011,-0.0345,0.0249,-0.0105,0.0739,0.00343,0.0593,0.0528,0.0508,-0.063,0.00448,-0.00359,0.00037,0.0366,-0.0821,0.00899,-0.0289,-0.0111,0.0814,-0.0767,-0.00217,0.0554,0.0813,0.0199,-0.0228,0.0549,-0.00618,-0.0096,-0.0155,0.0147,0.0669,-0.0395,0.034,0.0233,0.000597,0.0551,-0.0442,0.0358,-0.073,-0.0539,0.0308,-0.0892,0.0207,-0.0724,0.0152,0.0493,0.00251,0.00817,0.0471,-0.0337,-0.0356,0.00956,0.0265,-0.00756,-0.000797,0.0923,0.0357,0.0273,0.0109,0.0239,0.0947,0.0596,-0.0727,0.0446,0.00378,0.0691,0.00118,0.0034,0.0603,-0.0985,-0.0489,-0.0608,0.0918,-0.0392,0.0637,0.0527,0.0373,-0.00584,-0.0183,-0.0743,0.0562,0.023,-0.0368,0.00415,-0.0402,-0.0262,0.075,0.0583,0.0306,0.0385,0.068,0.00052,0.000414,-0.0218,0.042,-0.0954,-0.0183,0.065,0.00831,-0.0705,0.000729,0.0901,-0.0561,0.0245,0.0608,0.0229,0.00766,0.0109,-0.0169,-0.0318,0.0484,0.0562,-0.0224,-0.0386,0.0158,0.0213,-0.0679,0.0692,-0.00386,0.0615,-0.00225,0.0282,-0.0123,-0.00815,0.00145,0.0801,-0.016,0.00802,0.0107,0.0434,0.035,0.00698,-0.00885,0.0476,-0.003,-0.0715,0.0242,0.0122,-0.0466,0.00394,0.00985,0.0284,0.0303,0.026,-0.0604,0.00622,-0.0654,0.000749,-0.019,-0.0401,0.0561,-0.00384,-0.0266,-0.0144,0.015,-0.0874,-0.00736,-0.0552,-0.000199,0.0242,-0.0385,-0.0765,0.0257,-0.0577,0.0352,0.0251,0.000919,0.0622,-0.0141,-0.0844,-0.0118,-0.0693,0.0199,0.0505,0.0194,0.0673,-0.0154,-0.0369,0.0757,-0.0106,0.0235,0.0215,0.0471,-0.0287,-0.0461,0.0459,-8.77e-05,-0.00454,-0.000586,-0.0416,0.0341,0.00453,0.0525,-0.0423,-0.00358,0.037,0.00931,0.0192,-0.0378,0.014,0.0137,-0.00423,-0.00373,-0.0171,0.055,0.0647,0.0389,0.0838,0.0351,-0.0111,0.000201,0.0619,-0.0698,-0.0188,-0.00427,-0.0349,0.0565,-0.0638,0.048,-0.061,0.0626,-0.0267,-0.0204,-0.0163,0.0923,0.035,0.0498,0.0189,0.036,0.0671,0.0253,-0.00343,-0.0832,0.00244,0.049,0.0188,0.0325,0.00743,0.0249,0.0544,-0.0847,0.053,-0.0331,-0.00198,0.0343,0.00506,0.0769,0.00998,-0.0169,0.0477,0.0478,0.00297,-0.023,0.0109,0.0287,-0.0254,0.0181,-0.000431,-0.071,-0.0225,0.044,-0.0464,0.0279,0.00272,0.0153,0.0767,-0.0397,-0.00152,-0.00573,-0.00293,-0.0289,-0.0395,-0.0296,0.0254,0.0583,-0.0399,-0.00578,-0.00442,0.0146,-0.0766,0.0846,-0.0343,-0.0249,0.0838,0.0575,0.014,0.0386,-0.0491,-0.0118,-0.00828,-0.0237,-0.0445,0.0516,0.0693,0.0172,-0.00323,0.00663,-0.0836,-0.0128,0.0625,-0.0428,-0.00794,0.0101,-0.0253,-0.0561,0.0283,-0.0342,-0.00101,0.000969,0.0128,0.00632,-0.0228,0.0223,-0.0487,-0.0196,0.00587,0.0082,-0.0627,0.0465,0.0213,0.000526,0.00361,0.0292,0.00673,0.0466,0.0262,-0.0204,-0.0039,0.0561,0.00935,0.0319,0.0108,0.00904,0.0945,0.0131,-0.0175,0.0173,-0.0327,0.0416,-0.00591,0.0454,0.0241,-0.000667,-0.0496,0.0264,0.0267,-0.0457,-0.0116,0.073,0.042,0.00687,0.0543,-0.0763,0.00165,-0.000644,-0.0022,-0.000554,-0.022,0.014,-0.0967,-0.0261,-0.0514,-0.0283,-0.0696,-0.0805,0.0431,0.00803,-0.0255,-0.00861,-0.00929,-0.0793,0.0195,0.0564,0.084,-0.00884,-0.048,-0.0289,-0.0731,0.00323,-0.0561,0.0152,0.0516,-0.00511,-0.0671,-0.0577,-0.453,0.653,0.398,0.0952,0.524,-0.0263,0.425,-0.991,-1.01,-0.73,0.879,-0.845,-0.385,0.24,1.03,0.871,-1.02,0.592,0.297,-0.832,0.607,-0.712,-0.537,-0.893,0.0724,0.579,0.866,-0.36,-0.778,-0.0979,0.887,0.754,1.05,-0.205,0.797,0.807,-0.0722,-0.415,-0.0832,0.508,-0.238,-0.634,-0.852,-0.573,-0.723,-0.677,-0.464,-0.711,0.612,-0.58,0.17,0.769,-0.293,-0.209,0.3,-0.0317,0.223,0.91,0.391,-0.995,-1.03,-0.0574,0.779,0.515,-0.968,-0.891,-1.05,-0.117,-0.652,0.776,0.394,0.491,-1.03,0.224,-0.897,-0.738,0.0433,0.633,-0.988,-0.626,0.928,0.929,0.549,0.312,0.379,-0.615,0.914,-0.73,-1.07,0.949,-0.171,-0.059,0.499,0.355,0.471,-0.701,-0.987,0.761,-0.574,0.927,0.579,-0.654,0.427,1.04,-0.979,0.398,0.89,0.869,-0.245,0.936,-0.815,-0.971,-0.283,0.907,0.728,-0.0941,0.428,-0.796,0.214,-0.664,-0.306,1.03,0.897,0.857,-0.887,0.117,-0.943,-0.896,0.345,-0.687,0.293,-1.01,-0.184,1.04,0.642,-0.0802,-0.315,0.968,-0.892,0.436,-0.202,-0.886,-0.607,0.898,0.637,0.854,0.895,-0.777,0.886,-0.508,0.393,0.811,0.927,0.569,0.872,0.204,0.915,-0.45,-0.917,0.408,0.817,0.924,-0.111,-0.964,0.605,-0.818,0.837,-0.806,0.355,0.289,-0.729,0.931,0.99,-0.419,-0.64,-1.0,-0.717,0.886,-0.037,-0.789,0.0872,-0.839,0.753,0.031,-0.736,0.381,-0.904,0.89,-0.921,0.602,-0.272,-0.988,-0.478,-0.995,0.472,1.02,-0.197,-0.947,0.902,-0.776,0.477,-1.02,0.693,-0.459,0.119,0.837,-0.811,0.883,1.07,-0.652,-0.991,-0.315,-0.445,0.783,0.086,-0.162,-1.0,-0.915,0.536,0.769,-0.0207,0.892,0.326,0.0703,-0.953,-1.06,0.659,0.626,-0.938,-0.67,-0.633,0.345,-0.459,0.827,-0.404,-0.978,-0.702,0.52,0.764,0.688,0.564,0.534,-0.991,0.524,0.991,-0.474,-0.871,-0.532,0.0484,0.444,0.121,-0.0483,0.84,-0.69,-0.752,-0.131,0.791,0.975,-1.02,-0.643,-0.985,0.137,-0.967,-0.0104,0.863,-0.621,-0.993,0.137,-0.728,-0.258,1.03,0.669,-0.707,0.977,-0.813,-0.475,-0.806,-0.285,0.847,-0.891,-0.179,-0.868,-0.914,0.627,-0.414,-0.964,0.391,-0.938,0.872,0.507,0.587,0.605,-0.98,0.6,1.05,0.987,-0.971,-0.7,0.975,0.378,-1.03,-1.02,-0.0628,-0.049,0.775,1.03,-0.203,-0.622,0.531,-0.685,0.885,-0.0216,0.37,-0.504,-0.464,-0.782,-0.202,0.314,0.585,0.449,0.381,0.283,0.447,0.974,0.594,0.327,-0.654,0.765,0.903,-0.595,-0.639,0.19,-0.43,-0.939,0.181,0.905,0.419,0.128,-0.41,-0.775,-0.928,-0.827,-0.0654,0.836,-0.854,-0.907,0.867,0.856,0.162,0.0192,-0.188,0.735,-0.96,-1.0,0.654,-0.635,0.883,-0.698,0.593,0.984,-0.359,0.781,0.17,-0.721,-0.583,-0.488,0.177,0.134,0.172,-0.849,0.875,0.967,0.427,0.429,0.271,0.934,-0.993,0.328,-0.781,0.836,0.657,0.0858,-0.183,-0.0836,-0.569,-0.414,0.675,0.516,-0.654,-0.45,-0.15,0.835,-0.995,0.0474,0.855,-0.406,-0.102,-0.661,-0.713,-0.431,-0.494,-0.759,0.539,-0.19,0.0569,0.862,0.374,0.959,1.01,-0.925,-0.961,-0.653,-0.758,-0.179,-0.464,0.875,-0.331,-0.921,-1.0,-0.429,0.425,-0.186,-0.81,-0.827,0.0186,-0.998,0.878,-0.609,-0.776,0.845,-0.773,0.688,-0.895,0.961,1.01,0.94,0.979,-0.442,0.603,-0.86,-0.573,-0.705,-1.01,0.851,0.905,-0.633,0.519,0.877,0.448,-0.394,0.767,-0.924,-0.542,0.742,0.801,-0.767,-0.478,0.386,0.579,-0.407,0.771,-0.954,-0.661,-0.821,0.412,0.5,0.45,0.572,-0.604,-0.579,0.804,0.497,0.131,-0.434,-0.968,-0.871,1.01,-0.0175,-0.0881,-0.12,-0.937,-0.636,0.923,0.0416,0.748,-0.93,0.249,0.422,-0.899,-0.669,0.264,-0.879,-0.901,0.572,0.91,-0.361,0.875,-0.947,0.881,-0.73],\"type\":\"scatter3d\"}],                        {\"template\":{\"data\":{\"bar\":[{\"error_x\":{\"color\":\"#2a3f5f\"},\"error_y\":{\"color\":\"#2a3f5f\"},\"marker\":{\"line\":{\"color\":\"#E5ECF6\",\"width\":0.5},\"pattern\":{\"fillmode\":\"overlay\",\"size\":10,\"solidity\":0.2}},\"type\":\"bar\"}],\"barpolar\":[{\"marker\":{\"line\":{\"color\":\"#E5ECF6\",\"width\":0.5},\"pattern\":{\"fillmode\":\"overlay\",\"size\":10,\"solidity\":0.2}},\"type\":\"barpolar\"}],\"carpet\":[{\"aaxis\":{\"endlinecolor\":\"#2a3f5f\",\"gridcolor\":\"white\",\"linecolor\":\"white\",\"minorgridcolor\":\"white\",\"startlinecolor\":\"#2a3f5f\"},\"baxis\":{\"endlinecolor\":\"#2a3f5f\",\"gridcolor\":\"white\",\"linecolor\":\"white\",\"minorgridcolor\":\"white\",\"startlinecolor\":\"#2a3f5f\"},\"type\":\"carpet\"}],\"choropleth\":[{\"colorbar\":{\"outlinewidth\":0,\"ticks\":\"\"},\"type\":\"choropleth\"}],\"contour\":[{\"colorbar\":{\"outlinewidth\":0,\"ticks\":\"\"},\"colorscale\":[[0.0,\"#0d0887\"],[0.1111111111111111,\"#46039f\"],[0.2222222222222222,\"#7201a8\"],[0.3333333333333333,\"#9c179e\"],[0.4444444444444444,\"#bd3786\"],[0.5555555555555556,\"#d8576b\"],[0.6666666666666666,\"#ed7953\"],[0.7777777777777778,\"#fb9f3a\"],[0.8888888888888888,\"#fdca26\"],[1.0,\"#f0f921\"]],\"type\":\"contour\"}],\"contourcarpet\":[{\"colorbar\":{\"outlinewidth\":0,\"ticks\":\"\"},\"type\":\"contourcarpet\"}],\"heatmap\":[{\"colorbar\":{\"outlinewidth\":0,\"ticks\":\"\"},\"colorscale\":[[0.0,\"#0d0887\"],[0.1111111111111111,\"#46039f\"],[0.2222222222222222,\"#7201a8\"],[0.3333333333333333,\"#9c179e\"],[0.4444444444444444,\"#bd3786\"],[0.5555555555555556,\"#d8576b\"],[0.6666666666666666,\"#ed7953\"],[0.7777777777777778,\"#fb9f3a\"],[0.8888888888888888,\"#fdca26\"],[1.0,\"#f0f921\"]],\"type\":\"heatmap\"}],\"heatmapgl\":[{\"colorbar\":{\"outlinewidth\":0,\"ticks\":\"\"},\"colorscale\":[[0.0,\"#0d0887\"],[0.1111111111111111,\"#46039f\"],[0.2222222222222222,\"#7201a8\"],[0.3333333333333333,\"#9c179e\"],[0.4444444444444444,\"#bd3786\"],[0.5555555555555556,\"#d8576b\"],[0.6666666666666666,\"#ed7953\"],[0.7777777777777778,\"#fb9f3a\"],[0.8888888888888888,\"#fdca26\"],[1.0,\"#f0f921\"]],\"type\":\"heatmapgl\"}],\"histogram\":[{\"marker\":{\"pattern\":{\"fillmode\":\"overlay\",\"size\":10,\"solidity\":0.2}},\"type\":\"histogram\"}],\"histogram2d\":[{\"colorbar\":{\"outlinewidth\":0,\"ticks\":\"\"},\"colorscale\":[[0.0,\"#0d0887\"],[0.1111111111111111,\"#46039f\"],[0.2222222222222222,\"#7201a8\"],[0.3333333333333333,\"#9c179e\"],[0.4444444444444444,\"#bd3786\"],[0.5555555555555556,\"#d8576b\"],[0.6666666666666666,\"#ed7953\"],[0.7777777777777778,\"#fb9f3a\"],[0.8888888888888888,\"#fdca26\"],[1.0,\"#f0f921\"]],\"type\":\"histogram2d\"}],\"histogram2dcontour\":[{\"colorbar\":{\"outlinewidth\":0,\"ticks\":\"\"},\"colorscale\":[[0.0,\"#0d0887\"],[0.1111111111111111,\"#46039f\"],[0.2222222222222222,\"#7201a8\"],[0.3333333333333333,\"#9c179e\"],[0.4444444444444444,\"#bd3786\"],[0.5555555555555556,\"#d8576b\"],[0.6666666666666666,\"#ed7953\"],[0.7777777777777778,\"#fb9f3a\"],[0.8888888888888888,\"#fdca26\"],[1.0,\"#f0f921\"]],\"type\":\"histogram2dcontour\"}],\"mesh3d\":[{\"colorbar\":{\"outlinewidth\":0,\"ticks\":\"\"},\"type\":\"mesh3d\"}],\"parcoords\":[{\"line\":{\"colorbar\":{\"outlinewidth\":0,\"ticks\":\"\"}},\"type\":\"parcoords\"}],\"pie\":[{\"automargin\":true,\"type\":\"pie\"}],\"scatter\":[{\"marker\":{\"colorbar\":{\"outlinewidth\":0,\"ticks\":\"\"}},\"type\":\"scatter\"}],\"scatter3d\":[{\"line\":{\"colorbar\":{\"outlinewidth\":0,\"ticks\":\"\"}},\"marker\":{\"colorbar\":{\"outlinewidth\":0,\"ticks\":\"\"}},\"type\":\"scatter3d\"}],\"scattercarpet\":[{\"marker\":{\"colorbar\":{\"outlinewidth\":0,\"ticks\":\"\"}},\"type\":\"scattercarpet\"}],\"scattergeo\":[{\"marker\":{\"colorbar\":{\"outlinewidth\":0,\"ticks\":\"\"}},\"type\":\"scattergeo\"}],\"scattergl\":[{\"marker\":{\"colorbar\":{\"outlinewidth\":0,\"ticks\":\"\"}},\"type\":\"scattergl\"}],\"scattermapbox\":[{\"marker\":{\"colorbar\":{\"outlinewidth\":0,\"ticks\":\"\"}},\"type\":\"scattermapbox\"}],\"scatterpolar\":[{\"marker\":{\"colorbar\":{\"outlinewidth\":0,\"ticks\":\"\"}},\"type\":\"scatterpolar\"}],\"scatterpolargl\":[{\"marker\":{\"colorbar\":{\"outlinewidth\":0,\"ticks\":\"\"}},\"type\":\"scatterpolargl\"}],\"scatterternary\":[{\"marker\":{\"colorbar\":{\"outlinewidth\":0,\"ticks\":\"\"}},\"type\":\"scatterternary\"}],\"surface\":[{\"colorbar\":{\"outlinewidth\":0,\"ticks\":\"\"},\"colorscale\":[[0.0,\"#0d0887\"],[0.1111111111111111,\"#46039f\"],[0.2222222222222222,\"#7201a8\"],[0.3333333333333333,\"#9c179e\"],[0.4444444444444444,\"#bd3786\"],[0.5555555555555556,\"#d8576b\"],[0.6666666666666666,\"#ed7953\"],[0.7777777777777778,\"#fb9f3a\"],[0.8888888888888888,\"#fdca26\"],[1.0,\"#f0f921\"]],\"type\":\"surface\"}],\"table\":[{\"cells\":{\"fill\":{\"color\":\"#EBF0F8\"},\"line\":{\"color\":\"white\"}},\"header\":{\"fill\":{\"color\":\"#C8D4E3\"},\"line\":{\"color\":\"white\"}},\"type\":\"table\"}]},\"layout\":{\"annotationdefaults\":{\"arrowcolor\":\"#2a3f5f\",\"arrowhead\":0,\"arrowwidth\":1},\"autotypenumbers\":\"strict\",\"coloraxis\":{\"colorbar\":{\"outlinewidth\":0,\"ticks\":\"\"}},\"colorscale\":{\"diverging\":[[0,\"#8e0152\"],[0.1,\"#c51b7d\"],[0.2,\"#de77ae\"],[0.3,\"#f1b6da\"],[0.4,\"#fde0ef\"],[0.5,\"#f7f7f7\"],[0.6,\"#e6f5d0\"],[0.7,\"#b8e186\"],[0.8,\"#7fbc41\"],[0.9,\"#4d9221\"],[1,\"#276419\"]],\"sequential\":[[0.0,\"#0d0887\"],[0.1111111111111111,\"#46039f\"],[0.2222222222222222,\"#7201a8\"],[0.3333333333333333,\"#9c179e\"],[0.4444444444444444,\"#bd3786\"],[0.5555555555555556,\"#d8576b\"],[0.6666666666666666,\"#ed7953\"],[0.7777777777777778,\"#fb9f3a\"],[0.8888888888888888,\"#fdca26\"],[1.0,\"#f0f921\"]],\"sequentialminus\":[[0.0,\"#0d0887\"],[0.1111111111111111,\"#46039f\"],[0.2222222222222222,\"#7201a8\"],[0.3333333333333333,\"#9c179e\"],[0.4444444444444444,\"#bd3786\"],[0.5555555555555556,\"#d8576b\"],[0.6666666666666666,\"#ed7953\"],[0.7777777777777778,\"#fb9f3a\"],[0.8888888888888888,\"#fdca26\"],[1.0,\"#f0f921\"]]},\"colorway\":[\"#636efa\",\"#EF553B\",\"#00cc96\",\"#ab63fa\",\"#FFA15A\",\"#19d3f3\",\"#FF6692\",\"#B6E880\",\"#FF97FF\",\"#FECB52\"],\"font\":{\"color\":\"#2a3f5f\"},\"geo\":{\"bgcolor\":\"white\",\"lakecolor\":\"white\",\"landcolor\":\"#E5ECF6\",\"showlakes\":true,\"showland\":true,\"subunitcolor\":\"white\"},\"hoverlabel\":{\"align\":\"left\"},\"hovermode\":\"closest\",\"mapbox\":{\"style\":\"light\"},\"paper_bgcolor\":\"white\",\"plot_bgcolor\":\"#E5ECF6\",\"polar\":{\"angularaxis\":{\"gridcolor\":\"white\",\"linecolor\":\"white\",\"ticks\":\"\"},\"bgcolor\":\"#E5ECF6\",\"radialaxis\":{\"gridcolor\":\"white\",\"linecolor\":\"white\",\"ticks\":\"\"}},\"scene\":{\"xaxis\":{\"backgroundcolor\":\"#E5ECF6\",\"gridcolor\":\"white\",\"gridwidth\":2,\"linecolor\":\"white\",\"showbackground\":true,\"ticks\":\"\",\"zerolinecolor\":\"white\"},\"yaxis\":{\"backgroundcolor\":\"#E5ECF6\",\"gridcolor\":\"white\",\"gridwidth\":2,\"linecolor\":\"white\",\"showbackground\":true,\"ticks\":\"\",\"zerolinecolor\":\"white\"},\"zaxis\":{\"backgroundcolor\":\"#E5ECF6\",\"gridcolor\":\"white\",\"gridwidth\":2,\"linecolor\":\"white\",\"showbackground\":true,\"ticks\":\"\",\"zerolinecolor\":\"white\"}},\"shapedefaults\":{\"line\":{\"color\":\"#2a3f5f\"}},\"ternary\":{\"aaxis\":{\"gridcolor\":\"white\",\"linecolor\":\"white\",\"ticks\":\"\"},\"baxis\":{\"gridcolor\":\"white\",\"linecolor\":\"white\",\"ticks\":\"\"},\"bgcolor\":\"#E5ECF6\",\"caxis\":{\"gridcolor\":\"white\",\"linecolor\":\"white\",\"ticks\":\"\"}},\"title\":{\"x\":0.05},\"xaxis\":{\"automargin\":true,\"gridcolor\":\"white\",\"linecolor\":\"white\",\"ticks\":\"\",\"title\":{\"standoff\":15},\"zerolinecolor\":\"white\",\"zerolinewidth\":2},\"yaxis\":{\"automargin\":true,\"gridcolor\":\"white\",\"linecolor\":\"white\",\"ticks\":\"\",\"title\":{\"standoff\":15},\"zerolinecolor\":\"white\",\"zerolinewidth\":2}}},\"scene\":{\"domain\":{\"x\":[0.0,1.0],\"y\":[0.0,1.0]},\"xaxis\":{\"title\":{\"text\":\"X1\"}},\"yaxis\":{\"title\":{\"text\":\"X2\"}},\"zaxis\":{\"title\":{\"text\":\"X3\"}}},\"coloraxis\":{\"colorbar\":{\"title\":{\"text\":\"predictedclass4a\"}},\"colorscale\":[[0.0,\"#0d0887\"],[0.1111111111111111,\"#46039f\"],[0.2222222222222222,\"#7201a8\"],[0.3333333333333333,\"#9c179e\"],[0.4444444444444444,\"#bd3786\"],[0.5555555555555556,\"#d8576b\"],[0.6666666666666666,\"#ed7953\"],[0.7777777777777778,\"#fb9f3a\"],[0.8888888888888888,\"#fdca26\"],[1.0,\"#f0f921\"]]},\"legend\":{\"tracegroupgap\":0},\"margin\":{\"t\":60}},                        {\"responsive\": true}                    ).then(function(){\n",
              "                            \n",
              "var gd = document.getElementById('0dfd510b-7823-4d2f-962c-bd4e9867c853');\n",
              "var x = new MutationObserver(function (mutations, observer) {{\n",
              "        var display = window.getComputedStyle(gd).display;\n",
              "        if (!display || display === 'none') {{\n",
              "            console.log([gd, 'removed!']);\n",
              "            Plotly.purge(gd);\n",
              "            observer.disconnect();\n",
              "        }}\n",
              "}});\n",
              "\n",
              "// Listen for the removal of the full notebook cells\n",
              "var notebookContainer = gd.closest('#notebook-container');\n",
              "if (notebookContainer) {{\n",
              "    x.observe(notebookContainer, {childList: true});\n",
              "}}\n",
              "\n",
              "// Listen for the clearing of the current output cell\n",
              "var outputEl = gd.closest('.output');\n",
              "if (outputEl) {{\n",
              "    x.observe(outputEl, {childList: true});\n",
              "}}\n",
              "\n",
              "                        })                };                            </script>        </div>\n",
              "</body>\n",
              "</html>"
            ]
          },
          "metadata": {}
        }
      ]
    },
    {
      "cell_type": "code",
      "source": [
        "# According to hierarchical clustering algorithm\n",
        "fig = px.scatter_3d(df4, x='X1', y = 'X2', z='X3', color = 'predictedclass4b')\n",
        "fig.show()"
      ],
      "metadata": {
        "id": "Hvq47iCAA6hc",
        "colab": {
          "base_uri": "https://localhost:8080/",
          "height": 542
        },
        "outputId": "2cef7226-c9dd-42f7-9b1e-ec2c753d0c7e"
      },
      "execution_count": null,
      "outputs": [
        {
          "output_type": "display_data",
          "data": {
            "text/html": [
              "<html>\n",
              "<head><meta charset=\"utf-8\" /></head>\n",
              "<body>\n",
              "    <div>            <script src=\"https://cdnjs.cloudflare.com/ajax/libs/mathjax/2.7.5/MathJax.js?config=TeX-AMS-MML_SVG\"></script><script type=\"text/javascript\">if (window.MathJax) {MathJax.Hub.Config({SVG: {font: \"STIX-Web\"}});}</script>                <script type=\"text/javascript\">window.PlotlyConfig = {MathJaxConfig: 'local'};</script>\n",
              "        <script src=\"https://cdn.plot.ly/plotly-2.8.3.min.js\"></script>                <div id=\"7c0850df-935f-44b0-88f4-4762b019b710\" class=\"plotly-graph-div\" style=\"height:525px; width:100%;\"></div>            <script type=\"text/javascript\">                                    window.PLOTLYENV=window.PLOTLYENV || {};                                    if (document.getElementById(\"7c0850df-935f-44b0-88f4-4762b019b710\")) {                    Plotly.newPlot(                        \"7c0850df-935f-44b0-88f4-4762b019b710\",                        [{\"hovertemplate\":\"X1=%{x}<br>X2=%{y}<br>X3=%{z}<br>predictedclass4b=%{marker.color}<extra></extra>\",\"legendgroup\":\"\",\"marker\":{\"color\":[2,2,1,1,2,1,1,2,2,2,1,2,1,1,2,1,2,1,1,2,2,2,1,2,2,1,2,1,2,2,1,1,2,2,1,1,1,2,1,2,1,1,2,2,1,1,2,2,1,2,2,2,2,2,2,2,2,2,1,2,2,1,1,1,2,2,2,1,1,2,1,1,2,2,1,1,1,1,2,1,1,1,2,2,2,2,2,1,2,2,2,1,1,2,1,1,2,2,2,2,2,1,1,2,2,1,1,2,1,2,1,1,2,2,1,1,2,2,2,1,1,1,2,1,1,2,2,2,2,1,2,2,2,2,2,2,1,1,2,2,1,1,2,2,1,2,1,1,2,2,1,2,1,2,1,1,2,1,2,2,1,2,1,2,2,2,1,2,2,1,2,2,2,1,1,2,2,2,2,2,2,2,2,2,1,2,2,1,2,2,2,2,1,2,1,2,2,2,1,2,2,2,1,1,2,1,1,1,2,2,2,2,2,2,1,2,1,2,1,1,2,2,1,1,2,2,2,2,2,2,1,2,2,2,2,2,1,2,1,2,2,1,2,1,2,2,1,1,1,2,2,1,1,1,1,2,1,2,2,1,1,2,2,2,2,2,2,1,1,2,2,1,1,1,2,1,2,1,1,2,2,1,1,1,1,2,1,2,1,2,2,2,2,1,2,2,2,1,2,1,2,2,1,2,1,2,2,2,2,2,1,2,2,2,1,1,2,2,2,1,2,2,2,1,1,1,1,1,2,2,1,1,2,1,1,2,2,1,1,2,1,2,2,2,2,1,1,1,1,2,1,1,2,2,1,2,2,1,1,1,2,2,1,1,1,2,2,2,2,2,2,2,2,2,2,2,2,2,1,2,1,2,1,1,1,1,2,2,2,2,1,2,2,2,2,2,1,2,1,2,2,1,1,1,2,2,1,2,1,1,2,1,1,2,1,2,2,2,2,2,1,1,2,2,1,2,1,2,2,1,1,2,2,1,1,2,2,2,2,2,2,2,2,1,2,1,2,1,2,2,2,2,1,2,2,2,2,2,1,2,2,2,1,2,2,2,2,1,2,1,2,2,2,2,1,2,2,1,1,2,2,1,1,1,2,2,1,2,2,1,2,1,2,2,1,2,2,1,2,2,1,1,1,1,1,1,1,1,1,1,1,1,1,1,1,1,1,1,1,1,1,1,1,1,1,1,1,1,1,1,1,1,1,1,1,1,1,1,1,1,1,1,1,1,1,1,1,1,1,1,1,1,1,1,1,1,1,1,1,1,1,1,1,1,1,1,1,1,1,1,1,1,1,1,1,1,1,1,1,1,1,1,1,1,1,1,1,1,1,1,1,1,1,1,1,1,1,1,1,1,1,1,1,1,1,1,1,1,1,1,1,1,1,1,1,1,1,1,1,1,1,1,1,1,1,1,1,1,1,1,1,1,1,1,1,1,1,1,1,1,1,1,1,1,1,1,1,1,1,1,1,1,1,1,1,1,1,1,1,1,1,1,1,1,1,1,1,1,1,1,1,1,1,1,1,1,1,1,1,1,1,1,1,1,1,1,1,1,1,1,1,1,1,1,1,1,1,1,1,1,1,1,1,1,1,1,1,1,1,1,1,1,1,1,1,1,1,1,1,1,1,1,1,1,1,1,1,1,1,1,1,1,1,1,1,1,1,1,1,1,1,1,1,1,1,1,1,1,1,1,1,1,1,1,1,1,1,1,1,1,1,1,1,1,1,1,1,1,1,1,1,1,1,1,1,1,1,1,1,1,1,1,1,1,1,1,1,1,1,1,1,1,1,1,1,1,1,1,1,1,1,1,1,1,1,1,1,1,1,1,1,1,1,1,1,1,1,1,1,1,1,1,1,1,1,1,1,1,1,1,1,1,1,1,1,1,1,1,1,1,1,1,1,1,1,1,1,1,1,1,1,1,1,1,1,1,1,1,1,1,1,1,1,1,1,1,1,1,1,1,1,1,1,1,1,1,1,1,1,1,1,1,1,1,1,1,1,1,1,1,1,1,1,1,1,1,1,1,1,1,1,1,1,1,1,1,1,1,1,1,1,1,1,1,1,1,1,1,1,1,1,1,1,1,1,1,1,1,1,1,1,1,1,1,1,1,1,1,1,1,1,1,1,1,1,1,1,1,1,1,1,1,1,1,1,1,1,1,1,1,1,1,1,1,1,1,1,1,1,1,1,1,1,1,1,1,1,1,1,1,1,1,1,1,1,1,1,1,1,1,1,1,1,1,1,1,1,1,1,1],\"coloraxis\":\"coloraxis\",\"symbol\":\"circle\"},\"mode\":\"markers\",\"name\":\"\",\"scene\":\"scene\",\"showlegend\":false,\"x\":[-0.453,0.653,0.398,0.0952,0.524,-0.0263,0.425,-0.991,-1.01,-0.73,0.879,-0.845,-0.385,0.24,1.03,0.871,-1.02,0.592,0.297,-0.832,0.607,-0.712,-0.537,-0.893,0.0724,0.579,0.866,-0.36,-0.778,-0.0979,0.887,0.754,1.05,-0.205,0.797,0.807,-0.0722,-0.415,-0.0832,0.508,-0.238,-0.634,-0.852,-0.573,-0.723,-0.677,-0.464,-0.711,0.612,-0.58,0.17,0.769,-0.293,-0.209,0.3,-0.0317,0.223,0.91,0.391,-0.995,-1.03,-0.0574,0.779,0.515,-0.968,-0.891,-1.05,-0.117,-0.652,0.776,0.394,0.491,-1.03,0.224,-0.897,-0.738,0.0433,0.633,-0.988,-0.626,0.928,0.929,0.549,0.312,0.379,-0.615,0.914,-0.73,-1.07,0.949,-0.171,-0.059,0.499,0.355,0.471,-0.701,-0.987,0.761,-0.574,0.927,0.579,-0.654,0.427,1.04,-0.979,0.398,0.89,0.869,-0.245,0.936,-0.815,-0.971,-0.283,0.907,0.728,-0.0941,0.428,-0.796,0.214,-0.664,-0.306,1.03,0.897,0.857,-0.887,0.117,-0.943,-0.896,0.345,-0.687,0.293,-1.01,-0.184,1.04,0.642,-0.0802,-0.315,0.968,-0.892,0.436,-0.202,-0.886,-0.607,0.898,0.637,0.854,0.895,-0.777,0.886,-0.508,0.393,0.811,0.927,0.569,0.872,0.204,0.915,-0.45,-0.917,0.408,0.817,0.924,-0.111,-0.964,0.605,-0.818,0.837,-0.806,0.355,0.289,-0.729,0.931,0.99,-0.419,-0.64,-1.0,-0.717,0.886,-0.037,-0.789,0.0872,-0.839,0.753,0.031,-0.736,0.381,-0.904,0.89,-0.921,0.602,-0.272,-0.988,-0.478,-0.995,0.472,1.02,-0.197,-0.947,0.902,-0.776,0.477,-1.02,0.693,-0.459,0.119,0.837,-0.811,0.883,1.07,-0.652,-0.991,-0.315,-0.445,0.783,0.086,-0.162,-1.0,-0.915,0.536,0.769,-0.0207,0.892,0.326,0.0703,-0.953,-1.06,0.659,0.626,-0.938,-0.67,-0.633,0.345,-0.459,0.827,-0.404,-0.978,-0.702,0.52,0.764,0.688,0.564,0.534,-0.991,0.524,0.991,-0.474,-0.871,-0.532,0.0484,0.444,0.121,-0.0483,0.84,-0.69,-0.752,-0.131,0.791,0.975,-1.02,-0.643,-0.985,0.137,-0.967,-0.0104,0.863,-0.621,-0.993,0.137,-0.728,-0.258,1.03,0.669,-0.707,0.977,-0.813,-0.475,-0.806,-0.285,0.847,-0.891,-0.179,-0.868,-0.914,0.627,-0.414,-0.964,0.391,-0.938,0.872,0.507,0.587,0.605,-0.98,0.6,1.05,0.987,-0.971,-0.7,0.975,0.378,-1.03,-1.02,-0.0628,-0.049,0.775,1.03,-0.203,-0.622,0.531,-0.685,0.885,-0.0216,0.37,-0.504,-0.464,-0.782,-0.202,0.314,0.585,0.449,0.381,0.283,0.447,0.974,0.594,0.327,-0.654,0.765,0.903,-0.595,-0.639,0.19,-0.43,-0.939,0.181,0.905,0.419,0.128,-0.41,-0.775,-0.928,-0.827,-0.0654,0.836,-0.854,-0.907,0.867,0.856,0.162,0.0192,-0.188,0.735,-0.96,-1.0,0.654,-0.635,0.883,-0.698,0.593,0.984,-0.359,0.781,0.17,-0.721,-0.583,-0.488,0.177,0.134,0.172,-0.849,0.875,0.967,0.427,0.429,0.271,0.934,-0.993,0.328,-0.781,0.836,0.657,0.0858,-0.183,-0.0836,-0.569,-0.414,0.675,0.516,-0.654,-0.45,-0.15,0.835,-0.995,0.0474,0.855,-0.406,-0.102,-0.661,-0.713,-0.431,-0.494,-0.759,0.539,-0.19,0.0569,0.862,0.374,0.959,1.01,-0.925,-0.961,-0.653,-0.758,-0.179,-0.464,0.875,-0.331,-0.921,-1.0,-0.429,0.425,-0.186,-0.81,-0.827,0.0186,-0.998,0.878,-0.609,-0.776,0.845,-0.773,0.688,-0.895,0.961,1.01,0.94,0.979,-0.442,0.603,-0.86,-0.573,-0.705,-1.01,0.851,0.905,-0.633,0.519,0.877,0.448,-0.394,0.767,-0.924,-0.542,0.742,0.801,-0.767,-0.478,0.386,0.579,-0.407,0.771,-0.954,-0.661,-0.821,0.412,0.5,0.45,0.572,-0.604,-0.579,0.804,0.497,0.131,-0.434,-0.968,-0.871,1.01,-0.0175,-0.0881,-0.12,-0.937,-0.636,0.923,0.0416,0.748,-0.93,0.249,0.422,-0.899,-0.669,0.264,-0.879,-0.901,0.572,0.91,-0.361,0.875,-0.947,0.881,-0.73,0.023,0.0211,-0.00139,0.00628,0.0378,0.0218,-0.0285,0.0511,0.038,-0.0312,0.0439,0.0849,0.00558,0.048,0.0727,-0.0403,0.0278,0.0361,0.00662,0.0542,-0.0182,0.0125,0.00197,-0.0108,0.0486,-0.000759,0.00596,-0.0163,-0.0865,0.0224,0.0486,-0.0179,0.0238,-0.0306,0.0313,-0.0022,-0.0157,0.0199,0.036,0.0221,-0.0305,-0.0258,0.00465,0.0685,0.0318,-0.00521,-0.0345,-0.0682,-0.0168,-0.0398,0.0132,-0.0136,0.0172,0.0158,0.00309,0.0108,0.0138,-0.0155,-0.0276,0.0362,0.0937,0.00857,-0.0371,-0.0268,-0.0816,-0.034,-0.0103,-0.043,0.0177,-0.000988,-0.0246,0.00246,0.00174,-0.032,0.023,-0.0471,0.00162,0.00724,-0.00411,0.0882,0.0664,0.047,0.0105,-0.0209,0.0297,-0.0178,0.0108,0.0105,-0.043,-0.000192,0.0115,-0.0718,0.0589,-0.0848,-0.0613,-0.0347,-0.000942,-0.0158,-0.0214,0.0365,0.00343,0.0445,-0.0379,0.0813,-0.00902,-0.0108,0.0658,0.027,-0.0189,0.00446,-0.0574,-0.00957,-0.0375,-0.000365,-0.00337,-0.011,-0.0345,0.0249,-0.0105,0.0739,0.00343,0.0593,0.0528,0.0508,-0.063,0.00448,-0.00359,0.00037,0.0366,-0.0821,0.00899,-0.0289,-0.0111,0.0814,-0.0767,-0.00217,0.0554,0.0813,0.0199,-0.0228,0.0549,-0.00618,-0.0096,-0.0155,0.0147,0.0669,-0.0395,0.034,0.0233,0.000597,0.0551,-0.0442,0.0358,-0.073,-0.0539,0.0308,-0.0892,0.0207,-0.0724,0.0152,0.0493,0.00251,0.00817,0.0471,-0.0337,-0.0356,0.00956,0.0265,-0.00756,-0.000797,0.0923,0.0357,0.0273,0.0109,0.0239,0.0947,0.0596,-0.0727,0.0446,0.00378,0.0691,0.00118,0.0034,0.0603,-0.0985,-0.0489,-0.0608,0.0918,-0.0392,0.0637,0.0527,0.0373,-0.00584,-0.0183,-0.0743,0.0562,0.023,-0.0368,0.00415,-0.0402,-0.0262,0.075,0.0583,0.0306,0.0385,0.068,0.00052,0.000414,-0.0218,0.042,-0.0954,-0.0183,0.065,0.00831,-0.0705,0.000729,0.0901,-0.0561,0.0245,0.0608,0.0229,0.00766,0.0109,-0.0169,-0.0318,0.0484,0.0562,-0.0224,-0.0386,0.0158,0.0213,-0.0679,0.0692,-0.00386,0.0615,-0.00225,0.0282,-0.0123,-0.00815,0.00145,0.0801,-0.016,0.00802,0.0107,0.0434,0.035,0.00698,-0.00885,0.0476,-0.003,-0.0715,0.0242,0.0122,-0.0466,0.00394,0.00985,0.0284,0.0303,0.026,-0.0604,0.00622,-0.0654,0.000749,-0.019,-0.0401,0.0561,-0.00384,-0.0266,-0.0144,0.015,-0.0874,-0.00736,-0.0552,-0.000199,0.0242,-0.0385,-0.0765,0.0257,-0.0577,0.0352,0.0251,0.000919,0.0622,-0.0141,-0.0844,-0.0118,-0.0693,0.0199,0.0505,0.0194,0.0673,-0.0154,-0.0369,0.0757,-0.0106,0.0235,0.0215,0.0471,-0.0287,-0.0461,0.0459,-8.77e-05,-0.00454,-0.000586,-0.0416,0.0341,0.00453,0.0525,-0.0423,-0.00358,0.037,0.00931,0.0192,-0.0378,0.014,0.0137,-0.00423,-0.00373,-0.0171,0.055,0.0647,0.0389,0.0838,0.0351,-0.0111,0.000201,0.0619,-0.0698,-0.0188,-0.00427,-0.0349,0.0565,-0.0638,0.048,-0.061,0.0626,-0.0267,-0.0204,-0.0163,0.0923,0.035,0.0498,0.0189,0.036,0.0671,0.0253,-0.00343,-0.0832,0.00244,0.049,0.0188,0.0325,0.00743,0.0249,0.0544,-0.0847,0.053,-0.0331,-0.00198,0.0343,0.00506,0.0769,0.00998,-0.0169,0.0477,0.0478,0.00297,-0.023,0.0109,0.0287,-0.0254,0.0181,-0.000431,-0.071,-0.0225,0.044,-0.0464,0.0279,0.00272,0.0153,0.0767,-0.0397,-0.00152,-0.00573,-0.00293,-0.0289,-0.0395,-0.0296,0.0254,0.0583,-0.0399,-0.00578,-0.00442,0.0146,-0.0766,0.0846,-0.0343,-0.0249,0.0838,0.0575,0.014,0.0386,-0.0491,-0.0118,-0.00828,-0.0237,-0.0445,0.0516,0.0693,0.0172,-0.00323,0.00663,-0.0836,-0.0128,0.0625,-0.0428,-0.00794,0.0101,-0.0253,-0.0561,0.0283,-0.0342,-0.00101,0.000969,0.0128,0.00632,-0.0228,0.0223,-0.0487,-0.0196,0.00587,0.0082,-0.0627,0.0465,0.0213,0.000526,0.00361,0.0292,0.00673,0.0466,0.0262,-0.0204,-0.0039,0.0561,0.00935,0.0319,0.0108,0.00904,0.0945,0.0131,-0.0175,0.0173,-0.0327,0.0416,-0.00591,0.0454,0.0241,-0.000667,-0.0496,0.0264,0.0267,-0.0457,-0.0116,0.073,0.042,0.00687,0.0543,-0.0763,0.00165,-0.000644,-0.0022,-0.000554,-0.022,0.014,-0.0967,-0.0261,-0.0514,-0.0283,-0.0696,-0.0805,0.0431,0.00803,-0.0255,-0.00861,-0.00929,-0.0793,0.0195,0.0564,0.084,-0.00884,-0.048,-0.0289,-0.0731,0.00323,-0.0561,0.0152,0.0516,-0.00511,-0.0671,-0.0577],\"y\":[-0.891,-0.846,0.913,1.05,-0.941,1.0,0.908,-0.275,-0.0353,-0.631,0.346,-0.459,0.921,0.884,-0.26,0.502,-0.00556,0.787,0.946,-0.403,-0.782,-0.739,0.859,-0.42,-0.913,0.819,-0.496,1.03,-0.603,-0.988,0.401,0.742,-0.0772,-0.956,0.551,0.629,1.01,-0.972,1.09,-0.794,0.906,0.689,-0.596,-0.891,0.712,0.804,-0.969,-0.761,0.845,-0.746,-0.975,-0.622,-0.98,-1.0,-0.965,-1.04,-0.975,-0.484,0.884,-0.0568,0.0244,1.01,0.691,0.836,0.117,-0.502,-0.177,1.06,0.724,-0.681,0.939,0.868,-0.31,-0.939,0.474,0.646,1.02,0.783,-0.335,0.746,0.521,0.323,-0.87,-0.902,-0.936,-0.906,-0.575,0.703,-0.0547,-0.245,-0.974,0.93,0.824,-0.895,0.851,0.724,-0.171,-0.535,-0.77,0.101,-0.772,0.763,0.837,0.0493,-0.0505,0.886,0.572,-0.419,0.925,0.121,0.586,0.293,-0.998,-0.417,0.683,0.989,-0.945,-0.592,-0.975,0.771,0.857,0.224,-0.281,0.392,0.485,-0.99,-0.335,-0.453,-0.954,0.703,-0.973,-0.00601,-0.929,-0.0431,-0.848,-0.95,0.977,0.292,-0.376,-0.92,1.02,0.576,-0.796,-0.349,0.757,-0.467,0.204,0.647,-0.504,-0.86,0.934,-0.483,0.342,-0.746,0.315,0.977,-0.471,0.89,-0.462,-0.919,0.513,-0.478,0.991,0.141,-0.889,-0.553,0.535,-0.609,-0.944,0.959,-0.733,0.0353,-0.00617,0.863,0.838,-0.0656,-0.708,-0.472,-1.0,-0.613,-1.0,-0.552,-0.53,-1.02,0.654,-0.927,-0.31,0.402,-0.281,-0.878,-0.976,-0.0399,0.867,-0.149,0.829,-0.0731,-0.941,0.115,0.557,-0.719,-0.874,-0.179,0.632,0.929,-1.08,0.503,0.672,0.47,-0.0124,-0.792,-0.0248,-0.882,-0.926,-0.573,1.06,-0.987,0.241,-0.134,0.876,0.692,-1.08,-0.464,1.0,1.0,-0.0362,0.104,-0.682,-0.811,-0.176,-0.652,0.816,-0.877,-0.829,-0.671,-0.907,-0.24,0.69,-0.946,0.651,-0.724,-0.779,0.804,-0.154,0.923,0.0649,-0.95,0.475,0.852,0.993,-0.829,-1.02,1.09,0.374,0.606,0.717,-1.01,0.602,-0.465,-0.156,0.697,0.221,-0.954,-0.254,-0.98,-0.531,-0.869,0.126,1.05,0.647,-0.973,-0.0982,0.696,0.709,0.213,-0.614,0.803,-0.501,0.925,0.593,-0.305,-1.0,0.495,0.46,0.651,0.876,-0.28,0.884,-0.232,0.646,-0.877,-0.795,-0.77,-0.138,0.791,0.029,-0.121,-0.297,0.614,0.0887,0.932,-0.0892,-0.32,1.0,-0.987,0.718,-0.114,-1.0,-0.784,-0.899,-0.725,0.601,-0.998,-0.914,-0.952,0.87,0.557,-0.987,-0.871,-0.819,0.853,-0.864,-1.0,-0.901,0.239,0.778,0.927,0.713,0.696,-0.275,-0.807,0.764,0.907,-0.899,0.484,1.04,-0.286,-0.873,0.947,0.9,-0.576,0.422,-0.503,-0.924,-0.379,-0.632,0.318,0.523,0.555,1.03,-1.01,0.953,0.756,-0.275,0.134,0.688,-0.788,-0.377,0.671,0.804,0.312,-0.938,-0.681,0.968,0.671,0.897,-0.903,-0.906,-0.98,-0.959,-0.616,-0.588,-0.23,-0.905,-0.869,-0.906,-0.0368,-0.264,-0.921,0.638,-0.623,0.809,-1.06,0.983,0.989,0.819,0.907,-0.82,-0.866,-0.793,-0.925,0.992,-0.542,-0.049,-1.0,-0.487,-0.945,0.916,-0.629,0.763,-0.88,-0.86,0.611,0.862,0.969,-0.966,-0.609,0.892,-0.19,0.156,0.354,-0.26,0.745,0.727,-0.912,0.83,-0.43,-0.937,-0.304,-0.09,-0.905,0.838,0.908,-0.611,-0.387,1.01,-0.327,0.485,-0.809,-0.503,0.569,0.652,-0.803,-0.484,0.303,0.174,-0.338,-0.011,-0.897,-0.689,-0.496,-0.917,-0.666,-0.106,0.416,0.0292,0.792,-0.756,0.448,-0.924,-0.932,-0.574,-0.391,0.745,-0.555,-0.521,-0.665,-0.767,-0.931,0.802,-0.903,-0.631,-0.237,0.7,-0.549,-0.935,-0.866,-0.933,0.818,-0.765,0.815,-0.542,-0.786,-0.993,-0.917,0.325,-0.532,0.0,0.995,1.05,-1.04,-0.327,0.774,0.445,1.05,-0.748,-0.427,0.939,-0.968,-0.361,0.77,-1.01,0.357,-0.351,-0.816,0.176,-0.947,-0.309,0.392,-0.286,-0.572,0.109,0.154,1.91,2.05,0.0589,2.0,1.91,0.725,0.965,0.369,1.35,0.541,1.92,1.88,0.74,1.5,0.994,1.79,1.95,0.597,0.218,0.261,1.86,0.58,0.0868,1.82,0.504,2.03,0.397,0.0122,1.4,1.74,0.923,0.0438,1.55,1.63,2.01,0.0279,2.09,0.206,1.91,1.69,0.404,0.109,1.71,1.8,0.0306,0.239,1.85,0.254,0.0246,0.378,0.0204,-0.00147,0.0353,-0.045,0.0249,0.516,1.88,0.943,1.02,2.01,1.69,1.84,1.12,0.498,0.823,2.06,1.72,0.319,1.94,1.87,0.69,0.0605,1.47,1.65,2.02,1.78,0.665,1.75,1.52,1.32,0.13,0.0978,0.0639,0.0937,0.425,1.7,0.945,0.755,0.0255,1.93,1.82,0.105,1.85,1.72,0.829,0.465,0.23,1.1,0.228,1.76,1.84,1.05,0.949,1.89,1.57,0.581,1.93,1.12,1.59,1.29,0.00191,0.583,1.68,1.99,0.0554,0.408,0.0252,1.77,1.86,1.22,0.719,1.39,1.49,0.00957,0.665,0.547,0.0461,1.7,0.0273,0.994,0.0705,0.957,0.152,0.0498,1.98,1.29,0.624,0.0803,2.02,1.58,0.204,0.651,1.76,0.533,1.2,1.65,0.496,0.14,1.93,0.517,1.34,0.254,1.31,1.98,0.529,1.89,0.538,0.0814,1.51,0.522,1.99,1.14,0.111,0.447,1.54,0.391,0.0562,1.96,0.267,1.04,0.994,1.86,1.84,0.934,0.292,0.528,-0.000509,0.387,-0.00493,0.448,0.47,-0.0203,1.65,0.0735,0.69,1.4,0.719,0.122,0.0237,0.96,1.87,0.851,1.83,0.927,0.0592,1.11,1.56,0.281,0.126,0.821,1.63,1.93,-0.0813,1.5,1.67,1.47,0.988,0.208,0.975,0.118,0.0736,0.427,2.06,0.0132,1.24,0.866,1.88,1.69,-0.0792,0.536,2.0,2.0,0.964,1.1,0.318,0.189,0.824,0.348,1.82,0.123,0.171,0.329,0.0925,0.76,1.69,0.0536,1.65,0.276,0.221,1.8,0.846,1.92,1.06,0.0503,1.48,1.85,1.99,0.171,-0.015,2.09,1.37,1.61,1.72,-0.00888,1.6,0.535,0.844,1.7,1.22,0.0461,0.746,0.02,0.469,0.131,1.13,2.05,1.65,0.0274,0.902,1.7,1.71,1.21,0.386,1.8,0.499,1.93,1.59,0.695,0.000448,1.49,1.46,1.65,1.88,0.72,1.88,0.768,1.65,0.123,0.205,0.23,0.862,1.79,1.03,0.879,0.703,1.61,1.09,1.93,0.911,0.68,2.0,0.0126,1.72,0.886,5.57e-05,0.216,0.101,0.275,1.6,0.00193,0.0862,0.0479,1.87,1.56,0.0126,0.129,0.181,1.85,0.136,0.000359,0.0987,1.24,1.78,1.93,1.71,1.7,0.725,0.193,1.76,1.91,0.101,1.48,2.04,0.714,0.127,1.95,1.9,0.424,1.42,0.497,0.0762,0.621,0.368,1.32,1.52,1.55,2.03,-0.00645,1.95,1.76,0.725,1.13,1.69,0.212,0.623,1.67,1.8,1.31,0.0616,0.319,1.97,1.67,1.9,0.0974,0.0944,0.0197,0.0411,0.384,0.412,0.77,0.0951,0.131,0.0945,0.963,0.736,0.0787,1.64,0.377,1.81,-0.0579,1.98,1.99,1.82,1.91,0.18,0.134,0.207,0.0745,1.99,0.458,0.951,-0.00193,0.513,0.0547,1.92,0.371,1.76,0.12,0.14,1.61,1.86,1.97,0.0341,0.391,1.89,0.81,1.16,1.35,0.74,1.75,1.73,0.0876,1.83,0.57,0.0626,0.696,0.91,0.095,1.84,1.91,0.389,0.613,2.01,0.673,1.49,0.191,0.497,1.57,1.65,0.197,0.516,1.3,1.17,0.662,0.989,0.103,0.311,0.504,0.0829,0.334,0.894,1.42,1.03,1.79,0.244,1.45,0.0764,0.0679,0.426,0.609,1.75,0.445,0.479,0.335,0.233,0.0688,1.8,0.0973,0.369,0.763,1.7,0.451,0.0655,0.134,0.0672,1.82,0.235,1.82,0.458,0.214,0.00744,0.083,1.33,0.468,1.0,2.0,2.05,-0.0374,0.673,1.77,1.45,2.05,0.252,0.573,1.94,0.0324,0.639,1.77,-0.0126,1.36,0.649,0.184,1.18,0.0531,0.691,1.39,0.714,0.428],\"z\":[0.023,0.0211,-0.00139,0.00628,0.0378,0.0218,-0.0285,0.0511,0.038,-0.0312,0.0439,0.0849,0.00558,0.048,0.0727,-0.0403,0.0278,0.0361,0.00662,0.0542,-0.0182,0.0125,0.00197,-0.0108,0.0486,-0.000759,0.00596,-0.0163,-0.0865,0.0224,0.0486,-0.0179,0.0238,-0.0306,0.0313,-0.0022,-0.0157,0.0199,0.036,0.0221,-0.0305,-0.0258,0.00465,0.0685,0.0318,-0.00521,-0.0345,-0.0682,-0.0168,-0.0398,0.0132,-0.0136,0.0172,0.0158,0.00309,0.0108,0.0138,-0.0155,-0.0276,0.0362,0.0937,0.00857,-0.0371,-0.0268,-0.0816,-0.034,-0.0103,-0.043,0.0177,-0.000988,-0.0246,0.00246,0.00174,-0.032,0.023,-0.0471,0.00162,0.00724,-0.00411,0.0882,0.0664,0.047,0.0105,-0.0209,0.0297,-0.0178,0.0108,0.0105,-0.043,-0.000192,0.0115,-0.0718,0.0589,-0.0848,-0.0613,-0.0347,-0.000942,-0.0158,-0.0214,0.0365,0.00343,0.0445,-0.0379,0.0813,-0.00902,-0.0108,0.0658,0.027,-0.0189,0.00446,-0.0574,-0.00957,-0.0375,-0.000365,-0.00337,-0.011,-0.0345,0.0249,-0.0105,0.0739,0.00343,0.0593,0.0528,0.0508,-0.063,0.00448,-0.00359,0.00037,0.0366,-0.0821,0.00899,-0.0289,-0.0111,0.0814,-0.0767,-0.00217,0.0554,0.0813,0.0199,-0.0228,0.0549,-0.00618,-0.0096,-0.0155,0.0147,0.0669,-0.0395,0.034,0.0233,0.000597,0.0551,-0.0442,0.0358,-0.073,-0.0539,0.0308,-0.0892,0.0207,-0.0724,0.0152,0.0493,0.00251,0.00817,0.0471,-0.0337,-0.0356,0.00956,0.0265,-0.00756,-0.000797,0.0923,0.0357,0.0273,0.0109,0.0239,0.0947,0.0596,-0.0727,0.0446,0.00378,0.0691,0.00118,0.0034,0.0603,-0.0985,-0.0489,-0.0608,0.0918,-0.0392,0.0637,0.0527,0.0373,-0.00584,-0.0183,-0.0743,0.0562,0.023,-0.0368,0.00415,-0.0402,-0.0262,0.075,0.0583,0.0306,0.0385,0.068,0.00052,0.000414,-0.0218,0.042,-0.0954,-0.0183,0.065,0.00831,-0.0705,0.000729,0.0901,-0.0561,0.0245,0.0608,0.0229,0.00766,0.0109,-0.0169,-0.0318,0.0484,0.0562,-0.0224,-0.0386,0.0158,0.0213,-0.0679,0.0692,-0.00386,0.0615,-0.00225,0.0282,-0.0123,-0.00815,0.00145,0.0801,-0.016,0.00802,0.0107,0.0434,0.035,0.00698,-0.00885,0.0476,-0.003,-0.0715,0.0242,0.0122,-0.0466,0.00394,0.00985,0.0284,0.0303,0.026,-0.0604,0.00622,-0.0654,0.000749,-0.019,-0.0401,0.0561,-0.00384,-0.0266,-0.0144,0.015,-0.0874,-0.00736,-0.0552,-0.000199,0.0242,-0.0385,-0.0765,0.0257,-0.0577,0.0352,0.0251,0.000919,0.0622,-0.0141,-0.0844,-0.0118,-0.0693,0.0199,0.0505,0.0194,0.0673,-0.0154,-0.0369,0.0757,-0.0106,0.0235,0.0215,0.0471,-0.0287,-0.0461,0.0459,-8.77e-05,-0.00454,-0.000586,-0.0416,0.0341,0.00453,0.0525,-0.0423,-0.00358,0.037,0.00931,0.0192,-0.0378,0.014,0.0137,-0.00423,-0.00373,-0.0171,0.055,0.0647,0.0389,0.0838,0.0351,-0.0111,0.000201,0.0619,-0.0698,-0.0188,-0.00427,-0.0349,0.0565,-0.0638,0.048,-0.061,0.0626,-0.0267,-0.0204,-0.0163,0.0923,0.035,0.0498,0.0189,0.036,0.0671,0.0253,-0.00343,-0.0832,0.00244,0.049,0.0188,0.0325,0.00743,0.0249,0.0544,-0.0847,0.053,-0.0331,-0.00198,0.0343,0.00506,0.0769,0.00998,-0.0169,0.0477,0.0478,0.00297,-0.023,0.0109,0.0287,-0.0254,0.0181,-0.000431,-0.071,-0.0225,0.044,-0.0464,0.0279,0.00272,0.0153,0.0767,-0.0397,-0.00152,-0.00573,-0.00293,-0.0289,-0.0395,-0.0296,0.0254,0.0583,-0.0399,-0.00578,-0.00442,0.0146,-0.0766,0.0846,-0.0343,-0.0249,0.0838,0.0575,0.014,0.0386,-0.0491,-0.0118,-0.00828,-0.0237,-0.0445,0.0516,0.0693,0.0172,-0.00323,0.00663,-0.0836,-0.0128,0.0625,-0.0428,-0.00794,0.0101,-0.0253,-0.0561,0.0283,-0.0342,-0.00101,0.000969,0.0128,0.00632,-0.0228,0.0223,-0.0487,-0.0196,0.00587,0.0082,-0.0627,0.0465,0.0213,0.000526,0.00361,0.0292,0.00673,0.0466,0.0262,-0.0204,-0.0039,0.0561,0.00935,0.0319,0.0108,0.00904,0.0945,0.0131,-0.0175,0.0173,-0.0327,0.0416,-0.00591,0.0454,0.0241,-0.000667,-0.0496,0.0264,0.0267,-0.0457,-0.0116,0.073,0.042,0.00687,0.0543,-0.0763,0.00165,-0.000644,-0.0022,-0.000554,-0.022,0.014,-0.0967,-0.0261,-0.0514,-0.0283,-0.0696,-0.0805,0.0431,0.00803,-0.0255,-0.00861,-0.00929,-0.0793,0.0195,0.0564,0.084,-0.00884,-0.048,-0.0289,-0.0731,0.00323,-0.0561,0.0152,0.0516,-0.00511,-0.0671,-0.0577,-0.453,0.653,0.398,0.0952,0.524,-0.0263,0.425,-0.991,-1.01,-0.73,0.879,-0.845,-0.385,0.24,1.03,0.871,-1.02,0.592,0.297,-0.832,0.607,-0.712,-0.537,-0.893,0.0724,0.579,0.866,-0.36,-0.778,-0.0979,0.887,0.754,1.05,-0.205,0.797,0.807,-0.0722,-0.415,-0.0832,0.508,-0.238,-0.634,-0.852,-0.573,-0.723,-0.677,-0.464,-0.711,0.612,-0.58,0.17,0.769,-0.293,-0.209,0.3,-0.0317,0.223,0.91,0.391,-0.995,-1.03,-0.0574,0.779,0.515,-0.968,-0.891,-1.05,-0.117,-0.652,0.776,0.394,0.491,-1.03,0.224,-0.897,-0.738,0.0433,0.633,-0.988,-0.626,0.928,0.929,0.549,0.312,0.379,-0.615,0.914,-0.73,-1.07,0.949,-0.171,-0.059,0.499,0.355,0.471,-0.701,-0.987,0.761,-0.574,0.927,0.579,-0.654,0.427,1.04,-0.979,0.398,0.89,0.869,-0.245,0.936,-0.815,-0.971,-0.283,0.907,0.728,-0.0941,0.428,-0.796,0.214,-0.664,-0.306,1.03,0.897,0.857,-0.887,0.117,-0.943,-0.896,0.345,-0.687,0.293,-1.01,-0.184,1.04,0.642,-0.0802,-0.315,0.968,-0.892,0.436,-0.202,-0.886,-0.607,0.898,0.637,0.854,0.895,-0.777,0.886,-0.508,0.393,0.811,0.927,0.569,0.872,0.204,0.915,-0.45,-0.917,0.408,0.817,0.924,-0.111,-0.964,0.605,-0.818,0.837,-0.806,0.355,0.289,-0.729,0.931,0.99,-0.419,-0.64,-1.0,-0.717,0.886,-0.037,-0.789,0.0872,-0.839,0.753,0.031,-0.736,0.381,-0.904,0.89,-0.921,0.602,-0.272,-0.988,-0.478,-0.995,0.472,1.02,-0.197,-0.947,0.902,-0.776,0.477,-1.02,0.693,-0.459,0.119,0.837,-0.811,0.883,1.07,-0.652,-0.991,-0.315,-0.445,0.783,0.086,-0.162,-1.0,-0.915,0.536,0.769,-0.0207,0.892,0.326,0.0703,-0.953,-1.06,0.659,0.626,-0.938,-0.67,-0.633,0.345,-0.459,0.827,-0.404,-0.978,-0.702,0.52,0.764,0.688,0.564,0.534,-0.991,0.524,0.991,-0.474,-0.871,-0.532,0.0484,0.444,0.121,-0.0483,0.84,-0.69,-0.752,-0.131,0.791,0.975,-1.02,-0.643,-0.985,0.137,-0.967,-0.0104,0.863,-0.621,-0.993,0.137,-0.728,-0.258,1.03,0.669,-0.707,0.977,-0.813,-0.475,-0.806,-0.285,0.847,-0.891,-0.179,-0.868,-0.914,0.627,-0.414,-0.964,0.391,-0.938,0.872,0.507,0.587,0.605,-0.98,0.6,1.05,0.987,-0.971,-0.7,0.975,0.378,-1.03,-1.02,-0.0628,-0.049,0.775,1.03,-0.203,-0.622,0.531,-0.685,0.885,-0.0216,0.37,-0.504,-0.464,-0.782,-0.202,0.314,0.585,0.449,0.381,0.283,0.447,0.974,0.594,0.327,-0.654,0.765,0.903,-0.595,-0.639,0.19,-0.43,-0.939,0.181,0.905,0.419,0.128,-0.41,-0.775,-0.928,-0.827,-0.0654,0.836,-0.854,-0.907,0.867,0.856,0.162,0.0192,-0.188,0.735,-0.96,-1.0,0.654,-0.635,0.883,-0.698,0.593,0.984,-0.359,0.781,0.17,-0.721,-0.583,-0.488,0.177,0.134,0.172,-0.849,0.875,0.967,0.427,0.429,0.271,0.934,-0.993,0.328,-0.781,0.836,0.657,0.0858,-0.183,-0.0836,-0.569,-0.414,0.675,0.516,-0.654,-0.45,-0.15,0.835,-0.995,0.0474,0.855,-0.406,-0.102,-0.661,-0.713,-0.431,-0.494,-0.759,0.539,-0.19,0.0569,0.862,0.374,0.959,1.01,-0.925,-0.961,-0.653,-0.758,-0.179,-0.464,0.875,-0.331,-0.921,-1.0,-0.429,0.425,-0.186,-0.81,-0.827,0.0186,-0.998,0.878,-0.609,-0.776,0.845,-0.773,0.688,-0.895,0.961,1.01,0.94,0.979,-0.442,0.603,-0.86,-0.573,-0.705,-1.01,0.851,0.905,-0.633,0.519,0.877,0.448,-0.394,0.767,-0.924,-0.542,0.742,0.801,-0.767,-0.478,0.386,0.579,-0.407,0.771,-0.954,-0.661,-0.821,0.412,0.5,0.45,0.572,-0.604,-0.579,0.804,0.497,0.131,-0.434,-0.968,-0.871,1.01,-0.0175,-0.0881,-0.12,-0.937,-0.636,0.923,0.0416,0.748,-0.93,0.249,0.422,-0.899,-0.669,0.264,-0.879,-0.901,0.572,0.91,-0.361,0.875,-0.947,0.881,-0.73],\"type\":\"scatter3d\"}],                        {\"template\":{\"data\":{\"bar\":[{\"error_x\":{\"color\":\"#2a3f5f\"},\"error_y\":{\"color\":\"#2a3f5f\"},\"marker\":{\"line\":{\"color\":\"#E5ECF6\",\"width\":0.5},\"pattern\":{\"fillmode\":\"overlay\",\"size\":10,\"solidity\":0.2}},\"type\":\"bar\"}],\"barpolar\":[{\"marker\":{\"line\":{\"color\":\"#E5ECF6\",\"width\":0.5},\"pattern\":{\"fillmode\":\"overlay\",\"size\":10,\"solidity\":0.2}},\"type\":\"barpolar\"}],\"carpet\":[{\"aaxis\":{\"endlinecolor\":\"#2a3f5f\",\"gridcolor\":\"white\",\"linecolor\":\"white\",\"minorgridcolor\":\"white\",\"startlinecolor\":\"#2a3f5f\"},\"baxis\":{\"endlinecolor\":\"#2a3f5f\",\"gridcolor\":\"white\",\"linecolor\":\"white\",\"minorgridcolor\":\"white\",\"startlinecolor\":\"#2a3f5f\"},\"type\":\"carpet\"}],\"choropleth\":[{\"colorbar\":{\"outlinewidth\":0,\"ticks\":\"\"},\"type\":\"choropleth\"}],\"contour\":[{\"colorbar\":{\"outlinewidth\":0,\"ticks\":\"\"},\"colorscale\":[[0.0,\"#0d0887\"],[0.1111111111111111,\"#46039f\"],[0.2222222222222222,\"#7201a8\"],[0.3333333333333333,\"#9c179e\"],[0.4444444444444444,\"#bd3786\"],[0.5555555555555556,\"#d8576b\"],[0.6666666666666666,\"#ed7953\"],[0.7777777777777778,\"#fb9f3a\"],[0.8888888888888888,\"#fdca26\"],[1.0,\"#f0f921\"]],\"type\":\"contour\"}],\"contourcarpet\":[{\"colorbar\":{\"outlinewidth\":0,\"ticks\":\"\"},\"type\":\"contourcarpet\"}],\"heatmap\":[{\"colorbar\":{\"outlinewidth\":0,\"ticks\":\"\"},\"colorscale\":[[0.0,\"#0d0887\"],[0.1111111111111111,\"#46039f\"],[0.2222222222222222,\"#7201a8\"],[0.3333333333333333,\"#9c179e\"],[0.4444444444444444,\"#bd3786\"],[0.5555555555555556,\"#d8576b\"],[0.6666666666666666,\"#ed7953\"],[0.7777777777777778,\"#fb9f3a\"],[0.8888888888888888,\"#fdca26\"],[1.0,\"#f0f921\"]],\"type\":\"heatmap\"}],\"heatmapgl\":[{\"colorbar\":{\"outlinewidth\":0,\"ticks\":\"\"},\"colorscale\":[[0.0,\"#0d0887\"],[0.1111111111111111,\"#46039f\"],[0.2222222222222222,\"#7201a8\"],[0.3333333333333333,\"#9c179e\"],[0.4444444444444444,\"#bd3786\"],[0.5555555555555556,\"#d8576b\"],[0.6666666666666666,\"#ed7953\"],[0.7777777777777778,\"#fb9f3a\"],[0.8888888888888888,\"#fdca26\"],[1.0,\"#f0f921\"]],\"type\":\"heatmapgl\"}],\"histogram\":[{\"marker\":{\"pattern\":{\"fillmode\":\"overlay\",\"size\":10,\"solidity\":0.2}},\"type\":\"histogram\"}],\"histogram2d\":[{\"colorbar\":{\"outlinewidth\":0,\"ticks\":\"\"},\"colorscale\":[[0.0,\"#0d0887\"],[0.1111111111111111,\"#46039f\"],[0.2222222222222222,\"#7201a8\"],[0.3333333333333333,\"#9c179e\"],[0.4444444444444444,\"#bd3786\"],[0.5555555555555556,\"#d8576b\"],[0.6666666666666666,\"#ed7953\"],[0.7777777777777778,\"#fb9f3a\"],[0.8888888888888888,\"#fdca26\"],[1.0,\"#f0f921\"]],\"type\":\"histogram2d\"}],\"histogram2dcontour\":[{\"colorbar\":{\"outlinewidth\":0,\"ticks\":\"\"},\"colorscale\":[[0.0,\"#0d0887\"],[0.1111111111111111,\"#46039f\"],[0.2222222222222222,\"#7201a8\"],[0.3333333333333333,\"#9c179e\"],[0.4444444444444444,\"#bd3786\"],[0.5555555555555556,\"#d8576b\"],[0.6666666666666666,\"#ed7953\"],[0.7777777777777778,\"#fb9f3a\"],[0.8888888888888888,\"#fdca26\"],[1.0,\"#f0f921\"]],\"type\":\"histogram2dcontour\"}],\"mesh3d\":[{\"colorbar\":{\"outlinewidth\":0,\"ticks\":\"\"},\"type\":\"mesh3d\"}],\"parcoords\":[{\"line\":{\"colorbar\":{\"outlinewidth\":0,\"ticks\":\"\"}},\"type\":\"parcoords\"}],\"pie\":[{\"automargin\":true,\"type\":\"pie\"}],\"scatter\":[{\"marker\":{\"colorbar\":{\"outlinewidth\":0,\"ticks\":\"\"}},\"type\":\"scatter\"}],\"scatter3d\":[{\"line\":{\"colorbar\":{\"outlinewidth\":0,\"ticks\":\"\"}},\"marker\":{\"colorbar\":{\"outlinewidth\":0,\"ticks\":\"\"}},\"type\":\"scatter3d\"}],\"scattercarpet\":[{\"marker\":{\"colorbar\":{\"outlinewidth\":0,\"ticks\":\"\"}},\"type\":\"scattercarpet\"}],\"scattergeo\":[{\"marker\":{\"colorbar\":{\"outlinewidth\":0,\"ticks\":\"\"}},\"type\":\"scattergeo\"}],\"scattergl\":[{\"marker\":{\"colorbar\":{\"outlinewidth\":0,\"ticks\":\"\"}},\"type\":\"scattergl\"}],\"scattermapbox\":[{\"marker\":{\"colorbar\":{\"outlinewidth\":0,\"ticks\":\"\"}},\"type\":\"scattermapbox\"}],\"scatterpolar\":[{\"marker\":{\"colorbar\":{\"outlinewidth\":0,\"ticks\":\"\"}},\"type\":\"scatterpolar\"}],\"scatterpolargl\":[{\"marker\":{\"colorbar\":{\"outlinewidth\":0,\"ticks\":\"\"}},\"type\":\"scatterpolargl\"}],\"scatterternary\":[{\"marker\":{\"colorbar\":{\"outlinewidth\":0,\"ticks\":\"\"}},\"type\":\"scatterternary\"}],\"surface\":[{\"colorbar\":{\"outlinewidth\":0,\"ticks\":\"\"},\"colorscale\":[[0.0,\"#0d0887\"],[0.1111111111111111,\"#46039f\"],[0.2222222222222222,\"#7201a8\"],[0.3333333333333333,\"#9c179e\"],[0.4444444444444444,\"#bd3786\"],[0.5555555555555556,\"#d8576b\"],[0.6666666666666666,\"#ed7953\"],[0.7777777777777778,\"#fb9f3a\"],[0.8888888888888888,\"#fdca26\"],[1.0,\"#f0f921\"]],\"type\":\"surface\"}],\"table\":[{\"cells\":{\"fill\":{\"color\":\"#EBF0F8\"},\"line\":{\"color\":\"white\"}},\"header\":{\"fill\":{\"color\":\"#C8D4E3\"},\"line\":{\"color\":\"white\"}},\"type\":\"table\"}]},\"layout\":{\"annotationdefaults\":{\"arrowcolor\":\"#2a3f5f\",\"arrowhead\":0,\"arrowwidth\":1},\"autotypenumbers\":\"strict\",\"coloraxis\":{\"colorbar\":{\"outlinewidth\":0,\"ticks\":\"\"}},\"colorscale\":{\"diverging\":[[0,\"#8e0152\"],[0.1,\"#c51b7d\"],[0.2,\"#de77ae\"],[0.3,\"#f1b6da\"],[0.4,\"#fde0ef\"],[0.5,\"#f7f7f7\"],[0.6,\"#e6f5d0\"],[0.7,\"#b8e186\"],[0.8,\"#7fbc41\"],[0.9,\"#4d9221\"],[1,\"#276419\"]],\"sequential\":[[0.0,\"#0d0887\"],[0.1111111111111111,\"#46039f\"],[0.2222222222222222,\"#7201a8\"],[0.3333333333333333,\"#9c179e\"],[0.4444444444444444,\"#bd3786\"],[0.5555555555555556,\"#d8576b\"],[0.6666666666666666,\"#ed7953\"],[0.7777777777777778,\"#fb9f3a\"],[0.8888888888888888,\"#fdca26\"],[1.0,\"#f0f921\"]],\"sequentialminus\":[[0.0,\"#0d0887\"],[0.1111111111111111,\"#46039f\"],[0.2222222222222222,\"#7201a8\"],[0.3333333333333333,\"#9c179e\"],[0.4444444444444444,\"#bd3786\"],[0.5555555555555556,\"#d8576b\"],[0.6666666666666666,\"#ed7953\"],[0.7777777777777778,\"#fb9f3a\"],[0.8888888888888888,\"#fdca26\"],[1.0,\"#f0f921\"]]},\"colorway\":[\"#636efa\",\"#EF553B\",\"#00cc96\",\"#ab63fa\",\"#FFA15A\",\"#19d3f3\",\"#FF6692\",\"#B6E880\",\"#FF97FF\",\"#FECB52\"],\"font\":{\"color\":\"#2a3f5f\"},\"geo\":{\"bgcolor\":\"white\",\"lakecolor\":\"white\",\"landcolor\":\"#E5ECF6\",\"showlakes\":true,\"showland\":true,\"subunitcolor\":\"white\"},\"hoverlabel\":{\"align\":\"left\"},\"hovermode\":\"closest\",\"mapbox\":{\"style\":\"light\"},\"paper_bgcolor\":\"white\",\"plot_bgcolor\":\"#E5ECF6\",\"polar\":{\"angularaxis\":{\"gridcolor\":\"white\",\"linecolor\":\"white\",\"ticks\":\"\"},\"bgcolor\":\"#E5ECF6\",\"radialaxis\":{\"gridcolor\":\"white\",\"linecolor\":\"white\",\"ticks\":\"\"}},\"scene\":{\"xaxis\":{\"backgroundcolor\":\"#E5ECF6\",\"gridcolor\":\"white\",\"gridwidth\":2,\"linecolor\":\"white\",\"showbackground\":true,\"ticks\":\"\",\"zerolinecolor\":\"white\"},\"yaxis\":{\"backgroundcolor\":\"#E5ECF6\",\"gridcolor\":\"white\",\"gridwidth\":2,\"linecolor\":\"white\",\"showbackground\":true,\"ticks\":\"\",\"zerolinecolor\":\"white\"},\"zaxis\":{\"backgroundcolor\":\"#E5ECF6\",\"gridcolor\":\"white\",\"gridwidth\":2,\"linecolor\":\"white\",\"showbackground\":true,\"ticks\":\"\",\"zerolinecolor\":\"white\"}},\"shapedefaults\":{\"line\":{\"color\":\"#2a3f5f\"}},\"ternary\":{\"aaxis\":{\"gridcolor\":\"white\",\"linecolor\":\"white\",\"ticks\":\"\"},\"baxis\":{\"gridcolor\":\"white\",\"linecolor\":\"white\",\"ticks\":\"\"},\"bgcolor\":\"#E5ECF6\",\"caxis\":{\"gridcolor\":\"white\",\"linecolor\":\"white\",\"ticks\":\"\"}},\"title\":{\"x\":0.05},\"xaxis\":{\"automargin\":true,\"gridcolor\":\"white\",\"linecolor\":\"white\",\"ticks\":\"\",\"title\":{\"standoff\":15},\"zerolinecolor\":\"white\",\"zerolinewidth\":2},\"yaxis\":{\"automargin\":true,\"gridcolor\":\"white\",\"linecolor\":\"white\",\"ticks\":\"\",\"title\":{\"standoff\":15},\"zerolinecolor\":\"white\",\"zerolinewidth\":2}}},\"scene\":{\"domain\":{\"x\":[0.0,1.0],\"y\":[0.0,1.0]},\"xaxis\":{\"title\":{\"text\":\"X1\"}},\"yaxis\":{\"title\":{\"text\":\"X2\"}},\"zaxis\":{\"title\":{\"text\":\"X3\"}}},\"coloraxis\":{\"colorbar\":{\"title\":{\"text\":\"predictedclass4b\"}},\"colorscale\":[[0.0,\"#0d0887\"],[0.1111111111111111,\"#46039f\"],[0.2222222222222222,\"#7201a8\"],[0.3333333333333333,\"#9c179e\"],[0.4444444444444444,\"#bd3786\"],[0.5555555555555556,\"#d8576b\"],[0.6666666666666666,\"#ed7953\"],[0.7777777777777778,\"#fb9f3a\"],[0.8888888888888888,\"#fdca26\"],[1.0,\"#f0f921\"]]},\"legend\":{\"tracegroupgap\":0},\"margin\":{\"t\":60}},                        {\"responsive\": true}                    ).then(function(){\n",
              "                            \n",
              "var gd = document.getElementById('7c0850df-935f-44b0-88f4-4762b019b710');\n",
              "var x = new MutationObserver(function (mutations, observer) {{\n",
              "        var display = window.getComputedStyle(gd).display;\n",
              "        if (!display || display === 'none') {{\n",
              "            console.log([gd, 'removed!']);\n",
              "            Plotly.purge(gd);\n",
              "            observer.disconnect();\n",
              "        }}\n",
              "}});\n",
              "\n",
              "// Listen for the removal of the full notebook cells\n",
              "var notebookContainer = gd.closest('#notebook-container');\n",
              "if (notebookContainer) {{\n",
              "    x.observe(notebookContainer, {childList: true});\n",
              "}}\n",
              "\n",
              "// Listen for the clearing of the current output cell\n",
              "var outputEl = gd.closest('.output');\n",
              "if (outputEl) {{\n",
              "    x.observe(outputEl, {childList: true});\n",
              "}}\n",
              "\n",
              "                        })                };                            </script>        </div>\n",
              "</body>\n",
              "</html>"
            ]
          },
          "metadata": {}
        }
      ]
    },
    {
      "cell_type": "markdown",
      "source": [
        "**Data 5**"
      ],
      "metadata": {
        "id": "XDB7yx2kBblH"
      }
    },
    {
      "cell_type": "code",
      "source": [
        "df5"
      ],
      "metadata": {
        "colab": {
          "base_uri": "https://localhost:8080/",
          "height": 423
        },
        "id": "inBNaXwWBgks",
        "outputId": "95e7c6f9-2cdf-4ee4-9596-a47dc9147b58"
      },
      "execution_count": null,
      "outputs": [
        {
          "output_type": "execute_result",
          "data": {
            "text/plain": [
              "     Unnamed: 0         X1         X2         X3  Class\n",
              "0             1  -4.822490 -50.402170   4.020861      1\n",
              "1             2 -44.460120  20.964670 -11.492060      1\n",
              "2             3  50.001020   0.780748   9.134460      1\n",
              "3             4 -41.699080 -22.310060  16.314120      1\n",
              "4             5   4.425242  -4.666664  50.223740      1\n",
              "..          ...        ...        ...        ...    ...\n",
              "795         796  -1.531027   0.681636   0.543271      2\n",
              "796         797   0.500754  -1.848209   0.605654      2\n",
              "797         798   1.089574  -0.246493  -3.355758      2\n",
              "798         799  -1.907717   4.964502   2.098423      2\n",
              "799         800   3.415463   4.529521  -1.617736      2\n",
              "\n",
              "[800 rows x 5 columns]"
            ],
            "text/html": [
              "\n",
              "  <div id=\"df-3cccc3a3-88c0-4ba7-8e9c-22aae1c1aff8\">\n",
              "    <div class=\"colab-df-container\">\n",
              "      <div>\n",
              "<style scoped>\n",
              "    .dataframe tbody tr th:only-of-type {\n",
              "        vertical-align: middle;\n",
              "    }\n",
              "\n",
              "    .dataframe tbody tr th {\n",
              "        vertical-align: top;\n",
              "    }\n",
              "\n",
              "    .dataframe thead th {\n",
              "        text-align: right;\n",
              "    }\n",
              "</style>\n",
              "<table border=\"1\" class=\"dataframe\">\n",
              "  <thead>\n",
              "    <tr style=\"text-align: right;\">\n",
              "      <th></th>\n",
              "      <th>Unnamed: 0</th>\n",
              "      <th>X1</th>\n",
              "      <th>X2</th>\n",
              "      <th>X3</th>\n",
              "      <th>Class</th>\n",
              "    </tr>\n",
              "  </thead>\n",
              "  <tbody>\n",
              "    <tr>\n",
              "      <th>0</th>\n",
              "      <td>1</td>\n",
              "      <td>-4.822490</td>\n",
              "      <td>-50.402170</td>\n",
              "      <td>4.020861</td>\n",
              "      <td>1</td>\n",
              "    </tr>\n",
              "    <tr>\n",
              "      <th>1</th>\n",
              "      <td>2</td>\n",
              "      <td>-44.460120</td>\n",
              "      <td>20.964670</td>\n",
              "      <td>-11.492060</td>\n",
              "      <td>1</td>\n",
              "    </tr>\n",
              "    <tr>\n",
              "      <th>2</th>\n",
              "      <td>3</td>\n",
              "      <td>50.001020</td>\n",
              "      <td>0.780748</td>\n",
              "      <td>9.134460</td>\n",
              "      <td>1</td>\n",
              "    </tr>\n",
              "    <tr>\n",
              "      <th>3</th>\n",
              "      <td>4</td>\n",
              "      <td>-41.699080</td>\n",
              "      <td>-22.310060</td>\n",
              "      <td>16.314120</td>\n",
              "      <td>1</td>\n",
              "    </tr>\n",
              "    <tr>\n",
              "      <th>4</th>\n",
              "      <td>5</td>\n",
              "      <td>4.425242</td>\n",
              "      <td>-4.666664</td>\n",
              "      <td>50.223740</td>\n",
              "      <td>1</td>\n",
              "    </tr>\n",
              "    <tr>\n",
              "      <th>...</th>\n",
              "      <td>...</td>\n",
              "      <td>...</td>\n",
              "      <td>...</td>\n",
              "      <td>...</td>\n",
              "      <td>...</td>\n",
              "    </tr>\n",
              "    <tr>\n",
              "      <th>795</th>\n",
              "      <td>796</td>\n",
              "      <td>-1.531027</td>\n",
              "      <td>0.681636</td>\n",
              "      <td>0.543271</td>\n",
              "      <td>2</td>\n",
              "    </tr>\n",
              "    <tr>\n",
              "      <th>796</th>\n",
              "      <td>797</td>\n",
              "      <td>0.500754</td>\n",
              "      <td>-1.848209</td>\n",
              "      <td>0.605654</td>\n",
              "      <td>2</td>\n",
              "    </tr>\n",
              "    <tr>\n",
              "      <th>797</th>\n",
              "      <td>798</td>\n",
              "      <td>1.089574</td>\n",
              "      <td>-0.246493</td>\n",
              "      <td>-3.355758</td>\n",
              "      <td>2</td>\n",
              "    </tr>\n",
              "    <tr>\n",
              "      <th>798</th>\n",
              "      <td>799</td>\n",
              "      <td>-1.907717</td>\n",
              "      <td>4.964502</td>\n",
              "      <td>2.098423</td>\n",
              "      <td>2</td>\n",
              "    </tr>\n",
              "    <tr>\n",
              "      <th>799</th>\n",
              "      <td>800</td>\n",
              "      <td>3.415463</td>\n",
              "      <td>4.529521</td>\n",
              "      <td>-1.617736</td>\n",
              "      <td>2</td>\n",
              "    </tr>\n",
              "  </tbody>\n",
              "</table>\n",
              "<p>800 rows × 5 columns</p>\n",
              "</div>\n",
              "      <button class=\"colab-df-convert\" onclick=\"convertToInteractive('df-3cccc3a3-88c0-4ba7-8e9c-22aae1c1aff8')\"\n",
              "              title=\"Convert this dataframe to an interactive table.\"\n",
              "              style=\"display:none;\">\n",
              "        \n",
              "  <svg xmlns=\"http://www.w3.org/2000/svg\" height=\"24px\"viewBox=\"0 0 24 24\"\n",
              "       width=\"24px\">\n",
              "    <path d=\"M0 0h24v24H0V0z\" fill=\"none\"/>\n",
              "    <path d=\"M18.56 5.44l.94 2.06.94-2.06 2.06-.94-2.06-.94-.94-2.06-.94 2.06-2.06.94zm-11 1L8.5 8.5l.94-2.06 2.06-.94-2.06-.94L8.5 2.5l-.94 2.06-2.06.94zm10 10l.94 2.06.94-2.06 2.06-.94-2.06-.94-.94-2.06-.94 2.06-2.06.94z\"/><path d=\"M17.41 7.96l-1.37-1.37c-.4-.4-.92-.59-1.43-.59-.52 0-1.04.2-1.43.59L10.3 9.45l-7.72 7.72c-.78.78-.78 2.05 0 2.83L4 21.41c.39.39.9.59 1.41.59.51 0 1.02-.2 1.41-.59l7.78-7.78 2.81-2.81c.8-.78.8-2.07 0-2.86zM5.41 20L4 18.59l7.72-7.72 1.47 1.35L5.41 20z\"/>\n",
              "  </svg>\n",
              "      </button>\n",
              "      \n",
              "  <style>\n",
              "    .colab-df-container {\n",
              "      display:flex;\n",
              "      flex-wrap:wrap;\n",
              "      gap: 12px;\n",
              "    }\n",
              "\n",
              "    .colab-df-convert {\n",
              "      background-color: #E8F0FE;\n",
              "      border: none;\n",
              "      border-radius: 50%;\n",
              "      cursor: pointer;\n",
              "      display: none;\n",
              "      fill: #1967D2;\n",
              "      height: 32px;\n",
              "      padding: 0 0 0 0;\n",
              "      width: 32px;\n",
              "    }\n",
              "\n",
              "    .colab-df-convert:hover {\n",
              "      background-color: #E2EBFA;\n",
              "      box-shadow: 0px 1px 2px rgba(60, 64, 67, 0.3), 0px 1px 3px 1px rgba(60, 64, 67, 0.15);\n",
              "      fill: #174EA6;\n",
              "    }\n",
              "\n",
              "    [theme=dark] .colab-df-convert {\n",
              "      background-color: #3B4455;\n",
              "      fill: #D2E3FC;\n",
              "    }\n",
              "\n",
              "    [theme=dark] .colab-df-convert:hover {\n",
              "      background-color: #434B5C;\n",
              "      box-shadow: 0px 1px 3px 1px rgba(0, 0, 0, 0.15);\n",
              "      filter: drop-shadow(0px 1px 2px rgba(0, 0, 0, 0.3));\n",
              "      fill: #FFFFFF;\n",
              "    }\n",
              "  </style>\n",
              "\n",
              "      <script>\n",
              "        const buttonEl =\n",
              "          document.querySelector('#df-3cccc3a3-88c0-4ba7-8e9c-22aae1c1aff8 button.colab-df-convert');\n",
              "        buttonEl.style.display =\n",
              "          google.colab.kernel.accessAllowed ? 'block' : 'none';\n",
              "\n",
              "        async function convertToInteractive(key) {\n",
              "          const element = document.querySelector('#df-3cccc3a3-88c0-4ba7-8e9c-22aae1c1aff8');\n",
              "          const dataTable =\n",
              "            await google.colab.kernel.invokeFunction('convertToInteractive',\n",
              "                                                     [key], {});\n",
              "          if (!dataTable) return;\n",
              "\n",
              "          const docLinkHtml = 'Like what you see? Visit the ' +\n",
              "            '<a target=\"_blank\" href=https://colab.research.google.com/notebooks/data_table.ipynb>data table notebook</a>'\n",
              "            + ' to learn more about interactive tables.';\n",
              "          element.innerHTML = '';\n",
              "          dataTable['output_type'] = 'display_data';\n",
              "          await google.colab.output.renderOutput(dataTable, element);\n",
              "          const docLink = document.createElement('div');\n",
              "          docLink.innerHTML = docLinkHtml;\n",
              "          element.appendChild(docLink);\n",
              "        }\n",
              "      </script>\n",
              "    </div>\n",
              "  </div>\n",
              "  "
            ]
          },
          "metadata": {},
          "execution_count": 168
        }
      ]
    },
    {
      "cell_type": "markdown",
      "source": [
        "1. (a) Use K-means clustering methods to generate clusters"
      ],
      "metadata": {
        "id": "vP0ECk2gBi4c"
      }
    },
    {
      "cell_type": "code",
      "source": [
        "k5 = []\n",
        "wcss5 = []\n",
        "for i5 in range(1,10):\n",
        "  mdl5 = KMeans(n_clusters=i5)\n",
        "  mdl5.fit(df5.iloc[:,1:4])\n",
        "  k5.append(i5)\n",
        "  wcss5.append(mdl5.inertia_)"
      ],
      "metadata": {
        "id": "ow3HWzkMBnn-"
      },
      "execution_count": null,
      "outputs": []
    },
    {
      "cell_type": "code",
      "source": [
        "sns.lineplot(k5,wcss5)"
      ],
      "metadata": {
        "colab": {
          "base_uri": "https://localhost:8080/",
          "height": 382
        },
        "id": "5-hBE3AfByqu",
        "outputId": "4010b562-a3ca-434a-f7f6-a4bf2f32a986"
      },
      "execution_count": null,
      "outputs": [
        {
          "output_type": "stream",
          "name": "stderr",
          "text": [
            "/usr/local/lib/python3.7/dist-packages/seaborn/_decorators.py:43: FutureWarning:\n",
            "\n",
            "Pass the following variables as keyword args: x, y. From version 0.12, the only valid positional argument will be `data`, and passing other arguments without an explicit keyword will result in an error or misinterpretation.\n",
            "\n"
          ]
        },
        {
          "output_type": "execute_result",
          "data": {
            "text/plain": [
              "<matplotlib.axes._subplots.AxesSubplot at 0x7fc1b4ac0990>"
            ]
          },
          "metadata": {},
          "execution_count": 115
        },
        {
          "output_type": "display_data",
          "data": {
            "text/plain": [
              "<Figure size 432x288 with 1 Axes>"
            ],
            "image/png": "[encoded data removed]"
          },
          "metadata": {
            "needs_background": "light"
          }
        }
      ]
    },
    {
      "cell_type": "code",
      "source": [
        "sil5 = []\n",
        "k5s = []\n",
        "kmax = 10\n",
        "\n",
        "# dissimilarity would not be defined for a single cluster, thus, minimum number of clusters should be 2\n",
        "for ks5 in range(2,10):\n",
        "  kmeans5 = KMeans(n_clusters = ks5)\n",
        "  kmeans5.fit(df5.iloc[:,1:4])\n",
        "  labels = kmeans5.labels_\n",
        "  k5s.append(ks5)\n",
        "  sil5.append(metrics.silhouette_score(df5.iloc[:,1:4], labels))"
      ],
      "metadata": {
        "id": "hBiNBT3du46N"
      },
      "execution_count": 236,
      "outputs": []
    },
    {
      "cell_type": "code",
      "source": [
        "sns.lineplot(k5s,sil5)"
      ],
      "metadata": {
        "colab": {
          "base_uri": "https://localhost:8080/",
          "height": 372
        },
        "id": "B0PRqfjMvKuh",
        "outputId": "cf136509-4163-44e6-ce62-292ab8fc233e"
      },
      "execution_count": null,
      "outputs": [
        {
          "output_type": "stream",
          "name": "stderr",
          "text": [
            "/usr/local/lib/python3.7/dist-packages/seaborn/_decorators.py:43: FutureWarning:\n",
            "\n",
            "Pass the following variables as keyword args: x, y. From version 0.12, the only valid positional argument will be `data`, and passing other arguments without an explicit keyword will result in an error or misinterpretation.\n",
            "\n"
          ]
        },
        {
          "output_type": "execute_result",
          "data": {
            "text/plain": [
              "<matplotlib.axes._subplots.AxesSubplot at 0x7fc1b3fbef10>"
            ]
          },
          "metadata": {},
          "execution_count": 117
        },
        {
          "output_type": "display_data",
          "data": {
            "text/plain": [
              "<Figure size 432x288 with 1 Axes>"
            ],
            "image/png": "[encoded data removed]"
          },
          "metadata": {
            "needs_background": "light"
          }
        }
      ]
    },
    {
      "cell_type": "markdown",
      "source": [
        "Therefore, we will use 7 as n_cluster value"
      ],
      "metadata": {
        "id": "tz1cr7JVB0Fm"
      }
    },
    {
      "cell_type": "code",
      "source": [
        "mdl5_a = KMeans(n_clusters=7)\n",
        "mdl5_a.fit(df5.iloc[:,1:4])\n",
        "print('SSE Data 5: '+str(mdl5_a.inertia_))"
      ],
      "metadata": {
        "colab": {
          "base_uri": "https://localhost:8080/"
        },
        "id": "GWNSniIbB8I9",
        "outputId": "16d50214-e529-49b8-ad1f-978f98d9700e"
      },
      "execution_count": null,
      "outputs": [
        {
          "output_type": "stream",
          "name": "stdout",
          "text": [
            "SSE Data 5: 263291.3353067595\n"
          ]
        }
      ]
    },
    {
      "cell_type": "code",
      "source": [
        "mdl5_a.labels_"
      ],
      "metadata": {
        "id": "ChFIOHTgCX1Y",
        "colab": {
          "base_uri": "https://localhost:8080/"
        },
        "outputId": "857d50b4-b59b-4993-e5ea-197909b611b1"
      },
      "execution_count": null,
      "outputs": [
        {
          "output_type": "execute_result",
          "data": {
            "text/plain": [
              "array([3, 5, 4, 0, 2, 4, 2, 4, 4, 2, 0, 3, 6, 3, 2, 4, 5, 2, 0, 3, 3, 0,\n",
              "       5, 6, 3, 4, 2, 5, 0, 6, 3, 0, 0, 5, 2, 0, 0, 0, 2, 2, 3, 2, 4, 6,\n",
              "       3, 3, 2, 3, 5, 5, 6, 6, 6, 6, 2, 3, 6, 6, 2, 3, 5, 0, 5, 6, 6, 3,\n",
              "       2, 6, 0, 6, 4, 0, 6, 2, 4, 3, 2, 6, 2, 0, 2, 5, 6, 0, 5, 0, 2, 3,\n",
              "       6, 2, 4, 0, 2, 4, 5, 5, 4, 3, 2, 5, 3, 2, 6, 5, 5, 5, 2, 4, 0, 5,\n",
              "       3, 0, 0, 5, 3, 6, 2, 2, 4, 2, 5, 6, 5, 6, 5, 4, 2, 3, 0, 2, 3, 0,\n",
              "       2, 2, 6, 4, 0, 6, 0, 2, 6, 3, 4, 6, 3, 6, 3, 2, 5, 0, 6, 2, 6, 3,\n",
              "       6, 0, 4, 6, 3, 6, 6, 4, 2, 6, 6, 4, 3, 2, 6, 0, 5, 3, 6, 6, 6, 2,\n",
              "       0, 3, 2, 6, 0, 0, 3, 2, 0, 4, 2, 5, 0, 0, 4, 2, 0, 4, 5, 2, 6, 3,\n",
              "       6, 0, 3, 5, 5, 3, 6, 6, 5, 6, 6, 2, 3, 4, 2, 2, 3, 3, 6, 5, 5, 3,\n",
              "       3, 2, 4, 6, 0, 5, 6, 6, 3, 0, 3, 5, 0, 5, 2, 4, 6, 3, 4, 6, 4, 6,\n",
              "       0, 6, 4, 6, 5, 6, 5, 2, 2, 0, 6, 0, 0, 5, 2, 4, 5, 2, 6, 6, 6, 3,\n",
              "       6, 3, 6, 2, 4, 0, 2, 3, 2, 2, 3, 6, 6, 5, 2, 6, 6, 6, 4, 6, 3, 2,\n",
              "       2, 4, 0, 2, 4, 0, 5, 6, 5, 2, 0, 6, 6, 2, 2, 6, 6, 4, 6, 6, 6, 2,\n",
              "       6, 5, 0, 6, 2, 2, 0, 0, 0, 2, 6, 3, 6, 5, 4, 5, 5, 6, 0, 4, 2, 0,\n",
              "       0, 5, 2, 4, 2, 4, 6, 6, 3, 2, 4, 0, 5, 5, 2, 6, 6, 3, 3, 4, 2, 6,\n",
              "       6, 2, 5, 5, 5, 6, 2, 0, 6, 6, 2, 4, 0, 4, 2, 2, 4, 3, 2, 6, 3, 2,\n",
              "       6, 0, 4, 4, 4, 4, 0, 0, 5, 6, 4, 0, 4, 2, 2, 4, 3, 6, 3, 6, 3, 4,\n",
              "       6, 4, 2, 6, 1, 1, 1, 1, 1, 1, 1, 1, 1, 1, 1, 1, 1, 1, 1, 1, 1, 1,\n",
              "       1, 1, 1, 1, 1, 1, 1, 1, 1, 1, 1, 1, 1, 1, 1, 1, 1, 1, 1, 1, 1, 1,\n",
              "       1, 1, 1, 1, 1, 1, 1, 1, 1, 1, 1, 1, 1, 1, 1, 1, 1, 1, 1, 1, 1, 1,\n",
              "       1, 1, 1, 1, 1, 1, 1, 1, 1, 1, 1, 1, 1, 1, 1, 1, 1, 1, 1, 1, 1, 1,\n",
              "       1, 1, 1, 1, 1, 1, 1, 1, 1, 1, 1, 1, 1, 1, 1, 1, 1, 1, 1, 1, 1, 1,\n",
              "       1, 1, 1, 1, 1, 1, 1, 1, 1, 1, 1, 1, 1, 1, 1, 1, 1, 1, 1, 1, 1, 1,\n",
              "       1, 1, 1, 1, 1, 1, 1, 1, 1, 1, 1, 1, 1, 1, 1, 1, 1, 1, 1, 1, 1, 1,\n",
              "       1, 1, 1, 1, 1, 1, 1, 1, 1, 1, 1, 1, 1, 1, 1, 1, 1, 1, 1, 1, 1, 1,\n",
              "       1, 1, 1, 1, 1, 1, 1, 1, 1, 1, 1, 1, 1, 1, 1, 1, 1, 1, 1, 1, 1, 1,\n",
              "       1, 1, 1, 1, 1, 1, 1, 1, 1, 1, 1, 1, 1, 1, 1, 1, 1, 1, 1, 1, 1, 1,\n",
              "       1, 1, 1, 1, 1, 1, 1, 1, 1, 1, 1, 1, 1, 1, 1, 1, 1, 1, 1, 1, 1, 1,\n",
              "       1, 1, 1, 1, 1, 1, 1, 1, 1, 1, 1, 1, 1, 1, 1, 1, 1, 1, 1, 1, 1, 1,\n",
              "       1, 1, 1, 1, 1, 1, 1, 1, 1, 1, 1, 1, 1, 1, 1, 1, 1, 1, 1, 1, 1, 1,\n",
              "       1, 1, 1, 1, 1, 1, 1, 1, 1, 1, 1, 1, 1, 1, 1, 1, 1, 1, 1, 1, 1, 1,\n",
              "       1, 1, 1, 1, 1, 1, 1, 1, 1, 1, 1, 1, 1, 1, 1, 1, 1, 1, 1, 1, 1, 1,\n",
              "       1, 1, 1, 1, 1, 1, 1, 1, 1, 1, 1, 1, 1, 1, 1, 1, 1, 1, 1, 1, 1, 1,\n",
              "       1, 1, 1, 1, 1, 1, 1, 1, 1, 1, 1, 1, 1, 1, 1, 1, 1, 1, 1, 1, 1, 1,\n",
              "       1, 1, 1, 1, 1, 1, 1, 1, 1, 1, 1, 1, 1, 1, 1, 1, 1, 1, 1, 1, 1, 1,\n",
              "       1, 1, 1, 1, 1, 1, 1, 1], dtype=int32)"
            ]
          },
          "metadata": {},
          "execution_count": 119
        }
      ]
    },
    {
      "cell_type": "code",
      "source": [
        "df5['predictedclass5a'] = mdl5_a.labels_ + 1"
      ],
      "metadata": {
        "id": "PBi8qv4ICbOE"
      },
      "execution_count": null,
      "outputs": []
    },
    {
      "cell_type": "code",
      "source": [
        "mdl5_a.cluster_centers_"
      ],
      "metadata": {
        "colab": {
          "base_uri": "https://localhost:8080/"
        },
        "id": "fXJWStunChVH",
        "outputId": "8d6d39e0-b132-4b5c-83ec-da918336272b"
      },
      "execution_count": null,
      "outputs": [
        {
          "output_type": "execute_result",
          "data": {
            "text/plain": [
              "array([[-3.25412582e+01, -2.50981105e+01,  1.22992662e+01],\n",
              "       [ 1.68300019e-01, -1.49451918e-04,  2.09441773e-01],\n",
              "       [ 3.65885495e-01,  7.48988778e-01,  4.57546539e+01],\n",
              "       [ 2.41577035e+01, -3.44351738e+01, -1.61643702e+00],\n",
              "       [ 3.17920818e+01,  2.64768540e+01,  5.31529397e+00],\n",
              "       [-2.82368599e+01,  3.07201437e+01,  2.33109198e+00],\n",
              "       [-2.09953056e+00, -3.76691836e+00, -4.35723048e+01]])"
            ]
          },
          "metadata": {},
          "execution_count": 121
        }
      ]
    },
    {
      "cell_type": "markdown",
      "source": [
        "(b) Use hierarchical clustering methods to generate clusters"
      ],
      "metadata": {
        "id": "Odt0IlS5ClEA"
      }
    },
    {
      "cell_type": "code",
      "source": [
        "# Plot the dendrogram and get the n_cluster value\n",
        "z5 = linkage(df5.iloc[:,1:4],method='single')\n",
        "dendrogram(z5)\n",
        "plt.title('dendrogram of Data 5')\n",
        "plt.show()"
      ],
      "metadata": {
        "id": "gwMTgf6BDo38",
        "colab": {
          "base_uri": "https://localhost:8080/",
          "height": 281
        },
        "outputId": "d80237ad-e25c-41fd-8449-a65e2ae1142c"
      },
      "execution_count": null,
      "outputs": [
        {
          "output_type": "display_data",
          "data": {
            "text/plain": [
              "<Figure size 432x288 with 1 Axes>"
            ],
            "image/png": "[encoded data removed]"
          },
          "metadata": {
            "needs_background": "light"
          }
        }
      ]
    },
    {
      "cell_type": "code",
      "source": [
        "z5 = linkage(df5.iloc[:,1:4],method='ward')\n",
        "dendrogram(z5)\n",
        "plt.title('dendrogram of Data 5')\n",
        "plt.show()"
      ],
      "metadata": {
        "colab": {
          "base_uri": "https://localhost:8080/",
          "height": 281
        },
        "id": "0OhFDKC0GS0w",
        "outputId": "e95a958e-a4da-47bb-e357-42250c54caad"
      },
      "execution_count": null,
      "outputs": [
        {
          "output_type": "display_data",
          "data": {
            "text/plain": [
              "<Figure size 432x288 with 1 Axes>"
            ],
            "image/png": "[encoded data removed]"
          },
          "metadata": {
            "needs_background": "light"
          }
        }
      ]
    },
    {
      "cell_type": "markdown",
      "source": [
        "Therefore, we will use 2 as n_cluster value"
      ],
      "metadata": {
        "id": "eHkLRpTqDKCJ"
      }
    },
    {
      "cell_type": "code",
      "source": [
        "mdl5_b = AgglomerativeClustering(n_clusters=2)\n",
        "mdl5_b.fit(df5.iloc[:,1:4])\n",
        "mdl5_b.labels_"
      ],
      "metadata": {
        "id": "CT9YnWElDNC9",
        "colab": {
          "base_uri": "https://localhost:8080/"
        },
        "outputId": "7075b521-49b6-4219-80ad-4f78c32ef31e"
      },
      "execution_count": 237,
      "outputs": [
        {
          "output_type": "execute_result",
          "data": {
            "text/plain": [
              "array([1, 0, 0, 0, 0, 0, 0, 0, 0, 0, 0, 0, 1, 0, 0, 0, 0, 0, 0, 1, 1, 0,\n",
              "       0, 1, 0, 0, 0, 0, 0, 1, 0, 0, 0, 0, 0, 0, 1, 0, 0, 0, 0, 0, 0, 1,\n",
              "       1, 0, 0, 1, 0, 0, 1, 1, 0, 1, 0, 1, 1, 1, 0, 0, 0, 0, 0, 1, 1, 0,\n",
              "       0, 1, 0, 1, 0, 0, 1, 0, 0, 1, 0, 1, 0, 1, 0, 0, 1, 0, 0, 0, 0, 0,\n",
              "       1, 0, 0, 0, 0, 0, 0, 0, 0, 1, 0, 0, 0, 0, 1, 0, 0, 0, 0, 0, 0, 0,\n",
              "       0, 0, 1, 0, 1, 1, 0, 0, 0, 0, 0, 0, 0, 0, 0, 0, 0, 0, 0, 0, 0, 0,\n",
              "       0, 0, 1, 0, 0, 1, 0, 0, 1, 0, 0, 1, 1, 1, 0, 0, 0, 1, 1, 0, 1, 1,\n",
              "       1, 0, 0, 1, 0, 1, 1, 0, 0, 1, 1, 0, 0, 0, 1, 0, 0, 0, 0, 0, 1, 0,\n",
              "       0, 1, 0, 1, 0, 0, 1, 0, 0, 0, 0, 0, 0, 1, 0, 0, 0, 0, 0, 0, 1, 0,\n",
              "       1, 1, 1, 0, 0, 1, 1, 1, 0, 0, 1, 0, 1, 0, 0, 0, 0, 1, 1, 0, 0, 0,\n",
              "       1, 0, 0, 1, 0, 0, 1, 0, 1, 0, 0, 0, 0, 0, 0, 0, 1, 1, 0, 1, 0, 0,\n",
              "       0, 1, 0, 1, 0, 1, 0, 0, 0, 0, 0, 1, 0, 0, 0, 0, 0, 0, 1, 1, 1, 1,\n",
              "       1, 1, 1, 0, 0, 0, 0, 1, 0, 0, 0, 1, 1, 0, 0, 1, 1, 1, 0, 1, 1, 0,\n",
              "       0, 0, 0, 0, 0, 0, 0, 1, 0, 0, 0, 1, 1, 0, 0, 1, 1, 0, 1, 1, 1, 0,\n",
              "       1, 0, 0, 1, 0, 0, 0, 0, 0, 0, 1, 0, 1, 0, 0, 0, 0, 1, 0, 0, 0, 0,\n",
              "       0, 0, 0, 0, 0, 0, 1, 1, 1, 0, 0, 1, 0, 0, 0, 1, 1, 1, 0, 0, 0, 1,\n",
              "       1, 0, 0, 0, 0, 1, 0, 0, 1, 1, 0, 0, 1, 0, 0, 0, 0, 1, 0, 1, 0, 0,\n",
              "       1, 0, 0, 0, 0, 0, 1, 0, 0, 1, 0, 0, 0, 0, 0, 0, 1, 1, 1, 1, 0, 0,\n",
              "       0, 0, 0, 1, 0, 0, 0, 0, 0, 0, 0, 0, 0, 0, 0, 0, 0, 0, 0, 0, 0, 0,\n",
              "       0, 0, 0, 0, 0, 0, 0, 0, 0, 0, 0, 0, 0, 0, 0, 0, 0, 0, 0, 0, 0, 0,\n",
              "       0, 0, 0, 0, 0, 0, 0, 0, 0, 0, 0, 0, 0, 0, 0, 0, 0, 0, 0, 0, 0, 0,\n",
              "       0, 0, 0, 0, 0, 0, 0, 0, 0, 0, 0, 0, 0, 0, 0, 0, 0, 0, 0, 0, 0, 0,\n",
              "       0, 0, 0, 0, 0, 0, 0, 0, 0, 0, 0, 0, 0, 0, 0, 0, 0, 0, 0, 0, 0, 0,\n",
              "       0, 0, 0, 0, 0, 0, 0, 0, 0, 0, 0, 0, 0, 0, 0, 0, 0, 0, 0, 0, 0, 0,\n",
              "       0, 0, 0, 0, 0, 0, 0, 0, 0, 0, 0, 0, 0, 0, 0, 0, 0, 0, 0, 0, 0, 0,\n",
              "       0, 0, 0, 0, 0, 0, 0, 0, 0, 0, 0, 0, 0, 0, 0, 0, 0, 0, 0, 0, 0, 0,\n",
              "       0, 0, 0, 0, 0, 0, 0, 0, 0, 0, 0, 0, 0, 0, 0, 0, 0, 0, 0, 0, 0, 0,\n",
              "       0, 0, 0, 0, 0, 0, 0, 0, 0, 0, 0, 0, 0, 0, 0, 0, 0, 0, 0, 0, 0, 0,\n",
              "       0, 0, 0, 0, 0, 0, 0, 0, 0, 0, 0, 0, 0, 0, 0, 0, 0, 0, 0, 0, 0, 0,\n",
              "       0, 0, 0, 0, 0, 0, 0, 0, 0, 0, 0, 0, 0, 0, 0, 0, 0, 0, 0, 0, 0, 0,\n",
              "       0, 0, 0, 0, 0, 0, 0, 0, 0, 0, 0, 0, 0, 0, 0, 0, 0, 0, 0, 0, 0, 0,\n",
              "       0, 0, 0, 0, 0, 0, 0, 0, 0, 0, 0, 0, 0, 0, 0, 0, 0, 0, 0, 0, 0, 0,\n",
              "       0, 0, 0, 0, 0, 0, 0, 0, 0, 0, 0, 0, 0, 0, 0, 0, 0, 0, 0, 0, 0, 0,\n",
              "       0, 0, 0, 0, 0, 0, 0, 0, 0, 0, 0, 0, 0, 0, 0, 0, 0, 0, 0, 0, 0, 0,\n",
              "       0, 0, 0, 0, 0, 0, 0, 0, 0, 0, 0, 0, 0, 0, 0, 0, 0, 0, 0, 0, 0, 0,\n",
              "       0, 0, 0, 0, 0, 0, 0, 0, 0, 0, 0, 0, 0, 0, 0, 0, 0, 0, 0, 0, 0, 0,\n",
              "       0, 0, 0, 0, 0, 0, 0, 0])"
            ]
          },
          "metadata": {},
          "execution_count": 237
        }
      ]
    },
    {
      "cell_type": "code",
      "source": [
        "df5['predictedclass5b'] = mdl5_b.labels_ + 1"
      ],
      "metadata": {
        "id": "GN66XodrDhCs"
      },
      "execution_count": null,
      "outputs": []
    },
    {
      "cell_type": "markdown",
      "source": [
        "2. Evaluate the performance of the clustering algorithm using external validation metrics"
      ],
      "metadata": {
        "id": "GTvB_53uE2KY"
      }
    },
    {
      "cell_type": "code",
      "source": [
        "df5"
      ],
      "metadata": {
        "id": "i-EY-UAt-fPd",
        "colab": {
          "base_uri": "https://localhost:8080/",
          "height": 423
        },
        "outputId": "d9ad2f78-3e0a-4c9f-f23d-b658cff465f2"
      },
      "execution_count": null,
      "outputs": [
        {
          "output_type": "execute_result",
          "data": {
            "text/plain": [
              "     Unnamed: 0         X1         X2         X3  Class  predictedclass5a  \\\n",
              "0             1  -4.822490 -50.402170   4.020861      1                 4   \n",
              "1             2 -44.460120  20.964670 -11.492060      1                 6   \n",
              "2             3  50.001020   0.780748   9.134460      1                 5   \n",
              "3             4 -41.699080 -22.310060  16.314120      1                 1   \n",
              "4             5   4.425242  -4.666664  50.223740      1                 3   \n",
              "..          ...        ...        ...        ...    ...               ...   \n",
              "795         796  -1.531027   0.681636   0.543271      2                 2   \n",
              "796         797   0.500754  -1.848209   0.605654      2                 2   \n",
              "797         798   1.089574  -0.246493  -3.355758      2                 2   \n",
              "798         799  -1.907717   4.964502   2.098423      2                 2   \n",
              "799         800   3.415463   4.529521  -1.617736      2                 2   \n",
              "\n",
              "     predictedclass5b  \n",
              "0                   2  \n",
              "1                   1  \n",
              "2                   1  \n",
              "3                   1  \n",
              "4                   1  \n",
              "..                ...  \n",
              "795                 1  \n",
              "796                 1  \n",
              "797                 1  \n",
              "798                 1  \n",
              "799                 1  \n",
              "\n",
              "[800 rows x 7 columns]"
            ],
            "text/html": [
              "\n",
              "  <div id=\"df-40815a08-d14f-498b-8644-a6d5e184ec11\">\n",
              "    <div class=\"colab-df-container\">\n",
              "      <div>\n",
              "<style scoped>\n",
              "    .dataframe tbody tr th:only-of-type {\n",
              "        vertical-align: middle;\n",
              "    }\n",
              "\n",
              "    .dataframe tbody tr th {\n",
              "        vertical-align: top;\n",
              "    }\n",
              "\n",
              "    .dataframe thead th {\n",
              "        text-align: right;\n",
              "    }\n",
              "</style>\n",
              "<table border=\"1\" class=\"dataframe\">\n",
              "  <thead>\n",
              "    <tr style=\"text-align: right;\">\n",
              "      <th></th>\n",
              "      <th>Unnamed: 0</th>\n",
              "      <th>X1</th>\n",
              "      <th>X2</th>\n",
              "      <th>X3</th>\n",
              "      <th>Class</th>\n",
              "      <th>predictedclass5a</th>\n",
              "      <th>predictedclass5b</th>\n",
              "    </tr>\n",
              "  </thead>\n",
              "  <tbody>\n",
              "    <tr>\n",
              "      <th>0</th>\n",
              "      <td>1</td>\n",
              "      <td>-4.822490</td>\n",
              "      <td>-50.402170</td>\n",
              "      <td>4.020861</td>\n",
              "      <td>1</td>\n",
              "      <td>4</td>\n",
              "      <td>2</td>\n",
              "    </tr>\n",
              "    <tr>\n",
              "      <th>1</th>\n",
              "      <td>2</td>\n",
              "      <td>-44.460120</td>\n",
              "      <td>20.964670</td>\n",
              "      <td>-11.492060</td>\n",
              "      <td>1</td>\n",
              "      <td>6</td>\n",
              "      <td>1</td>\n",
              "    </tr>\n",
              "    <tr>\n",
              "      <th>2</th>\n",
              "      <td>3</td>\n",
              "      <td>50.001020</td>\n",
              "      <td>0.780748</td>\n",
              "      <td>9.134460</td>\n",
              "      <td>1</td>\n",
              "      <td>5</td>\n",
              "      <td>1</td>\n",
              "    </tr>\n",
              "    <tr>\n",
              "      <th>3</th>\n",
              "      <td>4</td>\n",
              "      <td>-41.699080</td>\n",
              "      <td>-22.310060</td>\n",
              "      <td>16.314120</td>\n",
              "      <td>1</td>\n",
              "      <td>1</td>\n",
              "      <td>1</td>\n",
              "    </tr>\n",
              "    <tr>\n",
              "      <th>4</th>\n",
              "      <td>5</td>\n",
              "      <td>4.425242</td>\n",
              "      <td>-4.666664</td>\n",
              "      <td>50.223740</td>\n",
              "      <td>1</td>\n",
              "      <td>3</td>\n",
              "      <td>1</td>\n",
              "    </tr>\n",
              "    <tr>\n",
              "      <th>...</th>\n",
              "      <td>...</td>\n",
              "      <td>...</td>\n",
              "      <td>...</td>\n",
              "      <td>...</td>\n",
              "      <td>...</td>\n",
              "      <td>...</td>\n",
              "      <td>...</td>\n",
              "    </tr>\n",
              "    <tr>\n",
              "      <th>795</th>\n",
              "      <td>796</td>\n",
              "      <td>-1.531027</td>\n",
              "      <td>0.681636</td>\n",
              "      <td>0.543271</td>\n",
              "      <td>2</td>\n",
              "      <td>2</td>\n",
              "      <td>1</td>\n",
              "    </tr>\n",
              "    <tr>\n",
              "      <th>796</th>\n",
              "      <td>797</td>\n",
              "      <td>0.500754</td>\n",
              "      <td>-1.848209</td>\n",
              "      <td>0.605654</td>\n",
              "      <td>2</td>\n",
              "      <td>2</td>\n",
              "      <td>1</td>\n",
              "    </tr>\n",
              "    <tr>\n",
              "      <th>797</th>\n",
              "      <td>798</td>\n",
              "      <td>1.089574</td>\n",
              "      <td>-0.246493</td>\n",
              "      <td>-3.355758</td>\n",
              "      <td>2</td>\n",
              "      <td>2</td>\n",
              "      <td>1</td>\n",
              "    </tr>\n",
              "    <tr>\n",
              "      <th>798</th>\n",
              "      <td>799</td>\n",
              "      <td>-1.907717</td>\n",
              "      <td>4.964502</td>\n",
              "      <td>2.098423</td>\n",
              "      <td>2</td>\n",
              "      <td>2</td>\n",
              "      <td>1</td>\n",
              "    </tr>\n",
              "    <tr>\n",
              "      <th>799</th>\n",
              "      <td>800</td>\n",
              "      <td>3.415463</td>\n",
              "      <td>4.529521</td>\n",
              "      <td>-1.617736</td>\n",
              "      <td>2</td>\n",
              "      <td>2</td>\n",
              "      <td>1</td>\n",
              "    </tr>\n",
              "  </tbody>\n",
              "</table>\n",
              "<p>800 rows × 7 columns</p>\n",
              "</div>\n",
              "      <button class=\"colab-df-convert\" onclick=\"convertToInteractive('df-40815a08-d14f-498b-8644-a6d5e184ec11')\"\n",
              "              title=\"Convert this dataframe to an interactive table.\"\n",
              "              style=\"display:none;\">\n",
              "        \n",
              "  <svg xmlns=\"http://www.w3.org/2000/svg\" height=\"24px\"viewBox=\"0 0 24 24\"\n",
              "       width=\"24px\">\n",
              "    <path d=\"M0 0h24v24H0V0z\" fill=\"none\"/>\n",
              "    <path d=\"M18.56 5.44l.94 2.06.94-2.06 2.06-.94-2.06-.94-.94-2.06-.94 2.06-2.06.94zm-11 1L8.5 8.5l.94-2.06 2.06-.94-2.06-.94L8.5 2.5l-.94 2.06-2.06.94zm10 10l.94 2.06.94-2.06 2.06-.94-2.06-.94-.94-2.06-.94 2.06-2.06.94z\"/><path d=\"M17.41 7.96l-1.37-1.37c-.4-.4-.92-.59-1.43-.59-.52 0-1.04.2-1.43.59L10.3 9.45l-7.72 7.72c-.78.78-.78 2.05 0 2.83L4 21.41c.39.39.9.59 1.41.59.51 0 1.02-.2 1.41-.59l7.78-7.78 2.81-2.81c.8-.78.8-2.07 0-2.86zM5.41 20L4 18.59l7.72-7.72 1.47 1.35L5.41 20z\"/>\n",
              "  </svg>\n",
              "      </button>\n",
              "      \n",
              "  <style>\n",
              "    .colab-df-container {\n",
              "      display:flex;\n",
              "      flex-wrap:wrap;\n",
              "      gap: 12px;\n",
              "    }\n",
              "\n",
              "    .colab-df-convert {\n",
              "      background-color: #E8F0FE;\n",
              "      border: none;\n",
              "      border-radius: 50%;\n",
              "      cursor: pointer;\n",
              "      display: none;\n",
              "      fill: #1967D2;\n",
              "      height: 32px;\n",
              "      padding: 0 0 0 0;\n",
              "      width: 32px;\n",
              "    }\n",
              "\n",
              "    .colab-df-convert:hover {\n",
              "      background-color: #E2EBFA;\n",
              "      box-shadow: 0px 1px 2px rgba(60, 64, 67, 0.3), 0px 1px 3px 1px rgba(60, 64, 67, 0.15);\n",
              "      fill: #174EA6;\n",
              "    }\n",
              "\n",
              "    [theme=dark] .colab-df-convert {\n",
              "      background-color: #3B4455;\n",
              "      fill: #D2E3FC;\n",
              "    }\n",
              "\n",
              "    [theme=dark] .colab-df-convert:hover {\n",
              "      background-color: #434B5C;\n",
              "      box-shadow: 0px 1px 3px 1px rgba(0, 0, 0, 0.15);\n",
              "      filter: drop-shadow(0px 1px 2px rgba(0, 0, 0, 0.3));\n",
              "      fill: #FFFFFF;\n",
              "    }\n",
              "  </style>\n",
              "\n",
              "      <script>\n",
              "        const buttonEl =\n",
              "          document.querySelector('#df-40815a08-d14f-498b-8644-a6d5e184ec11 button.colab-df-convert');\n",
              "        buttonEl.style.display =\n",
              "          google.colab.kernel.accessAllowed ? 'block' : 'none';\n",
              "\n",
              "        async function convertToInteractive(key) {\n",
              "          const element = document.querySelector('#df-40815a08-d14f-498b-8644-a6d5e184ec11');\n",
              "          const dataTable =\n",
              "            await google.colab.kernel.invokeFunction('convertToInteractive',\n",
              "                                                     [key], {});\n",
              "          if (!dataTable) return;\n",
              "\n",
              "          const docLinkHtml = 'Like what you see? Visit the ' +\n",
              "            '<a target=\"_blank\" href=https://colab.research.google.com/notebooks/data_table.ipynb>data table notebook</a>'\n",
              "            + ' to learn more about interactive tables.';\n",
              "          element.innerHTML = '';\n",
              "          dataTable['output_type'] = 'display_data';\n",
              "          await google.colab.output.renderOutput(dataTable, element);\n",
              "          const docLink = document.createElement('div');\n",
              "          docLink.innerHTML = docLinkHtml;\n",
              "          element.appendChild(docLink);\n",
              "        }\n",
              "      </script>\n",
              "    </div>\n",
              "  </div>\n",
              "  "
            ]
          },
          "metadata": {},
          "execution_count": 126
        }
      ]
    },
    {
      "cell_type": "code",
      "source": [
        "contingency_matrix5k = metrics.cluster.contingency_matrix(df5['Class'], df5['predictedclass5a'])\n",
        "contingency_matrix5k"
      ],
      "metadata": {
        "id": "xFSMlx4qE5eE",
        "colab": {
          "base_uri": "https://localhost:8080/"
        },
        "outputId": "d7b0e2df-524f-4343-a70d-df2dcef86790"
      },
      "execution_count": null,
      "outputs": [
        {
          "output_type": "execute_result",
          "data": {
            "text/plain": [
              "array([[  0,  56,  97,  82,  52,  53,  60],\n",
              "       [400,   0,   0,   0,   0,   0,   0]])"
            ]
          },
          "metadata": {},
          "execution_count": 182
        }
      ]
    },
    {
      "cell_type": "code",
      "source": [
        "purity5k = np.sum(np.amax(contingency_matrix5k, axis=0)) / np.sum(contingency_matrix5k) \n",
        "purity5k"
      ],
      "metadata": {
        "colab": {
          "base_uri": "https://localhost:8080/"
        },
        "id": "mpfCdXVs-dS1",
        "outputId": "fa318748-5146-425a-e376-e84e8b581827"
      },
      "execution_count": null,
      "outputs": [
        {
          "output_type": "execute_result",
          "data": {
            "text/plain": [
              "1.0"
            ]
          },
          "metadata": {},
          "execution_count": 185
        }
      ]
    },
    {
      "cell_type": "code",
      "source": [
        "contingency_matrix5h = metrics.cluster.contingency_matrix(df5['Class'], df5['predictedclass5b'])\n",
        "contingency_matrix5h"
      ],
      "metadata": {
        "colab": {
          "base_uri": "https://localhost:8080/"
        },
        "id": "3fIQxsBZ-dIE",
        "outputId": "c3c1cb61-9bd4-4e0e-e836-9f2a95c65ebc"
      },
      "execution_count": null,
      "outputs": [
        {
          "output_type": "execute_result",
          "data": {
            "text/plain": [
              "array([[274, 126],\n",
              "       [400,   0]])"
            ]
          },
          "metadata": {},
          "execution_count": 187
        }
      ]
    },
    {
      "cell_type": "code",
      "source": [
        "purity5h = np.sum(np.amax(contingency_matrix5h, axis=0)) / np.sum(contingency_matrix5h) \n",
        "purity5h"
      ],
      "metadata": {
        "colab": {
          "base_uri": "https://localhost:8080/"
        },
        "id": "OlgVMztH-ci3",
        "outputId": "2d0c6900-df6e-4255-b323-b009a7645187"
      },
      "execution_count": null,
      "outputs": [
        {
          "output_type": "execute_result",
          "data": {
            "text/plain": [
              "0.6575"
            ]
          },
          "metadata": {},
          "execution_count": 186
        }
      ]
    },
    {
      "cell_type": "code",
      "source": [
        "print('df5 fowlkes mallows score for K-means method: ' + str(fowlkes_mallows_score(df5.iloc[:,4], df5['predictedclass5a'])))\n",
        "print('df5 fowlkes mallows score for hierarchical method: ' + str(fowlkes_mallows_score(df5.iloc[:,4], df5['predictedclass5b'])))"
      ],
      "metadata": {
        "colab": {
          "base_uri": "https://localhost:8080/"
        },
        "id": "mU_-Ns78Glkw",
        "outputId": "754095d2-3974-432a-cf46-6f486b14e3ac"
      },
      "execution_count": null,
      "outputs": [
        {
          "output_type": "stream",
          "name": "stdout",
          "text": [
            "df5 fowlkes mallows score for K-means method: 0.7665917474563435\n",
            "df5 fowlkes mallows score for hierarchical method: 0.6462836986049043\n"
          ]
        }
      ]
    },
    {
      "cell_type": "markdown",
      "source": [
        "The purity for k-means method is 0.6575, which means some cluster contains examples\n",
        "from other classes in hierarchial method, where as in k-means method, all the clusters contains only examples from the same class. The fowlkes mallows score shows that in both methods, there is a moderate dissimilarity between the clusters and the benchmark classifications."
      ],
      "metadata": {
        "id": "Sy-ZHFzmHUVr"
      }
    },
    {
      "cell_type": "markdown",
      "source": [
        "3. Plot (2D or 3D) the data points for each dataset and color them according to the original class"
      ],
      "metadata": {
        "id": "rgdDDNNxE7Eb"
      }
    },
    {
      "cell_type": "code",
      "source": [
        "fig = px.scatter_3d(df5, x='X1', y = 'X2', z='X3', color = 'Class')\n",
        "fig.show()"
      ],
      "metadata": {
        "id": "t0UMRBt8E-Yg"
      },
      "execution_count": null,
      "outputs": []
    },
    {
      "cell_type": "markdown",
      "source": [
        "4. Plot (2D or 3D) the data points for each dataset and color them according to the class allocated by the clustering algorithm"
      ],
      "metadata": {
        "id": "vKZ8nPtUFHzV"
      }
    },
    {
      "cell_type": "code",
      "source": [
        "# According to k-means clustering algorithm\n",
        "fig = px.scatter_3d(df5, x='X1', y = 'X2', z='X3', color = 'predictedclass5a')\n",
        "fig.show()"
      ],
      "metadata": {
        "id": "R9icNT2OFK1U"
      },
      "execution_count": null,
      "outputs": []
    },
    {
      "cell_type": "code",
      "source": [
        "# According to hierarchical clustering method\n",
        "fig = px.scatter_3d(df5, x='X1', y = 'X2', z='X3', color = 'predictedclass5b')\n",
        "fig.show()"
      ],
      "metadata": {
        "id": "mAL6s9eCFYSV"
      },
      "execution_count": null,
      "outputs": []
    },
    {
      "cell_type": "markdown",
      "source": [
        "**Data 6**"
      ],
      "metadata": {
        "id": "k7WrA7ZvFxmz"
      }
    },
    {
      "cell_type": "code",
      "source": [
        "df6"
      ],
      "metadata": {
        "colab": {
          "base_uri": "https://localhost:8080/",
          "height": 423
        },
        "id": "uPY7bIp6F1Lz",
        "outputId": "b68cb291-2e5c-4436-a8d1-fdc2665e8c77"
      },
      "execution_count": null,
      "outputs": [
        {
          "output_type": "execute_result",
          "data": {
            "text/plain": [
              "      Unnamed: 0        X1        X2  Class\n",
              "0              1  1.388261  2.076096      1\n",
              "1              2  2.177247  3.102304      1\n",
              "2              3  0.378645  5.307610      1\n",
              "3              4  3.681732  1.622681      1\n",
              "4              5  2.462861  2.777897      1\n",
              "...          ...       ...       ...    ...\n",
              "4091        4092  0.909687  0.375763      2\n",
              "4092        4093  2.698381  0.511262      2\n",
              "4093        4094  1.078797  1.526153      2\n",
              "4094        4095  1.974889 -0.649343      2\n",
              "4095        4096 -0.127192 -0.763974      2\n",
              "\n",
              "[4096 rows x 4 columns]"
            ],
            "text/html": [
              "\n",
              "  <div id=\"df-c563ab08-04f1-4c86-913e-f56857755ba4\">\n",
              "    <div class=\"colab-df-container\">\n",
              "      <div>\n",
              "<style scoped>\n",
              "    .dataframe tbody tr th:only-of-type {\n",
              "        vertical-align: middle;\n",
              "    }\n",
              "\n",
              "    .dataframe tbody tr th {\n",
              "        vertical-align: top;\n",
              "    }\n",
              "\n",
              "    .dataframe thead th {\n",
              "        text-align: right;\n",
              "    }\n",
              "</style>\n",
              "<table border=\"1\" class=\"dataframe\">\n",
              "  <thead>\n",
              "    <tr style=\"text-align: right;\">\n",
              "      <th></th>\n",
              "      <th>Unnamed: 0</th>\n",
              "      <th>X1</th>\n",
              "      <th>X2</th>\n",
              "      <th>Class</th>\n",
              "    </tr>\n",
              "  </thead>\n",
              "  <tbody>\n",
              "    <tr>\n",
              "      <th>0</th>\n",
              "      <td>1</td>\n",
              "      <td>1.388261</td>\n",
              "      <td>2.076096</td>\n",
              "      <td>1</td>\n",
              "    </tr>\n",
              "    <tr>\n",
              "      <th>1</th>\n",
              "      <td>2</td>\n",
              "      <td>2.177247</td>\n",
              "      <td>3.102304</td>\n",
              "      <td>1</td>\n",
              "    </tr>\n",
              "    <tr>\n",
              "      <th>2</th>\n",
              "      <td>3</td>\n",
              "      <td>0.378645</td>\n",
              "      <td>5.307610</td>\n",
              "      <td>1</td>\n",
              "    </tr>\n",
              "    <tr>\n",
              "      <th>3</th>\n",
              "      <td>4</td>\n",
              "      <td>3.681732</td>\n",
              "      <td>1.622681</td>\n",
              "      <td>1</td>\n",
              "    </tr>\n",
              "    <tr>\n",
              "      <th>4</th>\n",
              "      <td>5</td>\n",
              "      <td>2.462861</td>\n",
              "      <td>2.777897</td>\n",
              "      <td>1</td>\n",
              "    </tr>\n",
              "    <tr>\n",
              "      <th>...</th>\n",
              "      <td>...</td>\n",
              "      <td>...</td>\n",
              "      <td>...</td>\n",
              "      <td>...</td>\n",
              "    </tr>\n",
              "    <tr>\n",
              "      <th>4091</th>\n",
              "      <td>4092</td>\n",
              "      <td>0.909687</td>\n",
              "      <td>0.375763</td>\n",
              "      <td>2</td>\n",
              "    </tr>\n",
              "    <tr>\n",
              "      <th>4092</th>\n",
              "      <td>4093</td>\n",
              "      <td>2.698381</td>\n",
              "      <td>0.511262</td>\n",
              "      <td>2</td>\n",
              "    </tr>\n",
              "    <tr>\n",
              "      <th>4093</th>\n",
              "      <td>4094</td>\n",
              "      <td>1.078797</td>\n",
              "      <td>1.526153</td>\n",
              "      <td>2</td>\n",
              "    </tr>\n",
              "    <tr>\n",
              "      <th>4094</th>\n",
              "      <td>4095</td>\n",
              "      <td>1.974889</td>\n",
              "      <td>-0.649343</td>\n",
              "      <td>2</td>\n",
              "    </tr>\n",
              "    <tr>\n",
              "      <th>4095</th>\n",
              "      <td>4096</td>\n",
              "      <td>-0.127192</td>\n",
              "      <td>-0.763974</td>\n",
              "      <td>2</td>\n",
              "    </tr>\n",
              "  </tbody>\n",
              "</table>\n",
              "<p>4096 rows × 4 columns</p>\n",
              "</div>\n",
              "      <button class=\"colab-df-convert\" onclick=\"convertToInteractive('df-c563ab08-04f1-4c86-913e-f56857755ba4')\"\n",
              "              title=\"Convert this dataframe to an interactive table.\"\n",
              "              style=\"display:none;\">\n",
              "        \n",
              "  <svg xmlns=\"http://www.w3.org/2000/svg\" height=\"24px\"viewBox=\"0 0 24 24\"\n",
              "       width=\"24px\">\n",
              "    <path d=\"M0 0h24v24H0V0z\" fill=\"none\"/>\n",
              "    <path d=\"M18.56 5.44l.94 2.06.94-2.06 2.06-.94-2.06-.94-.94-2.06-.94 2.06-2.06.94zm-11 1L8.5 8.5l.94-2.06 2.06-.94-2.06-.94L8.5 2.5l-.94 2.06-2.06.94zm10 10l.94 2.06.94-2.06 2.06-.94-2.06-.94-.94-2.06-.94 2.06-2.06.94z\"/><path d=\"M17.41 7.96l-1.37-1.37c-.4-.4-.92-.59-1.43-.59-.52 0-1.04.2-1.43.59L10.3 9.45l-7.72 7.72c-.78.78-.78 2.05 0 2.83L4 21.41c.39.39.9.59 1.41.59.51 0 1.02-.2 1.41-.59l7.78-7.78 2.81-2.81c.8-.78.8-2.07 0-2.86zM5.41 20L4 18.59l7.72-7.72 1.47 1.35L5.41 20z\"/>\n",
              "  </svg>\n",
              "      </button>\n",
              "      \n",
              "  <style>\n",
              "    .colab-df-container {\n",
              "      display:flex;\n",
              "      flex-wrap:wrap;\n",
              "      gap: 12px;\n",
              "    }\n",
              "\n",
              "    .colab-df-convert {\n",
              "      background-color: #E8F0FE;\n",
              "      border: none;\n",
              "      border-radius: 50%;\n",
              "      cursor: pointer;\n",
              "      display: none;\n",
              "      fill: #1967D2;\n",
              "      height: 32px;\n",
              "      padding: 0 0 0 0;\n",
              "      width: 32px;\n",
              "    }\n",
              "\n",
              "    .colab-df-convert:hover {\n",
              "      background-color: #E2EBFA;\n",
              "      box-shadow: 0px 1px 2px rgba(60, 64, 67, 0.3), 0px 1px 3px 1px rgba(60, 64, 67, 0.15);\n",
              "      fill: #174EA6;\n",
              "    }\n",
              "\n",
              "    [theme=dark] .colab-df-convert {\n",
              "      background-color: #3B4455;\n",
              "      fill: #D2E3FC;\n",
              "    }\n",
              "\n",
              "    [theme=dark] .colab-df-convert:hover {\n",
              "      background-color: #434B5C;\n",
              "      box-shadow: 0px 1px 3px 1px rgba(0, 0, 0, 0.15);\n",
              "      filter: drop-shadow(0px 1px 2px rgba(0, 0, 0, 0.3));\n",
              "      fill: #FFFFFF;\n",
              "    }\n",
              "  </style>\n",
              "\n",
              "      <script>\n",
              "        const buttonEl =\n",
              "          document.querySelector('#df-c563ab08-04f1-4c86-913e-f56857755ba4 button.colab-df-convert');\n",
              "        buttonEl.style.display =\n",
              "          google.colab.kernel.accessAllowed ? 'block' : 'none';\n",
              "\n",
              "        async function convertToInteractive(key) {\n",
              "          const element = document.querySelector('#df-c563ab08-04f1-4c86-913e-f56857755ba4');\n",
              "          const dataTable =\n",
              "            await google.colab.kernel.invokeFunction('convertToInteractive',\n",
              "                                                     [key], {});\n",
              "          if (!dataTable) return;\n",
              "\n",
              "          const docLinkHtml = 'Like what you see? Visit the ' +\n",
              "            '<a target=\"_blank\" href=https://colab.research.google.com/notebooks/data_table.ipynb>data table notebook</a>'\n",
              "            + ' to learn more about interactive tables.';\n",
              "          element.innerHTML = '';\n",
              "          dataTable['output_type'] = 'display_data';\n",
              "          await google.colab.output.renderOutput(dataTable, element);\n",
              "          const docLink = document.createElement('div');\n",
              "          docLink.innerHTML = docLinkHtml;\n",
              "          element.appendChild(docLink);\n",
              "        }\n",
              "      </script>\n",
              "    </div>\n",
              "  </div>\n",
              "  "
            ]
          },
          "metadata": {},
          "execution_count": 129
        }
      ]
    },
    {
      "cell_type": "markdown",
      "source": [
        "1. (a) Use K-means clustering methods to generate clusters"
      ],
      "metadata": {
        "id": "6qw4xzZyHnrc"
      }
    },
    {
      "cell_type": "code",
      "source": [
        "k6 = []\n",
        "wcss6 = []\n",
        "for i6 in range(1,11):\n",
        "  mdl6 = KMeans(n_clusters=i6)\n",
        "  mdl6.fit(df6.iloc[:,1:3])\n",
        "  k6.append(i6)\n",
        "  wcss6.append(mdl6.inertia_)"
      ],
      "metadata": {
        "id": "-kOh6R1AHjWN"
      },
      "execution_count": null,
      "outputs": []
    },
    {
      "cell_type": "code",
      "source": [
        "sns.lineplot(k6,wcss6)"
      ],
      "metadata": {
        "colab": {
          "base_uri": "https://localhost:8080/",
          "height": 372
        },
        "id": "fGbdj5NwHyiU",
        "outputId": "880b98dd-321f-4bba-e303-e5f47d2d0ab4"
      },
      "execution_count": null,
      "outputs": [
        {
          "output_type": "stream",
          "name": "stderr",
          "text": [
            "/usr/local/lib/python3.7/dist-packages/seaborn/_decorators.py:43: FutureWarning:\n",
            "\n",
            "Pass the following variables as keyword args: x, y. From version 0.12, the only valid positional argument will be `data`, and passing other arguments without an explicit keyword will result in an error or misinterpretation.\n",
            "\n"
          ]
        },
        {
          "output_type": "execute_result",
          "data": {
            "text/plain": [
              "<matplotlib.axes._subplots.AxesSubplot at 0x7fc1b4d397d0>"
            ]
          },
          "metadata": {},
          "execution_count": 131
        },
        {
          "output_type": "display_data",
          "data": {
            "text/plain": [
              "<Figure size 432x288 with 1 Axes>"
            ],
            "image/png": "[encoded data removed]"
          },
          "metadata": {
            "needs_background": "light"
          }
        }
      ]
    },
    {
      "cell_type": "markdown",
      "source": [
        "Therefore, we use 3 as n_cluster value"
      ],
      "metadata": {
        "id": "SNy2lkbQH1rQ"
      }
    },
    {
      "cell_type": "code",
      "source": [
        "mdl6_a = KMeans(n_clusters=3)\n",
        "mdl6_a.fit(df6.iloc[:,1:3])\n",
        "print('SSE Data 6: ' + str(mdl6_a.inertia_))"
      ],
      "metadata": {
        "id": "VIRFj6q3H5NT",
        "colab": {
          "base_uri": "https://localhost:8080/"
        },
        "outputId": "9f01c775-d558-4fd4-f4ad-e74f111088fa"
      },
      "execution_count": null,
      "outputs": [
        {
          "output_type": "stream",
          "name": "stdout",
          "text": [
            "SSE Data 6: 7114.171975081947\n"
          ]
        }
      ]
    },
    {
      "cell_type": "code",
      "source": [
        "mdl6_a.labels_"
      ],
      "metadata": {
        "colab": {
          "base_uri": "https://localhost:8080/"
        },
        "id": "MkWJ7dIqIFL-",
        "outputId": "18ffc138-54b6-4d22-8d8e-2ff88c953d2f"
      },
      "execution_count": null,
      "outputs": [
        {
          "output_type": "execute_result",
          "data": {
            "text/plain": [
              "array([2, 1, 1, ..., 0, 0, 0], dtype=int32)"
            ]
          },
          "metadata": {},
          "execution_count": 133
        }
      ]
    },
    {
      "cell_type": "code",
      "source": [
        "df6['predictedclass6a'] = mdl6_a.labels_ + 1"
      ],
      "metadata": {
        "id": "IJEbdFxNIGzP"
      },
      "execution_count": null,
      "outputs": []
    },
    {
      "cell_type": "code",
      "source": [
        "mdl6_a.cluster_centers_"
      ],
      "metadata": {
        "colab": {
          "base_uri": "https://localhost:8080/"
        },
        "id": "xF1ACM2PINp4",
        "outputId": "fbd30d62-0d44-4fab-d939-e391d9dac20a"
      },
      "execution_count": null,
      "outputs": [
        {
          "output_type": "execute_result",
          "data": {
            "text/plain": [
              "array([[0.33958768, 0.33916125],\n",
              "       [1.00793685, 3.89358379],\n",
              "       [2.98566042, 1.71766642]])"
            ]
          },
          "metadata": {},
          "execution_count": 135
        }
      ]
    },
    {
      "cell_type": "markdown",
      "source": [
        "(b) Use hierarchical clustering methods to generate clusters"
      ],
      "metadata": {
        "id": "ft-U9zccIWzu"
      }
    },
    {
      "cell_type": "code",
      "source": [
        "# Plot the dendrogram and get the n_cluster value\n",
        "z6 = linkage(df6.iloc[:,1:3],method='single')\n",
        "dendrogram(z6)\n",
        "plt.title('dendrogram of Data 6')\n",
        "plt.show()"
      ],
      "metadata": {
        "colab": {
          "base_uri": "https://localhost:8080/",
          "height": 284
        },
        "id": "FWGPKcWZLAgP",
        "outputId": "b7a2194e-f564-4bc7-8f4f-9a73e98ad505"
      },
      "execution_count": null,
      "outputs": [
        {
          "output_type": "display_data",
          "data": {
            "text/plain": [
              "<Figure size 432x288 with 1 Axes>"
            ],
            "image/png": "[encoded data removed]"
          },
          "metadata": {
            "needs_background": "light"
          }
        }
      ]
    },
    {
      "cell_type": "code",
      "source": [
        "z6 = linkage(df6.iloc[:,1:3],method='ward')\n",
        "dendrogram(z6)\n",
        "plt.title('dendrogram of Data 6')\n",
        "plt.show()"
      ],
      "metadata": {
        "colab": {
          "base_uri": "https://localhost:8080/",
          "height": 284
        },
        "id": "5oaW6muIHlqM",
        "outputId": "10e27d3f-d340-4758-f25c-ffaf631ab14c"
      },
      "execution_count": null,
      "outputs": [
        {
          "output_type": "display_data",
          "data": {
            "text/plain": [
              "<Figure size 432x288 with 1 Axes>"
            ],
            "image/png": "[encoded data removed]"
          },
          "metadata": {
            "needs_background": "light"
          }
        }
      ]
    },
    {
      "cell_type": "markdown",
      "source": [
        "Therefore, we use 2 as n_cluster value"
      ],
      "metadata": {
        "id": "PfGTBFdfIggL"
      }
    },
    {
      "cell_type": "code",
      "source": [
        "mdl6_b = AgglomerativeClustering(n_clusters=2)\n",
        "mdl6_b.fit(df6.iloc[:,1:3])\n",
        "mdl6_b.labels_"
      ],
      "metadata": {
        "colab": {
          "base_uri": "https://localhost:8080/"
        },
        "id": "kM7656jwIkZP",
        "outputId": "374d2499-43f6-4ee4-8288-24547ceaa62b"
      },
      "execution_count": null,
      "outputs": [
        {
          "output_type": "execute_result",
          "data": {
            "text/plain": [
              "array([0, 0, 0, ..., 1, 1, 1])"
            ]
          },
          "metadata": {},
          "execution_count": 140
        }
      ]
    },
    {
      "cell_type": "code",
      "source": [
        "df6['predictedclass6b'] = mdl6_b.labels_ + 1"
      ],
      "metadata": {
        "id": "pXROvRmUK6R8"
      },
      "execution_count": null,
      "outputs": []
    },
    {
      "cell_type": "markdown",
      "source": [
        "2. Evaluate the performance of the clustering algorithm using external validation metrics"
      ],
      "metadata": {
        "id": "X52OkacXLmaT"
      }
    },
    {
      "cell_type": "code",
      "source": [
        "df6"
      ],
      "metadata": {
        "colab": {
          "base_uri": "https://localhost:8080/",
          "height": 423
        },
        "id": "OzCiifG-BO89",
        "outputId": "cf746279-5f93-4ff6-9372-ba3813daacd2"
      },
      "execution_count": null,
      "outputs": [
        {
          "output_type": "execute_result",
          "data": {
            "text/plain": [
              "      Unnamed: 0        X1        X2  Class  predictedclass6a  \\\n",
              "0              1  1.388261  2.076096      1                 3   \n",
              "1              2  2.177247  3.102304      1                 2   \n",
              "2              3  0.378645  5.307610      1                 2   \n",
              "3              4  3.681732  1.622681      1                 3   \n",
              "4              5  2.462861  2.777897      1                 3   \n",
              "...          ...       ...       ...    ...               ...   \n",
              "4091        4092  0.909687  0.375763      2                 1   \n",
              "4092        4093  2.698381  0.511262      2                 3   \n",
              "4093        4094  1.078797  1.526153      2                 1   \n",
              "4094        4095  1.974889 -0.649343      2                 1   \n",
              "4095        4096 -0.127192 -0.763974      2                 1   \n",
              "\n",
              "      predictedclass6b  \n",
              "0                    1  \n",
              "1                    1  \n",
              "2                    1  \n",
              "3                    1  \n",
              "4                    1  \n",
              "...                ...  \n",
              "4091                 2  \n",
              "4092                 1  \n",
              "4093                 2  \n",
              "4094                 2  \n",
              "4095                 2  \n",
              "\n",
              "[4096 rows x 6 columns]"
            ],
            "text/html": [
              "\n",
              "  <div id=\"df-d3d2d776-1e13-4c34-9768-22e99894ed35\">\n",
              "    <div class=\"colab-df-container\">\n",
              "      <div>\n",
              "<style scoped>\n",
              "    .dataframe tbody tr th:only-of-type {\n",
              "        vertical-align: middle;\n",
              "    }\n",
              "\n",
              "    .dataframe tbody tr th {\n",
              "        vertical-align: top;\n",
              "    }\n",
              "\n",
              "    .dataframe thead th {\n",
              "        text-align: right;\n",
              "    }\n",
              "</style>\n",
              "<table border=\"1\" class=\"dataframe\">\n",
              "  <thead>\n",
              "    <tr style=\"text-align: right;\">\n",
              "      <th></th>\n",
              "      <th>Unnamed: 0</th>\n",
              "      <th>X1</th>\n",
              "      <th>X2</th>\n",
              "      <th>Class</th>\n",
              "      <th>predictedclass6a</th>\n",
              "      <th>predictedclass6b</th>\n",
              "    </tr>\n",
              "  </thead>\n",
              "  <tbody>\n",
              "    <tr>\n",
              "      <th>0</th>\n",
              "      <td>1</td>\n",
              "      <td>1.388261</td>\n",
              "      <td>2.076096</td>\n",
              "      <td>1</td>\n",
              "      <td>3</td>\n",
              "      <td>1</td>\n",
              "    </tr>\n",
              "    <tr>\n",
              "      <th>1</th>\n",
              "      <td>2</td>\n",
              "      <td>2.177247</td>\n",
              "      <td>3.102304</td>\n",
              "      <td>1</td>\n",
              "      <td>2</td>\n",
              "      <td>1</td>\n",
              "    </tr>\n",
              "    <tr>\n",
              "      <th>2</th>\n",
              "      <td>3</td>\n",
              "      <td>0.378645</td>\n",
              "      <td>5.307610</td>\n",
              "      <td>1</td>\n",
              "      <td>2</td>\n",
              "      <td>1</td>\n",
              "    </tr>\n",
              "    <tr>\n",
              "      <th>3</th>\n",
              "      <td>4</td>\n",
              "      <td>3.681732</td>\n",
              "      <td>1.622681</td>\n",
              "      <td>1</td>\n",
              "      <td>3</td>\n",
              "      <td>1</td>\n",
              "    </tr>\n",
              "    <tr>\n",
              "      <th>4</th>\n",
              "      <td>5</td>\n",
              "      <td>2.462861</td>\n",
              "      <td>2.777897</td>\n",
              "      <td>1</td>\n",
              "      <td>3</td>\n",
              "      <td>1</td>\n",
              "    </tr>\n",
              "    <tr>\n",
              "      <th>...</th>\n",
              "      <td>...</td>\n",
              "      <td>...</td>\n",
              "      <td>...</td>\n",
              "      <td>...</td>\n",
              "      <td>...</td>\n",
              "      <td>...</td>\n",
              "    </tr>\n",
              "    <tr>\n",
              "      <th>4091</th>\n",
              "      <td>4092</td>\n",
              "      <td>0.909687</td>\n",
              "      <td>0.375763</td>\n",
              "      <td>2</td>\n",
              "      <td>1</td>\n",
              "      <td>2</td>\n",
              "    </tr>\n",
              "    <tr>\n",
              "      <th>4092</th>\n",
              "      <td>4093</td>\n",
              "      <td>2.698381</td>\n",
              "      <td>0.511262</td>\n",
              "      <td>2</td>\n",
              "      <td>3</td>\n",
              "      <td>1</td>\n",
              "    </tr>\n",
              "    <tr>\n",
              "      <th>4093</th>\n",
              "      <td>4094</td>\n",
              "      <td>1.078797</td>\n",
              "      <td>1.526153</td>\n",
              "      <td>2</td>\n",
              "      <td>1</td>\n",
              "      <td>2</td>\n",
              "    </tr>\n",
              "    <tr>\n",
              "      <th>4094</th>\n",
              "      <td>4095</td>\n",
              "      <td>1.974889</td>\n",
              "      <td>-0.649343</td>\n",
              "      <td>2</td>\n",
              "      <td>1</td>\n",
              "      <td>2</td>\n",
              "    </tr>\n",
              "    <tr>\n",
              "      <th>4095</th>\n",
              "      <td>4096</td>\n",
              "      <td>-0.127192</td>\n",
              "      <td>-0.763974</td>\n",
              "      <td>2</td>\n",
              "      <td>1</td>\n",
              "      <td>2</td>\n",
              "    </tr>\n",
              "  </tbody>\n",
              "</table>\n",
              "<p>4096 rows × 6 columns</p>\n",
              "</div>\n",
              "      <button class=\"colab-df-convert\" onclick=\"convertToInteractive('df-d3d2d776-1e13-4c34-9768-22e99894ed35')\"\n",
              "              title=\"Convert this dataframe to an interactive table.\"\n",
              "              style=\"display:none;\">\n",
              "        \n",
              "  <svg xmlns=\"http://www.w3.org/2000/svg\" height=\"24px\"viewBox=\"0 0 24 24\"\n",
              "       width=\"24px\">\n",
              "    <path d=\"M0 0h24v24H0V0z\" fill=\"none\"/>\n",
              "    <path d=\"M18.56 5.44l.94 2.06.94-2.06 2.06-.94-2.06-.94-.94-2.06-.94 2.06-2.06.94zm-11 1L8.5 8.5l.94-2.06 2.06-.94-2.06-.94L8.5 2.5l-.94 2.06-2.06.94zm10 10l.94 2.06.94-2.06 2.06-.94-2.06-.94-.94-2.06-.94 2.06-2.06.94z\"/><path d=\"M17.41 7.96l-1.37-1.37c-.4-.4-.92-.59-1.43-.59-.52 0-1.04.2-1.43.59L10.3 9.45l-7.72 7.72c-.78.78-.78 2.05 0 2.83L4 21.41c.39.39.9.59 1.41.59.51 0 1.02-.2 1.41-.59l7.78-7.78 2.81-2.81c.8-.78.8-2.07 0-2.86zM5.41 20L4 18.59l7.72-7.72 1.47 1.35L5.41 20z\"/>\n",
              "  </svg>\n",
              "      </button>\n",
              "      \n",
              "  <style>\n",
              "    .colab-df-container {\n",
              "      display:flex;\n",
              "      flex-wrap:wrap;\n",
              "      gap: 12px;\n",
              "    }\n",
              "\n",
              "    .colab-df-convert {\n",
              "      background-color: #E8F0FE;\n",
              "      border: none;\n",
              "      border-radius: 50%;\n",
              "      cursor: pointer;\n",
              "      display: none;\n",
              "      fill: #1967D2;\n",
              "      height: 32px;\n",
              "      padding: 0 0 0 0;\n",
              "      width: 32px;\n",
              "    }\n",
              "\n",
              "    .colab-df-convert:hover {\n",
              "      background-color: #E2EBFA;\n",
              "      box-shadow: 0px 1px 2px rgba(60, 64, 67, 0.3), 0px 1px 3px 1px rgba(60, 64, 67, 0.15);\n",
              "      fill: #174EA6;\n",
              "    }\n",
              "\n",
              "    [theme=dark] .colab-df-convert {\n",
              "      background-color: #3B4455;\n",
              "      fill: #D2E3FC;\n",
              "    }\n",
              "\n",
              "    [theme=dark] .colab-df-convert:hover {\n",
              "      background-color: #434B5C;\n",
              "      box-shadow: 0px 1px 3px 1px rgba(0, 0, 0, 0.15);\n",
              "      filter: drop-shadow(0px 1px 2px rgba(0, 0, 0, 0.3));\n",
              "      fill: #FFFFFF;\n",
              "    }\n",
              "  </style>\n",
              "\n",
              "      <script>\n",
              "        const buttonEl =\n",
              "          document.querySelector('#df-d3d2d776-1e13-4c34-9768-22e99894ed35 button.colab-df-convert');\n",
              "        buttonEl.style.display =\n",
              "          google.colab.kernel.accessAllowed ? 'block' : 'none';\n",
              "\n",
              "        async function convertToInteractive(key) {\n",
              "          const element = document.querySelector('#df-d3d2d776-1e13-4c34-9768-22e99894ed35');\n",
              "          const dataTable =\n",
              "            await google.colab.kernel.invokeFunction('convertToInteractive',\n",
              "                                                     [key], {});\n",
              "          if (!dataTable) return;\n",
              "\n",
              "          const docLinkHtml = 'Like what you see? Visit the ' +\n",
              "            '<a target=\"_blank\" href=https://colab.research.google.com/notebooks/data_table.ipynb>data table notebook</a>'\n",
              "            + ' to learn more about interactive tables.';\n",
              "          element.innerHTML = '';\n",
              "          dataTable['output_type'] = 'display_data';\n",
              "          await google.colab.output.renderOutput(dataTable, element);\n",
              "          const docLink = document.createElement('div');\n",
              "          docLink.innerHTML = docLinkHtml;\n",
              "          element.appendChild(docLink);\n",
              "        }\n",
              "      </script>\n",
              "    </div>\n",
              "  </div>\n",
              "  "
            ]
          },
          "metadata": {},
          "execution_count": 142
        }
      ]
    },
    {
      "cell_type": "code",
      "source": [
        "contingency_matrix6k = metrics.cluster.contingency_matrix(df6['Class'], df6['predictedclass6a'])\n",
        "contingency_matrix6k"
      ],
      "metadata": {
        "id": "gPqs_vUOLlru",
        "colab": {
          "base_uri": "https://localhost:8080/"
        },
        "outputId": "ed602d66-1fc0-4340-9672-93d5461420ff"
      },
      "execution_count": null,
      "outputs": [
        {
          "output_type": "execute_result",
          "data": {
            "text/plain": [
              "array([[  14, 1065,  969],\n",
              "       [1781,   66,  201]])"
            ]
          },
          "metadata": {},
          "execution_count": 143
        }
      ]
    },
    {
      "cell_type": "code",
      "source": [
        "purity6k = np.sum(np.amax(contingency_matrix6k, axis=0)) / np.sum(contingency_matrix6k) \n",
        "purity6k"
      ],
      "metadata": {
        "id": "EZkAKI4ZAwF1",
        "colab": {
          "base_uri": "https://localhost:8080/"
        },
        "outputId": "7e7019fc-ec0c-4e8a-b312-2e983c562bae"
      },
      "execution_count": null,
      "outputs": [
        {
          "output_type": "execute_result",
          "data": {
            "text/plain": [
              "0.931396484375"
            ]
          },
          "metadata": {},
          "execution_count": 144
        }
      ]
    },
    {
      "cell_type": "code",
      "source": [
        "contingency_matrix6h = metrics.cluster.contingency_matrix(df6['Class'], df6['predictedclass6b'])\n",
        "contingency_matrix6h"
      ],
      "metadata": {
        "id": "nVikEsnYAv_u",
        "colab": {
          "base_uri": "https://localhost:8080/"
        },
        "outputId": "e44cdd88-06eb-4df2-9ed5-d8d61b40f496"
      },
      "execution_count": null,
      "outputs": [
        {
          "output_type": "execute_result",
          "data": {
            "text/plain": [
              "array([[2016,   32],\n",
              "       [ 280, 1768]])"
            ]
          },
          "metadata": {},
          "execution_count": 145
        }
      ]
    },
    {
      "cell_type": "code",
      "source": [
        "purity6h = np.sum(np.amax(contingency_matrix6h, axis=0)) / np.sum(contingency_matrix6h) \n",
        "purity6h"
      ],
      "metadata": {
        "colab": {
          "base_uri": "https://localhost:8080/"
        },
        "id": "aUFrbsTAAvyv",
        "outputId": "6b0f41c5-9c4b-4e36-9bad-916332d63285"
      },
      "execution_count": null,
      "outputs": [
        {
          "output_type": "execute_result",
          "data": {
            "text/plain": [
              "0.923828125"
            ]
          },
          "metadata": {},
          "execution_count": 146
        }
      ]
    },
    {
      "cell_type": "code",
      "source": [
        "print('df6 fowlkes mallows score for K-means method: ' + str(fowlkes_mallows_score(df6.iloc[:,3], df6['predictedclass6a'])))\n",
        "print('df6 fowlkes mallows score for hierarchical method: ' + str(fowlkes_mallows_score(df6.iloc[:,3], df6['predictedclass6b'])))"
      ],
      "metadata": {
        "colab": {
          "base_uri": "https://localhost:8080/"
        },
        "id": "vJTPvJZEIhAm",
        "outputId": "0153d9ec-404f-4356-a0bb-8d07fe6bb146"
      },
      "execution_count": null,
      "outputs": [
        {
          "output_type": "stream",
          "name": "stdout",
          "text": [
            "df6 fowlkes mallows score for K-means method: 0.7537336993699058\n",
            "df6 fowlkes mallows score for hierarchical method: 0.8602399807978651\n"
          ]
        }
      ]
    },
    {
      "cell_type": "markdown",
      "source": [
        "The purity for both methods are greater than 0.92, which means the clusters contains mostly examples from the same class. The fowlkes mallows score shows that there is a moderate dissimilarity between the clusters and the benchmark classifications. "
      ],
      "metadata": {
        "id": "YITcIiHVJFcP"
      }
    },
    {
      "cell_type": "markdown",
      "source": [
        "3. Plot (2D or 3D) the data points for each dataset and color them according to the original class"
      ],
      "metadata": {
        "id": "FWfrGRXPLpn1"
      }
    },
    {
      "cell_type": "code",
      "source": [
        "fig = px.scatter(df6, x='X1', y='X2', color = 'Class')\n",
        "fig.show()"
      ],
      "metadata": {
        "id": "nJVYA9-KLsZy"
      },
      "execution_count": null,
      "outputs": []
    },
    {
      "cell_type": "markdown",
      "source": [
        "4. Plot (2D or 3D) the data points for each dataset and color them according to the class allocated by the clustering algorithm"
      ],
      "metadata": {
        "id": "Hv-ZuJM6Lz_T"
      }
    },
    {
      "cell_type": "code",
      "source": [
        "# According to k-means clustering algorithm\n",
        "fig = px.scatter(df6, x='X1', y='X2', color = 'predictedclass6a')\n",
        "fig.show()"
      ],
      "metadata": {
        "id": "tfK1TN82L3tv"
      },
      "execution_count": null,
      "outputs": []
    },
    {
      "cell_type": "code",
      "source": [
        "# According to hierarchical clustering method\n",
        "fig = px.scatter(df6, x='X1', y='X2', color = 'predictedclass6b')\n",
        "fig.show()"
      ],
      "metadata": {
        "id": "hJhYZz5dMGTS"
      },
      "execution_count": null,
      "outputs": []
    },
    {
      "cell_type": "markdown",
      "source": [
        "**Data 7**"
      ],
      "metadata": {
        "id": "guwgHcX2OE5P"
      }
    },
    {
      "cell_type": "code",
      "source": [
        "df7"
      ],
      "metadata": {
        "id": "1TPLI7CyOVtp"
      },
      "execution_count": null,
      "outputs": []
    },
    {
      "cell_type": "markdown",
      "source": [
        "1. (a) Use  K-means clustering methods to group similar countries together"
      ],
      "metadata": {
        "id": "272YS5AfOHqx"
      }
    },
    {
      "cell_type": "code",
      "source": [
        "k7 = []\n",
        "wcss7 = []\n",
        "for i7 in range(1,10):\n",
        "  mdl7 = KMeans(n_clusters=i7)\n",
        "  mdl7.fit(df7.iloc[:,1:3])\n",
        "  k7.append(i7)\n",
        "  wcss7.append(mdl7.inertia_)"
      ],
      "metadata": {
        "id": "zgvEIca7Ob5A"
      },
      "execution_count": null,
      "outputs": []
    },
    {
      "cell_type": "code",
      "source": [
        "sns.lineplot(k7,wcss7)"
      ],
      "metadata": {
        "id": "ONLJOpggOjIG",
        "colab": {
          "base_uri": "https://localhost:8080/",
          "height": 372
        },
        "outputId": "93b80451-057a-4245-f8cb-1a2aa7b7c999"
      },
      "execution_count": null,
      "outputs": [
        {
          "output_type": "stream",
          "name": "stderr",
          "text": [
            "/usr/local/lib/python3.7/dist-packages/seaborn/_decorators.py:43: FutureWarning:\n",
            "\n",
            "Pass the following variables as keyword args: x, y. From version 0.12, the only valid positional argument will be `data`, and passing other arguments without an explicit keyword will result in an error or misinterpretation.\n",
            "\n"
          ]
        },
        {
          "output_type": "execute_result",
          "data": {
            "text/plain": [
              "<matplotlib.axes._subplots.AxesSubplot at 0x7fc1afe07d90>"
            ]
          },
          "metadata": {},
          "execution_count": 149
        },
        {
          "output_type": "display_data",
          "data": {
            "text/plain": [
              "<Figure size 432x288 with 1 Axes>"
            ],
            "image/png": "[encoded data removed]"
          },
          "metadata": {
            "needs_background": "light"
          }
        }
      ]
    },
    {
      "cell_type": "markdown",
      "source": [
        "Therefore, we use 5 as n_cluster value"
      ],
      "metadata": {
        "id": "QGXuA4W0Ok5v"
      }
    },
    {
      "cell_type": "code",
      "source": [
        "mdl7_a = KMeans(n_clusters=5)\n",
        "mdl7_a.fit(df7.iloc[:,1:3])\n",
        "print('SSE Data 7: '+str(mdl7_a.inertia_))"
      ],
      "metadata": {
        "colab": {
          "base_uri": "https://localhost:8080/"
        },
        "id": "eSqpUlplOosQ",
        "outputId": "78233bcb-a418-4af3-9cfa-d293402edcf3"
      },
      "execution_count": null,
      "outputs": [
        {
          "output_type": "stream",
          "name": "stdout",
          "text": [
            "SSE Data 7: 340.0955869531268\n"
          ]
        }
      ]
    },
    {
      "cell_type": "code",
      "source": [
        "mdl7_a.labels_"
      ],
      "metadata": {
        "id": "hKNyQh9UO0Uh"
      },
      "execution_count": null,
      "outputs": []
    },
    {
      "cell_type": "code",
      "source": [
        "df7['predictedclass7a'] = mdl7_a.labels_ + 1"
      ],
      "metadata": {
        "id": "ACUzqZ5pO8FW"
      },
      "execution_count": null,
      "outputs": []
    },
    {
      "cell_type": "code",
      "source": [
        "mdl7_a.cluster_centers_"
      ],
      "metadata": {
        "colab": {
          "base_uri": "https://localhost:8080/"
        },
        "id": "ZYwQFPIbPB6C",
        "outputId": "c8dd3d30-403a-46c0-ab85-515b9ba14b1e"
      },
      "execution_count": null,
      "outputs": [
        {
          "output_type": "execute_result",
          "data": {
            "text/plain": [
              "array([[ 0.00909089, -0.02326302],\n",
              "       [ 1.1258747 ,  1.25385075],\n",
              "       [-1.08116062, -1.30840123],\n",
              "       [ 1.32634626, -1.01080009],\n",
              "       [-1.24006227,  1.15081667]])"
            ]
          },
          "metadata": {},
          "execution_count": 153
        }
      ]
    },
    {
      "cell_type": "markdown",
      "source": [
        "(b) Use  K-means and clustering methods to group similar countries together"
      ],
      "metadata": {
        "id": "GZUEcb31PEWt"
      }
    },
    {
      "cell_type": "code",
      "source": [
        "z7 = linkage(df1.iloc[:,1:3],method='single')\n",
        "dendrogram(z7)\n",
        "plt.title('dendrogram of Data 7')\n",
        "plt.show()"
      ],
      "metadata": {
        "id": "wImuA84uPprw",
        "colab": {
          "base_uri": "https://localhost:8080/",
          "height": 281
        },
        "outputId": "c5c1f8b3-4c5d-4aac-c403-8ab25d3dcffa"
      },
      "execution_count": 238,
      "outputs": [
        {
          "output_type": "display_data",
          "data": {
            "text/plain": [
              "<Figure size 432x288 with 1 Axes>"
            ],
            "image/png": "[encoded data removed]"
          },
          "metadata": {
            "needs_background": "light"
          }
        }
      ]
    },
    {
      "cell_type": "code",
      "source": [
        "z7 = linkage(df1.iloc[:,1:3],method='ward')\n",
        "dendrogram(z7)\n",
        "plt.title('dendrogram of Data 7')\n",
        "plt.show()"
      ],
      "metadata": {
        "colab": {
          "base_uri": "https://localhost:8080/",
          "height": 281
        },
        "id": "RrR2TjV8JNUB",
        "outputId": "4a1af4fd-af13-46e5-cb6e-a525982ecdb8"
      },
      "execution_count": null,
      "outputs": [
        {
          "output_type": "display_data",
          "data": {
            "text/plain": [
              "<Figure size 432x288 with 1 Axes>"
            ],
            "image/png": "[encoded data removed]"
          },
          "metadata": {
            "needs_background": "light"
          }
        }
      ]
    },
    {
      "cell_type": "markdown",
      "source": [
        "Therefore, we use 5 as n_cluster value"
      ],
      "metadata": {
        "id": "7coCJAg5PUNw"
      }
    },
    {
      "cell_type": "code",
      "source": [
        "mdl7_b = AgglomerativeClustering(n_clusters=5)\n",
        "mdl7_b.fit(df7.iloc[:,1:3])\n",
        "mdl7_b.labels_"
      ],
      "metadata": {
        "id": "9M0ZjOniPXOn",
        "colab": {
          "base_uri": "https://localhost:8080/"
        },
        "outputId": "47454906-613e-4286-f842-ec5fbbbffca1"
      },
      "execution_count": 239,
      "outputs": [
        {
          "output_type": "execute_result",
          "data": {
            "text/plain": [
              "array([2, 0, 1, 3, 4, 4, 4, 4, 4, 4, 4, 4, 4, 4, 4, 4, 4, 4, 4, 4, 4, 4,\n",
              "       4, 4, 4, 4, 4, 4, 4, 4, 4, 4, 4, 4, 4, 4, 4, 4, 4, 4, 4, 4, 4, 4,\n",
              "       4, 4, 4, 4, 4, 4, 4, 4, 4, 4, 4, 4, 4, 4, 4, 4, 4, 4, 4, 4, 4, 4,\n",
              "       4, 4, 4, 4, 4, 4, 4, 4, 4, 4, 4, 4, 4, 4, 4, 4, 4, 4, 4, 4, 4, 4,\n",
              "       4, 4, 4, 4, 4, 4, 4, 4, 4, 4, 4, 4, 4, 4, 4, 4, 4, 4, 4, 4, 4, 4,\n",
              "       4, 4, 4, 4, 4, 4, 4, 4, 4, 4, 4, 4, 4, 4, 4, 4, 4, 4, 4, 4, 4, 4,\n",
              "       4, 4, 4, 4, 4, 4, 4, 4, 4, 4, 4, 4, 4, 4, 4, 4, 4, 4, 4, 4, 4, 4,\n",
              "       4, 4, 4, 4, 4, 4, 4, 4, 4, 4, 4, 4, 4, 4, 4, 4, 4, 4, 4, 4, 4, 4,\n",
              "       4, 4, 4, 4, 4, 4, 4, 4, 4, 4, 4, 4, 4, 4, 4, 4, 4, 4, 4, 4, 4, 4,\n",
              "       4, 4, 4, 4, 4, 4, 4, 4, 4, 4, 4, 4, 4, 4, 4, 4, 4, 4, 4, 4, 4, 4,\n",
              "       4, 4, 4, 4, 4, 4, 4, 4, 4, 4, 4, 4, 4, 4, 4, 4, 4, 4, 4, 4, 4, 4,\n",
              "       4, 4, 4, 4, 4, 4, 4, 4, 4, 4, 4, 4, 4, 4, 4, 4, 4, 4, 4, 4, 4, 4,\n",
              "       4, 4, 4, 4, 4, 4, 4, 4, 4, 4, 4, 4, 4, 4, 4, 4, 4, 4, 4, 4, 4, 4,\n",
              "       4, 4, 4, 4, 4, 4, 4, 4, 4, 4, 4, 4, 4, 4, 4, 4, 4, 4, 4, 4, 4, 4,\n",
              "       4, 4, 4, 4, 4, 4, 4, 4, 4, 4, 4, 4, 4, 4, 4, 4, 4, 4, 4, 4, 4, 4,\n",
              "       4, 4, 4, 4, 4, 4, 4, 4, 4, 4, 4, 4, 4, 4, 4, 4, 4, 4, 4, 4, 4, 4,\n",
              "       4, 4, 4, 4, 4, 4, 4, 4, 4, 4, 4, 4, 4, 4, 4, 4, 4, 4, 4, 4, 4, 4,\n",
              "       4, 4, 4, 4, 4, 4, 4, 4, 4, 4, 4, 4, 4, 4, 4, 4, 4, 4, 4, 4, 4, 4,\n",
              "       4, 4, 4, 2, 0, 1, 3, 2, 0, 1, 1, 2, 0, 2, 1, 2, 1, 2, 1, 0, 1, 0,\n",
              "       2, 0, 2, 1, 0, 0, 0, 3, 0, 1, 0, 0, 3, 0, 1, 2, 0, 0, 1, 1, 0, 2,\n",
              "       0, 0, 2, 0, 3, 2, 0, 2, 1, 1, 0, 3, 1, 3, 1, 3, 1, 0, 0, 3, 3, 3,\n",
              "       2, 1, 2, 1, 2, 0, 1, 0, 2, 3, 1, 3, 3, 1, 1, 3, 0, 0, 0, 2, 0, 0,\n",
              "       1, 0, 0, 0, 0, 3, 0, 1, 0, 1, 1, 1, 0, 3, 3, 1, 0, 1, 2, 1, 1, 2,\n",
              "       2, 2, 1, 0, 1, 1, 3, 2, 2, 0, 2, 2, 1, 1, 2, 1, 2, 0, 2, 1, 3, 1,\n",
              "       0, 2, 2, 3, 1, 2, 1, 3, 1, 3, 3, 1, 0, 2, 1, 0, 3, 2, 0, 3, 3, 1,\n",
              "       1, 0, 2, 3, 3, 2, 3, 3, 2, 1, 0, 2, 1, 0, 1, 0, 3, 0, 0, 2, 3, 1,\n",
              "       1, 1, 2, 0, 2, 2, 0, 1, 0, 3, 0, 2, 2, 1, 0, 2, 2, 0, 1, 3, 2, 1,\n",
              "       3, 3, 1, 1, 3, 3, 1, 0, 1, 0, 2, 0, 3, 3, 3, 0, 1, 1, 0, 0, 3, 0,\n",
              "       0, 0, 2, 0, 3, 2, 0, 0, 2, 1, 2, 2, 1, 3, 1, 0, 3, 3, 1, 3, 0, 0,\n",
              "       3, 1, 0, 3, 0, 3, 3, 2, 1, 3, 0, 0, 1, 3, 0, 0, 1, 2, 2, 0, 3, 1,\n",
              "       3, 2, 1, 2, 3, 3, 3, 0, 1, 2, 0, 2, 0, 0, 1, 2, 1, 0, 3, 2, 1, 2,\n",
              "       0, 0, 2, 3, 0, 2, 0, 0, 1, 1, 0, 1, 3, 1, 0, 1, 1, 3, 0, 3, 0, 3,\n",
              "       1, 1, 2, 3, 1, 1, 1, 2, 0, 3, 3, 3, 1, 0, 1, 2, 0, 0, 1, 1, 0, 3,\n",
              "       1, 0, 0, 2, 1, 1, 1, 1, 0, 2, 3, 1, 0, 2, 2, 2, 0, 1, 2, 1, 2, 0,\n",
              "       0, 2, 0, 1, 3, 0, 2, 0, 0, 3, 2, 3, 3, 0, 3, 1, 0, 2, 2, 0, 1, 3])"
            ]
          },
          "metadata": {},
          "execution_count": 239
        }
      ]
    },
    {
      "cell_type": "code",
      "source": [
        "df7['predictedclass7b'] = mdl7_b.labels_ + 1"
      ],
      "metadata": {
        "id": "9xQCRJJwPhhC"
      },
      "execution_count": null,
      "outputs": []
    },
    {
      "cell_type": "markdown",
      "source": [
        "2. Evaluate the performance of the clustering algorithm using external validation metrics"
      ],
      "metadata": {
        "id": "V-xuuYODPvC0"
      }
    },
    {
      "cell_type": "code",
      "source": [
        "df7"
      ],
      "metadata": {
        "id": "A4Cykd4TCIr-",
        "colab": {
          "base_uri": "https://localhost:8080/",
          "height": 423
        },
        "outputId": "b278e948-4ead-487c-a47f-4eba07a71a4c"
      },
      "execution_count": null,
      "outputs": [
        {
          "output_type": "execute_result",
          "data": {
            "text/plain": [
              "     Unnamed: 0        X1        X2  Class  predictedclass7a  predictedclass7b\n",
              "0             1 -3.000000 -3.000000      5                 3                 3\n",
              "1             2 -3.000000  3.000000      4                 5                 1\n",
              "2             3  3.000000 -3.000000      6                 4                 2\n",
              "3             4  3.000000  3.000000      3                 2                 4\n",
              "4             5 -0.417091  0.114782      1                 1                 5\n",
              "..          ...       ...       ...    ...               ...               ...\n",
              "765         766 -1.604434 -1.118861      2                 3                 3\n",
              "766         767 -3.050000 -3.050000      5                 3                 3\n",
              "767         768 -3.050000  2.950000      4                 5                 1\n",
              "768         769  2.950000 -3.050000      6                 4                 2\n",
              "769         770  2.950000  2.950000      3                 2                 4\n",
              "\n",
              "[770 rows x 6 columns]"
            ],
            "text/html": [
              "\n",
              "  <div id=\"df-b16b67ed-8e01-4160-aff4-a5ade7c313bb\">\n",
              "    <div class=\"colab-df-container\">\n",
              "      <div>\n",
              "<style scoped>\n",
              "    .dataframe tbody tr th:only-of-type {\n",
              "        vertical-align: middle;\n",
              "    }\n",
              "\n",
              "    .dataframe tbody tr th {\n",
              "        vertical-align: top;\n",
              "    }\n",
              "\n",
              "    .dataframe thead th {\n",
              "        text-align: right;\n",
              "    }\n",
              "</style>\n",
              "<table border=\"1\" class=\"dataframe\">\n",
              "  <thead>\n",
              "    <tr style=\"text-align: right;\">\n",
              "      <th></th>\n",
              "      <th>Unnamed: 0</th>\n",
              "      <th>X1</th>\n",
              "      <th>X2</th>\n",
              "      <th>Class</th>\n",
              "      <th>predictedclass7a</th>\n",
              "      <th>predictedclass7b</th>\n",
              "    </tr>\n",
              "  </thead>\n",
              "  <tbody>\n",
              "    <tr>\n",
              "      <th>0</th>\n",
              "      <td>1</td>\n",
              "      <td>-3.000000</td>\n",
              "      <td>-3.000000</td>\n",
              "      <td>5</td>\n",
              "      <td>3</td>\n",
              "      <td>3</td>\n",
              "    </tr>\n",
              "    <tr>\n",
              "      <th>1</th>\n",
              "      <td>2</td>\n",
              "      <td>-3.000000</td>\n",
              "      <td>3.000000</td>\n",
              "      <td>4</td>\n",
              "      <td>5</td>\n",
              "      <td>1</td>\n",
              "    </tr>\n",
              "    <tr>\n",
              "      <th>2</th>\n",
              "      <td>3</td>\n",
              "      <td>3.000000</td>\n",
              "      <td>-3.000000</td>\n",
              "      <td>6</td>\n",
              "      <td>4</td>\n",
              "      <td>2</td>\n",
              "    </tr>\n",
              "    <tr>\n",
              "      <th>3</th>\n",
              "      <td>4</td>\n",
              "      <td>3.000000</td>\n",
              "      <td>3.000000</td>\n",
              "      <td>3</td>\n",
              "      <td>2</td>\n",
              "      <td>4</td>\n",
              "    </tr>\n",
              "    <tr>\n",
              "      <th>4</th>\n",
              "      <td>5</td>\n",
              "      <td>-0.417091</td>\n",
              "      <td>0.114782</td>\n",
              "      <td>1</td>\n",
              "      <td>1</td>\n",
              "      <td>5</td>\n",
              "    </tr>\n",
              "    <tr>\n",
              "      <th>...</th>\n",
              "      <td>...</td>\n",
              "      <td>...</td>\n",
              "      <td>...</td>\n",
              "      <td>...</td>\n",
              "      <td>...</td>\n",
              "      <td>...</td>\n",
              "    </tr>\n",
              "    <tr>\n",
              "      <th>765</th>\n",
              "      <td>766</td>\n",
              "      <td>-1.604434</td>\n",
              "      <td>-1.118861</td>\n",
              "      <td>2</td>\n",
              "      <td>3</td>\n",
              "      <td>3</td>\n",
              "    </tr>\n",
              "    <tr>\n",
              "      <th>766</th>\n",
              "      <td>767</td>\n",
              "      <td>-3.050000</td>\n",
              "      <td>-3.050000</td>\n",
              "      <td>5</td>\n",
              "      <td>3</td>\n",
              "      <td>3</td>\n",
              "    </tr>\n",
              "    <tr>\n",
              "      <th>767</th>\n",
              "      <td>768</td>\n",
              "      <td>-3.050000</td>\n",
              "      <td>2.950000</td>\n",
              "      <td>4</td>\n",
              "      <td>5</td>\n",
              "      <td>1</td>\n",
              "    </tr>\n",
              "    <tr>\n",
              "      <th>768</th>\n",
              "      <td>769</td>\n",
              "      <td>2.950000</td>\n",
              "      <td>-3.050000</td>\n",
              "      <td>6</td>\n",
              "      <td>4</td>\n",
              "      <td>2</td>\n",
              "    </tr>\n",
              "    <tr>\n",
              "      <th>769</th>\n",
              "      <td>770</td>\n",
              "      <td>2.950000</td>\n",
              "      <td>2.950000</td>\n",
              "      <td>3</td>\n",
              "      <td>2</td>\n",
              "      <td>4</td>\n",
              "    </tr>\n",
              "  </tbody>\n",
              "</table>\n",
              "<p>770 rows × 6 columns</p>\n",
              "</div>\n",
              "      <button class=\"colab-df-convert\" onclick=\"convertToInteractive('df-b16b67ed-8e01-4160-aff4-a5ade7c313bb')\"\n",
              "              title=\"Convert this dataframe to an interactive table.\"\n",
              "              style=\"display:none;\">\n",
              "        \n",
              "  <svg xmlns=\"http://www.w3.org/2000/svg\" height=\"24px\"viewBox=\"0 0 24 24\"\n",
              "       width=\"24px\">\n",
              "    <path d=\"M0 0h24v24H0V0z\" fill=\"none\"/>\n",
              "    <path d=\"M18.56 5.44l.94 2.06.94-2.06 2.06-.94-2.06-.94-.94-2.06-.94 2.06-2.06.94zm-11 1L8.5 8.5l.94-2.06 2.06-.94-2.06-.94L8.5 2.5l-.94 2.06-2.06.94zm10 10l.94 2.06.94-2.06 2.06-.94-2.06-.94-.94-2.06-.94 2.06-2.06.94z\"/><path d=\"M17.41 7.96l-1.37-1.37c-.4-.4-.92-.59-1.43-.59-.52 0-1.04.2-1.43.59L10.3 9.45l-7.72 7.72c-.78.78-.78 2.05 0 2.83L4 21.41c.39.39.9.59 1.41.59.51 0 1.02-.2 1.41-.59l7.78-7.78 2.81-2.81c.8-.78.8-2.07 0-2.86zM5.41 20L4 18.59l7.72-7.72 1.47 1.35L5.41 20z\"/>\n",
              "  </svg>\n",
              "      </button>\n",
              "      \n",
              "  <style>\n",
              "    .colab-df-container {\n",
              "      display:flex;\n",
              "      flex-wrap:wrap;\n",
              "      gap: 12px;\n",
              "    }\n",
              "\n",
              "    .colab-df-convert {\n",
              "      background-color: #E8F0FE;\n",
              "      border: none;\n",
              "      border-radius: 50%;\n",
              "      cursor: pointer;\n",
              "      display: none;\n",
              "      fill: #1967D2;\n",
              "      height: 32px;\n",
              "      padding: 0 0 0 0;\n",
              "      width: 32px;\n",
              "    }\n",
              "\n",
              "    .colab-df-convert:hover {\n",
              "      background-color: #E2EBFA;\n",
              "      box-shadow: 0px 1px 2px rgba(60, 64, 67, 0.3), 0px 1px 3px 1px rgba(60, 64, 67, 0.15);\n",
              "      fill: #174EA6;\n",
              "    }\n",
              "\n",
              "    [theme=dark] .colab-df-convert {\n",
              "      background-color: #3B4455;\n",
              "      fill: #D2E3FC;\n",
              "    }\n",
              "\n",
              "    [theme=dark] .colab-df-convert:hover {\n",
              "      background-color: #434B5C;\n",
              "      box-shadow: 0px 1px 3px 1px rgba(0, 0, 0, 0.15);\n",
              "      filter: drop-shadow(0px 1px 2px rgba(0, 0, 0, 0.3));\n",
              "      fill: #FFFFFF;\n",
              "    }\n",
              "  </style>\n",
              "\n",
              "      <script>\n",
              "        const buttonEl =\n",
              "          document.querySelector('#df-b16b67ed-8e01-4160-aff4-a5ade7c313bb button.colab-df-convert');\n",
              "        buttonEl.style.display =\n",
              "          google.colab.kernel.accessAllowed ? 'block' : 'none';\n",
              "\n",
              "        async function convertToInteractive(key) {\n",
              "          const element = document.querySelector('#df-b16b67ed-8e01-4160-aff4-a5ade7c313bb');\n",
              "          const dataTable =\n",
              "            await google.colab.kernel.invokeFunction('convertToInteractive',\n",
              "                                                     [key], {});\n",
              "          if (!dataTable) return;\n",
              "\n",
              "          const docLinkHtml = 'Like what you see? Visit the ' +\n",
              "            '<a target=\"_blank\" href=https://colab.research.google.com/notebooks/data_table.ipynb>data table notebook</a>'\n",
              "            + ' to learn more about interactive tables.';\n",
              "          element.innerHTML = '';\n",
              "          dataTable['output_type'] = 'display_data';\n",
              "          await google.colab.output.renderOutput(dataTable, element);\n",
              "          const docLink = document.createElement('div');\n",
              "          docLink.innerHTML = docLinkHtml;\n",
              "          element.appendChild(docLink);\n",
              "        }\n",
              "      </script>\n",
              "    </div>\n",
              "  </div>\n",
              "  "
            ]
          },
          "metadata": {},
          "execution_count": 158
        }
      ]
    },
    {
      "cell_type": "code",
      "source": [
        "contingency_matrix7k = metrics.cluster.contingency_matrix(df7['Class'], df7['predictedclass7a'])\n",
        "contingency_matrix7k"
      ],
      "metadata": {
        "id": "9QhrRxwAP8PC",
        "colab": {
          "base_uri": "https://localhost:8080/"
        },
        "outputId": "2325bb43-c839-44b5-f13a-84d81393911d"
      },
      "execution_count": null,
      "outputs": [
        {
          "output_type": "execute_result",
          "data": {
            "text/plain": [
              "array([[395,   0,   0,   0,   0],\n",
              "       [  0,  88,  87,  92,  96],\n",
              "       [  0,   3,   0,   0,   0],\n",
              "       [  0,   0,   0,   0,   3],\n",
              "       [  0,   0,   3,   0,   0],\n",
              "       [  0,   0,   0,   3,   0]])"
            ]
          },
          "metadata": {},
          "execution_count": 159
        }
      ]
    },
    {
      "cell_type": "code",
      "source": [
        "purity7k = np.sum(np.amax(contingency_matrix7k, axis=0)) / np.sum(contingency_matrix7k) \n",
        "purity7k"
      ],
      "metadata": {
        "colab": {
          "base_uri": "https://localhost:8080/"
        },
        "id": "Ryr__6RGCGx2",
        "outputId": "741676a6-3c4b-4dd6-aef9-70f68a9e7728"
      },
      "execution_count": null,
      "outputs": [
        {
          "output_type": "execute_result",
          "data": {
            "text/plain": [
              "0.9844155844155844"
            ]
          },
          "metadata": {},
          "execution_count": 160
        }
      ]
    },
    {
      "cell_type": "code",
      "source": [
        "contingency_matrix7h = metrics.cluster.contingency_matrix(df7['Class'], df7['predictedclass7b'])\n",
        "contingency_matrix7h"
      ],
      "metadata": {
        "colab": {
          "base_uri": "https://localhost:8080/"
        },
        "id": "rzqbdb8YCGka",
        "outputId": "bad27cc2-b8bf-49c9-86ee-0b90da7f35f9"
      },
      "execution_count": null,
      "outputs": [
        {
          "output_type": "execute_result",
          "data": {
            "text/plain": [
              "array([[  0,   0,   0,   0, 395],\n",
              "       [110, 101,  78,  74,   0],\n",
              "       [  0,   0,   0,   3,   0],\n",
              "       [  3,   0,   0,   0,   0],\n",
              "       [  0,   0,   3,   0,   0],\n",
              "       [  0,   3,   0,   0,   0]])"
            ]
          },
          "metadata": {},
          "execution_count": 249
        }
      ]
    },
    {
      "cell_type": "code",
      "source": [
        "purity7h = np.sum(np.amax(contingency_matrix7h, axis=0)) / np.sum(contingency_matrix7h) \n",
        "purity7h"
      ],
      "metadata": {
        "colab": {
          "base_uri": "https://localhost:8080/"
        },
        "id": "xo2OdYwrCGfo",
        "outputId": "6e4667d6-d870-4222-e8fa-b2cca263687b"
      },
      "execution_count": null,
      "outputs": [
        {
          "output_type": "execute_result",
          "data": {
            "text/plain": [
              "0.9844155844155844"
            ]
          },
          "metadata": {},
          "execution_count": 250
        }
      ]
    },
    {
      "cell_type": "code",
      "source": [
        "print('df7 fowlkes mallows score for K-means method: ' + str(fowlkes_mallows_score(df7.iloc[:,3], df7['predictedclass7a'])))\n",
        "print('df7 fowlkes mallows score for hierarchical method: ' + str(fowlkes_mallows_score(df7.iloc[:,3], df7['predictedclass7b'])))"
      ],
      "metadata": {
        "colab": {
          "base_uri": "https://localhost:8080/"
        },
        "id": "f-JuY-HEJUOD",
        "outputId": "6c08abc9-b024-4740-af74-ae947e6a48b4"
      },
      "execution_count": null,
      "outputs": [
        {
          "output_type": "stream",
          "name": "stdout",
          "text": [
            "df7 fowlkes mallows score for K-means method: 0.8052354860303211\n",
            "df7 fowlkes mallows score for hierarchical method: 0.8071106197090162\n"
          ]
        }
      ]
    },
    {
      "cell_type": "markdown",
      "source": [
        "The purity and fowlkes mallows score are almost the same for the two methods. Which means in both methods, clusters contain some examples\n",
        "from other classes, and there are some dissimilarity between the clusters and the benchmark classifications."
      ],
      "metadata": {
        "id": "OdguX9_LJnTG"
      }
    },
    {
      "cell_type": "markdown",
      "source": [
        "3. Plot (2D or 3D) the data points for each dataset and color them according to the original class"
      ],
      "metadata": {
        "id": "FLJ6F26ZP8qo"
      }
    },
    {
      "cell_type": "code",
      "source": [
        "fig = px.scatter(df7, x='X1', y='X2', color = 'Class')\n",
        "fig.show()"
      ],
      "metadata": {
        "id": "bWp8lNcLP4EK"
      },
      "execution_count": null,
      "outputs": []
    },
    {
      "cell_type": "markdown",
      "source": [
        "4. Plot (2D or 3D) the data points for each dataset and color them according to the class allocated by the clustering algorithm"
      ],
      "metadata": {
        "id": "s7JyL2vvQDem"
      }
    },
    {
      "cell_type": "code",
      "source": [
        "# According to k-means\n",
        "fig = px.scatter(df7, x='X1', y='X2', color = 'predictedclass7a')\n",
        "fig.show()"
      ],
      "metadata": {
        "id": "TnOtMcITQGIR"
      },
      "execution_count": null,
      "outputs": []
    },
    {
      "cell_type": "code",
      "source": [
        "# According to hierarchical clustering method\n",
        "fig = px.scatter(df7, x='X1', y='X2', color = 'predictedclass7b')\n",
        "fig.show()"
      ],
      "metadata": {
        "id": "5xGUMDR6QMvO"
      },
      "execution_count": null,
      "outputs": []
    },
    {
      "cell_type": "markdown",
      "source": [
        "**Data 8**"
      ],
      "metadata": {
        "id": "6qcGWlAuQfyd"
      }
    },
    {
      "cell_type": "code",
      "source": [
        "df8"
      ],
      "metadata": {
        "colab": {
          "base_uri": "https://localhost:8080/",
          "height": 423
        },
        "id": "tc7KzoUDQfHH",
        "outputId": "cb864a15-d165-4f2a-8c83-91487a02e6a5"
      },
      "execution_count": null,
      "outputs": [
        {
          "output_type": "execute_result",
          "data": {
            "text/plain": [
              "      Unnamed: 0        X1        X2       X3  Class\n",
              "0              1  0.000000  0.000000  1.00000      1\n",
              "1              2  0.000000  0.052336  0.99863      1\n",
              "2              3  0.049774  0.016173  0.99863      1\n",
              "3              4  0.030762 -0.042341  0.99863      1\n",
              "4              5 -0.030762 -0.042341  0.99863      1\n",
              "...          ...       ...       ...      ...    ...\n",
              "3997        3998  0.049774 -0.016173 -0.99863      1\n",
              "3998        3999  0.000000 -0.052336 -0.99863      1\n",
              "3999        4000 -0.049774 -0.016173 -0.99863      1\n",
              "4000        4001 -0.030762  0.042341 -0.99863      1\n",
              "4001        4002  0.000000  0.000000 -1.00000      1\n",
              "\n",
              "[4002 rows x 5 columns]"
            ],
            "text/html": [
              "\n",
              "  <div id=\"df-b510853d-e043-43cd-af52-b0e14f4fdd45\">\n",
              "    <div class=\"colab-df-container\">\n",
              "      <div>\n",
              "<style scoped>\n",
              "    .dataframe tbody tr th:only-of-type {\n",
              "        vertical-align: middle;\n",
              "    }\n",
              "\n",
              "    .dataframe tbody tr th {\n",
              "        vertical-align: top;\n",
              "    }\n",
              "\n",
              "    .dataframe thead th {\n",
              "        text-align: right;\n",
              "    }\n",
              "</style>\n",
              "<table border=\"1\" class=\"dataframe\">\n",
              "  <thead>\n",
              "    <tr style=\"text-align: right;\">\n",
              "      <th></th>\n",
              "      <th>Unnamed: 0</th>\n",
              "      <th>X1</th>\n",
              "      <th>X2</th>\n",
              "      <th>X3</th>\n",
              "      <th>Class</th>\n",
              "    </tr>\n",
              "  </thead>\n",
              "  <tbody>\n",
              "    <tr>\n",
              "      <th>0</th>\n",
              "      <td>1</td>\n",
              "      <td>0.000000</td>\n",
              "      <td>0.000000</td>\n",
              "      <td>1.00000</td>\n",
              "      <td>1</td>\n",
              "    </tr>\n",
              "    <tr>\n",
              "      <th>1</th>\n",
              "      <td>2</td>\n",
              "      <td>0.000000</td>\n",
              "      <td>0.052336</td>\n",
              "      <td>0.99863</td>\n",
              "      <td>1</td>\n",
              "    </tr>\n",
              "    <tr>\n",
              "      <th>2</th>\n",
              "      <td>3</td>\n",
              "      <td>0.049774</td>\n",
              "      <td>0.016173</td>\n",
              "      <td>0.99863</td>\n",
              "      <td>1</td>\n",
              "    </tr>\n",
              "    <tr>\n",
              "      <th>3</th>\n",
              "      <td>4</td>\n",
              "      <td>0.030762</td>\n",
              "      <td>-0.042341</td>\n",
              "      <td>0.99863</td>\n",
              "      <td>1</td>\n",
              "    </tr>\n",
              "    <tr>\n",
              "      <th>4</th>\n",
              "      <td>5</td>\n",
              "      <td>-0.030762</td>\n",
              "      <td>-0.042341</td>\n",
              "      <td>0.99863</td>\n",
              "      <td>1</td>\n",
              "    </tr>\n",
              "    <tr>\n",
              "      <th>...</th>\n",
              "      <td>...</td>\n",
              "      <td>...</td>\n",
              "      <td>...</td>\n",
              "      <td>...</td>\n",
              "      <td>...</td>\n",
              "    </tr>\n",
              "    <tr>\n",
              "      <th>3997</th>\n",
              "      <td>3998</td>\n",
              "      <td>0.049774</td>\n",
              "      <td>-0.016173</td>\n",
              "      <td>-0.99863</td>\n",
              "      <td>1</td>\n",
              "    </tr>\n",
              "    <tr>\n",
              "      <th>3998</th>\n",
              "      <td>3999</td>\n",
              "      <td>0.000000</td>\n",
              "      <td>-0.052336</td>\n",
              "      <td>-0.99863</td>\n",
              "      <td>1</td>\n",
              "    </tr>\n",
              "    <tr>\n",
              "      <th>3999</th>\n",
              "      <td>4000</td>\n",
              "      <td>-0.049774</td>\n",
              "      <td>-0.016173</td>\n",
              "      <td>-0.99863</td>\n",
              "      <td>1</td>\n",
              "    </tr>\n",
              "    <tr>\n",
              "      <th>4000</th>\n",
              "      <td>4001</td>\n",
              "      <td>-0.030762</td>\n",
              "      <td>0.042341</td>\n",
              "      <td>-0.99863</td>\n",
              "      <td>1</td>\n",
              "    </tr>\n",
              "    <tr>\n",
              "      <th>4001</th>\n",
              "      <td>4002</td>\n",
              "      <td>0.000000</td>\n",
              "      <td>0.000000</td>\n",
              "      <td>-1.00000</td>\n",
              "      <td>1</td>\n",
              "    </tr>\n",
              "  </tbody>\n",
              "</table>\n",
              "<p>4002 rows × 5 columns</p>\n",
              "</div>\n",
              "      <button class=\"colab-df-convert\" onclick=\"convertToInteractive('df-b510853d-e043-43cd-af52-b0e14f4fdd45')\"\n",
              "              title=\"Convert this dataframe to an interactive table.\"\n",
              "              style=\"display:none;\">\n",
              "        \n",
              "  <svg xmlns=\"http://www.w3.org/2000/svg\" height=\"24px\"viewBox=\"0 0 24 24\"\n",
              "       width=\"24px\">\n",
              "    <path d=\"M0 0h24v24H0V0z\" fill=\"none\"/>\n",
              "    <path d=\"M18.56 5.44l.94 2.06.94-2.06 2.06-.94-2.06-.94-.94-2.06-.94 2.06-2.06.94zm-11 1L8.5 8.5l.94-2.06 2.06-.94-2.06-.94L8.5 2.5l-.94 2.06-2.06.94zm10 10l.94 2.06.94-2.06 2.06-.94-2.06-.94-.94-2.06-.94 2.06-2.06.94z\"/><path d=\"M17.41 7.96l-1.37-1.37c-.4-.4-.92-.59-1.43-.59-.52 0-1.04.2-1.43.59L10.3 9.45l-7.72 7.72c-.78.78-.78 2.05 0 2.83L4 21.41c.39.39.9.59 1.41.59.51 0 1.02-.2 1.41-.59l7.78-7.78 2.81-2.81c.8-.78.8-2.07 0-2.86zM5.41 20L4 18.59l7.72-7.72 1.47 1.35L5.41 20z\"/>\n",
              "  </svg>\n",
              "      </button>\n",
              "      \n",
              "  <style>\n",
              "    .colab-df-container {\n",
              "      display:flex;\n",
              "      flex-wrap:wrap;\n",
              "      gap: 12px;\n",
              "    }\n",
              "\n",
              "    .colab-df-convert {\n",
              "      background-color: #E8F0FE;\n",
              "      border: none;\n",
              "      border-radius: 50%;\n",
              "      cursor: pointer;\n",
              "      display: none;\n",
              "      fill: #1967D2;\n",
              "      height: 32px;\n",
              "      padding: 0 0 0 0;\n",
              "      width: 32px;\n",
              "    }\n",
              "\n",
              "    .colab-df-convert:hover {\n",
              "      background-color: #E2EBFA;\n",
              "      box-shadow: 0px 1px 2px rgba(60, 64, 67, 0.3), 0px 1px 3px 1px rgba(60, 64, 67, 0.15);\n",
              "      fill: #174EA6;\n",
              "    }\n",
              "\n",
              "    [theme=dark] .colab-df-convert {\n",
              "      background-color: #3B4455;\n",
              "      fill: #D2E3FC;\n",
              "    }\n",
              "\n",
              "    [theme=dark] .colab-df-convert:hover {\n",
              "      background-color: #434B5C;\n",
              "      box-shadow: 0px 1px 3px 1px rgba(0, 0, 0, 0.15);\n",
              "      filter: drop-shadow(0px 1px 2px rgba(0, 0, 0, 0.3));\n",
              "      fill: #FFFFFF;\n",
              "    }\n",
              "  </style>\n",
              "\n",
              "      <script>\n",
              "        const buttonEl =\n",
              "          document.querySelector('#df-b510853d-e043-43cd-af52-b0e14f4fdd45 button.colab-df-convert');\n",
              "        buttonEl.style.display =\n",
              "          google.colab.kernel.accessAllowed ? 'block' : 'none';\n",
              "\n",
              "        async function convertToInteractive(key) {\n",
              "          const element = document.querySelector('#df-b510853d-e043-43cd-af52-b0e14f4fdd45');\n",
              "          const dataTable =\n",
              "            await google.colab.kernel.invokeFunction('convertToInteractive',\n",
              "                                                     [key], {});\n",
              "          if (!dataTable) return;\n",
              "\n",
              "          const docLinkHtml = 'Like what you see? Visit the ' +\n",
              "            '<a target=\"_blank\" href=https://colab.research.google.com/notebooks/data_table.ipynb>data table notebook</a>'\n",
              "            + ' to learn more about interactive tables.';\n",
              "          element.innerHTML = '';\n",
              "          dataTable['output_type'] = 'display_data';\n",
              "          await google.colab.output.renderOutput(dataTable, element);\n",
              "          const docLink = document.createElement('div');\n",
              "          docLink.innerHTML = docLinkHtml;\n",
              "          element.appendChild(docLink);\n",
              "        }\n",
              "      </script>\n",
              "    </div>\n",
              "  </div>\n",
              "  "
            ]
          },
          "metadata": {},
          "execution_count": 163
        }
      ]
    },
    {
      "cell_type": "markdown",
      "source": [
        "1. (a) Use K-means clustering methods to generate clusters"
      ],
      "metadata": {
        "id": "A5kAtU8rQoOH"
      }
    },
    {
      "cell_type": "code",
      "source": [
        "k8 = []\n",
        "wcss8 = []\n",
        "for i8 in range(1,10):\n",
        "  mdl8 = KMeans(n_clusters=i8)\n",
        "  mdl8.fit(df8.iloc[:,1:4])\n",
        "  k8.append(i8)\n",
        "  wcss8.append(mdl8.inertia_)"
      ],
      "metadata": {
        "id": "uWJEzoCSQsvN"
      },
      "execution_count": null,
      "outputs": []
    },
    {
      "cell_type": "code",
      "source": [
        "sns.lineplot(k8,wcss8)"
      ],
      "metadata": {
        "id": "ljqb6s2-Q0Hp",
        "colab": {
          "base_uri": "https://localhost:8080/",
          "height": 372
        },
        "outputId": "68618081-8f8a-4b4c-d7c5-f258ade05873"
      },
      "execution_count": null,
      "outputs": [
        {
          "output_type": "stream",
          "name": "stderr",
          "text": [
            "/usr/local/lib/python3.7/dist-packages/seaborn/_decorators.py:43: FutureWarning:\n",
            "\n",
            "Pass the following variables as keyword args: x, y. From version 0.12, the only valid positional argument will be `data`, and passing other arguments without an explicit keyword will result in an error or misinterpretation.\n",
            "\n"
          ]
        },
        {
          "output_type": "execute_result",
          "data": {
            "text/plain": [
              "<matplotlib.axes._subplots.AxesSubplot at 0x7fc1aed56f90>"
            ]
          },
          "metadata": {},
          "execution_count": 165
        },
        {
          "output_type": "display_data",
          "data": {
            "text/plain": [
              "<Figure size 432x288 with 1 Axes>"
            ],
            "image/png": "[encoded data removed]"
          },
          "metadata": {
            "needs_background": "light"
          }
        }
      ]
    },
    {
      "cell_type": "code",
      "source": [
        "sil8 = []\n",
        "k8s = []\n",
        "kmax = 10\n",
        "\n",
        "# dissimilarity would not be defined for a single cluster, thus, minimum number of clusters should be 2\n",
        "for ks8 in range(2,10):\n",
        "  kmeans8 = KMeans(n_clusters = ks8)\n",
        "  kmeans8.fit(df8.iloc[:,1:4])\n",
        "  labels = kmeans8.labels_\n",
        "  k8s.append(ks8)\n",
        "  sil8.append(metrics.silhouette_score(df8.iloc[:,1:4], labels))"
      ],
      "metadata": {
        "id": "49y7eE6nxBMy"
      },
      "execution_count": null,
      "outputs": []
    },
    {
      "cell_type": "code",
      "source": [
        "sns.lineplot(k8s,sil8)"
      ],
      "metadata": {
        "id": "Zwe1czfOxPKz",
        "colab": {
          "base_uri": "https://localhost:8080/",
          "height": 372
        },
        "outputId": "1bc99060-9e58-46d5-8073-53d1d9f6eb1e"
      },
      "execution_count": null,
      "outputs": [
        {
          "output_type": "stream",
          "name": "stderr",
          "text": [
            "/usr/local/lib/python3.7/dist-packages/seaborn/_decorators.py:43: FutureWarning:\n",
            "\n",
            "Pass the following variables as keyword args: x, y. From version 0.12, the only valid positional argument will be `data`, and passing other arguments without an explicit keyword will result in an error or misinterpretation.\n",
            "\n"
          ]
        },
        {
          "output_type": "execute_result",
          "data": {
            "text/plain": [
              "<matplotlib.axes._subplots.AxesSubplot at 0x7fc1aec73e90>"
            ]
          },
          "metadata": {},
          "execution_count": 167
        },
        {
          "output_type": "display_data",
          "data": {
            "text/plain": [
              "<Figure size 432x288 with 1 Axes>"
            ],
            "image/png": "[encoded data removed]"
          },
          "metadata": {
            "needs_background": "light"
          }
        }
      ]
    },
    {
      "cell_type": "markdown",
      "source": [
        "Peek at 6. Therefore, we use 6 as n_cluster value"
      ],
      "metadata": {
        "id": "LmrUA9x4Q1mZ"
      }
    },
    {
      "cell_type": "code",
      "source": [
        "mdl8_a = KMeans(n_clusters=6)\n",
        "mdl8_a.fit(df8.iloc[:,1:4])\n",
        "print('SSE Data8: '+str(mdl8_a.inertia_))"
      ],
      "metadata": {
        "id": "ApLdBYfNQ6Mm",
        "colab": {
          "base_uri": "https://localhost:8080/"
        },
        "outputId": "001797ab-e78f-4220-d295-507ab01cbf72"
      },
      "execution_count": null,
      "outputs": [
        {
          "output_type": "stream",
          "name": "stdout",
          "text": [
            "SSE Data8: 1226.5163224647822\n"
          ]
        }
      ]
    },
    {
      "cell_type": "code",
      "source": [
        "df8['predictedclass8a'] = mdl8_a.labels_ + 1"
      ],
      "metadata": {
        "id": "IDglA4YaRBff"
      },
      "execution_count": null,
      "outputs": []
    },
    {
      "cell_type": "code",
      "source": [
        "mdl8_a.cluster_centers_"
      ],
      "metadata": {
        "colab": {
          "base_uri": "https://localhost:8080/"
        },
        "id": "qmmBhtrNRFJq",
        "outputId": "a862e80f-dbc5-4f57-871c-527e5aef24cb"
      },
      "execution_count": null,
      "outputs": [
        {
          "output_type": "execute_result",
          "data": {
            "text/plain": [
              "array([[-0.02466459, -0.64145868,  0.5289144 ],\n",
              "       [ 0.4972794 ,  0.42168636,  0.51731322],\n",
              "       [-0.50210751, -0.41307738, -0.51853859],\n",
              "       [ 0.66865429, -0.33453287, -0.36801353],\n",
              "       [ 0.02484991,  0.6416588 , -0.53070233],\n",
              "       [-0.66755519,  0.33538421,  0.37276264]])"
            ]
          },
          "metadata": {},
          "execution_count": 263
        }
      ]
    },
    {
      "cell_type": "markdown",
      "source": [
        "(b) Use hierarchical clustering methods to generate clusters"
      ],
      "metadata": {
        "id": "59CQ3lcoROQS"
      }
    },
    {
      "cell_type": "code",
      "source": [
        "z8 = linkage(df1.iloc[:,1:4],method='single')\n",
        "dendrogram(z8)\n",
        "plt.title('dendrogram of Data 8')\n",
        "plt.show()"
      ],
      "metadata": {
        "id": "h2pU3bZ6R9vA",
        "colab": {
          "base_uri": "https://localhost:8080/",
          "height": 281
        },
        "outputId": "0ff09477-0ca2-4dfb-995a-2ee1ca160a9b"
      },
      "execution_count": null,
      "outputs": [
        {
          "output_type": "display_data",
          "data": {
            "text/plain": [
              "<Figure size 432x288 with 1 Axes>"
            ],
            "image/png": "[encoded data removed]"
          },
          "metadata": {
            "needs_background": "light"
          }
        }
      ]
    },
    {
      "cell_type": "code",
      "source": [
        "z8 = linkage(df1.iloc[:,1:4],method='ward')\n",
        "dendrogram(z8)\n",
        "plt.title('dendrogram of Data 8')\n",
        "plt.show()"
      ],
      "metadata": {
        "colab": {
          "base_uri": "https://localhost:8080/",
          "height": 281
        },
        "id": "GV8wYcmuKFfG",
        "outputId": "42d9da57-f2e7-4f11-8e9f-ac4f24b70e24"
      },
      "execution_count": null,
      "outputs": [
        {
          "output_type": "display_data",
          "data": {
            "text/plain": [
              "<Figure size 432x288 with 1 Axes>"
            ],
            "image/png": "[encoded data removed]"
          },
          "metadata": {
            "needs_background": "light"
          }
        }
      ]
    },
    {
      "cell_type": "markdown",
      "source": [
        "Therefore, we use 7 as n_cluster value"
      ],
      "metadata": {
        "id": "N9xXYaK9Riha"
      }
    },
    {
      "cell_type": "code",
      "source": [
        "mdl8_b = AgglomerativeClustering(n_clusters=7)\n",
        "mdl8_b.fit(df8.iloc[:,1:4])\n",
        "mdl8_b.labels_"
      ],
      "metadata": {
        "colab": {
          "base_uri": "https://localhost:8080/"
        },
        "id": "nEKN88pXRkqs",
        "outputId": "19f15904-e659-46d7-806a-25dbdacb7e8e"
      },
      "execution_count": null,
      "outputs": [
        {
          "output_type": "execute_result",
          "data": {
            "text/plain": [
              "array([3, 3, 3, ..., 0, 5, 0])"
            ]
          },
          "metadata": {},
          "execution_count": 172
        }
      ]
    },
    {
      "cell_type": "code",
      "source": [
        "df8['predictedclass8b'] = mdl8_b.labels_ + 1"
      ],
      "metadata": {
        "id": "ZPpIhb1kRu3Q"
      },
      "execution_count": null,
      "outputs": []
    },
    {
      "cell_type": "markdown",
      "source": [
        "2. Evaluate the performance of the clustering algorithm using external validation metrics"
      ],
      "metadata": {
        "id": "P3GRo1JkSWgJ"
      }
    },
    {
      "cell_type": "code",
      "source": [
        "df8"
      ],
      "metadata": {
        "colab": {
          "base_uri": "https://localhost:8080/",
          "height": 423
        },
        "id": "q79Q3qi6DpHP",
        "outputId": "d8cd2ef9-a61e-4ba5-d5a7-7b434e72d6bb"
      },
      "execution_count": null,
      "outputs": [
        {
          "output_type": "execute_result",
          "data": {
            "text/plain": [
              "      Unnamed: 0        X1        X2       X3  Class  predictedclass8a  \\\n",
              "0              1  0.000000  0.000000  1.00000      1                 6   \n",
              "1              2  0.000000  0.052336  0.99863      1                 6   \n",
              "2              3  0.049774  0.016173  0.99863      1                 6   \n",
              "3              4  0.030762 -0.042341  0.99863      1                 6   \n",
              "4              5 -0.030762 -0.042341  0.99863      1                 6   \n",
              "...          ...       ...       ...      ...    ...               ...   \n",
              "3997        3998  0.049774 -0.016173 -0.99863      1                 4   \n",
              "3998        3999  0.000000 -0.052336 -0.99863      1                 4   \n",
              "3999        4000 -0.049774 -0.016173 -0.99863      1                 4   \n",
              "4000        4001 -0.030762  0.042341 -0.99863      1                 4   \n",
              "4001        4002  0.000000  0.000000 -1.00000      1                 4   \n",
              "\n",
              "      predictedclass8b  \n",
              "0                    4  \n",
              "1                    4  \n",
              "2                    4  \n",
              "3                    4  \n",
              "4                    4  \n",
              "...                ...  \n",
              "3997                 1  \n",
              "3998                 1  \n",
              "3999                 1  \n",
              "4000                 6  \n",
              "4001                 1  \n",
              "\n",
              "[4002 rows x 7 columns]"
            ],
            "text/html": [
              "\n",
              "  <div id=\"df-d6c4a807-bf4d-4f12-be56-dfed679bed0d\">\n",
              "    <div class=\"colab-df-container\">\n",
              "      <div>\n",
              "<style scoped>\n",
              "    .dataframe tbody tr th:only-of-type {\n",
              "        vertical-align: middle;\n",
              "    }\n",
              "\n",
              "    .dataframe tbody tr th {\n",
              "        vertical-align: top;\n",
              "    }\n",
              "\n",
              "    .dataframe thead th {\n",
              "        text-align: right;\n",
              "    }\n",
              "</style>\n",
              "<table border=\"1\" class=\"dataframe\">\n",
              "  <thead>\n",
              "    <tr style=\"text-align: right;\">\n",
              "      <th></th>\n",
              "      <th>Unnamed: 0</th>\n",
              "      <th>X1</th>\n",
              "      <th>X2</th>\n",
              "      <th>X3</th>\n",
              "      <th>Class</th>\n",
              "      <th>predictedclass8a</th>\n",
              "      <th>predictedclass8b</th>\n",
              "    </tr>\n",
              "  </thead>\n",
              "  <tbody>\n",
              "    <tr>\n",
              "      <th>0</th>\n",
              "      <td>1</td>\n",
              "      <td>0.000000</td>\n",
              "      <td>0.000000</td>\n",
              "      <td>1.00000</td>\n",
              "      <td>1</td>\n",
              "      <td>6</td>\n",
              "      <td>4</td>\n",
              "    </tr>\n",
              "    <tr>\n",
              "      <th>1</th>\n",
              "      <td>2</td>\n",
              "      <td>0.000000</td>\n",
              "      <td>0.052336</td>\n",
              "      <td>0.99863</td>\n",
              "      <td>1</td>\n",
              "      <td>6</td>\n",
              "      <td>4</td>\n",
              "    </tr>\n",
              "    <tr>\n",
              "      <th>2</th>\n",
              "      <td>3</td>\n",
              "      <td>0.049774</td>\n",
              "      <td>0.016173</td>\n",
              "      <td>0.99863</td>\n",
              "      <td>1</td>\n",
              "      <td>6</td>\n",
              "      <td>4</td>\n",
              "    </tr>\n",
              "    <tr>\n",
              "      <th>3</th>\n",
              "      <td>4</td>\n",
              "      <td>0.030762</td>\n",
              "      <td>-0.042341</td>\n",
              "      <td>0.99863</td>\n",
              "      <td>1</td>\n",
              "      <td>6</td>\n",
              "      <td>4</td>\n",
              "    </tr>\n",
              "    <tr>\n",
              "      <th>4</th>\n",
              "      <td>5</td>\n",
              "      <td>-0.030762</td>\n",
              "      <td>-0.042341</td>\n",
              "      <td>0.99863</td>\n",
              "      <td>1</td>\n",
              "      <td>6</td>\n",
              "      <td>4</td>\n",
              "    </tr>\n",
              "    <tr>\n",
              "      <th>...</th>\n",
              "      <td>...</td>\n",
              "      <td>...</td>\n",
              "      <td>...</td>\n",
              "      <td>...</td>\n",
              "      <td>...</td>\n",
              "      <td>...</td>\n",
              "      <td>...</td>\n",
              "    </tr>\n",
              "    <tr>\n",
              "      <th>3997</th>\n",
              "      <td>3998</td>\n",
              "      <td>0.049774</td>\n",
              "      <td>-0.016173</td>\n",
              "      <td>-0.99863</td>\n",
              "      <td>1</td>\n",
              "      <td>4</td>\n",
              "      <td>1</td>\n",
              "    </tr>\n",
              "    <tr>\n",
              "      <th>3998</th>\n",
              "      <td>3999</td>\n",
              "      <td>0.000000</td>\n",
              "      <td>-0.052336</td>\n",
              "      <td>-0.99863</td>\n",
              "      <td>1</td>\n",
              "      <td>4</td>\n",
              "      <td>1</td>\n",
              "    </tr>\n",
              "    <tr>\n",
              "      <th>3999</th>\n",
              "      <td>4000</td>\n",
              "      <td>-0.049774</td>\n",
              "      <td>-0.016173</td>\n",
              "      <td>-0.99863</td>\n",
              "      <td>1</td>\n",
              "      <td>4</td>\n",
              "      <td>1</td>\n",
              "    </tr>\n",
              "    <tr>\n",
              "      <th>4000</th>\n",
              "      <td>4001</td>\n",
              "      <td>-0.030762</td>\n",
              "      <td>0.042341</td>\n",
              "      <td>-0.99863</td>\n",
              "      <td>1</td>\n",
              "      <td>4</td>\n",
              "      <td>6</td>\n",
              "    </tr>\n",
              "    <tr>\n",
              "      <th>4001</th>\n",
              "      <td>4002</td>\n",
              "      <td>0.000000</td>\n",
              "      <td>0.000000</td>\n",
              "      <td>-1.00000</td>\n",
              "      <td>1</td>\n",
              "      <td>4</td>\n",
              "      <td>1</td>\n",
              "    </tr>\n",
              "  </tbody>\n",
              "</table>\n",
              "<p>4002 rows × 7 columns</p>\n",
              "</div>\n",
              "      <button class=\"colab-df-convert\" onclick=\"convertToInteractive('df-d6c4a807-bf4d-4f12-be56-dfed679bed0d')\"\n",
              "              title=\"Convert this dataframe to an interactive table.\"\n",
              "              style=\"display:none;\">\n",
              "        \n",
              "  <svg xmlns=\"http://www.w3.org/2000/svg\" height=\"24px\"viewBox=\"0 0 24 24\"\n",
              "       width=\"24px\">\n",
              "    <path d=\"M0 0h24v24H0V0z\" fill=\"none\"/>\n",
              "    <path d=\"M18.56 5.44l.94 2.06.94-2.06 2.06-.94-2.06-.94-.94-2.06-.94 2.06-2.06.94zm-11 1L8.5 8.5l.94-2.06 2.06-.94-2.06-.94L8.5 2.5l-.94 2.06-2.06.94zm10 10l.94 2.06.94-2.06 2.06-.94-2.06-.94-.94-2.06-.94 2.06-2.06.94z\"/><path d=\"M17.41 7.96l-1.37-1.37c-.4-.4-.92-.59-1.43-.59-.52 0-1.04.2-1.43.59L10.3 9.45l-7.72 7.72c-.78.78-.78 2.05 0 2.83L4 21.41c.39.39.9.59 1.41.59.51 0 1.02-.2 1.41-.59l7.78-7.78 2.81-2.81c.8-.78.8-2.07 0-2.86zM5.41 20L4 18.59l7.72-7.72 1.47 1.35L5.41 20z\"/>\n",
              "  </svg>\n",
              "      </button>\n",
              "      \n",
              "  <style>\n",
              "    .colab-df-container {\n",
              "      display:flex;\n",
              "      flex-wrap:wrap;\n",
              "      gap: 12px;\n",
              "    }\n",
              "\n",
              "    .colab-df-convert {\n",
              "      background-color: #E8F0FE;\n",
              "      border: none;\n",
              "      border-radius: 50%;\n",
              "      cursor: pointer;\n",
              "      display: none;\n",
              "      fill: #1967D2;\n",
              "      height: 32px;\n",
              "      padding: 0 0 0 0;\n",
              "      width: 32px;\n",
              "    }\n",
              "\n",
              "    .colab-df-convert:hover {\n",
              "      background-color: #E2EBFA;\n",
              "      box-shadow: 0px 1px 2px rgba(60, 64, 67, 0.3), 0px 1px 3px 1px rgba(60, 64, 67, 0.15);\n",
              "      fill: #174EA6;\n",
              "    }\n",
              "\n",
              "    [theme=dark] .colab-df-convert {\n",
              "      background-color: #3B4455;\n",
              "      fill: #D2E3FC;\n",
              "    }\n",
              "\n",
              "    [theme=dark] .colab-df-convert:hover {\n",
              "      background-color: #434B5C;\n",
              "      box-shadow: 0px 1px 3px 1px rgba(0, 0, 0, 0.15);\n",
              "      filter: drop-shadow(0px 1px 2px rgba(0, 0, 0, 0.3));\n",
              "      fill: #FFFFFF;\n",
              "    }\n",
              "  </style>\n",
              "\n",
              "      <script>\n",
              "        const buttonEl =\n",
              "          document.querySelector('#df-d6c4a807-bf4d-4f12-be56-dfed679bed0d button.colab-df-convert');\n",
              "        buttonEl.style.display =\n",
              "          google.colab.kernel.accessAllowed ? 'block' : 'none';\n",
              "\n",
              "        async function convertToInteractive(key) {\n",
              "          const element = document.querySelector('#df-d6c4a807-bf4d-4f12-be56-dfed679bed0d');\n",
              "          const dataTable =\n",
              "            await google.colab.kernel.invokeFunction('convertToInteractive',\n",
              "                                                     [key], {});\n",
              "          if (!dataTable) return;\n",
              "\n",
              "          const docLinkHtml = 'Like what you see? Visit the ' +\n",
              "            '<a target=\"_blank\" href=https://colab.research.google.com/notebooks/data_table.ipynb>data table notebook</a>'\n",
              "            + ' to learn more about interactive tables.';\n",
              "          element.innerHTML = '';\n",
              "          dataTable['output_type'] = 'display_data';\n",
              "          await google.colab.output.renderOutput(dataTable, element);\n",
              "          const docLink = document.createElement('div');\n",
              "          docLink.innerHTML = docLinkHtml;\n",
              "          element.appendChild(docLink);\n",
              "        }\n",
              "      </script>\n",
              "    </div>\n",
              "  </div>\n",
              "  "
            ]
          },
          "metadata": {},
          "execution_count": 174
        }
      ]
    },
    {
      "cell_type": "code",
      "source": [
        "contingency_matrix8k = metrics.cluster.contingency_matrix(df8['Class'], df8['predictedclass8a'])\n",
        "contingency_matrix8k"
      ],
      "metadata": {
        "id": "a6rzgMttDxkO",
        "colab": {
          "base_uri": "https://localhost:8080/"
        },
        "outputId": "36b16644-a8e4-40d7-951f-7d600c31417a"
      },
      "execution_count": null,
      "outputs": [
        {
          "output_type": "execute_result",
          "data": {
            "text/plain": [
              "array([[667, 667, 668, 666, 668, 666]])"
            ]
          },
          "metadata": {},
          "execution_count": 175
        }
      ]
    },
    {
      "cell_type": "code",
      "source": [
        "purity8k = np.sum(np.amax(contingency_matrix8k, axis=0)) / np.sum(contingency_matrix8k) \n",
        "purity8k"
      ],
      "metadata": {
        "id": "Xmusua_-SZJ8",
        "colab": {
          "base_uri": "https://localhost:8080/"
        },
        "outputId": "4a98e209-0c07-40db-862f-e345fee631aa"
      },
      "execution_count": null,
      "outputs": [
        {
          "output_type": "execute_result",
          "data": {
            "text/plain": [
              "1.0"
            ]
          },
          "metadata": {},
          "execution_count": 176
        }
      ]
    },
    {
      "cell_type": "code",
      "source": [
        "contingency_matrix8h = metrics.cluster.contingency_matrix(df8['Class'], df8['predictedclass8b'])\n",
        "contingency_matrix8h"
      ],
      "metadata": {
        "colab": {
          "base_uri": "https://localhost:8080/"
        },
        "id": "K8__EobTDyEP",
        "outputId": "c25afa79-147a-42ac-8849-c5208be429b9"
      },
      "execution_count": null,
      "outputs": [
        {
          "output_type": "execute_result",
          "data": {
            "text/plain": [
              "array([[787, 638, 572, 540, 477, 555, 433]])"
            ]
          },
          "metadata": {},
          "execution_count": 178
        }
      ]
    },
    {
      "cell_type": "code",
      "source": [
        "purity8h= np.sum(np.amax(contingency_matrix8h, axis=0)) / np.sum(contingency_matrix8h) \n",
        "purity8h"
      ],
      "metadata": {
        "colab": {
          "base_uri": "https://localhost:8080/"
        },
        "id": "BGxpNW3IDodD",
        "outputId": "6687bec1-7ce3-4a5a-8b11-03270802f1a2"
      },
      "execution_count": null,
      "outputs": [
        {
          "output_type": "execute_result",
          "data": {
            "text/plain": [
              "1.0"
            ]
          },
          "metadata": {},
          "execution_count": 179
        }
      ]
    },
    {
      "cell_type": "code",
      "source": [
        "print('df8 fowlkes mallows score for K-means method: ' + str(fowlkes_mallows_score(df8.iloc[:,4], df8['predictedclass8a'])))\n",
        "print('df8 fowlkes mallows score for hierarchical method: ' + str(fowlkes_mallows_score(df8.iloc[:,4], df8['predictedclass8b'])))"
      ],
      "metadata": {
        "colab": {
          "base_uri": "https://localhost:8080/"
        },
        "id": "uUQ5_aVpKOU3",
        "outputId": "1d0fa34a-9757-4778-eb41-6ca350399778"
      },
      "execution_count": null,
      "outputs": [
        {
          "output_type": "stream",
          "name": "stdout",
          "text": [
            "df8 fowlkes mallows score for K-means method: 0.40799342545714923\n",
            "df8 fowlkes mallows score for hierarchical method: 0.3842578768955405\n"
          ]
        }
      ]
    },
    {
      "cell_type": "markdown",
      "source": [
        "The purity for both methods are 1.0 which means each cluster contains only examples from the same class. The fowlkes mallows score shows that there are  similarity between the clusters and the benchmark classifications is moderate, and the k-means method has slightly more similarity than the hierarchical method."
      ],
      "metadata": {
        "id": "e7v97p_9KYx5"
      }
    },
    {
      "cell_type": "markdown",
      "source": [
        "3. Plot (2D or 3D) the data points for each dataset and color them according to the original class"
      ],
      "metadata": {
        "id": "VoCoVdpUSZz4"
      }
    },
    {
      "cell_type": "code",
      "source": [
        "fig = px.scatter_3d(df8, x='X1', y='X2', z='X3', color = 'Class')\n",
        "fig.show()"
      ],
      "metadata": {
        "id": "9qhsNZaFScR7"
      },
      "execution_count": null,
      "outputs": []
    },
    {
      "cell_type": "markdown",
      "source": [
        "4. Plot (2D or 3D) the data points for each dataset and color them according to the class allocated by the clustering algorithm"
      ],
      "metadata": {
        "id": "zZ3BaTh8SkDJ"
      }
    },
    {
      "cell_type": "code",
      "source": [
        "# According to k-means method\n",
        "fig = px.scatter_3d(df8, x='X1', y='X2', z='X3', color = 'predictedclass8a')\n",
        "fig.show()"
      ],
      "metadata": {
        "id": "YZdRK4HnSqsl"
      },
      "execution_count": null,
      "outputs": []
    },
    {
      "cell_type": "code",
      "source": [
        "# Accoridng to the hierarchical clustering method\n",
        "fig = px.scatter_3d(df8, x='X1', y='X2', z='X3', color = 'predictedclass8b')\n",
        "fig.show()"
      ],
      "metadata": {
        "id": "tE52-H5VS8tc"
      },
      "execution_count": null,
      "outputs": []
    },
    {
      "cell_type": "markdown",
      "source": [
        "**Task 2**"
      ],
      "metadata": {
        "id": "bIxBZkhaWeOR"
      }
    },
    {
      "cell_type": "markdown",
      "source": [
        "The world indicators dataset compares different countries based on selected attributes.\n",
        "1. Use K-means and hierarchical clustering methods to group similar countries\n",
        "together\n",
        "2. Use Internal validation metrics to report the cluster quality\n",
        "3. Report the best clustering solution. Give a detailed list of all the groups and the\n",
        "countries included within the groups\n",
        "4. Generate three different scatter plots of your choice and color the data points\n",
        "according to the group. Example: “Life expectancy vs GDP”, “Infant Mortality vs\n",
        "GDP”, etc.\n"
      ],
      "metadata": {
        "id": "zYH5fJzOWZis"
      }
    },
    {
      "cell_type": "code",
      "source": [
        "df_WI = pd.read_csv('/content/drive/MyDrive/IE 5374/Project1/World Indicators.csv')"
      ],
      "metadata": {
        "id": "fIdb3urjWj4d"
      },
      "execution_count": 186,
      "outputs": []
    },
    {
      "cell_type": "code",
      "source": [
        "df_WI.isnull().sum()"
      ],
      "metadata": {
        "colab": {
          "base_uri": "https://localhost:8080/"
        },
        "id": "9rg7P69ULI4B",
        "outputId": "96e5377c-58c1-41e1-cfc6-82e58c8f9a20"
      },
      "execution_count": 187,
      "outputs": [
        {
          "output_type": "execute_result",
          "data": {
            "text/plain": [
              "Birth Rate                 9\n",
              "Business Tax Rate         27\n",
              "Days to Start Business    27\n",
              "Energy Usage              72\n",
              "GDP                       20\n",
              "Health Exp % GDP          23\n",
              "Health Exp/Capita         23\n",
              "Hours to do Tax           28\n",
              "Infant Mortality Rate     20\n",
              "Internet Usage             9\n",
              "Lending Interest          77\n",
              "Life Expectancy Female    11\n",
              "Life Expectancy Male      11\n",
              "Mobile Phone Usage        12\n",
              "Population 0-14           17\n",
              "Population 15-64          17\n",
              "Population 65+            17\n",
              "Population Urban           2\n",
              "Region                     0\n",
              "Country                    0\n",
              "dtype: int64"
            ]
          },
          "metadata": {},
          "execution_count": 187
        }
      ]
    },
    {
      "cell_type": "code",
      "source": [
        "# Remove rows with incomplete information\n",
        "df_WI = df_WI.drop(['Energy Usage', 'Lending Interest'], axis=1)\n",
        "df_WI.dropna(axis=0, inplace=True)"
      ],
      "metadata": {
        "id": "w_RqJxZ-Ygve"
      },
      "execution_count": 200,
      "outputs": []
    },
    {
      "cell_type": "code",
      "source": [
        "df_WI"
      ],
      "metadata": {
        "id": "fH5XID40Ytnv"
      },
      "execution_count": null,
      "outputs": []
    },
    {
      "cell_type": "code",
      "source": [
        "df_WI.dtypes"
      ],
      "metadata": {
        "id": "xeHTfruOLbsk"
      },
      "execution_count": null,
      "outputs": []
    },
    {
      "cell_type": "code",
      "source": [
        "# Modify the dataset"
      ],
      "metadata": {
        "id": "xLjk0XpsXbRS"
      },
      "execution_count": null,
      "outputs": []
    },
    {
      "cell_type": "code",
      "source": [
        "df_WI1 = df_WI.copy()\n",
        "df_WI1.rename(columns={'Business Tax Rate': 'Business Tax Rate Percentage'}, inplace=True)"
      ],
      "metadata": {
        "id": "lj5ZtTC9MIQI"
      },
      "execution_count": 203,
      "outputs": []
    },
    {
      "cell_type": "code",
      "source": [
        "df_WI1['Business Tax Rate Percentage'] = pd.to_numeric(df_WI1['Business Tax Rate Percentage'].str.replace('%', ''))\n",
        "df_WI1['Health Exp/Capita'] = pd.to_numeric(df_WI1['Health Exp/Capita'].str.replace('$', '').str.replace(',', ''))\n",
        "df_WI1['GDP'] = pd.to_numeric(df_WI1['GDP'].str.replace('$', '').str.replace(',', ''))\n",
        "df_WI1.head(2)"
      ],
      "metadata": {
        "id": "V2JRBsvAaQAP"
      },
      "execution_count": null,
      "outputs": []
    },
    {
      "cell_type": "code",
      "source": [
        "df_WI1.isnull().sum()"
      ],
      "metadata": {
        "id": "dFSMN6VSL4VZ"
      },
      "execution_count": null,
      "outputs": []
    },
    {
      "cell_type": "code",
      "source": [
        "from sklearn.preprocessing import StandardScaler\n",
        "df_WI2 = StandardScaler().fit_transform(df_WI1.iloc[:, :-2])\n",
        "df_WI3 = pd.DataFrame(df_WI2, columns = df_WI1.iloc[:, :-2].columns)"
      ],
      "metadata": {
        "id": "F-L8sgoZb8hW"
      },
      "execution_count": 208,
      "outputs": []
    },
    {
      "cell_type": "code",
      "source": [
        "# Use elbow method to find the appropriate n cluster value\n",
        "k_WI = []\n",
        "wcss_WI = []\n",
        "for i_WI in range(1,10):\n",
        "    mdl_WI = KMeans(n_clusters=i_WI)\n",
        "    mdl_WI.fit(df_WI3)\n",
        "    k_WI.append(i_WI)\n",
        "    wcss_WI.append(mdl_WI.inertia_) "
      ],
      "metadata": {
        "id": "Vnxm4x_hXfdz"
      },
      "execution_count": 209,
      "outputs": []
    },
    {
      "cell_type": "code",
      "source": [
        "sns.lineplot(k_WI,wcss_WI)"
      ],
      "metadata": {
        "id": "46EJk9k4g2eI"
      },
      "execution_count": null,
      "outputs": []
    },
    {
      "cell_type": "code",
      "source": [
        "sil = []\n",
        "ks = []\n",
        "kmax = 10\n",
        "\n",
        "# dissimilarity would not be defined for a single cluster, thus, minimum number of clusters should be 2\n",
        "for ksq in range(2,10):\n",
        "  kmeans = KMeans(n_clusters = ksq)\n",
        "  kmeans.fit(df_WI3)\n",
        "  labels = kmeans.labels_\n",
        "  ks.append(ksq)\n",
        "  sil.append(metrics.silhouette_score(df_WI3, labels))"
      ],
      "metadata": {
        "id": "13i7vNQixiQ9"
      },
      "execution_count": 211,
      "outputs": []
    },
    {
      "cell_type": "code",
      "source": [
        "sns.lineplot(ks,sil)"
      ],
      "metadata": {
        "id": "8kCCJcsXx9JD",
        "colab": {
          "base_uri": "https://localhost:8080/",
          "height": 372
        },
        "outputId": "7f48b855-5231-4225-ada1-1e18f1e90509"
      },
      "execution_count": 212,
      "outputs": [
        {
          "output_type": "stream",
          "name": "stderr",
          "text": [
            "/usr/local/lib/python3.7/dist-packages/seaborn/_decorators.py:43: FutureWarning:\n",
            "\n",
            "Pass the following variables as keyword args: x, y. From version 0.12, the only valid positional argument will be `data`, and passing other arguments without an explicit keyword will result in an error or misinterpretation.\n",
            "\n"
          ]
        },
        {
          "output_type": "execute_result",
          "data": {
            "text/plain": [
              "<matplotlib.axes._subplots.AxesSubplot at 0x7fc1ae4db9d0>"
            ]
          },
          "metadata": {},
          "execution_count": 212
        },
        {
          "output_type": "display_data",
          "data": {
            "text/plain": [
              "<Figure size 432x288 with 1 Axes>"
            ],
            "image/png": "[encoded data removed]"
          },
          "metadata": {
            "needs_background": "light"
          }
        }
      ]
    },
    {
      "cell_type": "markdown",
      "source": [
        "Peek at 2. Therefore, we use 2 as n_cluster value  for k-means method"
      ],
      "metadata": {
        "id": "UCOgkCAuhl9c"
      }
    },
    {
      "cell_type": "code",
      "source": [
        "mdl_WI_a = KMeans(n_clusters=2)\n",
        "mdl_WI_a.fit(df_WI3.iloc[:, 0:16])\n",
        "print('SSE Data WI: '+str(mdl_WI_a.inertia_))"
      ],
      "metadata": {
        "colab": {
          "base_uri": "https://localhost:8080/"
        },
        "id": "O3vONwXBLbez",
        "outputId": "9f68ccec-e960-4169-f04f-4757864d1f81"
      },
      "execution_count": 224,
      "outputs": [
        {
          "output_type": "stream",
          "name": "stdout",
          "text": [
            "SSE Data WI: 1665.9747244540863\n"
          ]
        }
      ]
    },
    {
      "cell_type": "code",
      "source": [
        "df_WI3['predictedclassA'] = mdl_WI_a.labels_"
      ],
      "metadata": {
        "id": "ZNk-1e2jLckC"
      },
      "execution_count": 225,
      "outputs": []
    },
    {
      "cell_type": "code",
      "source": [
        "mdl_WI_a.cluster_centers_"
      ],
      "metadata": {
        "id": "N271-5dwLyFS",
        "colab": {
          "base_uri": "https://localhost:8080/"
        },
        "outputId": "325e6bcc-7a76-4ac0-be1f-5e2ab28309b5"
      },
      "execution_count": 215,
      "outputs": [
        {
          "output_type": "execute_result",
          "data": {
            "text/plain": [
              "array([[ 0.95423555,  0.19248332,  0.26247705, -0.23332838, -0.18845011,\n",
              "        -0.51109876,  0.06679201,  0.92958914, -0.92462912, -0.92788156,\n",
              "        -0.89872303, -0.80910528,  0.99325861, -0.92363995, -0.77369659,\n",
              "        -0.74000073],\n",
              "       [-0.71080811, -0.14338044, -0.19551862,  0.17380583,  0.1403761 ,\n",
              "         0.38071643, -0.04975323, -0.69244905,  0.68875434,  0.69117708,\n",
              "         0.66945695,  0.60270087, -0.73987631,  0.68801752,  0.57632501,\n",
              "         0.55122503]])"
            ]
          },
          "metadata": {},
          "execution_count": 215
        }
      ]
    },
    {
      "cell_type": "code",
      "source": [
        "import scipy.cluster.hierarchy as shc\n",
        "dend = shc.dendrogram(shc.linkage(df_WI3, method='ward'))\n",
        "plt.axhline(y=27, c='orange')"
      ],
      "metadata": {
        "id": "zWuSISlLhdVc",
        "colab": {
          "base_uri": "https://localhost:8080/",
          "height": 286
        },
        "outputId": "8b451bd6-bd93-4839-9fba-e4f14c9dcd53"
      },
      "execution_count": 216,
      "outputs": [
        {
          "output_type": "execute_result",
          "data": {
            "text/plain": [
              "<matplotlib.lines.Line2D at 0x7fc1ae5e82d0>"
            ]
          },
          "metadata": {},
          "execution_count": 216
        },
        {
          "output_type": "display_data",
          "data": {
            "text/plain": [
              "<Figure size 432x288 with 1 Axes>"
            ],
            "image/png": "[encoded data removed]"
          },
          "metadata": {
            "needs_background": "light"
          }
        }
      ]
    },
    {
      "cell_type": "code",
      "source": [
        "df_WI3['Region'] = df_WI1.iloc[:, -2]\n",
        "df_WI3['Country'] = df_WI1.iloc[:, -1]"
      ],
      "metadata": {
        "id": "8t-ulvj2OKPW"
      },
      "execution_count": 217,
      "outputs": []
    },
    {
      "cell_type": "markdown",
      "source": [
        "Therefore, we use 2 as n_cluster value for hierarchical method"
      ],
      "metadata": {
        "id": "fDDAeT3kjeQ8"
      }
    },
    {
      "cell_type": "code",
      "source": [
        "mdl_WI_b = AgglomerativeClustering(n_clusters=2)\n",
        "mdl_WI_b.fit(df_WI3.iloc[:,0:16])\n",
        "mdl_WI_b.labels_"
      ],
      "metadata": {
        "id": "yIi3sTI0I4uc",
        "colab": {
          "base_uri": "https://localhost:8080/"
        },
        "outputId": "4cc363f5-8194-44e6-97e8-e601ccd617cb"
      },
      "execution_count": 218,
      "outputs": [
        {
          "output_type": "execute_result",
          "data": {
            "text/plain": [
              "array([0, 1, 1, 1, 1, 1, 1, 1, 1, 1, 1, 1, 1, 1, 0, 1, 1, 1, 1, 1, 1, 1,\n",
              "       1, 1, 1, 1, 1, 1, 1, 1, 0, 0, 1, 1, 1, 1, 1, 1, 1, 0, 1, 1, 1, 1,\n",
              "       1, 1, 0, 1, 1, 1, 0, 0, 1, 1, 0, 1, 0, 0, 1, 1, 0, 0, 0, 1, 1, 0,\n",
              "       1, 1, 1, 1, 0, 1, 1, 0, 1, 1, 0, 0, 0, 0, 0, 0, 0, 0, 0, 0, 0, 0,\n",
              "       0, 0, 0, 0, 0, 0, 0, 0, 0, 0, 0, 0, 0, 0, 0, 0, 0, 0, 0, 0, 0, 0,\n",
              "       0, 0, 0, 0, 0, 0, 0, 0, 0, 0, 1, 0, 0, 0, 0, 0, 0, 0, 0, 1, 0, 1,\n",
              "       1, 1, 0, 1, 1, 1, 1, 0, 0, 0, 0, 1, 0, 0, 0, 0, 0, 0, 0, 0, 0, 0,\n",
              "       1, 1, 1, 0, 0, 0, 0, 0, 0, 0, 0, 0, 1, 0, 0, 0, 0])"
            ]
          },
          "metadata": {},
          "execution_count": 218
        }
      ]
    },
    {
      "cell_type": "code",
      "source": [
        "df_WI3['predictedclassB'] = mdl_WI_b.labels_"
      ],
      "metadata": {
        "id": "Cy9fsIRAJIwR"
      },
      "execution_count": 219,
      "outputs": []
    },
    {
      "cell_type": "markdown",
      "source": [
        "2.Use Internal validation metrics to report the cluster quality"
      ],
      "metadata": {
        "id": "M6J8HEBVj6cT"
      }
    },
    {
      "cell_type": "markdown",
      "source": [
        "Calinski harabasz score:"
      ],
      "metadata": {
        "id": "0FgwBwFoQVQP"
      }
    },
    {
      "cell_type": "code",
      "source": [
        "print(\"calinski harabasz score for kmeans:\" + str(metrics.calinski_harabasz_score(df_WI3.iloc[:, 0:16], mdl_WI_a.labels_)))\n",
        "print(\"calinski harabasz score for heirarichal:\" + str(metrics.calinski_harabasz_score(df_WI3.iloc[:, 0:16], mdl_WI_b.labels_)))"
      ],
      "metadata": {
        "colab": {
          "base_uri": "https://localhost:8080/"
        },
        "id": "qUsbJ_uonSpU",
        "outputId": "a05a83cd-38f8-4bf2-eb3d-30a6adc46ccd"
      },
      "execution_count": 220,
      "outputs": [
        {
          "output_type": "stream",
          "name": "stdout",
          "text": [
            "calinski harabasz score for kmeans:108.54562732127647\n",
            "calinski harabasz score for heirarichal:105.43473274338285\n"
          ]
        }
      ]
    },
    {
      "cell_type": "markdown",
      "source": [
        "Dunn score:"
      ],
      "metadata": {
        "id": "ZnYA6vyCQqcG"
      }
    },
    {
      "cell_type": "code",
      "source": [
        "dist_world_indicators = pairwise_distances(df_WI3.iloc[:, 0:16])\n",
        "print(\"Dunn score for Kmeans:\" + str(dunn(dist_world_indicators, mdl_WI_a.labels_)))\n",
        "print(\"Dunn score for Heirarichal:\" + str(dunn(dist_world_indicators, mdl_WI_b.labels_)))"
      ],
      "metadata": {
        "colab": {
          "base_uri": "https://localhost:8080/",
          "height": 200
        },
        "id": "H4K3gnDAQeih",
        "outputId": "4c0c95a5-6867-41db-f98b-c121c80a0604"
      },
      "execution_count": 221,
      "outputs": [
        {
          "output_type": "error",
          "ename": "NameError",
          "evalue": "ignored",
          "traceback": [
            "\u001b[0;31m---------------------------------------------------------------------------\u001b[0m",
            "\u001b[0;31mNameError\u001b[0m                                 Traceback (most recent call last)",
            "\u001b[0;32m<ipython-input-221-42cda1629f59>\u001b[0m in \u001b[0;36m<module>\u001b[0;34m()\u001b[0m\n\u001b[0;32m----> 1\u001b[0;31m \u001b[0mdist_world_indicators\u001b[0m \u001b[0;34m=\u001b[0m \u001b[0mpairwise_distances\u001b[0m\u001b[0;34m(\u001b[0m\u001b[0mdf_WI3\u001b[0m\u001b[0;34m.\u001b[0m\u001b[0miloc\u001b[0m\u001b[0;34m[\u001b[0m\u001b[0;34m:\u001b[0m\u001b[0;34m,\u001b[0m \u001b[0;36m0\u001b[0m\u001b[0;34m:\u001b[0m\u001b[0;36m16\u001b[0m\u001b[0;34m]\u001b[0m\u001b[0;34m)\u001b[0m\u001b[0;34m\u001b[0m\u001b[0;34m\u001b[0m\u001b[0m\n\u001b[0m\u001b[1;32m      2\u001b[0m \u001b[0mprint\u001b[0m\u001b[0;34m(\u001b[0m\u001b[0;34m\"Dunn score for Kmeans:\"\u001b[0m \u001b[0;34m+\u001b[0m \u001b[0mstr\u001b[0m\u001b[0;34m(\u001b[0m\u001b[0mdunn\u001b[0m\u001b[0;34m(\u001b[0m\u001b[0mdist_world_indicators\u001b[0m\u001b[0;34m,\u001b[0m \u001b[0mmdl_WI_a\u001b[0m\u001b[0;34m.\u001b[0m\u001b[0mlabels_\u001b[0m\u001b[0;34m)\u001b[0m\u001b[0;34m)\u001b[0m\u001b[0;34m)\u001b[0m\u001b[0;34m\u001b[0m\u001b[0;34m\u001b[0m\u001b[0m\n\u001b[1;32m      3\u001b[0m \u001b[0mprint\u001b[0m\u001b[0;34m(\u001b[0m\u001b[0;34m\"Dunn score for Heirarichal:\"\u001b[0m \u001b[0;34m+\u001b[0m \u001b[0mstr\u001b[0m\u001b[0;34m(\u001b[0m\u001b[0mdunn\u001b[0m\u001b[0;34m(\u001b[0m\u001b[0mdist_world_indicators\u001b[0m\u001b[0;34m,\u001b[0m \u001b[0mmdl_WI_b\u001b[0m\u001b[0;34m.\u001b[0m\u001b[0mlabels_\u001b[0m\u001b[0;34m)\u001b[0m\u001b[0;34m)\u001b[0m\u001b[0;34m)\u001b[0m\u001b[0;34m\u001b[0m\u001b[0;34m\u001b[0m\u001b[0m\n",
            "\u001b[0;31mNameError\u001b[0m: name 'pairwise_distances' is not defined"
          ]
        }
      ]
    },
    {
      "cell_type": "markdown",
      "source": [
        "Conclusion: The Calinski-Harabasz coefficient yields the largest value when k=2 for k-means, which means the dispersion between clusters is maximized and cohesion within clusters is minimized when dividing into 2 clusters. The Silhouette Coefficient is highest when k = 2, the 0.921 Silhouette Coefficient means there is a high separation between clusterse at that time. "
      ],
      "metadata": {
        "id": "Kf-ELyfbuJvI"
      }
    },
    {
      "cell_type": "markdown",
      "source": [
        "3.Report the best clustering solution. Give a detailed list of all the groups and the countries included within the groups"
      ],
      "metadata": {
        "id": "U0NJ0l0dG1t1"
      }
    },
    {
      "cell_type": "code",
      "source": [
        "print(df_WI3['predictedclassA'].value_counts())\n",
        "print(df_WI3['predictedclassB'].value_counts())"
      ],
      "metadata": {
        "id": "NJn45xemGjRr",
        "colab": {
          "base_uri": "https://localhost:8080/"
        },
        "outputId": "44b5efa5-adde-4e91-e735-26a4d9aa2f7d"
      },
      "execution_count": 222,
      "outputs": [
        {
          "output_type": "stream",
          "name": "stdout",
          "text": [
            "1    98\n",
            "0    73\n",
            "Name: predictedclassA, dtype: int64\n",
            "0    98\n",
            "1    73\n",
            "Name: predictedclassB, dtype: int64\n"
          ]
        }
      ]
    },
    {
      "cell_type": "code",
      "source": [
        "df_WI3"
      ],
      "metadata": {
        "colab": {
          "base_uri": "https://localhost:8080/",
          "height": 609
        },
        "id": "CZYWv4FAYSYG",
        "outputId": "305b0f00-4531-4c19-e7c3-1622193bdf30"
      },
      "execution_count": 228,
      "outputs": [
        {
          "output_type": "execute_result",
          "data": {
            "text/plain": [
              "     Birth Rate  Business Tax Rate Percentage  Days to Start Business  \\\n",
              "0      0.241085                      0.733673               -0.099269   \n",
              "1      2.169232                      0.189712                0.611634   \n",
              "2      1.342883                      0.566931               -0.029912   \n",
              "3      0.149269                     -0.701399                0.507600   \n",
              "4      1.801966                     -0.045366               -0.307338   \n",
              "..          ...                           ...                     ...   \n",
              "166   -0.401630                     -0.471787               11.500591   \n",
              "167   -0.677080                     -0.438986                0.178157   \n",
              "168   -0.860713                      0.036638               -0.446051   \n",
              "169   -0.677080                     -0.089102               -0.411373   \n",
              "170   -0.217997                      0.482194                1.912067   \n",
              "\n",
              "           GDP  Health Exp % GDP  Health Exp/Capita  Hours to do Tax  \\\n",
              "0    -0.145350         -0.874226          -0.454207         0.662583   \n",
              "1    -0.210537         -1.238575          -0.483635        -0.007818   \n",
              "2    -0.277006         -0.837791          -0.560683        -0.055420   \n",
              "3    -0.271515         -0.582746          -0.362713        -0.523511   \n",
              "4    -0.274877         -0.145527          -0.558008        -0.055420   \n",
              "..         ...               ...                ...              ...   \n",
              "166  -0.279018         -0.291267          -0.316698        -0.337068   \n",
              "167  -0.265760         -0.546311          -0.078600        -0.293432   \n",
              "168  10.382036          3.971623           3.951423        -0.384670   \n",
              "169  -0.249585          0.728912           0.070145         0.206393   \n",
              "170  -0.064747         -0.837791          -0.318304         2.300901   \n",
              "\n",
              "     Infant Mortality Rate  Internet Usage  Life Expectancy Female  \\\n",
              "0                -0.174521       -0.934401               -0.018487   \n",
              "1                 3.159010       -0.934401               -1.895467   \n",
              "2                 1.293820       -1.291058               -1.203948   \n",
              "3                 0.460438       -0.934401               -2.586986   \n",
              "4                 1.611300       -1.291058               -1.599102   \n",
              "..                     ...             ...                     ...   \n",
              "166              -0.214206       -0.221086                0.179090   \n",
              "167              -0.293575        0.848886                0.080302   \n",
              "168              -0.849164        1.205544                0.870609   \n",
              "169              -0.690424        0.492229                0.771821   \n",
              "170              -0.531685        0.135572                0.475455   \n",
              "\n",
              "     Life Expectancy Male  Mobile Phone Usage  Population 0-14  \\\n",
              "0                0.167855           -0.130010        -0.158467   \n",
              "1               -1.979233           -1.152154         1.730363   \n",
              "2               -1.075196           -0.385546         1.315742   \n",
              "3               -2.318247            1.403207         0.468072   \n",
              "4               -1.414210           -1.152154         1.555301   \n",
              "..                    ...                 ...              ...   \n",
              "166             -0.058154            0.125526        -0.057115   \n",
              "167             -0.171159            1.147671        -0.757364   \n",
              "168              0.958887           -0.130010        -0.849502   \n",
              "169              0.619873            1.147671        -0.609943   \n",
              "170              0.393864            0.125526         0.016596   \n",
              "\n",
              "     Population 15-64  Population 65+  Population Urban  predictedclassA  \\\n",
              "0            0.668944       -0.558750          0.541928                0   \n",
              "1           -1.888970       -0.982336         -0.636900                1   \n",
              "2           -1.326792       -0.890252         -0.576447                1   \n",
              "3           -0.118107       -0.779751          0.036716                1   \n",
              "4           -1.635990       -0.963919         -1.258699                1   \n",
              "..                ...             ...               ...              ...   \n",
              "166          0.261364       -0.227248          0.459885                1   \n",
              "167          1.048414        0.141088         -2.018676                0   \n",
              "168          0.500290        1.025093          1.090320                0   \n",
              "169          0.064601        1.135594          1.681893                0   \n",
              "170          0.247309       -0.356165          1.431446                0   \n",
              "\n",
              "           Region       Country  predictedclassB  \n",
              "0          Africa       Algeria                0  \n",
              "1          Africa        Angola                1  \n",
              "2          Africa         Benin                1  \n",
              "3          Africa      Botswana                1  \n",
              "4          Africa  Burkina Faso                1  \n",
              "..            ...           ...              ...  \n",
              "166  The Americas  Bahamas, The                1  \n",
              "167  The Americas      Barbados                0  \n",
              "168  The Americas        Belize                0  \n",
              "169           NaN           NaN                0  \n",
              "170  The Americas       Bolivia                0  \n",
              "\n",
              "[171 rows x 20 columns]"
            ],
            "text/html": [
              "\n",
              "  <div id=\"df-82c8624a-921a-413a-9047-b8ab3d0d4774\">\n",
              "    <div class=\"colab-df-container\">\n",
              "      <div>\n",
              "<style scoped>\n",
              "    .dataframe tbody tr th:only-of-type {\n",
              "        vertical-align: middle;\n",
              "    }\n",
              "\n",
              "    .dataframe tbody tr th {\n",
              "        vertical-align: top;\n",
              "    }\n",
              "\n",
              "    .dataframe thead th {\n",
              "        text-align: right;\n",
              "    }\n",
              "</style>\n",
              "<table border=\"1\" class=\"dataframe\">\n",
              "  <thead>\n",
              "    <tr style=\"text-align: right;\">\n",
              "      <th></th>\n",
              "      <th>Birth Rate</th>\n",
              "      <th>Business Tax Rate Percentage</th>\n",
              "      <th>Days to Start Business</th>\n",
              "      <th>GDP</th>\n",
              "      <th>Health Exp % GDP</th>\n",
              "      <th>Health Exp/Capita</th>\n",
              "      <th>Hours to do Tax</th>\n",
              "      <th>Infant Mortality Rate</th>\n",
              "      <th>Internet Usage</th>\n",
              "      <th>Life Expectancy Female</th>\n",
              "      <th>Life Expectancy Male</th>\n",
              "      <th>Mobile Phone Usage</th>\n",
              "      <th>Population 0-14</th>\n",
              "      <th>Population 15-64</th>\n",
              "      <th>Population 65+</th>\n",
              "      <th>Population Urban</th>\n",
              "      <th>predictedclassA</th>\n",
              "      <th>Region</th>\n",
              "      <th>Country</th>\n",
              "      <th>predictedclassB</th>\n",
              "    </tr>\n",
              "  </thead>\n",
              "  <tbody>\n",
              "    <tr>\n",
              "      <th>0</th>\n",
              "      <td>0.241085</td>\n",
              "      <td>0.733673</td>\n",
              "      <td>-0.099269</td>\n",
              "      <td>-0.145350</td>\n",
              "      <td>-0.874226</td>\n",
              "      <td>-0.454207</td>\n",
              "      <td>0.662583</td>\n",
              "      <td>-0.174521</td>\n",
              "      <td>-0.934401</td>\n",
              "      <td>-0.018487</td>\n",
              "      <td>0.167855</td>\n",
              "      <td>-0.130010</td>\n",
              "      <td>-0.158467</td>\n",
              "      <td>0.668944</td>\n",
              "      <td>-0.558750</td>\n",
              "      <td>0.541928</td>\n",
              "      <td>0</td>\n",
              "      <td>Africa</td>\n",
              "      <td>Algeria</td>\n",
              "      <td>0</td>\n",
              "    </tr>\n",
              "    <tr>\n",
              "      <th>1</th>\n",
              "      <td>2.169232</td>\n",
              "      <td>0.189712</td>\n",
              "      <td>0.611634</td>\n",
              "      <td>-0.210537</td>\n",
              "      <td>-1.238575</td>\n",
              "      <td>-0.483635</td>\n",
              "      <td>-0.007818</td>\n",
              "      <td>3.159010</td>\n",
              "      <td>-0.934401</td>\n",
              "      <td>-1.895467</td>\n",
              "      <td>-1.979233</td>\n",
              "      <td>-1.152154</td>\n",
              "      <td>1.730363</td>\n",
              "      <td>-1.888970</td>\n",
              "      <td>-0.982336</td>\n",
              "      <td>-0.636900</td>\n",
              "      <td>1</td>\n",
              "      <td>Africa</td>\n",
              "      <td>Angola</td>\n",
              "      <td>1</td>\n",
              "    </tr>\n",
              "    <tr>\n",
              "      <th>2</th>\n",
              "      <td>1.342883</td>\n",
              "      <td>0.566931</td>\n",
              "      <td>-0.029912</td>\n",
              "      <td>-0.277006</td>\n",
              "      <td>-0.837791</td>\n",
              "      <td>-0.560683</td>\n",
              "      <td>-0.055420</td>\n",
              "      <td>1.293820</td>\n",
              "      <td>-1.291058</td>\n",
              "      <td>-1.203948</td>\n",
              "      <td>-1.075196</td>\n",
              "      <td>-0.385546</td>\n",
              "      <td>1.315742</td>\n",
              "      <td>-1.326792</td>\n",
              "      <td>-0.890252</td>\n",
              "      <td>-0.576447</td>\n",
              "      <td>1</td>\n",
              "      <td>Africa</td>\n",
              "      <td>Benin</td>\n",
              "      <td>1</td>\n",
              "    </tr>\n",
              "    <tr>\n",
              "      <th>3</th>\n",
              "      <td>0.149269</td>\n",
              "      <td>-0.701399</td>\n",
              "      <td>0.507600</td>\n",
              "      <td>-0.271515</td>\n",
              "      <td>-0.582746</td>\n",
              "      <td>-0.362713</td>\n",
              "      <td>-0.523511</td>\n",
              "      <td>0.460438</td>\n",
              "      <td>-0.934401</td>\n",
              "      <td>-2.586986</td>\n",
              "      <td>-2.318247</td>\n",
              "      <td>1.403207</td>\n",
              "      <td>0.468072</td>\n",
              "      <td>-0.118107</td>\n",
              "      <td>-0.779751</td>\n",
              "      <td>0.036716</td>\n",
              "      <td>1</td>\n",
              "      <td>Africa</td>\n",
              "      <td>Botswana</td>\n",
              "      <td>1</td>\n",
              "    </tr>\n",
              "    <tr>\n",
              "      <th>4</th>\n",
              "      <td>1.801966</td>\n",
              "      <td>-0.045366</td>\n",
              "      <td>-0.307338</td>\n",
              "      <td>-0.274877</td>\n",
              "      <td>-0.145527</td>\n",
              "      <td>-0.558008</td>\n",
              "      <td>-0.055420</td>\n",
              "      <td>1.611300</td>\n",
              "      <td>-1.291058</td>\n",
              "      <td>-1.599102</td>\n",
              "      <td>-1.414210</td>\n",
              "      <td>-1.152154</td>\n",
              "      <td>1.555301</td>\n",
              "      <td>-1.635990</td>\n",
              "      <td>-0.963919</td>\n",
              "      <td>-1.258699</td>\n",
              "      <td>1</td>\n",
              "      <td>Africa</td>\n",
              "      <td>Burkina Faso</td>\n",
              "      <td>1</td>\n",
              "    </tr>\n",
              "    <tr>\n",
              "      <th>...</th>\n",
              "      <td>...</td>\n",
              "      <td>...</td>\n",
              "      <td>...</td>\n",
              "      <td>...</td>\n",
              "      <td>...</td>\n",
              "      <td>...</td>\n",
              "      <td>...</td>\n",
              "      <td>...</td>\n",
              "      <td>...</td>\n",
              "      <td>...</td>\n",
              "      <td>...</td>\n",
              "      <td>...</td>\n",
              "      <td>...</td>\n",
              "      <td>...</td>\n",
              "      <td>...</td>\n",
              "      <td>...</td>\n",
              "      <td>...</td>\n",
              "      <td>...</td>\n",
              "      <td>...</td>\n",
              "      <td>...</td>\n",
              "    </tr>\n",
              "    <tr>\n",
              "      <th>166</th>\n",
              "      <td>-0.401630</td>\n",
              "      <td>-0.471787</td>\n",
              "      <td>11.500591</td>\n",
              "      <td>-0.279018</td>\n",
              "      <td>-0.291267</td>\n",
              "      <td>-0.316698</td>\n",
              "      <td>-0.337068</td>\n",
              "      <td>-0.214206</td>\n",
              "      <td>-0.221086</td>\n",
              "      <td>0.179090</td>\n",
              "      <td>-0.058154</td>\n",
              "      <td>0.125526</td>\n",
              "      <td>-0.057115</td>\n",
              "      <td>0.261364</td>\n",
              "      <td>-0.227248</td>\n",
              "      <td>0.459885</td>\n",
              "      <td>1</td>\n",
              "      <td>The Americas</td>\n",
              "      <td>Bahamas, The</td>\n",
              "      <td>1</td>\n",
              "    </tr>\n",
              "    <tr>\n",
              "      <th>167</th>\n",
              "      <td>-0.677080</td>\n",
              "      <td>-0.438986</td>\n",
              "      <td>0.178157</td>\n",
              "      <td>-0.265760</td>\n",
              "      <td>-0.546311</td>\n",
              "      <td>-0.078600</td>\n",
              "      <td>-0.293432</td>\n",
              "      <td>-0.293575</td>\n",
              "      <td>0.848886</td>\n",
              "      <td>0.080302</td>\n",
              "      <td>-0.171159</td>\n",
              "      <td>1.147671</td>\n",
              "      <td>-0.757364</td>\n",
              "      <td>1.048414</td>\n",
              "      <td>0.141088</td>\n",
              "      <td>-2.018676</td>\n",
              "      <td>0</td>\n",
              "      <td>The Americas</td>\n",
              "      <td>Barbados</td>\n",
              "      <td>0</td>\n",
              "    </tr>\n",
              "    <tr>\n",
              "      <th>168</th>\n",
              "      <td>-0.860713</td>\n",
              "      <td>0.036638</td>\n",
              "      <td>-0.446051</td>\n",
              "      <td>10.382036</td>\n",
              "      <td>3.971623</td>\n",
              "      <td>3.951423</td>\n",
              "      <td>-0.384670</td>\n",
              "      <td>-0.849164</td>\n",
              "      <td>1.205544</td>\n",
              "      <td>0.870609</td>\n",
              "      <td>0.958887</td>\n",
              "      <td>-0.130010</td>\n",
              "      <td>-0.849502</td>\n",
              "      <td>0.500290</td>\n",
              "      <td>1.025093</td>\n",
              "      <td>1.090320</td>\n",
              "      <td>0</td>\n",
              "      <td>The Americas</td>\n",
              "      <td>Belize</td>\n",
              "      <td>0</td>\n",
              "    </tr>\n",
              "    <tr>\n",
              "      <th>169</th>\n",
              "      <td>-0.677080</td>\n",
              "      <td>-0.089102</td>\n",
              "      <td>-0.411373</td>\n",
              "      <td>-0.249585</td>\n",
              "      <td>0.728912</td>\n",
              "      <td>0.070145</td>\n",
              "      <td>0.206393</td>\n",
              "      <td>-0.690424</td>\n",
              "      <td>0.492229</td>\n",
              "      <td>0.771821</td>\n",
              "      <td>0.619873</td>\n",
              "      <td>1.147671</td>\n",
              "      <td>-0.609943</td>\n",
              "      <td>0.064601</td>\n",
              "      <td>1.135594</td>\n",
              "      <td>1.681893</td>\n",
              "      <td>0</td>\n",
              "      <td>NaN</td>\n",
              "      <td>NaN</td>\n",
              "      <td>0</td>\n",
              "    </tr>\n",
              "    <tr>\n",
              "      <th>170</th>\n",
              "      <td>-0.217997</td>\n",
              "      <td>0.482194</td>\n",
              "      <td>1.912067</td>\n",
              "      <td>-0.064747</td>\n",
              "      <td>-0.837791</td>\n",
              "      <td>-0.318304</td>\n",
              "      <td>2.300901</td>\n",
              "      <td>-0.531685</td>\n",
              "      <td>0.135572</td>\n",
              "      <td>0.475455</td>\n",
              "      <td>0.393864</td>\n",
              "      <td>0.125526</td>\n",
              "      <td>0.016596</td>\n",
              "      <td>0.247309</td>\n",
              "      <td>-0.356165</td>\n",
              "      <td>1.431446</td>\n",
              "      <td>0</td>\n",
              "      <td>The Americas</td>\n",
              "      <td>Bolivia</td>\n",
              "      <td>0</td>\n",
              "    </tr>\n",
              "  </tbody>\n",
              "</table>\n",
              "<p>171 rows × 20 columns</p>\n",
              "</div>\n",
              "      <button class=\"colab-df-convert\" onclick=\"convertToInteractive('df-82c8624a-921a-413a-9047-b8ab3d0d4774')\"\n",
              "              title=\"Convert this dataframe to an interactive table.\"\n",
              "              style=\"display:none;\">\n",
              "        \n",
              "  <svg xmlns=\"http://www.w3.org/2000/svg\" height=\"24px\"viewBox=\"0 0 24 24\"\n",
              "       width=\"24px\">\n",
              "    <path d=\"M0 0h24v24H0V0z\" fill=\"none\"/>\n",
              "    <path d=\"M18.56 5.44l.94 2.06.94-2.06 2.06-.94-2.06-.94-.94-2.06-.94 2.06-2.06.94zm-11 1L8.5 8.5l.94-2.06 2.06-.94-2.06-.94L8.5 2.5l-.94 2.06-2.06.94zm10 10l.94 2.06.94-2.06 2.06-.94-2.06-.94-.94-2.06-.94 2.06-2.06.94z\"/><path d=\"M17.41 7.96l-1.37-1.37c-.4-.4-.92-.59-1.43-.59-.52 0-1.04.2-1.43.59L10.3 9.45l-7.72 7.72c-.78.78-.78 2.05 0 2.83L4 21.41c.39.39.9.59 1.41.59.51 0 1.02-.2 1.41-.59l7.78-7.78 2.81-2.81c.8-.78.8-2.07 0-2.86zM5.41 20L4 18.59l7.72-7.72 1.47 1.35L5.41 20z\"/>\n",
              "  </svg>\n",
              "      </button>\n",
              "      \n",
              "  <style>\n",
              "    .colab-df-container {\n",
              "      display:flex;\n",
              "      flex-wrap:wrap;\n",
              "      gap: 12px;\n",
              "    }\n",
              "\n",
              "    .colab-df-convert {\n",
              "      background-color: #E8F0FE;\n",
              "      border: none;\n",
              "      border-radius: 50%;\n",
              "      cursor: pointer;\n",
              "      display: none;\n",
              "      fill: #1967D2;\n",
              "      height: 32px;\n",
              "      padding: 0 0 0 0;\n",
              "      width: 32px;\n",
              "    }\n",
              "\n",
              "    .colab-df-convert:hover {\n",
              "      background-color: #E2EBFA;\n",
              "      box-shadow: 0px 1px 2px rgba(60, 64, 67, 0.3), 0px 1px 3px 1px rgba(60, 64, 67, 0.15);\n",
              "      fill: #174EA6;\n",
              "    }\n",
              "\n",
              "    [theme=dark] .colab-df-convert {\n",
              "      background-color: #3B4455;\n",
              "      fill: #D2E3FC;\n",
              "    }\n",
              "\n",
              "    [theme=dark] .colab-df-convert:hover {\n",
              "      background-color: #434B5C;\n",
              "      box-shadow: 0px 1px 3px 1px rgba(0, 0, 0, 0.15);\n",
              "      filter: drop-shadow(0px 1px 2px rgba(0, 0, 0, 0.3));\n",
              "      fill: #FFFFFF;\n",
              "    }\n",
              "  </style>\n",
              "\n",
              "      <script>\n",
              "        const buttonEl =\n",
              "          document.querySelector('#df-82c8624a-921a-413a-9047-b8ab3d0d4774 button.colab-df-convert');\n",
              "        buttonEl.style.display =\n",
              "          google.colab.kernel.accessAllowed ? 'block' : 'none';\n",
              "\n",
              "        async function convertToInteractive(key) {\n",
              "          const element = document.querySelector('#df-82c8624a-921a-413a-9047-b8ab3d0d4774');\n",
              "          const dataTable =\n",
              "            await google.colab.kernel.invokeFunction('convertToInteractive',\n",
              "                                                     [key], {});\n",
              "          if (!dataTable) return;\n",
              "\n",
              "          const docLinkHtml = 'Like what you see? Visit the ' +\n",
              "            '<a target=\"_blank\" href=https://colab.research.google.com/notebooks/data_table.ipynb>data table notebook</a>'\n",
              "            + ' to learn more about interactive tables.';\n",
              "          element.innerHTML = '';\n",
              "          dataTable['output_type'] = 'display_data';\n",
              "          await google.colab.output.renderOutput(dataTable, element);\n",
              "          const docLink = document.createElement('div');\n",
              "          docLink.innerHTML = docLinkHtml;\n",
              "          element.appendChild(docLink);\n",
              "        }\n",
              "      </script>\n",
              "    </div>\n",
              "  </div>\n",
              "  "
            ]
          },
          "metadata": {},
          "execution_count": 228
        }
      ]
    },
    {
      "cell_type": "markdown",
      "source": [
        "Both KMeans and Heirarichal has divided the data into similar classes and data points in both the classes. We also have a similar dunn score and calinski harabasz score."
      ],
      "metadata": {
        "id": "ot6dX2l-SVbz"
      }
    },
    {
      "cell_type": "markdown",
      "source": [
        "4.Generate three different scatter plots of your choice and color the data points according to the group. Example: “Life expectancy vs GDP”, “Infant Mortality vs GDP”, etc.\n"
      ],
      "metadata": {
        "id": "EieVKelCzUfp"
      }
    },
    {
      "cell_type": "code",
      "source": [
        "fig = px.scatter(df_WI3, x='Infant Mortality Rate', y='Birth Rate', color = 'predictedclassA', title=\"Infant Mortality Rate VS Birth Rate\")\n",
        "fig.show()"
      ],
      "metadata": {
        "id": "syIpLfWXSxyx",
        "outputId": "08f74119-f250-4b46-81a6-5301765d8726",
        "colab": {
          "base_uri": "https://localhost:8080/",
          "height": 542
        }
      },
      "execution_count": 229,
      "outputs": [
        {
          "output_type": "display_data",
          "data": {
            "text/html": [
              "<html>\n",
              "<head><meta charset=\"utf-8\" /></head>\n",
              "<body>\n",
              "    <div>            <script src=\"https://cdnjs.cloudflare.com/ajax/libs/mathjax/2.7.5/MathJax.js?config=TeX-AMS-MML_SVG\"></script><script type=\"text/javascript\">if (window.MathJax) {MathJax.Hub.Config({SVG: {font: \"STIX-Web\"}});}</script>                <script type=\"text/javascript\">window.PlotlyConfig = {MathJaxConfig: 'local'};</script>\n",
              "        <script src=\"https://cdn.plot.ly/plotly-2.8.3.min.js\"></script>                <div id=\"d891786a-4649-435e-b81c-0a8ca368f702\" class=\"plotly-graph-div\" style=\"height:525px; width:100%;\"></div>            <script type=\"text/javascript\">                                    window.PLOTLYENV=window.PLOTLYENV || {};                                    if (document.getElementById(\"d891786a-4649-435e-b81c-0a8ca368f702\")) {                    Plotly.newPlot(                        \"d891786a-4649-435e-b81c-0a8ca368f702\",                        [{\"hovertemplate\":\"Infant Mortality Rate=%{x}<br>Birth Rate=%{y}<br>predictedclassA=%{marker.color}<extra></extra>\",\"legendgroup\":\"\",\"marker\":{\"color\":[0,1,1,1,1,1,1,1,1,1,1,1,1,1,0,1,1,1,1,1,1,1,1,1,1,1,1,1,1,1,0,0,1,1,1,1,1,1,1,0,1,1,1,1,1,1,0,1,1,1,0,0,1,1,0,1,0,0,1,1,0,0,0,1,1,0,0,1,1,1,0,0,1,0,1,1,0,0,0,0,0,0,0,0,0,0,0,0,0,0,0,0,0,0,0,0,0,0,0,0,0,0,0,0,0,0,0,0,0,0,0,0,0,0,0,0,0,0,0,0,1,0,0,0,0,0,0,0,0,1,0,0,1,1,0,1,1,1,1,0,0,0,0,1,1,0,0,0,0,0,0,0,0,0,1,1,1,1,0,0,1,0,0,0,0,0,1,0,0,0,0],\"coloraxis\":\"coloraxis\",\"symbol\":\"circle\"},\"mode\":\"markers\",\"name\":\"\",\"orientation\":\"v\",\"showlegend\":false,\"x\":[-0.17452070089515326,3.159010346522374,1.2938203557054242,0.4604375938510424,1.6112995030785222,1.2541354622837868,1.4525599293919733,2.8812160925709134,2.5637369451978156,1.3335052491270614,2.484367158354541,0.4604375938510424,1.8890937570299826,1.3335052491270614,-0.33326027458170215,1.809723970186708,0.4207527004294051,0.8176016346457774,0.5794922741159542,0.936656314910689,1.0557109951756007,1.6509843965001596,2.1668880109814435,0.896971421489052,1.809723970186708,1.2144505688621499,0.5794922741159542,0.8572865280674147,2.127203117559806,1.6509843965001596,-0.5713696351115255,0.023903766213032907,1.6112995030785222,0.3413829135861306,1.4525599293919733,2.0478333307165317,0.5398073806943169,0.4604375938510424,0.738231847802503,-0.6110545285331628,3.3574348136305603,0.2620131267428563,1.0557109951756007,1.2144505688621499,0.4604375938510424,1.2541354622837868,-0.5316847416898883,0.8572865280674147,1.2541354622837868,1.8494088636083452,-0.4919998482682511,0.1826433398995818,0.3810678070077678,0.22232823332121907,-0.7697941022197117,0.3413829135861306,-0.5713696351115255,-0.5316847416898883,0.6985469543808657,-0.05546602063024162,-1.0079034627495351,-0.37294516800333943,-0.9682185693278978,-0.09515091405187874,1.1747656754405125,-0.809478995641349,0.023903766213032907,0.3016980201644936,1.7700390767650707,-0.09515091405187874,-1.0079034627495351,-0.7301092087980745,0.6191771675375911,-0.6110545285331628,0.896971421489052,0.4604375938510424,-0.29357538116006493,-0.5316847416898883,-0.9682185693278978,-0.9285336759062606,-0.9285336759062606,-0.849163889062986,-0.6507394219548,-0.9285336759062606,-0.9682185693278978,-0.9682185693278978,-0.9682185693278978,-0.9682185693278978,-1.0079034627495351,-0.9285336759062606,-0.9682185693278978,-0.9285336759062606,-0.849163889062986,-1.0079034627495351,-0.9682185693278978,-0.9682185693278978,-0.7697941022197117,-0.8888487824846233,-1.0079034627495351,-0.7697941022197117,-0.8888487824846233,-0.5316847416898883,-0.849163889062986,-0.9285336759062606,-0.9682185693278978,-0.8888487824846233,-0.9682185693278978,-0.6110545285331628,-0.6904243153764372,-0.849163889062986,-0.809478995641349,-0.9682185693278978,-0.9285336759062606,-1.0079034627495351,-0.9285336759062606,-0.33326027458170215,-0.6904243153764372,-0.9285336759062606,-0.849163889062986,-0.4523149548466138,0.06358865963467017,-0.9682185693278978,-0.41263006142497655,-0.7301092087980745,-0.7301092087980745,-0.6904243153764372,-0.809478995641349,-0.5316847416898883,-0.809478995641349,0.6588620609592284,-0.9285336759062606,-0.29357538116006493,0.7779167412241402,0.1826433398995818,-0.8888487824846233,0.896971421489052,-0.05546602063024162,-0.6507394219548,-0.4919998482682511,-0.7697941022197117,-0.5713696351115255,-0.6507394219548,-0.5316847416898883,-0.4919998482682511,0.22232823332121907,-0.5316847416898883,-0.8888487824846233,-0.809478995641349,-0.4919998482682511,-0.7301092087980745,-0.09515091405187874,-0.29357538116006493,-0.4919998482682511,-0.6507394219548,0.023903766213032907,0.1826433398995818,1.1747656754405125,-0.29357538116006493,-0.4919998482682511,-0.5316847416898883,-0.25389048773842765,-0.4523149548466138,-0.29357538116006493,-0.5316847416898883,-0.5713696351115255,-0.37294516800333943,-0.21420559431679054,-0.29357538116006493,-0.849163889062986,-0.6904243153764372,-0.5316847416898883],\"xaxis\":\"x\",\"y\":[0.2410854407999415,2.169232028578534,1.342883490959137,0.14926893662000842,1.8019660118588023,2.0774155243986008,1.43469999513907,1.1592504825992715,2.261048532758467,1.251066986779204,1.9855990202186677,1.43469999513907,1.342883490959137,0.5165349533397403,0.14926893662000842,1.251066986779204,1.43469999513907,1.0674339784193385,0.8838009700594723,1.8937825160387347,0.8838009700594723,1.43469999513907,1.43469999513907,1.251066986779204,0.5165349533397403,1.342883490959137,1.1592504825992715,1.6183330034989363,2.3528650369384003,1.1592504825992715,-1.0443456177191206,-0.03436407173985772,1.6183330034989363,0.4247184491598073,2.5364980452982664,1.8019660118588023,1.251066986779204,1.251066986779204,1.43469999513907,-0.3098135842796566,1.43469999513907,-0.12618057591979046,1.0674339784193385,0.7919844658795393,1.6183330034989363,1.342883490959137,-0.3098135842796566,1.9855990202186677,1.8937825160387347,1.342883490959137,-0.7688961051793215,-0.3098135842796566,-0.12618057591979046,-0.21799708009972354,-0.5852630968194554,0.33290194497987424,-0.9525291135391875,-0.7688961051793215,-0.12618057591979046,-0.21799708009972354,-1.3197951302589195,0.05745243244007535,-1.2279786260789864,0.4247184491598073,0.5165349533397403,-0.40163008845958964,0.05745243244007535,-0.03436407173985772,0.33290194497987424,0.2410854407999415,-1.1361621218990534,-0.40163008845958964,0.9756174742394054,-1.0443456177191206,1.251066986779204,-0.03436407173985772,-0.5852630968194554,-0.8607126093592545,-1.2279786260789864,-0.9525291135391875,-0.9525291135391875,-1.2279786260789864,-1.1361621218990534,-1.1361621218990534,-0.9525291135391875,-1.1361621218990534,-1.0443456177191206,-1.0443456177191206,-1.0443456177191206,-0.8607126093592545,-1.3197951302589195,-1.1361621218990534,-1.2279786260789864,-0.7688961051793215,-0.5852630968194554,-1.2279786260789864,-1.2279786260789864,-1.0443456177191206,-1.0443456177191206,-1.0443456177191206,-1.1361621218990534,-0.9525291135391875,-0.9525291135391875,-1.0443456177191206,-0.9525291135391875,-1.1361621218990534,-1.2279786260789864,-1.1361621218990534,-0.8607126093592545,-1.2279786260789864,-1.0443456177191206,-1.0443456177191206,-1.1361621218990534,-0.9525291135391875,-1.1361621218990534,-0.4934465926395224,-1.0443456177191206,-0.8607126093592545,-0.5852630968194554,-0.3098135842796566,0.8838009700594723,-0.12618057591979046,0.5165349533397403,-0.12618057591979046,-0.8607126093592545,-0.03436407173985772,-1.0443456177191206,-0.21799708009972354,-0.5852630968194554,0.8838009700594723,-0.7688961051793215,-0.12618057591979046,0.05745243244007535,0.14926893662000842,-0.7688961051793215,0.7001679616996062,0.8838009700594723,0.4247184491598073,0.4247184491598073,-0.4934465926395224,-0.4934465926395224,-0.6770796009993886,-0.8607126093592545,0.14926893662000842,0.33290194497987424,-0.6770796009993886,-1.0443456177191206,-0.7688961051793215,-0.3098135842796566,-0.5852630968194554,-0.03436407173985772,-0.12618057591979046,-0.21799708009972354,-0.3098135842796566,0.8838009700594723,-0.12618057591979046,0.33290194497987424,0.33290194497987424,-0.6770796009993886,-0.3098135842796566,0.14926893662000842,-0.21799708009972354,0.14926893662000842,-0.21799708009972354,-0.5852630968194554,-0.4934465926395224,-0.40163008845958964,-0.6770796009993886,-0.8607126093592545,-0.6770796009993886,-0.21799708009972354],\"yaxis\":\"y\",\"type\":\"scatter\"}],                        {\"template\":{\"data\":{\"bar\":[{\"error_x\":{\"color\":\"#2a3f5f\"},\"error_y\":{\"color\":\"#2a3f5f\"},\"marker\":{\"line\":{\"color\":\"#E5ECF6\",\"width\":0.5},\"pattern\":{\"fillmode\":\"overlay\",\"size\":10,\"solidity\":0.2}},\"type\":\"bar\"}],\"barpolar\":[{\"marker\":{\"line\":{\"color\":\"#E5ECF6\",\"width\":0.5},\"pattern\":{\"fillmode\":\"overlay\",\"size\":10,\"solidity\":0.2}},\"type\":\"barpolar\"}],\"carpet\":[{\"aaxis\":{\"endlinecolor\":\"#2a3f5f\",\"gridcolor\":\"white\",\"linecolor\":\"white\",\"minorgridcolor\":\"white\",\"startlinecolor\":\"#2a3f5f\"},\"baxis\":{\"endlinecolor\":\"#2a3f5f\",\"gridcolor\":\"white\",\"linecolor\":\"white\",\"minorgridcolor\":\"white\",\"startlinecolor\":\"#2a3f5f\"},\"type\":\"carpet\"}],\"choropleth\":[{\"colorbar\":{\"outlinewidth\":0,\"ticks\":\"\"},\"type\":\"choropleth\"}],\"contour\":[{\"colorbar\":{\"outlinewidth\":0,\"ticks\":\"\"},\"colorscale\":[[0.0,\"#0d0887\"],[0.1111111111111111,\"#46039f\"],[0.2222222222222222,\"#7201a8\"],[0.3333333333333333,\"#9c179e\"],[0.4444444444444444,\"#bd3786\"],[0.5555555555555556,\"#d8576b\"],[0.6666666666666666,\"#ed7953\"],[0.7777777777777778,\"#fb9f3a\"],[0.8888888888888888,\"#fdca26\"],[1.0,\"#f0f921\"]],\"type\":\"contour\"}],\"contourcarpet\":[{\"colorbar\":{\"outlinewidth\":0,\"ticks\":\"\"},\"type\":\"contourcarpet\"}],\"heatmap\":[{\"colorbar\":{\"outlinewidth\":0,\"ticks\":\"\"},\"colorscale\":[[0.0,\"#0d0887\"],[0.1111111111111111,\"#46039f\"],[0.2222222222222222,\"#7201a8\"],[0.3333333333333333,\"#9c179e\"],[0.4444444444444444,\"#bd3786\"],[0.5555555555555556,\"#d8576b\"],[0.6666666666666666,\"#ed7953\"],[0.7777777777777778,\"#fb9f3a\"],[0.8888888888888888,\"#fdca26\"],[1.0,\"#f0f921\"]],\"type\":\"heatmap\"}],\"heatmapgl\":[{\"colorbar\":{\"outlinewidth\":0,\"ticks\":\"\"},\"colorscale\":[[0.0,\"#0d0887\"],[0.1111111111111111,\"#46039f\"],[0.2222222222222222,\"#7201a8\"],[0.3333333333333333,\"#9c179e\"],[0.4444444444444444,\"#bd3786\"],[0.5555555555555556,\"#d8576b\"],[0.6666666666666666,\"#ed7953\"],[0.7777777777777778,\"#fb9f3a\"],[0.8888888888888888,\"#fdca26\"],[1.0,\"#f0f921\"]],\"type\":\"heatmapgl\"}],\"histogram\":[{\"marker\":{\"pattern\":{\"fillmode\":\"overlay\",\"size\":10,\"solidity\":0.2}},\"type\":\"histogram\"}],\"histogram2d\":[{\"colorbar\":{\"outlinewidth\":0,\"ticks\":\"\"},\"colorscale\":[[0.0,\"#0d0887\"],[0.1111111111111111,\"#46039f\"],[0.2222222222222222,\"#7201a8\"],[0.3333333333333333,\"#9c179e\"],[0.4444444444444444,\"#bd3786\"],[0.5555555555555556,\"#d8576b\"],[0.6666666666666666,\"#ed7953\"],[0.7777777777777778,\"#fb9f3a\"],[0.8888888888888888,\"#fdca26\"],[1.0,\"#f0f921\"]],\"type\":\"histogram2d\"}],\"histogram2dcontour\":[{\"colorbar\":{\"outlinewidth\":0,\"ticks\":\"\"},\"colorscale\":[[0.0,\"#0d0887\"],[0.1111111111111111,\"#46039f\"],[0.2222222222222222,\"#7201a8\"],[0.3333333333333333,\"#9c179e\"],[0.4444444444444444,\"#bd3786\"],[0.5555555555555556,\"#d8576b\"],[0.6666666666666666,\"#ed7953\"],[0.7777777777777778,\"#fb9f3a\"],[0.8888888888888888,\"#fdca26\"],[1.0,\"#f0f921\"]],\"type\":\"histogram2dcontour\"}],\"mesh3d\":[{\"colorbar\":{\"outlinewidth\":0,\"ticks\":\"\"},\"type\":\"mesh3d\"}],\"parcoords\":[{\"line\":{\"colorbar\":{\"outlinewidth\":0,\"ticks\":\"\"}},\"type\":\"parcoords\"}],\"pie\":[{\"automargin\":true,\"type\":\"pie\"}],\"scatter\":[{\"marker\":{\"colorbar\":{\"outlinewidth\":0,\"ticks\":\"\"}},\"type\":\"scatter\"}],\"scatter3d\":[{\"line\":{\"colorbar\":{\"outlinewidth\":0,\"ticks\":\"\"}},\"marker\":{\"colorbar\":{\"outlinewidth\":0,\"ticks\":\"\"}},\"type\":\"scatter3d\"}],\"scattercarpet\":[{\"marker\":{\"colorbar\":{\"outlinewidth\":0,\"ticks\":\"\"}},\"type\":\"scattercarpet\"}],\"scattergeo\":[{\"marker\":{\"colorbar\":{\"outlinewidth\":0,\"ticks\":\"\"}},\"type\":\"scattergeo\"}],\"scattergl\":[{\"marker\":{\"colorbar\":{\"outlinewidth\":0,\"ticks\":\"\"}},\"type\":\"scattergl\"}],\"scattermapbox\":[{\"marker\":{\"colorbar\":{\"outlinewidth\":0,\"ticks\":\"\"}},\"type\":\"scattermapbox\"}],\"scatterpolar\":[{\"marker\":{\"colorbar\":{\"outlinewidth\":0,\"ticks\":\"\"}},\"type\":\"scatterpolar\"}],\"scatterpolargl\":[{\"marker\":{\"colorbar\":{\"outlinewidth\":0,\"ticks\":\"\"}},\"type\":\"scatterpolargl\"}],\"scatterternary\":[{\"marker\":{\"colorbar\":{\"outlinewidth\":0,\"ticks\":\"\"}},\"type\":\"scatterternary\"}],\"surface\":[{\"colorbar\":{\"outlinewidth\":0,\"ticks\":\"\"},\"colorscale\":[[0.0,\"#0d0887\"],[0.1111111111111111,\"#46039f\"],[0.2222222222222222,\"#7201a8\"],[0.3333333333333333,\"#9c179e\"],[0.4444444444444444,\"#bd3786\"],[0.5555555555555556,\"#d8576b\"],[0.6666666666666666,\"#ed7953\"],[0.7777777777777778,\"#fb9f3a\"],[0.8888888888888888,\"#fdca26\"],[1.0,\"#f0f921\"]],\"type\":\"surface\"}],\"table\":[{\"cells\":{\"fill\":{\"color\":\"#EBF0F8\"},\"line\":{\"color\":\"white\"}},\"header\":{\"fill\":{\"color\":\"#C8D4E3\"},\"line\":{\"color\":\"white\"}},\"type\":\"table\"}]},\"layout\":{\"annotationdefaults\":{\"arrowcolor\":\"#2a3f5f\",\"arrowhead\":0,\"arrowwidth\":1},\"autotypenumbers\":\"strict\",\"coloraxis\":{\"colorbar\":{\"outlinewidth\":0,\"ticks\":\"\"}},\"colorscale\":{\"diverging\":[[0,\"#8e0152\"],[0.1,\"#c51b7d\"],[0.2,\"#de77ae\"],[0.3,\"#f1b6da\"],[0.4,\"#fde0ef\"],[0.5,\"#f7f7f7\"],[0.6,\"#e6f5d0\"],[0.7,\"#b8e186\"],[0.8,\"#7fbc41\"],[0.9,\"#4d9221\"],[1,\"#276419\"]],\"sequential\":[[0.0,\"#0d0887\"],[0.1111111111111111,\"#46039f\"],[0.2222222222222222,\"#7201a8\"],[0.3333333333333333,\"#9c179e\"],[0.4444444444444444,\"#bd3786\"],[0.5555555555555556,\"#d8576b\"],[0.6666666666666666,\"#ed7953\"],[0.7777777777777778,\"#fb9f3a\"],[0.8888888888888888,\"#fdca26\"],[1.0,\"#f0f921\"]],\"sequentialminus\":[[0.0,\"#0d0887\"],[0.1111111111111111,\"#46039f\"],[0.2222222222222222,\"#7201a8\"],[0.3333333333333333,\"#9c179e\"],[0.4444444444444444,\"#bd3786\"],[0.5555555555555556,\"#d8576b\"],[0.6666666666666666,\"#ed7953\"],[0.7777777777777778,\"#fb9f3a\"],[0.8888888888888888,\"#fdca26\"],[1.0,\"#f0f921\"]]},\"colorway\":[\"#636efa\",\"#EF553B\",\"#00cc96\",\"#ab63fa\",\"#FFA15A\",\"#19d3f3\",\"#FF6692\",\"#B6E880\",\"#FF97FF\",\"#FECB52\"],\"font\":{\"color\":\"#2a3f5f\"},\"geo\":{\"bgcolor\":\"white\",\"lakecolor\":\"white\",\"landcolor\":\"#E5ECF6\",\"showlakes\":true,\"showland\":true,\"subunitcolor\":\"white\"},\"hoverlabel\":{\"align\":\"left\"},\"hovermode\":\"closest\",\"mapbox\":{\"style\":\"light\"},\"paper_bgcolor\":\"white\",\"plot_bgcolor\":\"#E5ECF6\",\"polar\":{\"angularaxis\":{\"gridcolor\":\"white\",\"linecolor\":\"white\",\"ticks\":\"\"},\"bgcolor\":\"#E5ECF6\",\"radialaxis\":{\"gridcolor\":\"white\",\"linecolor\":\"white\",\"ticks\":\"\"}},\"scene\":{\"xaxis\":{\"backgroundcolor\":\"#E5ECF6\",\"gridcolor\":\"white\",\"gridwidth\":2,\"linecolor\":\"white\",\"showbackground\":true,\"ticks\":\"\",\"zerolinecolor\":\"white\"},\"yaxis\":{\"backgroundcolor\":\"#E5ECF6\",\"gridcolor\":\"white\",\"gridwidth\":2,\"linecolor\":\"white\",\"showbackground\":true,\"ticks\":\"\",\"zerolinecolor\":\"white\"},\"zaxis\":{\"backgroundcolor\":\"#E5ECF6\",\"gridcolor\":\"white\",\"gridwidth\":2,\"linecolor\":\"white\",\"showbackground\":true,\"ticks\":\"\",\"zerolinecolor\":\"white\"}},\"shapedefaults\":{\"line\":{\"color\":\"#2a3f5f\"}},\"ternary\":{\"aaxis\":{\"gridcolor\":\"white\",\"linecolor\":\"white\",\"ticks\":\"\"},\"baxis\":{\"gridcolor\":\"white\",\"linecolor\":\"white\",\"ticks\":\"\"},\"bgcolor\":\"#E5ECF6\",\"caxis\":{\"gridcolor\":\"white\",\"linecolor\":\"white\",\"ticks\":\"\"}},\"title\":{\"x\":0.05},\"xaxis\":{\"automargin\":true,\"gridcolor\":\"white\",\"linecolor\":\"white\",\"ticks\":\"\",\"title\":{\"standoff\":15},\"zerolinecolor\":\"white\",\"zerolinewidth\":2},\"yaxis\":{\"automargin\":true,\"gridcolor\":\"white\",\"linecolor\":\"white\",\"ticks\":\"\",\"title\":{\"standoff\":15},\"zerolinecolor\":\"white\",\"zerolinewidth\":2}}},\"xaxis\":{\"anchor\":\"y\",\"domain\":[0.0,1.0],\"title\":{\"text\":\"Infant Mortality Rate\"}},\"yaxis\":{\"anchor\":\"x\",\"domain\":[0.0,1.0],\"title\":{\"text\":\"Birth Rate\"}},\"coloraxis\":{\"colorbar\":{\"title\":{\"text\":\"predictedclassA\"}},\"colorscale\":[[0.0,\"#0d0887\"],[0.1111111111111111,\"#46039f\"],[0.2222222222222222,\"#7201a8\"],[0.3333333333333333,\"#9c179e\"],[0.4444444444444444,\"#bd3786\"],[0.5555555555555556,\"#d8576b\"],[0.6666666666666666,\"#ed7953\"],[0.7777777777777778,\"#fb9f3a\"],[0.8888888888888888,\"#fdca26\"],[1.0,\"#f0f921\"]]},\"legend\":{\"tracegroupgap\":0},\"title\":{\"text\":\"Infant Mortality Rate VS Birth Rate\"}},                        {\"responsive\": true}                    ).then(function(){\n",
              "                            \n",
              "var gd = document.getElementById('d891786a-4649-435e-b81c-0a8ca368f702');\n",
              "var x = new MutationObserver(function (mutations, observer) {{\n",
              "        var display = window.getComputedStyle(gd).display;\n",
              "        if (!display || display === 'none') {{\n",
              "            console.log([gd, 'removed!']);\n",
              "            Plotly.purge(gd);\n",
              "            observer.disconnect();\n",
              "        }}\n",
              "}});\n",
              "\n",
              "// Listen for the removal of the full notebook cells\n",
              "var notebookContainer = gd.closest('#notebook-container');\n",
              "if (notebookContainer) {{\n",
              "    x.observe(notebookContainer, {childList: true});\n",
              "}}\n",
              "\n",
              "// Listen for the clearing of the current output cell\n",
              "var outputEl = gd.closest('.output');\n",
              "if (outputEl) {{\n",
              "    x.observe(outputEl, {childList: true});\n",
              "}}\n",
              "\n",
              "                        })                };                            </script>        </div>\n",
              "</body>\n",
              "</html>"
            ]
          },
          "metadata": {}
        }
      ]
    },
    {
      "cell_type": "code",
      "source": [
        "fig = px.scatter(df_WI3, x='Mobile Phone Usage', y='Internet Usage', color = 'predictedclassA', title=\"Mobile Phone Usage VS Internet Usage\")\n",
        "fig.show()"
      ],
      "metadata": {
        "colab": {
          "base_uri": "https://localhost:8080/",
          "height": 542
        },
        "id": "xLRZK03eS_eh",
        "outputId": "0bd26c30-1989-4d8b-9f70-5c5fe9c8fe2f"
      },
      "execution_count": 231,
      "outputs": [
        {
          "output_type": "display_data",
          "data": {
            "text/html": [
              "<html>\n",
              "<head><meta charset=\"utf-8\" /></head>\n",
              "<body>\n",
              "    <div>            <script src=\"https://cdnjs.cloudflare.com/ajax/libs/mathjax/2.7.5/MathJax.js?config=TeX-AMS-MML_SVG\"></script><script type=\"text/javascript\">if (window.MathJax) {MathJax.Hub.Config({SVG: {font: \"STIX-Web\"}});}</script>                <script type=\"text/javascript\">window.PlotlyConfig = {MathJaxConfig: 'local'};</script>\n",
              "        <script src=\"https://cdn.plot.ly/plotly-2.8.3.min.js\"></script>                <div id=\"253640ca-1b68-42a3-8b0e-ee3962837536\" class=\"plotly-graph-div\" style=\"height:525px; width:100%;\"></div>            <script type=\"text/javascript\">                                    window.PLOTLYENV=window.PLOTLYENV || {};                                    if (document.getElementById(\"253640ca-1b68-42a3-8b0e-ee3962837536\")) {                    Plotly.newPlot(                        \"253640ca-1b68-42a3-8b0e-ee3962837536\",                        [{\"hovertemplate\":\"Mobile Phone Usage=%{x}<br>Internet Usage=%{y}<br>predictedclassA=%{marker.color}<extra></extra>\",\"legendgroup\":\"\",\"marker\":{\"color\":[0,1,1,1,1,1,1,1,1,1,1,1,1,1,0,1,1,1,1,1,1,1,1,1,1,1,1,1,1,1,0,0,1,1,1,1,1,1,1,0,1,1,1,1,1,1,0,1,1,1,0,0,1,1,0,1,0,0,1,1,0,0,0,1,1,0,0,1,1,1,0,0,1,0,1,1,0,0,0,0,0,0,0,0,0,0,0,0,0,0,0,0,0,0,0,0,0,0,0,0,0,0,0,0,0,0,0,0,0,0,0,0,0,0,0,0,0,0,0,0,1,0,0,0,0,0,0,0,0,1,0,0,1,1,0,1,1,1,1,0,0,0,0,1,1,0,0,0,0,0,0,0,0,0,1,1,1,1,0,0,1,0,0,0,0,0,1,0,0,0,0],\"coloraxis\":\"coloraxis\",\"symbol\":\"circle\"},\"mode\":\"markers\",\"name\":\"\",\"orientation\":\"v\",\"showlegend\":false,\"x\":[-0.13000955396630662,-1.1521536334255418,-0.3855455738311153,1.4032065652225458,-1.1521536334255418,-1.9187616930199678,-1.1521536334255418,-1.9187616930199678,-1.6632256731551593,-1.6632256731551593,-1.9187616930199678,-0.13000955396630662,-0.13000955396630662,-1.9187616930199678,0.3810624857633111,-0.6410815936959243,-2.4298337327495854,-1.9187616930199678,1.4032065652225458,-0.3855455738311153,-0.13000955396630662,-1.4076896532903505,-1.1521536334255418,-0.6410815936959243,-0.896617613560733,-1.1521536334255418,-1.4076896532903505,-1.6632256731551593,-0.3855455738311153,-0.13000955396630662,0.12552646589850208,0.3810624857633111,-1.6632256731551593,0.12552646589850208,-1.6632256731551593,-0.896617613560733,-1.4076896532903505,-0.896617613560733,-0.6410815936959243,1.147670545357737,-1.4076896532903505,0.6365985056281195,-0.6410815936959243,-0.896617613560733,-0.896617613560733,-1.4076896532903505,0.6365985056281195,-1.1521536334255418,-0.896617613560733,-0.896617613560733,0.3810624857633111,0.3810624857633111,-0.896617613560733,-0.6410815936959243,0.3810624857633111,-0.13000955396630662,-0.6410815936959243,0.12552646589850208,-0.6410815936959243,0.12552646589850208,0.12552646589850208,1.658742585087355,0.3810624857633111,0.6365985056281195,-0.3855455738311153,0.8921345254929285,0.3810624857633111,-1.1521536334255418,-0.896617613560733,0.12552646589850208,1.4032065652225458,-0.13000955396630662,-0.3855455738311153,0.6365985056281195,-0.896617613560733,-0.13000955396630662,1.147670545357737,0.12552646589850208,1.4032065652225458,0.3810624857633111,0.3810624857633111,-0.3855455738311153,1.147670545357737,0.6365985056281195,0.12552646589850208,0.6365985056281195,0.8921345254929285,1.147670545357737,1.9142786049521632,-0.13000955396630662,0.3810624857633111,0.3810624857633111,0.6365985056281195,0.3810624857633111,0.3810624857633111,1.658742585087355,0.3810624857633111,1.658742585087355,1.4032065652225458,0.3810624857633111,0.6365985056281195,-0.13000955396630662,2.4253506446817807,0.6365985056281195,0.6365985056281195,0.8921345254929285,0.6365985056281195,0.3810624857633111,1.147670545357737,0.8921345254929285,0.3810624857633111,0.3810624857633111,0.3810624857633111,0.6365985056281195,0.8921345254929285,-0.13000955396630662,0.6365985056281195,0.6365985056281195,0.8921345254929285,-0.6410815936959243,-0.3855455738311153,0.6365985056281195,0.3810624857633111,1.658742585087355,-0.3855455738311153,1.658742585087355,0.6365985056281195,2.4253506446817807,0.8921345254929285,-1.1521536334255418,0.12552646589850208,-0.3855455738311153,-2.1742977128847767,-1.6632256731551593,0.3810624857633111,-1.6632256731551593,-1.1521536334255418,-1.1521536334255418,-0.896617613560733,2.6808866645465894,1.4032065652225458,-0.3855455738311153,0.6365985056281195,-0.6410815936959243,-0.3855455738311153,0.6365985056281195,-0.3855455738311153,0.8921345254929285,0.12552646589850208,-0.13000955396630662,-0.13000955396630662,0.12552646589850208,0.8921345254929285,0.6365985056281195,0.8921345254929285,-0.6410815936959243,-1.4076896532903505,0.12552646589850208,0.3810624857633111,-0.3855455738311153,-0.3855455738311153,2.169814624816972,0.12552646589850208,0.3810624857633111,0.6365985056281195,0.6365985056281195,0.12552646589850208,1.147670545357737,-0.13000955396630662,1.147670545357737,0.12552646589850208],\"xaxis\":\"x\",\"y\":[-0.9344005545382899,-0.9344005545382899,-1.2910579090607173,-0.9344005545382899,-1.2910579090607173,-1.2910579090607173,-0.9344005545382899,-1.2910579090607173,-1.2910579090607173,-0.9344005545382899,-1.2910579090607173,-0.9344005545382899,-1.2910579090607173,-0.9344005545382899,0.1355715090289928,-0.9344005545382899,-1.2910579090607173,-1.2910579090607173,-0.9344005545382899,-0.9344005545382899,-0.9344005545382899,-1.2910579090607173,-1.2910579090607173,-0.2210858454934348,-1.2910579090607173,-1.2910579090607173,-1.2910579090607173,-1.2910579090607173,-1.2910579090607173,-1.2910579090607173,0.1355715090289928,0.4922288635514202,-1.2910579090607173,-0.9344005545382899,-1.2910579090607173,-0.2210858454934348,-0.9344005545382899,-0.5777432000158622,-0.5777432000158622,0.1355715090289928,-1.2910579090607173,-0.2210858454934348,-0.5777432000158622,-0.5777432000158622,-1.2910579090607173,-1.2910579090607173,0.1355715090289928,-0.9344005545382899,-0.9344005545382899,-0.9344005545382899,-0.2210858454934348,0.4922288635514202,-0.9344005545382899,-0.5777432000158622,0.8488862180738476,-1.2910579090607173,0.1355715090289928,-0.2210858454934348,-0.9344005545382899,-0.9344005545382899,1.5622009271187027,0.4922288635514202,1.5622009271187027,-0.5777432000158622,-0.9344005545382899,0.8488862180738476,-0.9344005545382899,-0.9344005545382899,-0.9344005545382899,-0.2210858454934348,1.205543572596275,-0.5777432000158622,-0.9344005545382899,-0.5777432000158622,-1.2910579090607173,-0.2210858454934348,0.1355715090289928,0.4922288635514202,1.5622009271187027,0.1355715090289928,1.5622009271187027,0.8488862180738476,0.4922288635514202,0.8488862180738476,0.8488862180738476,1.205543572596275,1.9188582816411301,1.5622009271187027,1.9188582816411301,1.5622009271187027,1.5622009271187027,0.4922288635514202,1.205543572596275,1.9188582816411301,1.205543572596275,0.4922288635514202,1.205543572596275,0.8488862180738476,1.9188582816411301,0.8488862180738476,1.205543572596275,0.1355715090289928,0.1355715090289928,1.9188582816411301,1.9188582816411301,0.8488862180738476,0.8488862180738476,0.1355715090289928,0.4922288635514202,0.1355715090289928,1.205543572596275,1.205543572596275,1.205543572596275,1.9188582816411301,1.9188582816411301,0.1355715090289928,-0.2210858454934348,1.9188582816411301,1.5622009271187027,-0.5777432000158622,-0.9344005545382899,1.205543572596275,-0.2210858454934348,1.205543572596275,0.4922288635514202,0.4922288635514202,1.205543572596275,0.4922288635514202,1.5622009271187027,-0.9344005545382899,1.5622009271187027,-0.2210858454934348,-0.9344005545382899,-0.5777432000158622,1.5622009271187027,-1.2910579090607173,-0.9344005545382899,-0.2210858454934348,-0.9344005545382899,0.4922288635514202,0.4922288635514202,1.205543572596275,1.205543572596275,-0.5777432000158622,-0.2210858454934348,0.4922288635514202,1.5622009271187027,0.4922288635514202,0.1355715090289928,0.1355715090289928,0.1355715090289928,-0.2210858454934348,-0.5777432000158622,-0.2210858454934348,-0.9344005545382899,-0.2210858454934348,-0.9344005545382899,-0.5777432000158622,0.1355715090289928,0.1355715090289928,-0.9344005545382899,0.1355715090289928,-0.5777432000158622,0.1355715090289928,0.4922288635514202,0.1355715090289928,-0.2210858454934348,0.8488862180738476,1.205543572596275,0.4922288635514202,0.1355715090289928],\"yaxis\":\"y\",\"type\":\"scatter\"}],                        {\"template\":{\"data\":{\"bar\":[{\"error_x\":{\"color\":\"#2a3f5f\"},\"error_y\":{\"color\":\"#2a3f5f\"},\"marker\":{\"line\":{\"color\":\"#E5ECF6\",\"width\":0.5},\"pattern\":{\"fillmode\":\"overlay\",\"size\":10,\"solidity\":0.2}},\"type\":\"bar\"}],\"barpolar\":[{\"marker\":{\"line\":{\"color\":\"#E5ECF6\",\"width\":0.5},\"pattern\":{\"fillmode\":\"overlay\",\"size\":10,\"solidity\":0.2}},\"type\":\"barpolar\"}],\"carpet\":[{\"aaxis\":{\"endlinecolor\":\"#2a3f5f\",\"gridcolor\":\"white\",\"linecolor\":\"white\",\"minorgridcolor\":\"white\",\"startlinecolor\":\"#2a3f5f\"},\"baxis\":{\"endlinecolor\":\"#2a3f5f\",\"gridcolor\":\"white\",\"linecolor\":\"white\",\"minorgridcolor\":\"white\",\"startlinecolor\":\"#2a3f5f\"},\"type\":\"carpet\"}],\"choropleth\":[{\"colorbar\":{\"outlinewidth\":0,\"ticks\":\"\"},\"type\":\"choropleth\"}],\"contour\":[{\"colorbar\":{\"outlinewidth\":0,\"ticks\":\"\"},\"colorscale\":[[0.0,\"#0d0887\"],[0.1111111111111111,\"#46039f\"],[0.2222222222222222,\"#7201a8\"],[0.3333333333333333,\"#9c179e\"],[0.4444444444444444,\"#bd3786\"],[0.5555555555555556,\"#d8576b\"],[0.6666666666666666,\"#ed7953\"],[0.7777777777777778,\"#fb9f3a\"],[0.8888888888888888,\"#fdca26\"],[1.0,\"#f0f921\"]],\"type\":\"contour\"}],\"contourcarpet\":[{\"colorbar\":{\"outlinewidth\":0,\"ticks\":\"\"},\"type\":\"contourcarpet\"}],\"heatmap\":[{\"colorbar\":{\"outlinewidth\":0,\"ticks\":\"\"},\"colorscale\":[[0.0,\"#0d0887\"],[0.1111111111111111,\"#46039f\"],[0.2222222222222222,\"#7201a8\"],[0.3333333333333333,\"#9c179e\"],[0.4444444444444444,\"#bd3786\"],[0.5555555555555556,\"#d8576b\"],[0.6666666666666666,\"#ed7953\"],[0.7777777777777778,\"#fb9f3a\"],[0.8888888888888888,\"#fdca26\"],[1.0,\"#f0f921\"]],\"type\":\"heatmap\"}],\"heatmapgl\":[{\"colorbar\":{\"outlinewidth\":0,\"ticks\":\"\"},\"colorscale\":[[0.0,\"#0d0887\"],[0.1111111111111111,\"#46039f\"],[0.2222222222222222,\"#7201a8\"],[0.3333333333333333,\"#9c179e\"],[0.4444444444444444,\"#bd3786\"],[0.5555555555555556,\"#d8576b\"],[0.6666666666666666,\"#ed7953\"],[0.7777777777777778,\"#fb9f3a\"],[0.8888888888888888,\"#fdca26\"],[1.0,\"#f0f921\"]],\"type\":\"heatmapgl\"}],\"histogram\":[{\"marker\":{\"pattern\":{\"fillmode\":\"overlay\",\"size\":10,\"solidity\":0.2}},\"type\":\"histogram\"}],\"histogram2d\":[{\"colorbar\":{\"outlinewidth\":0,\"ticks\":\"\"},\"colorscale\":[[0.0,\"#0d0887\"],[0.1111111111111111,\"#46039f\"],[0.2222222222222222,\"#7201a8\"],[0.3333333333333333,\"#9c179e\"],[0.4444444444444444,\"#bd3786\"],[0.5555555555555556,\"#d8576b\"],[0.6666666666666666,\"#ed7953\"],[0.7777777777777778,\"#fb9f3a\"],[0.8888888888888888,\"#fdca26\"],[1.0,\"#f0f921\"]],\"type\":\"histogram2d\"}],\"histogram2dcontour\":[{\"colorbar\":{\"outlinewidth\":0,\"ticks\":\"\"},\"colorscale\":[[0.0,\"#0d0887\"],[0.1111111111111111,\"#46039f\"],[0.2222222222222222,\"#7201a8\"],[0.3333333333333333,\"#9c179e\"],[0.4444444444444444,\"#bd3786\"],[0.5555555555555556,\"#d8576b\"],[0.6666666666666666,\"#ed7953\"],[0.7777777777777778,\"#fb9f3a\"],[0.8888888888888888,\"#fdca26\"],[1.0,\"#f0f921\"]],\"type\":\"histogram2dcontour\"}],\"mesh3d\":[{\"colorbar\":{\"outlinewidth\":0,\"ticks\":\"\"},\"type\":\"mesh3d\"}],\"parcoords\":[{\"line\":{\"colorbar\":{\"outlinewidth\":0,\"ticks\":\"\"}},\"type\":\"parcoords\"}],\"pie\":[{\"automargin\":true,\"type\":\"pie\"}],\"scatter\":[{\"marker\":{\"colorbar\":{\"outlinewidth\":0,\"ticks\":\"\"}},\"type\":\"scatter\"}],\"scatter3d\":[{\"line\":{\"colorbar\":{\"outlinewidth\":0,\"ticks\":\"\"}},\"marker\":{\"colorbar\":{\"outlinewidth\":0,\"ticks\":\"\"}},\"type\":\"scatter3d\"}],\"scattercarpet\":[{\"marker\":{\"colorbar\":{\"outlinewidth\":0,\"ticks\":\"\"}},\"type\":\"scattercarpet\"}],\"scattergeo\":[{\"marker\":{\"colorbar\":{\"outlinewidth\":0,\"ticks\":\"\"}},\"type\":\"scattergeo\"}],\"scattergl\":[{\"marker\":{\"colorbar\":{\"outlinewidth\":0,\"ticks\":\"\"}},\"type\":\"scattergl\"}],\"scattermapbox\":[{\"marker\":{\"colorbar\":{\"outlinewidth\":0,\"ticks\":\"\"}},\"type\":\"scattermapbox\"}],\"scatterpolar\":[{\"marker\":{\"colorbar\":{\"outlinewidth\":0,\"ticks\":\"\"}},\"type\":\"scatterpolar\"}],\"scatterpolargl\":[{\"marker\":{\"colorbar\":{\"outlinewidth\":0,\"ticks\":\"\"}},\"type\":\"scatterpolargl\"}],\"scatterternary\":[{\"marker\":{\"colorbar\":{\"outlinewidth\":0,\"ticks\":\"\"}},\"type\":\"scatterternary\"}],\"surface\":[{\"colorbar\":{\"outlinewidth\":0,\"ticks\":\"\"},\"colorscale\":[[0.0,\"#0d0887\"],[0.1111111111111111,\"#46039f\"],[0.2222222222222222,\"#7201a8\"],[0.3333333333333333,\"#9c179e\"],[0.4444444444444444,\"#bd3786\"],[0.5555555555555556,\"#d8576b\"],[0.6666666666666666,\"#ed7953\"],[0.7777777777777778,\"#fb9f3a\"],[0.8888888888888888,\"#fdca26\"],[1.0,\"#f0f921\"]],\"type\":\"surface\"}],\"table\":[{\"cells\":{\"fill\":{\"color\":\"#EBF0F8\"},\"line\":{\"color\":\"white\"}},\"header\":{\"fill\":{\"color\":\"#C8D4E3\"},\"line\":{\"color\":\"white\"}},\"type\":\"table\"}]},\"layout\":{\"annotationdefaults\":{\"arrowcolor\":\"#2a3f5f\",\"arrowhead\":0,\"arrowwidth\":1},\"autotypenumbers\":\"strict\",\"coloraxis\":{\"colorbar\":{\"outlinewidth\":0,\"ticks\":\"\"}},\"colorscale\":{\"diverging\":[[0,\"#8e0152\"],[0.1,\"#c51b7d\"],[0.2,\"#de77ae\"],[0.3,\"#f1b6da\"],[0.4,\"#fde0ef\"],[0.5,\"#f7f7f7\"],[0.6,\"#e6f5d0\"],[0.7,\"#b8e186\"],[0.8,\"#7fbc41\"],[0.9,\"#4d9221\"],[1,\"#276419\"]],\"sequential\":[[0.0,\"#0d0887\"],[0.1111111111111111,\"#46039f\"],[0.2222222222222222,\"#7201a8\"],[0.3333333333333333,\"#9c179e\"],[0.4444444444444444,\"#bd3786\"],[0.5555555555555556,\"#d8576b\"],[0.6666666666666666,\"#ed7953\"],[0.7777777777777778,\"#fb9f3a\"],[0.8888888888888888,\"#fdca26\"],[1.0,\"#f0f921\"]],\"sequentialminus\":[[0.0,\"#0d0887\"],[0.1111111111111111,\"#46039f\"],[0.2222222222222222,\"#7201a8\"],[0.3333333333333333,\"#9c179e\"],[0.4444444444444444,\"#bd3786\"],[0.5555555555555556,\"#d8576b\"],[0.6666666666666666,\"#ed7953\"],[0.7777777777777778,\"#fb9f3a\"],[0.8888888888888888,\"#fdca26\"],[1.0,\"#f0f921\"]]},\"colorway\":[\"#636efa\",\"#EF553B\",\"#00cc96\",\"#ab63fa\",\"#FFA15A\",\"#19d3f3\",\"#FF6692\",\"#B6E880\",\"#FF97FF\",\"#FECB52\"],\"font\":{\"color\":\"#2a3f5f\"},\"geo\":{\"bgcolor\":\"white\",\"lakecolor\":\"white\",\"landcolor\":\"#E5ECF6\",\"showlakes\":true,\"showland\":true,\"subunitcolor\":\"white\"},\"hoverlabel\":{\"align\":\"left\"},\"hovermode\":\"closest\",\"mapbox\":{\"style\":\"light\"},\"paper_bgcolor\":\"white\",\"plot_bgcolor\":\"#E5ECF6\",\"polar\":{\"angularaxis\":{\"gridcolor\":\"white\",\"linecolor\":\"white\",\"ticks\":\"\"},\"bgcolor\":\"#E5ECF6\",\"radialaxis\":{\"gridcolor\":\"white\",\"linecolor\":\"white\",\"ticks\":\"\"}},\"scene\":{\"xaxis\":{\"backgroundcolor\":\"#E5ECF6\",\"gridcolor\":\"white\",\"gridwidth\":2,\"linecolor\":\"white\",\"showbackground\":true,\"ticks\":\"\",\"zerolinecolor\":\"white\"},\"yaxis\":{\"backgroundcolor\":\"#E5ECF6\",\"gridcolor\":\"white\",\"gridwidth\":2,\"linecolor\":\"white\",\"showbackground\":true,\"ticks\":\"\",\"zerolinecolor\":\"white\"},\"zaxis\":{\"backgroundcolor\":\"#E5ECF6\",\"gridcolor\":\"white\",\"gridwidth\":2,\"linecolor\":\"white\",\"showbackground\":true,\"ticks\":\"\",\"zerolinecolor\":\"white\"}},\"shapedefaults\":{\"line\":{\"color\":\"#2a3f5f\"}},\"ternary\":{\"aaxis\":{\"gridcolor\":\"white\",\"linecolor\":\"white\",\"ticks\":\"\"},\"baxis\":{\"gridcolor\":\"white\",\"linecolor\":\"white\",\"ticks\":\"\"},\"bgcolor\":\"#E5ECF6\",\"caxis\":{\"gridcolor\":\"white\",\"linecolor\":\"white\",\"ticks\":\"\"}},\"title\":{\"x\":0.05},\"xaxis\":{\"automargin\":true,\"gridcolor\":\"white\",\"linecolor\":\"white\",\"ticks\":\"\",\"title\":{\"standoff\":15},\"zerolinecolor\":\"white\",\"zerolinewidth\":2},\"yaxis\":{\"automargin\":true,\"gridcolor\":\"white\",\"linecolor\":\"white\",\"ticks\":\"\",\"title\":{\"standoff\":15},\"zerolinecolor\":\"white\",\"zerolinewidth\":2}}},\"xaxis\":{\"anchor\":\"y\",\"domain\":[0.0,1.0],\"title\":{\"text\":\"Mobile Phone Usage\"}},\"yaxis\":{\"anchor\":\"x\",\"domain\":[0.0,1.0],\"title\":{\"text\":\"Internet Usage\"}},\"coloraxis\":{\"colorbar\":{\"title\":{\"text\":\"predictedclassA\"}},\"colorscale\":[[0.0,\"#0d0887\"],[0.1111111111111111,\"#46039f\"],[0.2222222222222222,\"#7201a8\"],[0.3333333333333333,\"#9c179e\"],[0.4444444444444444,\"#bd3786\"],[0.5555555555555556,\"#d8576b\"],[0.6666666666666666,\"#ed7953\"],[0.7777777777777778,\"#fb9f3a\"],[0.8888888888888888,\"#fdca26\"],[1.0,\"#f0f921\"]]},\"legend\":{\"tracegroupgap\":0},\"title\":{\"text\":\"Mobile Phone Usage VS Internet Usage\"}},                        {\"responsive\": true}                    ).then(function(){\n",
              "                            \n",
              "var gd = document.getElementById('253640ca-1b68-42a3-8b0e-ee3962837536');\n",
              "var x = new MutationObserver(function (mutations, observer) {{\n",
              "        var display = window.getComputedStyle(gd).display;\n",
              "        if (!display || display === 'none') {{\n",
              "            console.log([gd, 'removed!']);\n",
              "            Plotly.purge(gd);\n",
              "            observer.disconnect();\n",
              "        }}\n",
              "}});\n",
              "\n",
              "// Listen for the removal of the full notebook cells\n",
              "var notebookContainer = gd.closest('#notebook-container');\n",
              "if (notebookContainer) {{\n",
              "    x.observe(notebookContainer, {childList: true});\n",
              "}}\n",
              "\n",
              "// Listen for the clearing of the current output cell\n",
              "var outputEl = gd.closest('.output');\n",
              "if (outputEl) {{\n",
              "    x.observe(outputEl, {childList: true});\n",
              "}}\n",
              "\n",
              "                        })                };                            </script>        </div>\n",
              "</body>\n",
              "</html>"
            ]
          },
          "metadata": {}
        }
      ]
    },
    {
      "cell_type": "code",
      "source": [
        "fig = px.scatter(df_WI, x='Life Expectancy Male', y='Life Expectancy Female', color = 'predictedclass', title=\"Life Expectancy Male VS Life Expectancy Female\")\n",
        "fig.show()"
      ],
      "metadata": {
        "colab": {
          "base_uri": "https://localhost:8080/",
          "height": 182
        },
        "id": "BtHFkIAfTGRs",
        "outputId": "854d95ff-4d89-4141-de0e-1c7c9e97cd09"
      },
      "execution_count": 184,
      "outputs": [
        {
          "output_type": "error",
          "ename": "NameError",
          "evalue": "ignored",
          "traceback": [
            "\u001b[0;31m---------------------------------------------------------------------------\u001b[0m",
            "\u001b[0;31mNameError\u001b[0m                                 Traceback (most recent call last)",
            "\u001b[0;32m<ipython-input-184-427fa8ef8ced>\u001b[0m in \u001b[0;36m<module>\u001b[0;34m()\u001b[0m\n\u001b[0;32m----> 1\u001b[0;31m \u001b[0mfig\u001b[0m \u001b[0;34m=\u001b[0m \u001b[0mpx\u001b[0m\u001b[0;34m.\u001b[0m\u001b[0mscatter\u001b[0m\u001b[0;34m(\u001b[0m\u001b[0mdf_WI\u001b[0m\u001b[0;34m,\u001b[0m \u001b[0mx\u001b[0m\u001b[0;34m=\u001b[0m\u001b[0;34m'Life Expectancy Male'\u001b[0m\u001b[0;34m,\u001b[0m \u001b[0my\u001b[0m\u001b[0;34m=\u001b[0m\u001b[0;34m'Life Expectancy Female'\u001b[0m\u001b[0;34m,\u001b[0m \u001b[0mcolor\u001b[0m \u001b[0;34m=\u001b[0m \u001b[0;34m'predictedclass'\u001b[0m\u001b[0;34m,\u001b[0m \u001b[0mtitle\u001b[0m\u001b[0;34m=\u001b[0m\u001b[0;34m\"Life Expectancy Male VS Life Expectancy Female\"\u001b[0m\u001b[0;34m)\u001b[0m\u001b[0;34m\u001b[0m\u001b[0;34m\u001b[0m\u001b[0m\n\u001b[0m\u001b[1;32m      2\u001b[0m \u001b[0mfig\u001b[0m\u001b[0;34m.\u001b[0m\u001b[0mshow\u001b[0m\u001b[0;34m(\u001b[0m\u001b[0;34m)\u001b[0m\u001b[0;34m\u001b[0m\u001b[0;34m\u001b[0m\u001b[0m\n",
            "\u001b[0;31mNameError\u001b[0m: name 'df_WI' is not defined"
          ]
        }
      ]
    },
    {
      "cell_type": "code",
      "source": [
        "fig = px.scatter(df_WI3, x='Infant Mortality Rate', y='Birth Rate', color = 'predictedclassA', title=\"Infant Mortality Rate VS Birth Rate\")\n",
        "fig.show()"
      ],
      "metadata": {
        "colab": {
          "base_uri": "https://localhost:8080/",
          "height": 542
        },
        "id": "xrwkxqdOTM4Y",
        "outputId": "eb350e32-74fc-4d61-e91c-1f9a92d1d7b1"
      },
      "execution_count": 232,
      "outputs": [
        {
          "output_type": "display_data",
          "data": {
            "text/html": [
              "<html>\n",
              "<head><meta charset=\"utf-8\" /></head>\n",
              "<body>\n",
              "    <div>            <script src=\"https://cdnjs.cloudflare.com/ajax/libs/mathjax/2.7.5/MathJax.js?config=TeX-AMS-MML_SVG\"></script><script type=\"text/javascript\">if (window.MathJax) {MathJax.Hub.Config({SVG: {font: \"STIX-Web\"}});}</script>                <script type=\"text/javascript\">window.PlotlyConfig = {MathJaxConfig: 'local'};</script>\n",
              "        <script src=\"https://cdn.plot.ly/plotly-2.8.3.min.js\"></script>                <div id=\"3aed1ae2-130f-40b8-af71-0ad7c40a5163\" class=\"plotly-graph-div\" style=\"height:525px; width:100%;\"></div>            <script type=\"text/javascript\">                                    window.PLOTLYENV=window.PLOTLYENV || {};                                    if (document.getElementById(\"3aed1ae2-130f-40b8-af71-0ad7c40a5163\")) {                    Plotly.newPlot(                        \"3aed1ae2-130f-40b8-af71-0ad7c40a5163\",                        [{\"hovertemplate\":\"Infant Mortality Rate=%{x}<br>Birth Rate=%{y}<br>predictedclassA=%{marker.color}<extra></extra>\",\"legendgroup\":\"\",\"marker\":{\"color\":[0,1,1,1,1,1,1,1,1,1,1,1,1,1,0,1,1,1,1,1,1,1,1,1,1,1,1,1,1,1,0,0,1,1,1,1,1,1,1,0,1,1,1,1,1,1,0,1,1,1,0,0,1,1,0,1,0,0,1,1,0,0,0,1,1,0,0,1,1,1,0,0,1,0,1,1,0,0,0,0,0,0,0,0,0,0,0,0,0,0,0,0,0,0,0,0,0,0,0,0,0,0,0,0,0,0,0,0,0,0,0,0,0,0,0,0,0,0,0,0,1,0,0,0,0,0,0,0,0,1,0,0,1,1,0,1,1,1,1,0,0,0,0,1,1,0,0,0,0,0,0,0,0,0,1,1,1,1,0,0,1,0,0,0,0,0,1,0,0,0,0],\"coloraxis\":\"coloraxis\",\"symbol\":\"circle\"},\"mode\":\"markers\",\"name\":\"\",\"orientation\":\"v\",\"showlegend\":false,\"x\":[-0.17452070089515326,3.159010346522374,1.2938203557054242,0.4604375938510424,1.6112995030785222,1.2541354622837868,1.4525599293919733,2.8812160925709134,2.5637369451978156,1.3335052491270614,2.484367158354541,0.4604375938510424,1.8890937570299826,1.3335052491270614,-0.33326027458170215,1.809723970186708,0.4207527004294051,0.8176016346457774,0.5794922741159542,0.936656314910689,1.0557109951756007,1.6509843965001596,2.1668880109814435,0.896971421489052,1.809723970186708,1.2144505688621499,0.5794922741159542,0.8572865280674147,2.127203117559806,1.6509843965001596,-0.5713696351115255,0.023903766213032907,1.6112995030785222,0.3413829135861306,1.4525599293919733,2.0478333307165317,0.5398073806943169,0.4604375938510424,0.738231847802503,-0.6110545285331628,3.3574348136305603,0.2620131267428563,1.0557109951756007,1.2144505688621499,0.4604375938510424,1.2541354622837868,-0.5316847416898883,0.8572865280674147,1.2541354622837868,1.8494088636083452,-0.4919998482682511,0.1826433398995818,0.3810678070077678,0.22232823332121907,-0.7697941022197117,0.3413829135861306,-0.5713696351115255,-0.5316847416898883,0.6985469543808657,-0.05546602063024162,-1.0079034627495351,-0.37294516800333943,-0.9682185693278978,-0.09515091405187874,1.1747656754405125,-0.809478995641349,0.023903766213032907,0.3016980201644936,1.7700390767650707,-0.09515091405187874,-1.0079034627495351,-0.7301092087980745,0.6191771675375911,-0.6110545285331628,0.896971421489052,0.4604375938510424,-0.29357538116006493,-0.5316847416898883,-0.9682185693278978,-0.9285336759062606,-0.9285336759062606,-0.849163889062986,-0.6507394219548,-0.9285336759062606,-0.9682185693278978,-0.9682185693278978,-0.9682185693278978,-0.9682185693278978,-1.0079034627495351,-0.9285336759062606,-0.9682185693278978,-0.9285336759062606,-0.849163889062986,-1.0079034627495351,-0.9682185693278978,-0.9682185693278978,-0.7697941022197117,-0.8888487824846233,-1.0079034627495351,-0.7697941022197117,-0.8888487824846233,-0.5316847416898883,-0.849163889062986,-0.9285336759062606,-0.9682185693278978,-0.8888487824846233,-0.9682185693278978,-0.6110545285331628,-0.6904243153764372,-0.849163889062986,-0.809478995641349,-0.9682185693278978,-0.9285336759062606,-1.0079034627495351,-0.9285336759062606,-0.33326027458170215,-0.6904243153764372,-0.9285336759062606,-0.849163889062986,-0.4523149548466138,0.06358865963467017,-0.9682185693278978,-0.41263006142497655,-0.7301092087980745,-0.7301092087980745,-0.6904243153764372,-0.809478995641349,-0.5316847416898883,-0.809478995641349,0.6588620609592284,-0.9285336759062606,-0.29357538116006493,0.7779167412241402,0.1826433398995818,-0.8888487824846233,0.896971421489052,-0.05546602063024162,-0.6507394219548,-0.4919998482682511,-0.7697941022197117,-0.5713696351115255,-0.6507394219548,-0.5316847416898883,-0.4919998482682511,0.22232823332121907,-0.5316847416898883,-0.8888487824846233,-0.809478995641349,-0.4919998482682511,-0.7301092087980745,-0.09515091405187874,-0.29357538116006493,-0.4919998482682511,-0.6507394219548,0.023903766213032907,0.1826433398995818,1.1747656754405125,-0.29357538116006493,-0.4919998482682511,-0.5316847416898883,-0.25389048773842765,-0.4523149548466138,-0.29357538116006493,-0.5316847416898883,-0.5713696351115255,-0.37294516800333943,-0.21420559431679054,-0.29357538116006493,-0.849163889062986,-0.6904243153764372,-0.5316847416898883],\"xaxis\":\"x\",\"y\":[0.2410854407999415,2.169232028578534,1.342883490959137,0.14926893662000842,1.8019660118588023,2.0774155243986008,1.43469999513907,1.1592504825992715,2.261048532758467,1.251066986779204,1.9855990202186677,1.43469999513907,1.342883490959137,0.5165349533397403,0.14926893662000842,1.251066986779204,1.43469999513907,1.0674339784193385,0.8838009700594723,1.8937825160387347,0.8838009700594723,1.43469999513907,1.43469999513907,1.251066986779204,0.5165349533397403,1.342883490959137,1.1592504825992715,1.6183330034989363,2.3528650369384003,1.1592504825992715,-1.0443456177191206,-0.03436407173985772,1.6183330034989363,0.4247184491598073,2.5364980452982664,1.8019660118588023,1.251066986779204,1.251066986779204,1.43469999513907,-0.3098135842796566,1.43469999513907,-0.12618057591979046,1.0674339784193385,0.7919844658795393,1.6183330034989363,1.342883490959137,-0.3098135842796566,1.9855990202186677,1.8937825160387347,1.342883490959137,-0.7688961051793215,-0.3098135842796566,-0.12618057591979046,-0.21799708009972354,-0.5852630968194554,0.33290194497987424,-0.9525291135391875,-0.7688961051793215,-0.12618057591979046,-0.21799708009972354,-1.3197951302589195,0.05745243244007535,-1.2279786260789864,0.4247184491598073,0.5165349533397403,-0.40163008845958964,0.05745243244007535,-0.03436407173985772,0.33290194497987424,0.2410854407999415,-1.1361621218990534,-0.40163008845958964,0.9756174742394054,-1.0443456177191206,1.251066986779204,-0.03436407173985772,-0.5852630968194554,-0.8607126093592545,-1.2279786260789864,-0.9525291135391875,-0.9525291135391875,-1.2279786260789864,-1.1361621218990534,-1.1361621218990534,-0.9525291135391875,-1.1361621218990534,-1.0443456177191206,-1.0443456177191206,-1.0443456177191206,-0.8607126093592545,-1.3197951302589195,-1.1361621218990534,-1.2279786260789864,-0.7688961051793215,-0.5852630968194554,-1.2279786260789864,-1.2279786260789864,-1.0443456177191206,-1.0443456177191206,-1.0443456177191206,-1.1361621218990534,-0.9525291135391875,-0.9525291135391875,-1.0443456177191206,-0.9525291135391875,-1.1361621218990534,-1.2279786260789864,-1.1361621218990534,-0.8607126093592545,-1.2279786260789864,-1.0443456177191206,-1.0443456177191206,-1.1361621218990534,-0.9525291135391875,-1.1361621218990534,-0.4934465926395224,-1.0443456177191206,-0.8607126093592545,-0.5852630968194554,-0.3098135842796566,0.8838009700594723,-0.12618057591979046,0.5165349533397403,-0.12618057591979046,-0.8607126093592545,-0.03436407173985772,-1.0443456177191206,-0.21799708009972354,-0.5852630968194554,0.8838009700594723,-0.7688961051793215,-0.12618057591979046,0.05745243244007535,0.14926893662000842,-0.7688961051793215,0.7001679616996062,0.8838009700594723,0.4247184491598073,0.4247184491598073,-0.4934465926395224,-0.4934465926395224,-0.6770796009993886,-0.8607126093592545,0.14926893662000842,0.33290194497987424,-0.6770796009993886,-1.0443456177191206,-0.7688961051793215,-0.3098135842796566,-0.5852630968194554,-0.03436407173985772,-0.12618057591979046,-0.21799708009972354,-0.3098135842796566,0.8838009700594723,-0.12618057591979046,0.33290194497987424,0.33290194497987424,-0.6770796009993886,-0.3098135842796566,0.14926893662000842,-0.21799708009972354,0.14926893662000842,-0.21799708009972354,-0.5852630968194554,-0.4934465926395224,-0.40163008845958964,-0.6770796009993886,-0.8607126093592545,-0.6770796009993886,-0.21799708009972354],\"yaxis\":\"y\",\"type\":\"scatter\"}],                        {\"template\":{\"data\":{\"bar\":[{\"error_x\":{\"color\":\"#2a3f5f\"},\"error_y\":{\"color\":\"#2a3f5f\"},\"marker\":{\"line\":{\"color\":\"#E5ECF6\",\"width\":0.5},\"pattern\":{\"fillmode\":\"overlay\",\"size\":10,\"solidity\":0.2}},\"type\":\"bar\"}],\"barpolar\":[{\"marker\":{\"line\":{\"color\":\"#E5ECF6\",\"width\":0.5},\"pattern\":{\"fillmode\":\"overlay\",\"size\":10,\"solidity\":0.2}},\"type\":\"barpolar\"}],\"carpet\":[{\"aaxis\":{\"endlinecolor\":\"#2a3f5f\",\"gridcolor\":\"white\",\"linecolor\":\"white\",\"minorgridcolor\":\"white\",\"startlinecolor\":\"#2a3f5f\"},\"baxis\":{\"endlinecolor\":\"#2a3f5f\",\"gridcolor\":\"white\",\"linecolor\":\"white\",\"minorgridcolor\":\"white\",\"startlinecolor\":\"#2a3f5f\"},\"type\":\"carpet\"}],\"choropleth\":[{\"colorbar\":{\"outlinewidth\":0,\"ticks\":\"\"},\"type\":\"choropleth\"}],\"contour\":[{\"colorbar\":{\"outlinewidth\":0,\"ticks\":\"\"},\"colorscale\":[[0.0,\"#0d0887\"],[0.1111111111111111,\"#46039f\"],[0.2222222222222222,\"#7201a8\"],[0.3333333333333333,\"#9c179e\"],[0.4444444444444444,\"#bd3786\"],[0.5555555555555556,\"#d8576b\"],[0.6666666666666666,\"#ed7953\"],[0.7777777777777778,\"#fb9f3a\"],[0.8888888888888888,\"#fdca26\"],[1.0,\"#f0f921\"]],\"type\":\"contour\"}],\"contourcarpet\":[{\"colorbar\":{\"outlinewidth\":0,\"ticks\":\"\"},\"type\":\"contourcarpet\"}],\"heatmap\":[{\"colorbar\":{\"outlinewidth\":0,\"ticks\":\"\"},\"colorscale\":[[0.0,\"#0d0887\"],[0.1111111111111111,\"#46039f\"],[0.2222222222222222,\"#7201a8\"],[0.3333333333333333,\"#9c179e\"],[0.4444444444444444,\"#bd3786\"],[0.5555555555555556,\"#d8576b\"],[0.6666666666666666,\"#ed7953\"],[0.7777777777777778,\"#fb9f3a\"],[0.8888888888888888,\"#fdca26\"],[1.0,\"#f0f921\"]],\"type\":\"heatmap\"}],\"heatmapgl\":[{\"colorbar\":{\"outlinewidth\":0,\"ticks\":\"\"},\"colorscale\":[[0.0,\"#0d0887\"],[0.1111111111111111,\"#46039f\"],[0.2222222222222222,\"#7201a8\"],[0.3333333333333333,\"#9c179e\"],[0.4444444444444444,\"#bd3786\"],[0.5555555555555556,\"#d8576b\"],[0.6666666666666666,\"#ed7953\"],[0.7777777777777778,\"#fb9f3a\"],[0.8888888888888888,\"#fdca26\"],[1.0,\"#f0f921\"]],\"type\":\"heatmapgl\"}],\"histogram\":[{\"marker\":{\"pattern\":{\"fillmode\":\"overlay\",\"size\":10,\"solidity\":0.2}},\"type\":\"histogram\"}],\"histogram2d\":[{\"colorbar\":{\"outlinewidth\":0,\"ticks\":\"\"},\"colorscale\":[[0.0,\"#0d0887\"],[0.1111111111111111,\"#46039f\"],[0.2222222222222222,\"#7201a8\"],[0.3333333333333333,\"#9c179e\"],[0.4444444444444444,\"#bd3786\"],[0.5555555555555556,\"#d8576b\"],[0.6666666666666666,\"#ed7953\"],[0.7777777777777778,\"#fb9f3a\"],[0.8888888888888888,\"#fdca26\"],[1.0,\"#f0f921\"]],\"type\":\"histogram2d\"}],\"histogram2dcontour\":[{\"colorbar\":{\"outlinewidth\":0,\"ticks\":\"\"},\"colorscale\":[[0.0,\"#0d0887\"],[0.1111111111111111,\"#46039f\"],[0.2222222222222222,\"#7201a8\"],[0.3333333333333333,\"#9c179e\"],[0.4444444444444444,\"#bd3786\"],[0.5555555555555556,\"#d8576b\"],[0.6666666666666666,\"#ed7953\"],[0.7777777777777778,\"#fb9f3a\"],[0.8888888888888888,\"#fdca26\"],[1.0,\"#f0f921\"]],\"type\":\"histogram2dcontour\"}],\"mesh3d\":[{\"colorbar\":{\"outlinewidth\":0,\"ticks\":\"\"},\"type\":\"mesh3d\"}],\"parcoords\":[{\"line\":{\"colorbar\":{\"outlinewidth\":0,\"ticks\":\"\"}},\"type\":\"parcoords\"}],\"pie\":[{\"automargin\":true,\"type\":\"pie\"}],\"scatter\":[{\"marker\":{\"colorbar\":{\"outlinewidth\":0,\"ticks\":\"\"}},\"type\":\"scatter\"}],\"scatter3d\":[{\"line\":{\"colorbar\":{\"outlinewidth\":0,\"ticks\":\"\"}},\"marker\":{\"colorbar\":{\"outlinewidth\":0,\"ticks\":\"\"}},\"type\":\"scatter3d\"}],\"scattercarpet\":[{\"marker\":{\"colorbar\":{\"outlinewidth\":0,\"ticks\":\"\"}},\"type\":\"scattercarpet\"}],\"scattergeo\":[{\"marker\":{\"colorbar\":{\"outlinewidth\":0,\"ticks\":\"\"}},\"type\":\"scattergeo\"}],\"scattergl\":[{\"marker\":{\"colorbar\":{\"outlinewidth\":0,\"ticks\":\"\"}},\"type\":\"scattergl\"}],\"scattermapbox\":[{\"marker\":{\"colorbar\":{\"outlinewidth\":0,\"ticks\":\"\"}},\"type\":\"scattermapbox\"}],\"scatterpolar\":[{\"marker\":{\"colorbar\":{\"outlinewidth\":0,\"ticks\":\"\"}},\"type\":\"scatterpolar\"}],\"scatterpolargl\":[{\"marker\":{\"colorbar\":{\"outlinewidth\":0,\"ticks\":\"\"}},\"type\":\"scatterpolargl\"}],\"scatterternary\":[{\"marker\":{\"colorbar\":{\"outlinewidth\":0,\"ticks\":\"\"}},\"type\":\"scatterternary\"}],\"surface\":[{\"colorbar\":{\"outlinewidth\":0,\"ticks\":\"\"},\"colorscale\":[[0.0,\"#0d0887\"],[0.1111111111111111,\"#46039f\"],[0.2222222222222222,\"#7201a8\"],[0.3333333333333333,\"#9c179e\"],[0.4444444444444444,\"#bd3786\"],[0.5555555555555556,\"#d8576b\"],[0.6666666666666666,\"#ed7953\"],[0.7777777777777778,\"#fb9f3a\"],[0.8888888888888888,\"#fdca26\"],[1.0,\"#f0f921\"]],\"type\":\"surface\"}],\"table\":[{\"cells\":{\"fill\":{\"color\":\"#EBF0F8\"},\"line\":{\"color\":\"white\"}},\"header\":{\"fill\":{\"color\":\"#C8D4E3\"},\"line\":{\"color\":\"white\"}},\"type\":\"table\"}]},\"layout\":{\"annotationdefaults\":{\"arrowcolor\":\"#2a3f5f\",\"arrowhead\":0,\"arrowwidth\":1},\"autotypenumbers\":\"strict\",\"coloraxis\":{\"colorbar\":{\"outlinewidth\":0,\"ticks\":\"\"}},\"colorscale\":{\"diverging\":[[0,\"#8e0152\"],[0.1,\"#c51b7d\"],[0.2,\"#de77ae\"],[0.3,\"#f1b6da\"],[0.4,\"#fde0ef\"],[0.5,\"#f7f7f7\"],[0.6,\"#e6f5d0\"],[0.7,\"#b8e186\"],[0.8,\"#7fbc41\"],[0.9,\"#4d9221\"],[1,\"#276419\"]],\"sequential\":[[0.0,\"#0d0887\"],[0.1111111111111111,\"#46039f\"],[0.2222222222222222,\"#7201a8\"],[0.3333333333333333,\"#9c179e\"],[0.4444444444444444,\"#bd3786\"],[0.5555555555555556,\"#d8576b\"],[0.6666666666666666,\"#ed7953\"],[0.7777777777777778,\"#fb9f3a\"],[0.8888888888888888,\"#fdca26\"],[1.0,\"#f0f921\"]],\"sequentialminus\":[[0.0,\"#0d0887\"],[0.1111111111111111,\"#46039f\"],[0.2222222222222222,\"#7201a8\"],[0.3333333333333333,\"#9c179e\"],[0.4444444444444444,\"#bd3786\"],[0.5555555555555556,\"#d8576b\"],[0.6666666666666666,\"#ed7953\"],[0.7777777777777778,\"#fb9f3a\"],[0.8888888888888888,\"#fdca26\"],[1.0,\"#f0f921\"]]},\"colorway\":[\"#636efa\",\"#EF553B\",\"#00cc96\",\"#ab63fa\",\"#FFA15A\",\"#19d3f3\",\"#FF6692\",\"#B6E880\",\"#FF97FF\",\"#FECB52\"],\"font\":{\"color\":\"#2a3f5f\"},\"geo\":{\"bgcolor\":\"white\",\"lakecolor\":\"white\",\"landcolor\":\"#E5ECF6\",\"showlakes\":true,\"showland\":true,\"subunitcolor\":\"white\"},\"hoverlabel\":{\"align\":\"left\"},\"hovermode\":\"closest\",\"mapbox\":{\"style\":\"light\"},\"paper_bgcolor\":\"white\",\"plot_bgcolor\":\"#E5ECF6\",\"polar\":{\"angularaxis\":{\"gridcolor\":\"white\",\"linecolor\":\"white\",\"ticks\":\"\"},\"bgcolor\":\"#E5ECF6\",\"radialaxis\":{\"gridcolor\":\"white\",\"linecolor\":\"white\",\"ticks\":\"\"}},\"scene\":{\"xaxis\":{\"backgroundcolor\":\"#E5ECF6\",\"gridcolor\":\"white\",\"gridwidth\":2,\"linecolor\":\"white\",\"showbackground\":true,\"ticks\":\"\",\"zerolinecolor\":\"white\"},\"yaxis\":{\"backgroundcolor\":\"#E5ECF6\",\"gridcolor\":\"white\",\"gridwidth\":2,\"linecolor\":\"white\",\"showbackground\":true,\"ticks\":\"\",\"zerolinecolor\":\"white\"},\"zaxis\":{\"backgroundcolor\":\"#E5ECF6\",\"gridcolor\":\"white\",\"gridwidth\":2,\"linecolor\":\"white\",\"showbackground\":true,\"ticks\":\"\",\"zerolinecolor\":\"white\"}},\"shapedefaults\":{\"line\":{\"color\":\"#2a3f5f\"}},\"ternary\":{\"aaxis\":{\"gridcolor\":\"white\",\"linecolor\":\"white\",\"ticks\":\"\"},\"baxis\":{\"gridcolor\":\"white\",\"linecolor\":\"white\",\"ticks\":\"\"},\"bgcolor\":\"#E5ECF6\",\"caxis\":{\"gridcolor\":\"white\",\"linecolor\":\"white\",\"ticks\":\"\"}},\"title\":{\"x\":0.05},\"xaxis\":{\"automargin\":true,\"gridcolor\":\"white\",\"linecolor\":\"white\",\"ticks\":\"\",\"title\":{\"standoff\":15},\"zerolinecolor\":\"white\",\"zerolinewidth\":2},\"yaxis\":{\"automargin\":true,\"gridcolor\":\"white\",\"linecolor\":\"white\",\"ticks\":\"\",\"title\":{\"standoff\":15},\"zerolinecolor\":\"white\",\"zerolinewidth\":2}}},\"xaxis\":{\"anchor\":\"y\",\"domain\":[0.0,1.0],\"title\":{\"text\":\"Infant Mortality Rate\"}},\"yaxis\":{\"anchor\":\"x\",\"domain\":[0.0,1.0],\"title\":{\"text\":\"Birth Rate\"}},\"coloraxis\":{\"colorbar\":{\"title\":{\"text\":\"predictedclassA\"}},\"colorscale\":[[0.0,\"#0d0887\"],[0.1111111111111111,\"#46039f\"],[0.2222222222222222,\"#7201a8\"],[0.3333333333333333,\"#9c179e\"],[0.4444444444444444,\"#bd3786\"],[0.5555555555555556,\"#d8576b\"],[0.6666666666666666,\"#ed7953\"],[0.7777777777777778,\"#fb9f3a\"],[0.8888888888888888,\"#fdca26\"],[1.0,\"#f0f921\"]]},\"legend\":{\"tracegroupgap\":0},\"title\":{\"text\":\"Infant Mortality Rate VS Birth Rate\"}},                        {\"responsive\": true}                    ).then(function(){\n",
              "                            \n",
              "var gd = document.getElementById('3aed1ae2-130f-40b8-af71-0ad7c40a5163');\n",
              "var x = new MutationObserver(function (mutations, observer) {{\n",
              "        var display = window.getComputedStyle(gd).display;\n",
              "        if (!display || display === 'none') {{\n",
              "            console.log([gd, 'removed!']);\n",
              "            Plotly.purge(gd);\n",
              "            observer.disconnect();\n",
              "        }}\n",
              "}});\n",
              "\n",
              "// Listen for the removal of the full notebook cells\n",
              "var notebookContainer = gd.closest('#notebook-container');\n",
              "if (notebookContainer) {{\n",
              "    x.observe(notebookContainer, {childList: true});\n",
              "}}\n",
              "\n",
              "// Listen for the clearing of the current output cell\n",
              "var outputEl = gd.closest('.output');\n",
              "if (outputEl) {{\n",
              "    x.observe(outputEl, {childList: true});\n",
              "}}\n",
              "\n",
              "                        })                };                            </script>        </div>\n",
              "</body>\n",
              "</html>"
            ]
          },
          "metadata": {}
        }
      ]
    }
  ]
}